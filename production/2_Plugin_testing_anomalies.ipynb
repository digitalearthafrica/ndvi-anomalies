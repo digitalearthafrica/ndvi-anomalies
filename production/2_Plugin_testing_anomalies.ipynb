{
 "cells": [
  {
   "cell_type": "code",
   "execution_count": null,
   "id": "4b1806ff-36dd-4aae-b2e5-b56138e53e02",
   "metadata": {},
   "outputs": [],
   "source": [
    "!pip uninstall ndvi_tools -y"
   ]
  },
  {
   "cell_type": "code",
   "execution_count": null,
   "id": "2d38455e-8a87-422d-95bf-4701b5155153",
   "metadata": {
    "tags": []
   },
   "outputs": [],
   "source": [
    "!pip install ndvi_tools/"
   ]
  },
  {
   "cell_type": "code",
   "execution_count": null,
   "id": "d55a46c0-cdbf-4b29-a820-795a74f53e56",
   "metadata": {},
   "outputs": [],
   "source": [
    "import os\n",
    "import json\n",
    "import xarray as xr\n",
    "import geopandas as gpd\n",
    "\n",
    "import datacube\n",
    "import matplotlib.pyplot as plt\n",
    "from deafrica_tools.plotting import display_map\n",
    "from deafrica_tools.dask import create_local_dask_cluster\n",
    "\n",
    "from ndvi_tools.ndvi_anomaly_plugin import NDVIAnomaly\n",
    "import warnings\n",
    "warnings.filterwarnings(\"ignore\")"
   ]
  },
  {
   "cell_type": "markdown",
   "id": "ffc418d6-d6b7-4f29-b93d-176a8e2cc0fb",
   "metadata": {},
   "source": [
    "## Test plugin without odc-stats"
   ]
  },
  {
   "cell_type": "code",
   "execution_count": null,
   "id": "8f9205fb-676f-4b1c-aac7-61c9e44309be",
   "metadata": {},
   "outputs": [],
   "source": [
    "create_local_dask_cluster()"
   ]
  },
  {
   "cell_type": "code",
   "execution_count": null,
   "id": "ae62e5e7-3ca5-48e0-b531-a2474d19d163",
   "metadata": {},
   "outputs": [],
   "source": [
    "dc = datacube.Datacube(app=\"Vegetation_anomalies\")"
   ]
  },
  {
   "cell_type": "code",
   "execution_count": null,
   "id": "8d627297-c6b1-4a4b-bf8a-bd20a333aa92",
   "metadata": {},
   "outputs": [],
   "source": [
    "lat, lon = 2.7059,36.9406#31.0004, 29.6856#6.51010,-2.7352#13.6683,-0.99460\n",
    "lat_buffer = 0.15\n",
    "lon_buffer = 0.15\n",
    "# Set the range of dates for the climatology\n",
    "time_range = ('2021-12')\n",
    "resolution = (-30, 30)\n",
    "\n",
    "lat_range = (lat-lat_buffer, lat+lat_buffer)\n",
    "lon_range = (lon-lon_buffer, lon+lon_buffer)"
   ]
  },
  {
   "cell_type": "code",
   "execution_count": null,
   "id": "70488c1e-1fff-438e-b72a-31d5c447f39b",
   "metadata": {},
   "outputs": [],
   "source": [
    "# display_map(x=lon_range, y=lat_range)"
   ]
  },
  {
   "cell_type": "code",
   "execution_count": null,
   "id": "f2e2280a-03cb-4ef9-abd3-4bcf05bbb78f",
   "metadata": {},
   "outputs": [],
   "source": [
    "query = {\n",
    "    'x': lon_range,\n",
    "    'y': lat_range,\n",
    "    'time': time_range,\n",
    "    'resolution': resolution,\n",
    "    'output_crs':'epsg:6933',\n",
    "    'measurements':['red','nir'],\n",
    "    'group_by':'solar_day',\n",
    "#     'collection_category':'T1'\n",
    "#     'dask_chunks':dask_chunks\n",
    "}"
   ]
  },
  {
   "cell_type": "markdown",
   "id": "83dce4ae-088b-4593-b016-da5ae68fbd10",
   "metadata": {},
   "source": [
    "### grab data so we can use the geobox parameter to mimic a 'task'"
   ]
  },
  {
   "cell_type": "code",
   "execution_count": null,
   "id": "eeaba758-9f67-43e5-8c05-4eb20876fd9a",
   "metadata": {},
   "outputs": [],
   "source": [
    "task = dc.load(product=['ls8_sr', 'ls9_sr', 's2_l2a'], dask_chunks={}, **query)"
   ]
  },
  {
   "cell_type": "markdown",
   "id": "2dbd9547-57e4-46cb-bb53-17007b950803",
   "metadata": {},
   "source": [
    "### grab lists of datatsets to mimic .db files"
   ]
  },
  {
   "cell_type": "code",
   "execution_count": null,
   "id": "82c2ed95-ba72-4c7a-b0a6-f3b7a00223f4",
   "metadata": {},
   "outputs": [],
   "source": [
    "dss = dc.find_datasets(product=['ls8_sr', 'ls9_sr', 's2_l2a'], **query)"
   ]
  },
  {
   "cell_type": "markdown",
   "id": "46e5d2ef-13ec-49fb-b991-9f84c111dc2c",
   "metadata": {},
   "source": [
    "### set up an example config"
   ]
  },
  {
   "cell_type": "code",
   "execution_count": null,
   "id": "72e404dc-3349-4cc1-a58e-f6bd55d85423",
   "metadata": {},
   "outputs": [],
   "source": [
    "config = dict(\n",
    "      resampling= \"bilinear\",\n",
    "      bands_ls89= [\"red\", \"nir\", \"green\", \"blue\"],\n",
    "      bands_s2= [\"red\", \"nir_2\"],\n",
    "      mask_band_ls= \"QA_PIXEL\",\n",
    "      mask_band_s2= \"SCL\",\n",
    "      rolling_window=3,\n",
    "      mask_filters= [[\"opening\", 5], [\"dilation\", 5]]\n",
    "        )"
   ]
  },
  {
   "cell_type": "markdown",
   "id": "796f73e9-6af9-4760-9202-7606ae9c90c5",
   "metadata": {},
   "source": [
    "### Run the plugin code"
   ]
  },
  {
   "cell_type": "code",
   "execution_count": null,
   "id": "789a8629-533d-4ea6-aa00-0915708171da",
   "metadata": {},
   "outputs": [],
   "source": [
    "x=NDVIAnomaly(**config)\n",
    "ndvi = x.input_data(dss, task.geobox)\n",
    "result = x.reduce(ndvi)#.compute()\n",
    "print(result)"
   ]
  },
  {
   "cell_type": "code",
   "execution_count": null,
   "id": "782c740e-b686-40e8-b6fc-25354b90c762",
   "metadata": {},
   "outputs": [],
   "source": [
    "%%time\n",
    "result = result.compute()"
   ]
  },
  {
   "cell_type": "markdown",
   "id": "98493843-8384-4ad6-9e8f-386b138eb1f2",
   "metadata": {
    "tags": []
   },
   "source": [
    "### Plot"
   ]
  },
  {
   "cell_type": "code",
   "execution_count": null,
   "id": "9a536034-a8b2-4c94-91c4-727542a83e93",
   "metadata": {},
   "outputs": [],
   "source": [
    "plt.rcParams[\"axes.facecolor\"] = \"gray\"  # makes transparent pixels obvious"
   ]
  },
  {
   "cell_type": "code",
   "execution_count": null,
   "id": "4bbb0da9-5842-44b9-b22b-7bd6646d2ffc",
   "metadata": {},
   "outputs": [],
   "source": [
    "result['ndvi_std_anomaly'].plot.imshow(vmin=-3, vmax=3, cmap='BrBG', size=6);"
   ]
  },
  {
   "cell_type": "code",
   "execution_count": null,
   "id": "95efef17-ced1-42cf-ac8d-115a3c28c7e0",
   "metadata": {},
   "outputs": [],
   "source": [
    "print(result['ndvi_std_anomaly'].min().values)\n",
    "print(result['ndvi_std_anomaly'].mean().values)\n",
    "print(result['ndvi_std_anomaly'].max().values)\n",
    "result['ndvi_std_anomaly'].plot.hist(bins=500);\n",
    "plt.xlim(-4,4);"
   ]
  },
  {
   "cell_type": "code",
   "execution_count": null,
   "id": "46b4af94-74cb-444f-9dd1-313b2500feb0",
   "metadata": {},
   "outputs": [],
   "source": [
    "print(result['ndvi_mean'].min().values)\n",
    "print(result['ndvi_mean'].mean().values)\n",
    "print(result['ndvi_mean'].max().values)\n",
    "result['ndvi_mean'].plot.hist(bins=500);\n",
    "plt.xlim(-0.5,1);"
   ]
  },
  {
   "cell_type": "code",
   "execution_count": null,
   "id": "506b1436-0ab7-40b9-98a6-3f2a02d619ea",
   "metadata": {},
   "outputs": [],
   "source": [
    "result['ndvi_mean'].plot.imshow( vmax=0.8, vmin=0, cmap='RdYlGn');"
   ]
  },
  {
   "cell_type": "code",
   "execution_count": null,
   "id": "f98f1d6b-61db-4dd1-a8d0-8e8cd0f30749",
   "metadata": {},
   "outputs": [],
   "source": [
    "result['clear_count'].plot.imshow(size=6, vmax=15, vmin=0, cmap='magma');"
   ]
  },
  {
   "cell_type": "markdown",
   "id": "f114407c-6bb2-408a-8e16-461402c30b43",
   "metadata": {},
   "source": [
    "-----\n",
    "\n",
    "# Test plugin with odc-stats"
   ]
  },
  {
   "cell_type": "code",
   "execution_count": null,
   "id": "d2295e09-ec16-4e2e-a6fa-e70e37f8453b",
   "metadata": {},
   "outputs": [],
   "source": [
    "# !pip uninstall ndvi_tools -y"
   ]
  },
  {
   "cell_type": "code",
   "execution_count": null,
   "id": "ba4f6711-35a3-413f-af5d-58158b6a58aa",
   "metadata": {
    "tags": []
   },
   "outputs": [],
   "source": [
    "# !pip install ndvi_tools/"
   ]
  },
  {
   "cell_type": "code",
   "execution_count": null,
   "id": "6a222f75-2cde-4b93-9eaa-1af52f4c36bf",
   "metadata": {},
   "outputs": [],
   "source": [
    "import os\n",
    "import json\n",
    "import xarray as xr\n",
    "import geopandas as gpd\n",
    "from odc.stats.tasks import TaskReader\n",
    "from odc.stats.model import OutputProduct"
   ]
  },
  {
   "cell_type": "markdown",
   "id": "730270f3-f130-4490-adc2-245832995833",
   "metadata": {},
   "source": [
    "### Generate tasks etc"
   ]
  },
  {
   "cell_type": "code",
   "execution_count": null,
   "id": "ea2f94e2-3277-40c7-a003-3c1d1b3f6eaf",
   "metadata": {},
   "outputs": [],
   "source": [
    "time_range = '2021-12--P1M'"
   ]
  },
  {
   "cell_type": "code",
   "execution_count": null,
   "id": "7566e87f-79d0-46e6-bf8e-5b0ea01b7f6c",
   "metadata": {},
   "outputs": [],
   "source": [
    "os.system(\"odc-stats save-tasks \"\\\n",
    "          \"--grid africa_30 \"\\\n",
    "          \"--temporal-range \"+time_range + \" ls8_sr-ls9_sr-s2_l2a\")\n",
    "#--dataset-filter '{\"collection_category\": \"T1\"}'"
   ]
  },
  {
   "cell_type": "code",
   "execution_count": null,
   "id": "b6df43f6-aac6-454e-accb-27b105f2840c",
   "metadata": {},
   "outputs": [],
   "source": [
    "# os.system(\"cm-task --task-csv=ls5_sr-ls7_sr-ls8_sr_2011--P5Y.csv \"\\\n",
    "#           \"--geojson=../testing/data/testing_extent.geojson \"\\\n",
    "#           \"--outfile=aez.csv \"\\\n",
    "#           \"--grid=africa_30 \" \\\n",
    "#           \"--sqs=deafrica-dev-eks-stats-ndvi-clim \"\\\n",
    "#           \"--db=ls5_sr-ls7_sr-ls8_sr_2011--P5Y.db \"\\\n",
    "#          )"
   ]
  },
  {
   "cell_type": "markdown",
   "id": "d16621f8-db66-4251-b39d-811f480071f1",
   "metadata": {},
   "source": [
    "### Enter the X and Y Tile ID of the tile you want to run\n",
    "\n",
    "Use the geojson to select a tile id"
   ]
  },
  {
   "cell_type": "code",
   "execution_count": null,
   "id": "7f720a22-bc1f-4a16-ae8f-b2056491b43f",
   "metadata": {},
   "outputs": [],
   "source": [
    "tile_x = '214' #x173y118 x179/y094 202,034\n",
    "tile_y = '079'  \t\n",
    "\n",
    "t=[int(tile_x), int(tile_y)]"
   ]
  },
  {
   "cell_type": "markdown",
   "id": "c955b454-f073-4ebe-ae2c-32caba9d6545",
   "metadata": {},
   "source": [
    "### Extract the tasks object for that tile"
   ]
  },
  {
   "cell_type": "code",
   "execution_count": null,
   "id": "74bf1b6c-72d9-4101-8295-8300ecba2deb",
   "metadata": {},
   "outputs": [],
   "source": [
    "name, version = 'ndvi_anomaly', '1-0-0'\n",
    "op = OutputProduct(\n",
    "            name='ndvi_anomaly_ls',\n",
    "            version='1-0-0',\n",
    "            short_name='ndvi_anomaly_ls',\n",
    "            location=f\"s3://dummy-bucket/{name}/{version}\",\n",
    "            properties={\"odc:file_format\": \"GeoTIFF\"},\n",
    "            measurements=['red']\n",
    "        )\n",
    "\n",
    "taskdb = TaskReader('ls8_sr-ls9_sr-s2_l2a_'+time_range+'.db', product=op)\n",
    "task = taskdb.load_task((time_range, t[0], t[1]))"
   ]
  },
  {
   "cell_type": "markdown",
   "id": "3dee4f42-d829-412a-8d24-a6b3745cecb7",
   "metadata": {},
   "source": [
    "### Optionally export tile geojson to view"
   ]
  },
  {
   "cell_type": "code",
   "execution_count": null,
   "id": "ac7937fd-872f-4060-aaae-e9d97317fc3a",
   "metadata": {},
   "outputs": [],
   "source": [
    "# with open('task_tile_check.geojson', 'w') as fh:\n",
    "#     json.dump(task.geobox.extent.to_crs('epsg:4326').json, fh, indent=2)"
   ]
  },
  {
   "cell_type": "markdown",
   "id": "e004b0ed-6016-48c1-b978-4d7cc225672b",
   "metadata": {},
   "source": [
    "### Find the index of the tile we want to run"
   ]
  },
  {
   "cell_type": "code",
   "execution_count": null,
   "id": "0bd20c6b-b131-45af-a0c8-7fe3fe8e1314",
   "metadata": {},
   "outputs": [],
   "source": [
    "tile_index_to_run = []\n",
    "all_tiles = list(taskdb.all_tiles)\n",
    "for i, index in zip(all_tiles, range(0, len(all_tiles))):\n",
    "    if (i[1]==t[0]) & (i[2]==t[1]):\n",
    "        tile_index_to_run.append(index)\n",
    "        print(index)"
   ]
  },
  {
   "cell_type": "markdown",
   "id": "bfd8b83a-c408-46cf-bb1d-e788e6091e24",
   "metadata": {},
   "source": [
    "### Try running odc-stats using the config yaml and external plugin"
   ]
  },
  {
   "cell_type": "code",
   "execution_count": null,
   "id": "709b9d38-3dac-49ad-a965-9f9afdd038ca",
   "metadata": {},
   "outputs": [],
   "source": [
    "%%time\n",
    "os.system(\"odc-stats run \"\\\n",
    "          \"ls8_sr-ls9_sr-s2_l2a_\"+time_range+\".db \"\\\n",
    "          \"--config=///home/jovyan/git/ndvi-anomalies/production/ndvi_tools/config/ndvi_anomaly.yaml \"\\\n",
    "          \"--resolution=120 \"\\\n",
    "          \"--threads=4 \"\\\n",
    "          \"--memory-limit=25Gi \"\\\n",
    "          \"--location=file:///home/jovyan/git/ndvi-anomalies/production/{product}/{version}/ \"+str(tile_index_to_run[0])\n",
    "         )"
   ]
  },
  {
   "cell_type": "code",
   "execution_count": null,
   "id": "75517bf6-850f-41c2-bcc2-5b870c6ce558",
   "metadata": {},
   "outputs": [],
   "source": [
    "# !odc-stats run ls7_sr-ls8_sr_2014--P2Y.db --config=ndvi_climatology.yaml --resolution=80 --threads=4 --memory-limit=29Gi --location=file:///home/jovyan/git/deafrica-sandbox-notebooks/frica-sandbox-notebooks/HLS/{product}/{version} 1202"
   ]
  },
  {
   "cell_type": "markdown",
   "id": "693c44f0-f609-4d0d-88df-29a710c8bf91",
   "metadata": {},
   "source": [
    "### Plot results"
   ]
  },
  {
   "cell_type": "code",
   "execution_count": null,
   "id": "e61cd809-f9ab-4b05-b959-2954d720cf0f",
   "metadata": {},
   "outputs": [],
   "source": [
    "a= 'x'+str(t[0])\n",
    "b='y0'+str(t[1])\n",
    "\n",
    "anom=xr.open_rasterio('ndvi_anomaly/1-0-0/'+a+'/'+b+'/'+time_range+'/ndvi_anomaly_'+a+b+'_'+time_range+'_ndvi_std_anomaly.tif').squeeze()\n",
    "print(anom)\n",
    "anom.squeeze().plot.imshow(size=6, vmax=3, vmin=-3, cmap='BrBG');"
   ]
  },
  {
   "cell_type": "code",
   "execution_count": null,
   "id": "2555a1de-f676-4d5f-9e40-09e67cfaea24",
   "metadata": {},
   "outputs": [],
   "source": [
    "mean=xr.open_rasterio('ndvi_anomaly/1-0-0/'+a+'/'+b+'/'+time_range+'/ndvi_anomaly_'+a+b+'_'+time_range+'_ndvi_mean.tif').squeeze()\n",
    "print(mean)\n",
    "mean.squeeze().plot.imshow(size=6, vmax=0.9, vmin=0, cmap='RdYlGn');"
   ]
  },
  {
   "cell_type": "code",
   "execution_count": null,
   "id": "6958cad8-0616-4fd7-82aa-efaf114b35b8",
   "metadata": {},
   "outputs": [],
   "source": [
    "count=xr.open_rasterio('ndvi_anomaly/1-0-0/'+a+'/'+b+'/'+time_range+'/ndvi_anomaly_'+a+b+'_'+time_range+'_clear_count.tif').squeeze()\n",
    "print(count)\n",
    "count.squeeze().plot.imshow(size=6, vmax=15, vmin=0, cmap='magma');"
   ]
  },
  {
   "cell_type": "markdown",
   "id": "49ea55aa-4167-4df0-a056-a4d525662002",
   "metadata": {},
   "source": [
    "### remove results folder"
   ]
  },
  {
   "cell_type": "code",
   "execution_count": null,
   "id": "c670f4dc-88bc-4e71-8d1b-8de735d79c5d",
   "metadata": {},
   "outputs": [],
   "source": [
    "!rm -r -f ndvi_anomaly/"
   ]
  },
  {
   "cell_type": "markdown",
   "id": "b7e1caa8-f9c5-48ca-8219-b5dd6027ecb6",
   "metadata": {},
   "source": [
    "## Sync folder from s3"
   ]
  },
  {
   "cell_type": "code",
   "execution_count": null,
   "id": "f350176d-967d-42e8-b60b-98855412ca89",
   "metadata": {},
   "outputs": [],
   "source": [
    "!aws s3 sync s3://deafrica-data-dev-af/ndvi_anomaly ndvi_anomaly  --no-sign-request"
   ]
  },
  {
   "cell_type": "code",
   "execution_count": null,
   "id": "ca280bd2-0740-4f34-8474-33ef06bd7f93",
   "metadata": {},
   "outputs": [],
   "source": []
  },
  {
   "cell_type": "code",
   "execution_count": null,
   "id": "40b6debb-7973-44e0-ad9b-0d6f5a2eea35",
   "metadata": {},
   "outputs": [],
   "source": []
  },
  {
   "cell_type": "code",
   "execution_count": null,
   "id": "45c4a205-51b4-48f1-8e3d-950745ffa3e3",
   "metadata": {},
   "outputs": [],
   "source": []
  }
 ],
 "metadata": {
  "kernelspec": {
   "display_name": "Python 3 (ipykernel)",
   "language": "python",
   "name": "python3"
  },
  "language_info": {
   "codemirror_mode": {
    "name": "ipython",
    "version": 3
   },
   "file_extension": ".py",
   "mimetype": "text/x-python",
   "name": "python",
   "nbconvert_exporter": "python",
   "pygments_lexer": "ipython3",
   "version": "3.8.10"
  }
 },
 "nbformat": 4,
 "nbformat_minor": 5
}

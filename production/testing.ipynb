{
 "cells": [
  {
   "cell_type": "markdown",
   "metadata": {},
   "source": [
    "### Load packages\n",
    "Load key Python packages and supporting functions for the analysis."
   ]
  },
  {
   "cell_type": "code",
   "execution_count": 1,
   "metadata": {},
   "outputs": [],
   "source": [
    "%matplotlib inline\n",
    "\n",
    "import datacube\n",
    "import xarray as xr\n",
    "import numpy as np\n",
    "import matplotlib.pyplot as plt\n",
    "from datacube.utils import masking\n",
    "\n",
    "from deafrica_tools.datahandling import load_ard\n",
    "from deafrica_tools.bandindices import calculate_indices\n",
    "from deafrica_tools.plotting import display_map, rgb\n",
    "from deafrica_tools.dask import create_local_dask_cluster"
   ]
  },
  {
   "cell_type": "code",
   "execution_count": 2,
   "metadata": {},
   "outputs": [
    {
     "data": {
      "text/html": [
       "<table style=\"border: 2px solid white;\">\n",
       "<tr>\n",
       "<td style=\"vertical-align: top; border: 0px solid white\">\n",
       "<h3 style=\"text-align: left;\">Client</h3>\n",
       "<ul style=\"text-align: left; list-style: none; margin: 0; padding: 0;\">\n",
       "  <li><b>Scheduler: </b>tcp://127.0.0.1:38619</li>\n",
       "  <li><b>Dashboard: </b><a href='/user/chad/proxy/8787/status' target='_blank'>/user/chad/proxy/8787/status</a></li>\n",
       "</ul>\n",
       "</td>\n",
       "<td style=\"vertical-align: top; border: 0px solid white\">\n",
       "<h3 style=\"text-align: left;\">Cluster</h3>\n",
       "<ul style=\"text-align: left; list-style:none; margin: 0; padding: 0;\">\n",
       "  <li><b>Workers: </b>1</li>\n",
       "  <li><b>Cores: </b>31</li>\n",
       "  <li><b>Memory: </b>254.70 GB</li>\n",
       "</ul>\n",
       "</td>\n",
       "</tr>\n",
       "</table>"
      ],
      "text/plain": [
       "<Client: 'tcp://127.0.0.1:38619' processes=1 threads=31, memory=254.70 GB>"
      ]
     },
     "metadata": {},
     "output_type": "display_data"
    }
   ],
   "source": [
    "create_local_dask_cluster()"
   ]
  },
  {
   "cell_type": "markdown",
   "metadata": {},
   "source": [
    "### Connect to the datacube\n",
    "Activate the datacube database, which provides functionality for loading and displaying stored Earth observation data."
   ]
  },
  {
   "cell_type": "code",
   "execution_count": 3,
   "metadata": {},
   "outputs": [],
   "source": [
    "dc = datacube.Datacube(app=\"Vegetation_anomalies\")"
   ]
  },
  {
   "cell_type": "code",
   "execution_count": 4,
   "metadata": {},
   "outputs": [],
   "source": [
    "# Define the area of interest\n",
    "lat, lon = 9.8892,-0.9271 #near Lake Tana, Ethiopia\n",
    "buffer = 0.15\n",
    "\n",
    "# Set the range of dates for the climatology\n",
    "time_range = ('1984', '2020')\n",
    "\n",
    "# year and month for anomaly\n",
    "year = '2021'\n",
    "month = 'December'\n",
    "\n",
    "# some final specifications\n",
    "resolution = (-30, 30)\n",
    "dask_chunks = dict(x=1000,y=1000)\n",
    "\n",
    "# Combine central lat,lon with buffer to get area of interest\n",
    "lat_range = (lat-buffer, lat+buffer)\n",
    "lon_range = (lon-buffer, lon+buffer)"
   ]
  },
  {
   "cell_type": "markdown",
   "metadata": {},
   "source": [
    "## View the selected location\n",
    "The next cell will display the selected area on an interactive map.\n",
    "Feel free to zoom in and out to get a better understanding of the area you'll be analysing.\n",
    "Clicking on any point of the map will reveal the latitude and longitude coordinates of that point."
   ]
  },
  {
   "cell_type": "code",
   "execution_count": null,
   "metadata": {},
   "outputs": [],
   "source": [
    "# display_map(x=lon_range, y=lat_range)"
   ]
  },
  {
   "cell_type": "markdown",
   "metadata": {},
   "source": [
    "### Define a function for filtering data to the month of interest"
   ]
  },
  {
   "cell_type": "code",
   "execution_count": 5,
   "metadata": {},
   "outputs": [],
   "source": [
    "months = {'January': [1],\n",
    "           'February': [2],\n",
    "           'March': [3],\n",
    "           'April': [4],\n",
    "           'May': [5],\n",
    "           'June': [6],\n",
    "           'July': [7],\n",
    "           'August': [8],\n",
    "           'September': [9],\n",
    "           'October': [10],\n",
    "           'November': [11],\n",
    "           'December': [12]\n",
    "          }\n",
    "\n",
    "def filter_month(dataset):\n",
    "    dss = []\n",
    "    if dataset.time.begin.month in months[month]:\n",
    "        dss.append(dataset)\n",
    "    return dss"
   ]
  },
  {
   "cell_type": "markdown",
   "metadata": {},
   "source": [
    "## Load cloud-masked Landsat data\n",
    "The first step in this analysis is to load in Landsat data for the `lat_range`, `lon_range` and `time_range` we provided above. \n",
    "The code below uses the `load_ard` function to load in data from the Landsat 5, 7 and 8 satellites for the area and time specified.\n",
    "For more information, see the [Using load_ard notebook](../Frequently_used_code/Using_load_ard.ipynb).\n",
    "\n",
    "The function will also automatically mask out clouds from the dataset, allowing us to focus on pixels that contain useful data:"
   ]
  },
  {
   "cell_type": "code",
   "execution_count": 6,
   "metadata": {},
   "outputs": [
    {
     "name": "stdout",
     "output_type": "stream",
     "text": [
      "Using pixel quality parameters for USGS Collection 2\n",
      "Finding datasets\n",
      "    ls5_sr\n",
      "    ls7_sr\n",
      "    ls8_sr\n",
      "Applying morphological filters to pq mask [('opening', 5), ('dilation', 5)]\n",
      "Applying pixel quality/cloud mask\n",
      "Re-scaling Landsat C2 data\n",
      "Returning 467 time steps as a dask array\n"
     ]
    }
   ],
   "source": [
    "# Create the 'query' dictionary object, which contains the longitudes, \n",
    "# latitudes and time provided above\n",
    "query = {\n",
    "    'x': lon_range,\n",
    "    'y': lat_range,\n",
    "    'time': time_range,\n",
    "    'measurements': ['red','green','blue','nir', 'pixel_quality'],\n",
    "    'resolution': resolution,\n",
    "    'output_crs':'epsg:6933',\n",
    "    'dask_chunks':dask_chunks\n",
    "}\n",
    "\n",
    "# Load available data Landsat 8\n",
    "ds = load_ard(dc=dc, \n",
    "              products=['ls5_sr','ls7_sr','ls8_sr'], \n",
    "              group_by='solar_day',\n",
    "              mask_pixel_quality=True,\n",
    "#               predicate=filter_month,\n",
    "              mask_filters=[(\"opening\", 5),(\"dilation\", 5)], #improve cloud-mask\n",
    "              **query)\n"
   ]
  },
  {
   "cell_type": "code",
   "execution_count": null,
   "metadata": {},
   "outputs": [],
   "source": [
    "from datacube.utils import masking\n",
    "flags_def = ds.pixel_quality.attrs[\"flags_definition\"]\n",
    "quality_flags = dict(\n",
    "                cloud=\"high_confidence\", # True where there is cloud\n",
    "                cloud_shadow=\"high_confidence\",# True where there is cloud shadow \n",
    ")\n",
    "\n",
    "# set cloud_mask: True=cloud, False=non-cloud\n",
    "mask, _= masking.create_mask_value(flags_def, **quality_flags)\n",
    "\n",
    "#add the cloud mask to our dataset\n",
    "cloud_mask = (ds['pixel_quality'] & mask) != 0"
   ]
  },
  {
   "cell_type": "code",
   "execution_count": null,
   "metadata": {},
   "outputs": [],
   "source": [
    "missed_cloud =  ds['blue'] >= 0.375"
   ]
  },
  {
   "cell_type": "code",
   "execution_count": null,
   "metadata": {},
   "outputs": [],
   "source": [
    "from odc.algo._masking import mask_cleanup\n",
    "# missed_cloud"
   ]
  },
  {
   "cell_type": "code",
   "execution_count": null,
   "metadata": {},
   "outputs": [],
   "source": [
    "missed_cloud_d = mask_cleanup(missed_cloud, mask_filters=[(\"dilation\", 5)])"
   ]
  },
  {
   "cell_type": "code",
   "execution_count": null,
   "metadata": {},
   "outputs": [],
   "source": [
    "missed_cloud_d = missed_cloud_d.compute()"
   ]
  },
  {
   "cell_type": "code",
   "execution_count": null,
   "metadata": {},
   "outputs": [],
   "source": [
    "# xr.ufuncs.logical_or(cloud_mask.isel(time=220), missed_cloud_d.isel(time=220)).plot.imshow()"
   ]
  },
  {
   "cell_type": "code",
   "execution_count": null,
   "metadata": {},
   "outputs": [],
   "source": [
    "# rgb(ds, index=226)"
   ]
  },
  {
   "cell_type": "code",
   "execution_count": null,
   "metadata": {},
   "outputs": [],
   "source": [
    "missed_cloud_d.isel(time=slice(200,230)).plot.imshow(col='time', col_wrap=10)"
   ]
  },
  {
   "cell_type": "code",
   "execution_count": null,
   "metadata": {},
   "outputs": [],
   "source": [
    "missed_cloud.isel(time=slice(200,230)).plot.imshow(col='time', col_wrap=10)"
   ]
  },
  {
   "cell_type": "code",
   "execution_count": null,
   "metadata": {},
   "outputs": [],
   "source": [
    "missed_cloud_d.isel(time=220).plot.imshow()"
   ]
  },
  {
   "cell_type": "code",
   "execution_count": null,
   "metadata": {},
   "outputs": [],
   "source": []
  },
  {
   "cell_type": "code",
   "execution_count": null,
   "metadata": {},
   "outputs": [],
   "source": []
  },
  {
   "cell_type": "code",
   "execution_count": null,
   "metadata": {},
   "outputs": [],
   "source": []
  },
  {
   "cell_type": "code",
   "execution_count": null,
   "metadata": {},
   "outputs": [],
   "source": []
  },
  {
   "cell_type": "code",
   "execution_count": 7,
   "metadata": {},
   "outputs": [
    {
     "data": {
      "text/html": [
       "<div><svg style=\"position: absolute; width: 0; height: 0; overflow: hidden\">\n",
       "<defs>\n",
       "<symbol id=\"icon-database\" viewBox=\"0 0 32 32\">\n",
       "<path d=\"M16 0c-8.837 0-16 2.239-16 5v4c0 2.761 7.163 5 16 5s16-2.239 16-5v-4c0-2.761-7.163-5-16-5z\"></path>\n",
       "<path d=\"M16 17c-8.837 0-16-2.239-16-5v6c0 2.761 7.163 5 16 5s16-2.239 16-5v-6c0 2.761-7.163 5-16 5z\"></path>\n",
       "<path d=\"M16 26c-8.837 0-16-2.239-16-5v6c0 2.761 7.163 5 16 5s16-2.239 16-5v-6c0 2.761-7.163 5-16 5z\"></path>\n",
       "</symbol>\n",
       "<symbol id=\"icon-file-text2\" viewBox=\"0 0 32 32\">\n",
       "<path d=\"M28.681 7.159c-0.694-0.947-1.662-2.053-2.724-3.116s-2.169-2.030-3.116-2.724c-1.612-1.182-2.393-1.319-2.841-1.319h-15.5c-1.378 0-2.5 1.121-2.5 2.5v27c0 1.378 1.122 2.5 2.5 2.5h23c1.378 0 2.5-1.122 2.5-2.5v-19.5c0-0.448-0.137-1.23-1.319-2.841zM24.543 5.457c0.959 0.959 1.712 1.825 2.268 2.543h-4.811v-4.811c0.718 0.556 1.584 1.309 2.543 2.268zM28 29.5c0 0.271-0.229 0.5-0.5 0.5h-23c-0.271 0-0.5-0.229-0.5-0.5v-27c0-0.271 0.229-0.5 0.5-0.5 0 0 15.499-0 15.5 0v7c0 0.552 0.448 1 1 1h7v19.5z\"></path>\n",
       "<path d=\"M23 26h-14c-0.552 0-1-0.448-1-1s0.448-1 1-1h14c0.552 0 1 0.448 1 1s-0.448 1-1 1z\"></path>\n",
       "<path d=\"M23 22h-14c-0.552 0-1-0.448-1-1s0.448-1 1-1h14c0.552 0 1 0.448 1 1s-0.448 1-1 1z\"></path>\n",
       "<path d=\"M23 18h-14c-0.552 0-1-0.448-1-1s0.448-1 1-1h14c0.552 0 1 0.448 1 1s-0.448 1-1 1z\"></path>\n",
       "</symbol>\n",
       "</defs>\n",
       "</svg>\n",
       "<style>/* CSS stylesheet for displaying xarray objects in jupyterlab.\n",
       " *\n",
       " */\n",
       "\n",
       ":root {\n",
       "  --xr-font-color0: var(--jp-content-font-color0, rgba(0, 0, 0, 1));\n",
       "  --xr-font-color2: var(--jp-content-font-color2, rgba(0, 0, 0, 0.54));\n",
       "  --xr-font-color3: var(--jp-content-font-color3, rgba(0, 0, 0, 0.38));\n",
       "  --xr-border-color: var(--jp-border-color2, #e0e0e0);\n",
       "  --xr-disabled-color: var(--jp-layout-color3, #bdbdbd);\n",
       "  --xr-background-color: var(--jp-layout-color0, white);\n",
       "  --xr-background-color-row-even: var(--jp-layout-color1, white);\n",
       "  --xr-background-color-row-odd: var(--jp-layout-color2, #eeeeee);\n",
       "}\n",
       "\n",
       "html[theme=dark],\n",
       "body.vscode-dark {\n",
       "  --xr-font-color0: rgba(255, 255, 255, 1);\n",
       "  --xr-font-color2: rgba(255, 255, 255, 0.54);\n",
       "  --xr-font-color3: rgba(255, 255, 255, 0.38);\n",
       "  --xr-border-color: #1F1F1F;\n",
       "  --xr-disabled-color: #515151;\n",
       "  --xr-background-color: #111111;\n",
       "  --xr-background-color-row-even: #111111;\n",
       "  --xr-background-color-row-odd: #313131;\n",
       "}\n",
       "\n",
       ".xr-wrap {\n",
       "  display: block;\n",
       "  min-width: 300px;\n",
       "  max-width: 700px;\n",
       "}\n",
       "\n",
       ".xr-text-repr-fallback {\n",
       "  /* fallback to plain text repr when CSS is not injected (untrusted notebook) */\n",
       "  display: none;\n",
       "}\n",
       "\n",
       ".xr-header {\n",
       "  padding-top: 6px;\n",
       "  padding-bottom: 6px;\n",
       "  margin-bottom: 4px;\n",
       "  border-bottom: solid 1px var(--xr-border-color);\n",
       "}\n",
       "\n",
       ".xr-header > div,\n",
       ".xr-header > ul {\n",
       "  display: inline;\n",
       "  margin-top: 0;\n",
       "  margin-bottom: 0;\n",
       "}\n",
       "\n",
       ".xr-obj-type,\n",
       ".xr-array-name {\n",
       "  margin-left: 2px;\n",
       "  margin-right: 10px;\n",
       "}\n",
       "\n",
       ".xr-obj-type {\n",
       "  color: var(--xr-font-color2);\n",
       "}\n",
       "\n",
       ".xr-sections {\n",
       "  padding-left: 0 !important;\n",
       "  display: grid;\n",
       "  grid-template-columns: 150px auto auto 1fr 20px 20px;\n",
       "}\n",
       "\n",
       ".xr-section-item {\n",
       "  display: contents;\n",
       "}\n",
       "\n",
       ".xr-section-item input {\n",
       "  display: none;\n",
       "}\n",
       "\n",
       ".xr-section-item input + label {\n",
       "  color: var(--xr-disabled-color);\n",
       "}\n",
       "\n",
       ".xr-section-item input:enabled + label {\n",
       "  cursor: pointer;\n",
       "  color: var(--xr-font-color2);\n",
       "}\n",
       "\n",
       ".xr-section-item input:enabled + label:hover {\n",
       "  color: var(--xr-font-color0);\n",
       "}\n",
       "\n",
       ".xr-section-summary {\n",
       "  grid-column: 1;\n",
       "  color: var(--xr-font-color2);\n",
       "  font-weight: 500;\n",
       "}\n",
       "\n",
       ".xr-section-summary > span {\n",
       "  display: inline-block;\n",
       "  padding-left: 0.5em;\n",
       "}\n",
       "\n",
       ".xr-section-summary-in:disabled + label {\n",
       "  color: var(--xr-font-color2);\n",
       "}\n",
       "\n",
       ".xr-section-summary-in + label:before {\n",
       "  display: inline-block;\n",
       "  content: '►';\n",
       "  font-size: 11px;\n",
       "  width: 15px;\n",
       "  text-align: center;\n",
       "}\n",
       "\n",
       ".xr-section-summary-in:disabled + label:before {\n",
       "  color: var(--xr-disabled-color);\n",
       "}\n",
       "\n",
       ".xr-section-summary-in:checked + label:before {\n",
       "  content: '▼';\n",
       "}\n",
       "\n",
       ".xr-section-summary-in:checked + label > span {\n",
       "  display: none;\n",
       "}\n",
       "\n",
       ".xr-section-summary,\n",
       ".xr-section-inline-details {\n",
       "  padding-top: 4px;\n",
       "  padding-bottom: 4px;\n",
       "}\n",
       "\n",
       ".xr-section-inline-details {\n",
       "  grid-column: 2 / -1;\n",
       "}\n",
       "\n",
       ".xr-section-details {\n",
       "  display: none;\n",
       "  grid-column: 1 / -1;\n",
       "  margin-bottom: 5px;\n",
       "}\n",
       "\n",
       ".xr-section-summary-in:checked ~ .xr-section-details {\n",
       "  display: contents;\n",
       "}\n",
       "\n",
       ".xr-array-wrap {\n",
       "  grid-column: 1 / -1;\n",
       "  display: grid;\n",
       "  grid-template-columns: 20px auto;\n",
       "}\n",
       "\n",
       ".xr-array-wrap > label {\n",
       "  grid-column: 1;\n",
       "  vertical-align: top;\n",
       "}\n",
       "\n",
       ".xr-preview {\n",
       "  color: var(--xr-font-color3);\n",
       "}\n",
       "\n",
       ".xr-array-preview,\n",
       ".xr-array-data {\n",
       "  padding: 0 5px !important;\n",
       "  grid-column: 2;\n",
       "}\n",
       "\n",
       ".xr-array-data,\n",
       ".xr-array-in:checked ~ .xr-array-preview {\n",
       "  display: none;\n",
       "}\n",
       "\n",
       ".xr-array-in:checked ~ .xr-array-data,\n",
       ".xr-array-preview {\n",
       "  display: inline-block;\n",
       "}\n",
       "\n",
       ".xr-dim-list {\n",
       "  display: inline-block !important;\n",
       "  list-style: none;\n",
       "  padding: 0 !important;\n",
       "  margin: 0;\n",
       "}\n",
       "\n",
       ".xr-dim-list li {\n",
       "  display: inline-block;\n",
       "  padding: 0;\n",
       "  margin: 0;\n",
       "}\n",
       "\n",
       ".xr-dim-list:before {\n",
       "  content: '(';\n",
       "}\n",
       "\n",
       ".xr-dim-list:after {\n",
       "  content: ')';\n",
       "}\n",
       "\n",
       ".xr-dim-list li:not(:last-child):after {\n",
       "  content: ',';\n",
       "  padding-right: 5px;\n",
       "}\n",
       "\n",
       ".xr-has-index {\n",
       "  font-weight: bold;\n",
       "}\n",
       "\n",
       ".xr-var-list,\n",
       ".xr-var-item {\n",
       "  display: contents;\n",
       "}\n",
       "\n",
       ".xr-var-item > div,\n",
       ".xr-var-item label,\n",
       ".xr-var-item > .xr-var-name span {\n",
       "  background-color: var(--xr-background-color-row-even);\n",
       "  margin-bottom: 0;\n",
       "}\n",
       "\n",
       ".xr-var-item > .xr-var-name:hover span {\n",
       "  padding-right: 5px;\n",
       "}\n",
       "\n",
       ".xr-var-list > li:nth-child(odd) > div,\n",
       ".xr-var-list > li:nth-child(odd) > label,\n",
       ".xr-var-list > li:nth-child(odd) > .xr-var-name span {\n",
       "  background-color: var(--xr-background-color-row-odd);\n",
       "}\n",
       "\n",
       ".xr-var-name {\n",
       "  grid-column: 1;\n",
       "}\n",
       "\n",
       ".xr-var-dims {\n",
       "  grid-column: 2;\n",
       "}\n",
       "\n",
       ".xr-var-dtype {\n",
       "  grid-column: 3;\n",
       "  text-align: right;\n",
       "  color: var(--xr-font-color2);\n",
       "}\n",
       "\n",
       ".xr-var-preview {\n",
       "  grid-column: 4;\n",
       "}\n",
       "\n",
       ".xr-var-name,\n",
       ".xr-var-dims,\n",
       ".xr-var-dtype,\n",
       ".xr-preview,\n",
       ".xr-attrs dt {\n",
       "  white-space: nowrap;\n",
       "  overflow: hidden;\n",
       "  text-overflow: ellipsis;\n",
       "  padding-right: 10px;\n",
       "}\n",
       "\n",
       ".xr-var-name:hover,\n",
       ".xr-var-dims:hover,\n",
       ".xr-var-dtype:hover,\n",
       ".xr-attrs dt:hover {\n",
       "  overflow: visible;\n",
       "  width: auto;\n",
       "  z-index: 1;\n",
       "}\n",
       "\n",
       ".xr-var-attrs,\n",
       ".xr-var-data {\n",
       "  display: none;\n",
       "  background-color: var(--xr-background-color) !important;\n",
       "  padding-bottom: 5px !important;\n",
       "}\n",
       "\n",
       ".xr-var-attrs-in:checked ~ .xr-var-attrs,\n",
       ".xr-var-data-in:checked ~ .xr-var-data {\n",
       "  display: block;\n",
       "}\n",
       "\n",
       ".xr-var-data > table {\n",
       "  float: right;\n",
       "}\n",
       "\n",
       ".xr-var-name span,\n",
       ".xr-var-data,\n",
       ".xr-attrs {\n",
       "  padding-left: 25px !important;\n",
       "}\n",
       "\n",
       ".xr-attrs,\n",
       ".xr-var-attrs,\n",
       ".xr-var-data {\n",
       "  grid-column: 1 / -1;\n",
       "}\n",
       "\n",
       "dl.xr-attrs {\n",
       "  padding: 0;\n",
       "  margin: 0;\n",
       "  display: grid;\n",
       "  grid-template-columns: 125px auto;\n",
       "}\n",
       "\n",
       ".xr-attrs dt,\n",
       ".xr-attrs dd {\n",
       "  padding: 0;\n",
       "  margin: 0;\n",
       "  float: left;\n",
       "  padding-right: 10px;\n",
       "  width: auto;\n",
       "}\n",
       "\n",
       ".xr-attrs dt {\n",
       "  font-weight: normal;\n",
       "  grid-column: 1;\n",
       "}\n",
       "\n",
       ".xr-attrs dt:hover span {\n",
       "  display: inline-block;\n",
       "  background: var(--xr-background-color);\n",
       "  padding-right: 10px;\n",
       "}\n",
       "\n",
       ".xr-attrs dd {\n",
       "  grid-column: 2;\n",
       "  white-space: pre-wrap;\n",
       "  word-break: break-all;\n",
       "}\n",
       "\n",
       ".xr-icon-database,\n",
       ".xr-icon-file-text2 {\n",
       "  display: inline-block;\n",
       "  vertical-align: middle;\n",
       "  width: 1em;\n",
       "  height: 1.5em !important;\n",
       "  stroke-width: 0;\n",
       "  stroke: currentColor;\n",
       "  fill: currentColor;\n",
       "}\n",
       "</style><pre class='xr-text-repr-fallback'>&lt;xarray.Dataset&gt;\n",
       "Dimensions:        (time: 467, y: 1258, x: 966)\n",
       "Coordinates:\n",
       "  * time           (time) datetime64[ns] 1984-11-05T09:50:37.652006 ... 2020-...\n",
       "  * y              (y) float64 1.274e+06 1.274e+06 ... 1.237e+06 1.237e+06\n",
       "  * x              (x) float64 -1.039e+05 -1.039e+05 ... -7.502e+04 -7.498e+04\n",
       "    spatial_ref    int32 6933\n",
       "Data variables:\n",
       "    red            (time, y, x) float32 dask.array&lt;chunksize=(1, 1000, 966), meta=np.ndarray&gt;\n",
       "    green          (time, y, x) float32 dask.array&lt;chunksize=(1, 1000, 966), meta=np.ndarray&gt;\n",
       "    blue           (time, y, x) float32 dask.array&lt;chunksize=(1, 1000, 966), meta=np.ndarray&gt;\n",
       "    nir            (time, y, x) float32 dask.array&lt;chunksize=(1, 1000, 966), meta=np.ndarray&gt;\n",
       "    pixel_quality  (time, y, x) float64 dask.array&lt;chunksize=(1, 1000, 966), meta=np.ndarray&gt;\n",
       "Attributes:\n",
       "    crs:           epsg:6933\n",
       "    grid_mapping:  spatial_ref</pre><div class='xr-wrap' hidden><div class='xr-header'><div class='xr-obj-type'>xarray.Dataset</div></div><ul class='xr-sections'><li class='xr-section-item'><input id='section-23dfa09f-50cf-4e59-a210-bb48c5ea3b31' class='xr-section-summary-in' type='checkbox' disabled ><label for='section-23dfa09f-50cf-4e59-a210-bb48c5ea3b31' class='xr-section-summary'  title='Expand/collapse section'>Dimensions:</label><div class='xr-section-inline-details'><ul class='xr-dim-list'><li><span class='xr-has-index'>time</span>: 467</li><li><span class='xr-has-index'>y</span>: 1258</li><li><span class='xr-has-index'>x</span>: 966</li></ul></div><div class='xr-section-details'></div></li><li class='xr-section-item'><input id='section-51cd54db-424b-4bfb-bc9f-d8a4544590a1' class='xr-section-summary-in' type='checkbox'  checked><label for='section-51cd54db-424b-4bfb-bc9f-d8a4544590a1' class='xr-section-summary' >Coordinates: <span>(4)</span></label><div class='xr-section-inline-details'></div><div class='xr-section-details'><ul class='xr-var-list'><li class='xr-var-item'><div class='xr-var-name'><span class='xr-has-index'>time</span></div><div class='xr-var-dims'>(time)</div><div class='xr-var-dtype'>datetime64[ns]</div><div class='xr-var-preview xr-preview'>1984-11-05T09:50:37.652006 ... 2...</div><input id='attrs-5de717ea-7288-4d0e-9f6f-670581f004ca' class='xr-var-attrs-in' type='checkbox' ><label for='attrs-5de717ea-7288-4d0e-9f6f-670581f004ca' title='Show/Hide attributes'><svg class='icon xr-icon-file-text2'><use xlink:href='#icon-file-text2'></use></svg></label><input id='data-82c03ba2-f814-466c-b813-42cc3a0c93e9' class='xr-var-data-in' type='checkbox'><label for='data-82c03ba2-f814-466c-b813-42cc3a0c93e9' title='Show/Hide data repr'><svg class='icon xr-icon-database'><use xlink:href='#icon-database'></use></svg></label><div class='xr-var-attrs'><dl class='xr-attrs'><dt><span>units :</span></dt><dd>seconds since 1970-01-01 00:00:00</dd></dl></div><div class='xr-var-data'><pre>array([&#x27;1984-11-05T09:50:37.652006000&#x27;, &#x27;1984-11-21T09:50:33.798013000&#x27;,\n",
       "       &#x27;1986-01-11T09:48:08.792013000&#x27;, ..., &#x27;2020-12-10T10:21:02.159495000&#x27;,\n",
       "       &#x27;2020-12-18T09:40:08.213353000&#x27;, &#x27;2020-12-26T10:20:59.580856000&#x27;],\n",
       "      dtype=&#x27;datetime64[ns]&#x27;)</pre></div></li><li class='xr-var-item'><div class='xr-var-name'><span class='xr-has-index'>y</span></div><div class='xr-var-dims'>(y)</div><div class='xr-var-dtype'>float64</div><div class='xr-var-preview xr-preview'>1.274e+06 1.274e+06 ... 1.237e+06</div><input id='attrs-459090ad-68a9-4769-a0ac-419dd2e9b8ed' class='xr-var-attrs-in' type='checkbox' ><label for='attrs-459090ad-68a9-4769-a0ac-419dd2e9b8ed' title='Show/Hide attributes'><svg class='icon xr-icon-file-text2'><use xlink:href='#icon-file-text2'></use></svg></label><input id='data-129277eb-651a-4ba6-a3e5-59120ee06f31' class='xr-var-data-in' type='checkbox'><label for='data-129277eb-651a-4ba6-a3e5-59120ee06f31' title='Show/Hide data repr'><svg class='icon xr-icon-database'><use xlink:href='#icon-database'></use></svg></label><div class='xr-var-attrs'><dl class='xr-attrs'><dt><span>units :</span></dt><dd>metre</dd><dt><span>resolution :</span></dt><dd>-30.0</dd><dt><span>crs :</span></dt><dd>epsg:6933</dd></dl></div><div class='xr-var-data'><pre>array([1274355., 1274325., 1274295., ..., 1236705., 1236675., 1236645.])</pre></div></li><li class='xr-var-item'><div class='xr-var-name'><span class='xr-has-index'>x</span></div><div class='xr-var-dims'>(x)</div><div class='xr-var-dtype'>float64</div><div class='xr-var-preview xr-preview'>-1.039e+05 ... -7.498e+04</div><input id='attrs-8c4b527b-fe20-4074-bdce-8a2208905ab4' class='xr-var-attrs-in' type='checkbox' ><label for='attrs-8c4b527b-fe20-4074-bdce-8a2208905ab4' title='Show/Hide attributes'><svg class='icon xr-icon-file-text2'><use xlink:href='#icon-file-text2'></use></svg></label><input id='data-d1275762-91ee-4790-8143-bc6c851b8aac' class='xr-var-data-in' type='checkbox'><label for='data-d1275762-91ee-4790-8143-bc6c851b8aac' title='Show/Hide data repr'><svg class='icon xr-icon-database'><use xlink:href='#icon-database'></use></svg></label><div class='xr-var-attrs'><dl class='xr-attrs'><dt><span>units :</span></dt><dd>metre</dd><dt><span>resolution :</span></dt><dd>30.0</dd><dt><span>crs :</span></dt><dd>epsg:6933</dd></dl></div><div class='xr-var-data'><pre>array([-103935., -103905., -103875., ...,  -75045.,  -75015.,  -74985.])</pre></div></li><li class='xr-var-item'><div class='xr-var-name'><span>spatial_ref</span></div><div class='xr-var-dims'>()</div><div class='xr-var-dtype'>int32</div><div class='xr-var-preview xr-preview'>6933</div><input id='attrs-19c8d88d-c37c-4b0e-abba-49e3416568d1' class='xr-var-attrs-in' type='checkbox' ><label for='attrs-19c8d88d-c37c-4b0e-abba-49e3416568d1' title='Show/Hide attributes'><svg class='icon xr-icon-file-text2'><use xlink:href='#icon-file-text2'></use></svg></label><input id='data-c021ef12-caa8-4bbc-b281-6024fb55e91e' class='xr-var-data-in' type='checkbox'><label for='data-c021ef12-caa8-4bbc-b281-6024fb55e91e' title='Show/Hide data repr'><svg class='icon xr-icon-database'><use xlink:href='#icon-database'></use></svg></label><div class='xr-var-attrs'><dl class='xr-attrs'><dt><span>spatial_ref :</span></dt><dd>PROJCS[&quot;WGS 84 / NSIDC EASE-Grid 2.0 Global&quot;,GEOGCS[&quot;WGS 84&quot;,DATUM[&quot;WGS_1984&quot;,SPHEROID[&quot;WGS 84&quot;,6378137,298.257223563,AUTHORITY[&quot;EPSG&quot;,&quot;7030&quot;]],AUTHORITY[&quot;EPSG&quot;,&quot;6326&quot;]],PRIMEM[&quot;Greenwich&quot;,0,AUTHORITY[&quot;EPSG&quot;,&quot;8901&quot;]],UNIT[&quot;degree&quot;,0.0174532925199433,AUTHORITY[&quot;EPSG&quot;,&quot;9122&quot;]],AUTHORITY[&quot;EPSG&quot;,&quot;4326&quot;]],PROJECTION[&quot;Cylindrical_Equal_Area&quot;],PARAMETER[&quot;standard_parallel_1&quot;,30],PARAMETER[&quot;central_meridian&quot;,0],PARAMETER[&quot;false_easting&quot;,0],PARAMETER[&quot;false_northing&quot;,0],UNIT[&quot;metre&quot;,1,AUTHORITY[&quot;EPSG&quot;,&quot;9001&quot;]],AXIS[&quot;Easting&quot;,EAST],AXIS[&quot;Northing&quot;,NORTH],AUTHORITY[&quot;EPSG&quot;,&quot;6933&quot;]]</dd><dt><span>grid_mapping_name :</span></dt><dd>lambert_cylindrical_equal_area</dd></dl></div><div class='xr-var-data'><pre>array(6933, dtype=int32)</pre></div></li></ul></div></li><li class='xr-section-item'><input id='section-cb7e4709-807f-49d5-a3a0-bb6c249526ef' class='xr-section-summary-in' type='checkbox'  checked><label for='section-cb7e4709-807f-49d5-a3a0-bb6c249526ef' class='xr-section-summary' >Data variables: <span>(5)</span></label><div class='xr-section-inline-details'></div><div class='xr-section-details'><ul class='xr-var-list'><li class='xr-var-item'><div class='xr-var-name'><span>red</span></div><div class='xr-var-dims'>(time, y, x)</div><div class='xr-var-dtype'>float32</div><div class='xr-var-preview xr-preview'>dask.array&lt;chunksize=(1, 1000, 966), meta=np.ndarray&gt;</div><input id='attrs-1c0eed1c-e94a-4171-bc12-9106d866e392' class='xr-var-attrs-in' type='checkbox' ><label for='attrs-1c0eed1c-e94a-4171-bc12-9106d866e392' title='Show/Hide attributes'><svg class='icon xr-icon-file-text2'><use xlink:href='#icon-file-text2'></use></svg></label><input id='data-86060bd5-51e5-4a6c-b09e-3cd6fb34168b' class='xr-var-data-in' type='checkbox'><label for='data-86060bd5-51e5-4a6c-b09e-3cd6fb34168b' title='Show/Hide data repr'><svg class='icon xr-icon-database'><use xlink:href='#icon-database'></use></svg></label><div class='xr-var-attrs'><dl class='xr-attrs'><dt><span>crs :</span></dt><dd>epsg:6933</dd><dt><span>grid_mapping :</span></dt><dd>spatial_ref</dd></dl></div><div class='xr-var-data'><table>\n",
       "<tr>\n",
       "<td>\n",
       "<table>\n",
       "  <thead>\n",
       "    <tr><td> </td><th> Array </th><th> Chunk </th></tr>\n",
       "  </thead>\n",
       "  <tbody>\n",
       "    <tr><th> Bytes </th><td> 2.27 GB </td> <td> 3.86 MB </td></tr>\n",
       "    <tr><th> Shape </th><td> (467, 1258, 966) </td> <td> (1, 1000, 966) </td></tr>\n",
       "    <tr><th> Count </th><td> 21015 Tasks </td><td> 934 Chunks </td></tr>\n",
       "    <tr><th> Type </th><td> float32 </td><td> numpy.ndarray </td></tr>\n",
       "  </tbody>\n",
       "</table>\n",
       "</td>\n",
       "<td>\n",
       "<svg width=\"178\" height=\"196\" style=\"stroke:rgb(0,0,0);stroke-width:1\" >\n",
       "\n",
       "  <!-- Horizontal lines -->\n",
       "  <line x1=\"10\" y1=\"0\" x2=\"36\" y2=\"26\" style=\"stroke-width:2\" />\n",
       "  <line x1=\"10\" y1=\"95\" x2=\"36\" y2=\"121\" />\n",
       "  <line x1=\"10\" y1=\"120\" x2=\"36\" y2=\"146\" style=\"stroke-width:2\" />\n",
       "\n",
       "  <!-- Vertical lines -->\n",
       "  <line x1=\"10\" y1=\"0\" x2=\"10\" y2=\"120\" style=\"stroke-width:2\" />\n",
       "  <line x1=\"11\" y1=\"1\" x2=\"11\" y2=\"121\" />\n",
       "  <line x1=\"12\" y1=\"2\" x2=\"12\" y2=\"122\" />\n",
       "  <line x1=\"14\" y1=\"4\" x2=\"14\" y2=\"124\" />\n",
       "  <line x1=\"15\" y1=\"5\" x2=\"15\" y2=\"125\" />\n",
       "  <line x1=\"16\" y1=\"6\" x2=\"16\" y2=\"126\" />\n",
       "  <line x1=\"18\" y1=\"8\" x2=\"18\" y2=\"128\" />\n",
       "  <line x1=\"19\" y1=\"9\" x2=\"19\" y2=\"129\" />\n",
       "  <line x1=\"20\" y1=\"10\" x2=\"20\" y2=\"130\" />\n",
       "  <line x1=\"22\" y1=\"12\" x2=\"22\" y2=\"132\" />\n",
       "  <line x1=\"23\" y1=\"13\" x2=\"23\" y2=\"133\" />\n",
       "  <line x1=\"25\" y1=\"15\" x2=\"25\" y2=\"135\" />\n",
       "  <line x1=\"26\" y1=\"16\" x2=\"26\" y2=\"136\" />\n",
       "  <line x1=\"27\" y1=\"17\" x2=\"27\" y2=\"137\" />\n",
       "  <line x1=\"29\" y1=\"19\" x2=\"29\" y2=\"139\" />\n",
       "  <line x1=\"30\" y1=\"20\" x2=\"30\" y2=\"140\" />\n",
       "  <line x1=\"32\" y1=\"22\" x2=\"32\" y2=\"142\" />\n",
       "  <line x1=\"33\" y1=\"23\" x2=\"33\" y2=\"143\" />\n",
       "  <line x1=\"34\" y1=\"24\" x2=\"34\" y2=\"144\" />\n",
       "  <line x1=\"36\" y1=\"26\" x2=\"36\" y2=\"146\" style=\"stroke-width:2\" />\n",
       "\n",
       "  <!-- Colored Rectangle -->\n",
       "  <polygon points=\"10.0,0.0 36.20405873001029,26.20405873001029 36.20405873001029,146.20405873001027 10.0,120.0\" style=\"fill:#8B4903A0;stroke-width:0\"/>\n",
       "\n",
       "  <!-- Horizontal lines -->\n",
       "  <line x1=\"10\" y1=\"0\" x2=\"102\" y2=\"0\" style=\"stroke-width:2\" />\n",
       "  <line x1=\"11\" y1=\"1\" x2=\"103\" y2=\"1\" />\n",
       "  <line x1=\"12\" y1=\"2\" x2=\"104\" y2=\"2\" />\n",
       "  <line x1=\"14\" y1=\"4\" x2=\"106\" y2=\"4\" />\n",
       "  <line x1=\"15\" y1=\"5\" x2=\"107\" y2=\"5\" />\n",
       "  <line x1=\"16\" y1=\"6\" x2=\"108\" y2=\"6\" />\n",
       "  <line x1=\"18\" y1=\"8\" x2=\"110\" y2=\"8\" />\n",
       "  <line x1=\"19\" y1=\"9\" x2=\"111\" y2=\"9\" />\n",
       "  <line x1=\"20\" y1=\"10\" x2=\"113\" y2=\"10\" />\n",
       "  <line x1=\"22\" y1=\"12\" x2=\"114\" y2=\"12\" />\n",
       "  <line x1=\"23\" y1=\"13\" x2=\"115\" y2=\"13\" />\n",
       "  <line x1=\"25\" y1=\"15\" x2=\"117\" y2=\"15\" />\n",
       "  <line x1=\"26\" y1=\"16\" x2=\"118\" y2=\"16\" />\n",
       "  <line x1=\"27\" y1=\"17\" x2=\"120\" y2=\"17\" />\n",
       "  <line x1=\"29\" y1=\"19\" x2=\"121\" y2=\"19\" />\n",
       "  <line x1=\"30\" y1=\"20\" x2=\"122\" y2=\"20\" />\n",
       "  <line x1=\"32\" y1=\"22\" x2=\"124\" y2=\"22\" />\n",
       "  <line x1=\"33\" y1=\"23\" x2=\"125\" y2=\"23\" />\n",
       "  <line x1=\"34\" y1=\"24\" x2=\"126\" y2=\"24\" />\n",
       "  <line x1=\"36\" y1=\"26\" x2=\"128\" y2=\"26\" style=\"stroke-width:2\" />\n",
       "\n",
       "  <!-- Vertical lines -->\n",
       "  <line x1=\"10\" y1=\"0\" x2=\"36\" y2=\"26\" style=\"stroke-width:2\" />\n",
       "  <line x1=\"102\" y1=\"0\" x2=\"128\" y2=\"26\" style=\"stroke-width:2\" />\n",
       "\n",
       "  <!-- Colored Rectangle -->\n",
       "  <polygon points=\"10.0,0.0 102.1462639109698,0.0 128.3503226409801,26.20405873001029 36.20405873001029,26.20405873001029\" style=\"fill:#8B4903A0;stroke-width:0\"/>\n",
       "\n",
       "  <!-- Horizontal lines -->\n",
       "  <line x1=\"36\" y1=\"26\" x2=\"128\" y2=\"26\" style=\"stroke-width:2\" />\n",
       "  <line x1=\"36\" y1=\"121\" x2=\"128\" y2=\"121\" />\n",
       "  <line x1=\"36\" y1=\"146\" x2=\"128\" y2=\"146\" style=\"stroke-width:2\" />\n",
       "\n",
       "  <!-- Vertical lines -->\n",
       "  <line x1=\"36\" y1=\"26\" x2=\"36\" y2=\"146\" style=\"stroke-width:2\" />\n",
       "  <line x1=\"128\" y1=\"26\" x2=\"128\" y2=\"146\" style=\"stroke-width:2\" />\n",
       "\n",
       "  <!-- Colored Rectangle -->\n",
       "  <polygon points=\"36.20405873001029,26.20405873001029 128.3503226409801,26.20405873001029 128.3503226409801,146.20405873001027 36.20405873001029,146.20405873001027\" style=\"fill:#ECB172A0;stroke-width:0\"/>\n",
       "\n",
       "  <!-- Text -->\n",
       "  <text x=\"82.277191\" y=\"166.204059\" font-size=\"1.0rem\" font-weight=\"100\" text-anchor=\"middle\" >966</text>\n",
       "  <text x=\"148.350323\" y=\"86.204059\" font-size=\"1.0rem\" font-weight=\"100\" text-anchor=\"middle\" transform=\"rotate(-90,148.350323,86.204059)\">1258</text>\n",
       "  <text x=\"13.102029\" y=\"153.102029\" font-size=\"1.0rem\" font-weight=\"100\" text-anchor=\"middle\" transform=\"rotate(45,13.102029,153.102029)\">467</text>\n",
       "</svg>\n",
       "</td>\n",
       "</tr>\n",
       "</table></div></li><li class='xr-var-item'><div class='xr-var-name'><span>green</span></div><div class='xr-var-dims'>(time, y, x)</div><div class='xr-var-dtype'>float32</div><div class='xr-var-preview xr-preview'>dask.array&lt;chunksize=(1, 1000, 966), meta=np.ndarray&gt;</div><input id='attrs-65b16814-ba74-4540-862f-75b2da70294a' class='xr-var-attrs-in' type='checkbox' ><label for='attrs-65b16814-ba74-4540-862f-75b2da70294a' title='Show/Hide attributes'><svg class='icon xr-icon-file-text2'><use xlink:href='#icon-file-text2'></use></svg></label><input id='data-2dd22fa8-a216-4643-a63f-e21fb9caed36' class='xr-var-data-in' type='checkbox'><label for='data-2dd22fa8-a216-4643-a63f-e21fb9caed36' title='Show/Hide data repr'><svg class='icon xr-icon-database'><use xlink:href='#icon-database'></use></svg></label><div class='xr-var-attrs'><dl class='xr-attrs'><dt><span>crs :</span></dt><dd>epsg:6933</dd><dt><span>grid_mapping :</span></dt><dd>spatial_ref</dd></dl></div><div class='xr-var-data'><table>\n",
       "<tr>\n",
       "<td>\n",
       "<table>\n",
       "  <thead>\n",
       "    <tr><td> </td><th> Array </th><th> Chunk </th></tr>\n",
       "  </thead>\n",
       "  <tbody>\n",
       "    <tr><th> Bytes </th><td> 2.27 GB </td> <td> 3.86 MB </td></tr>\n",
       "    <tr><th> Shape </th><td> (467, 1258, 966) </td> <td> (1, 1000, 966) </td></tr>\n",
       "    <tr><th> Count </th><td> 21015 Tasks </td><td> 934 Chunks </td></tr>\n",
       "    <tr><th> Type </th><td> float32 </td><td> numpy.ndarray </td></tr>\n",
       "  </tbody>\n",
       "</table>\n",
       "</td>\n",
       "<td>\n",
       "<svg width=\"178\" height=\"196\" style=\"stroke:rgb(0,0,0);stroke-width:1\" >\n",
       "\n",
       "  <!-- Horizontal lines -->\n",
       "  <line x1=\"10\" y1=\"0\" x2=\"36\" y2=\"26\" style=\"stroke-width:2\" />\n",
       "  <line x1=\"10\" y1=\"95\" x2=\"36\" y2=\"121\" />\n",
       "  <line x1=\"10\" y1=\"120\" x2=\"36\" y2=\"146\" style=\"stroke-width:2\" />\n",
       "\n",
       "  <!-- Vertical lines -->\n",
       "  <line x1=\"10\" y1=\"0\" x2=\"10\" y2=\"120\" style=\"stroke-width:2\" />\n",
       "  <line x1=\"11\" y1=\"1\" x2=\"11\" y2=\"121\" />\n",
       "  <line x1=\"12\" y1=\"2\" x2=\"12\" y2=\"122\" />\n",
       "  <line x1=\"14\" y1=\"4\" x2=\"14\" y2=\"124\" />\n",
       "  <line x1=\"15\" y1=\"5\" x2=\"15\" y2=\"125\" />\n",
       "  <line x1=\"16\" y1=\"6\" x2=\"16\" y2=\"126\" />\n",
       "  <line x1=\"18\" y1=\"8\" x2=\"18\" y2=\"128\" />\n",
       "  <line x1=\"19\" y1=\"9\" x2=\"19\" y2=\"129\" />\n",
       "  <line x1=\"20\" y1=\"10\" x2=\"20\" y2=\"130\" />\n",
       "  <line x1=\"22\" y1=\"12\" x2=\"22\" y2=\"132\" />\n",
       "  <line x1=\"23\" y1=\"13\" x2=\"23\" y2=\"133\" />\n",
       "  <line x1=\"25\" y1=\"15\" x2=\"25\" y2=\"135\" />\n",
       "  <line x1=\"26\" y1=\"16\" x2=\"26\" y2=\"136\" />\n",
       "  <line x1=\"27\" y1=\"17\" x2=\"27\" y2=\"137\" />\n",
       "  <line x1=\"29\" y1=\"19\" x2=\"29\" y2=\"139\" />\n",
       "  <line x1=\"30\" y1=\"20\" x2=\"30\" y2=\"140\" />\n",
       "  <line x1=\"32\" y1=\"22\" x2=\"32\" y2=\"142\" />\n",
       "  <line x1=\"33\" y1=\"23\" x2=\"33\" y2=\"143\" />\n",
       "  <line x1=\"34\" y1=\"24\" x2=\"34\" y2=\"144\" />\n",
       "  <line x1=\"36\" y1=\"26\" x2=\"36\" y2=\"146\" style=\"stroke-width:2\" />\n",
       "\n",
       "  <!-- Colored Rectangle -->\n",
       "  <polygon points=\"10.0,0.0 36.20405873001029,26.20405873001029 36.20405873001029,146.20405873001027 10.0,120.0\" style=\"fill:#8B4903A0;stroke-width:0\"/>\n",
       "\n",
       "  <!-- Horizontal lines -->\n",
       "  <line x1=\"10\" y1=\"0\" x2=\"102\" y2=\"0\" style=\"stroke-width:2\" />\n",
       "  <line x1=\"11\" y1=\"1\" x2=\"103\" y2=\"1\" />\n",
       "  <line x1=\"12\" y1=\"2\" x2=\"104\" y2=\"2\" />\n",
       "  <line x1=\"14\" y1=\"4\" x2=\"106\" y2=\"4\" />\n",
       "  <line x1=\"15\" y1=\"5\" x2=\"107\" y2=\"5\" />\n",
       "  <line x1=\"16\" y1=\"6\" x2=\"108\" y2=\"6\" />\n",
       "  <line x1=\"18\" y1=\"8\" x2=\"110\" y2=\"8\" />\n",
       "  <line x1=\"19\" y1=\"9\" x2=\"111\" y2=\"9\" />\n",
       "  <line x1=\"20\" y1=\"10\" x2=\"113\" y2=\"10\" />\n",
       "  <line x1=\"22\" y1=\"12\" x2=\"114\" y2=\"12\" />\n",
       "  <line x1=\"23\" y1=\"13\" x2=\"115\" y2=\"13\" />\n",
       "  <line x1=\"25\" y1=\"15\" x2=\"117\" y2=\"15\" />\n",
       "  <line x1=\"26\" y1=\"16\" x2=\"118\" y2=\"16\" />\n",
       "  <line x1=\"27\" y1=\"17\" x2=\"120\" y2=\"17\" />\n",
       "  <line x1=\"29\" y1=\"19\" x2=\"121\" y2=\"19\" />\n",
       "  <line x1=\"30\" y1=\"20\" x2=\"122\" y2=\"20\" />\n",
       "  <line x1=\"32\" y1=\"22\" x2=\"124\" y2=\"22\" />\n",
       "  <line x1=\"33\" y1=\"23\" x2=\"125\" y2=\"23\" />\n",
       "  <line x1=\"34\" y1=\"24\" x2=\"126\" y2=\"24\" />\n",
       "  <line x1=\"36\" y1=\"26\" x2=\"128\" y2=\"26\" style=\"stroke-width:2\" />\n",
       "\n",
       "  <!-- Vertical lines -->\n",
       "  <line x1=\"10\" y1=\"0\" x2=\"36\" y2=\"26\" style=\"stroke-width:2\" />\n",
       "  <line x1=\"102\" y1=\"0\" x2=\"128\" y2=\"26\" style=\"stroke-width:2\" />\n",
       "\n",
       "  <!-- Colored Rectangle -->\n",
       "  <polygon points=\"10.0,0.0 102.1462639109698,0.0 128.3503226409801,26.20405873001029 36.20405873001029,26.20405873001029\" style=\"fill:#8B4903A0;stroke-width:0\"/>\n",
       "\n",
       "  <!-- Horizontal lines -->\n",
       "  <line x1=\"36\" y1=\"26\" x2=\"128\" y2=\"26\" style=\"stroke-width:2\" />\n",
       "  <line x1=\"36\" y1=\"121\" x2=\"128\" y2=\"121\" />\n",
       "  <line x1=\"36\" y1=\"146\" x2=\"128\" y2=\"146\" style=\"stroke-width:2\" />\n",
       "\n",
       "  <!-- Vertical lines -->\n",
       "  <line x1=\"36\" y1=\"26\" x2=\"36\" y2=\"146\" style=\"stroke-width:2\" />\n",
       "  <line x1=\"128\" y1=\"26\" x2=\"128\" y2=\"146\" style=\"stroke-width:2\" />\n",
       "\n",
       "  <!-- Colored Rectangle -->\n",
       "  <polygon points=\"36.20405873001029,26.20405873001029 128.3503226409801,26.20405873001029 128.3503226409801,146.20405873001027 36.20405873001029,146.20405873001027\" style=\"fill:#ECB172A0;stroke-width:0\"/>\n",
       "\n",
       "  <!-- Text -->\n",
       "  <text x=\"82.277191\" y=\"166.204059\" font-size=\"1.0rem\" font-weight=\"100\" text-anchor=\"middle\" >966</text>\n",
       "  <text x=\"148.350323\" y=\"86.204059\" font-size=\"1.0rem\" font-weight=\"100\" text-anchor=\"middle\" transform=\"rotate(-90,148.350323,86.204059)\">1258</text>\n",
       "  <text x=\"13.102029\" y=\"153.102029\" font-size=\"1.0rem\" font-weight=\"100\" text-anchor=\"middle\" transform=\"rotate(45,13.102029,153.102029)\">467</text>\n",
       "</svg>\n",
       "</td>\n",
       "</tr>\n",
       "</table></div></li><li class='xr-var-item'><div class='xr-var-name'><span>blue</span></div><div class='xr-var-dims'>(time, y, x)</div><div class='xr-var-dtype'>float32</div><div class='xr-var-preview xr-preview'>dask.array&lt;chunksize=(1, 1000, 966), meta=np.ndarray&gt;</div><input id='attrs-58056b33-6b71-49ba-bc3a-967aec94db33' class='xr-var-attrs-in' type='checkbox' ><label for='attrs-58056b33-6b71-49ba-bc3a-967aec94db33' title='Show/Hide attributes'><svg class='icon xr-icon-file-text2'><use xlink:href='#icon-file-text2'></use></svg></label><input id='data-506c4fde-dd66-4afb-9317-6b09d1e49b07' class='xr-var-data-in' type='checkbox'><label for='data-506c4fde-dd66-4afb-9317-6b09d1e49b07' title='Show/Hide data repr'><svg class='icon xr-icon-database'><use xlink:href='#icon-database'></use></svg></label><div class='xr-var-attrs'><dl class='xr-attrs'><dt><span>crs :</span></dt><dd>epsg:6933</dd><dt><span>grid_mapping :</span></dt><dd>spatial_ref</dd></dl></div><div class='xr-var-data'><table>\n",
       "<tr>\n",
       "<td>\n",
       "<table>\n",
       "  <thead>\n",
       "    <tr><td> </td><th> Array </th><th> Chunk </th></tr>\n",
       "  </thead>\n",
       "  <tbody>\n",
       "    <tr><th> Bytes </th><td> 2.27 GB </td> <td> 3.86 MB </td></tr>\n",
       "    <tr><th> Shape </th><td> (467, 1258, 966) </td> <td> (1, 1000, 966) </td></tr>\n",
       "    <tr><th> Count </th><td> 16345 Tasks </td><td> 934 Chunks </td></tr>\n",
       "    <tr><th> Type </th><td> float32 </td><td> numpy.ndarray </td></tr>\n",
       "  </tbody>\n",
       "</table>\n",
       "</td>\n",
       "<td>\n",
       "<svg width=\"178\" height=\"196\" style=\"stroke:rgb(0,0,0);stroke-width:1\" >\n",
       "\n",
       "  <!-- Horizontal lines -->\n",
       "  <line x1=\"10\" y1=\"0\" x2=\"36\" y2=\"26\" style=\"stroke-width:2\" />\n",
       "  <line x1=\"10\" y1=\"95\" x2=\"36\" y2=\"121\" />\n",
       "  <line x1=\"10\" y1=\"120\" x2=\"36\" y2=\"146\" style=\"stroke-width:2\" />\n",
       "\n",
       "  <!-- Vertical lines -->\n",
       "  <line x1=\"10\" y1=\"0\" x2=\"10\" y2=\"120\" style=\"stroke-width:2\" />\n",
       "  <line x1=\"11\" y1=\"1\" x2=\"11\" y2=\"121\" />\n",
       "  <line x1=\"12\" y1=\"2\" x2=\"12\" y2=\"122\" />\n",
       "  <line x1=\"14\" y1=\"4\" x2=\"14\" y2=\"124\" />\n",
       "  <line x1=\"15\" y1=\"5\" x2=\"15\" y2=\"125\" />\n",
       "  <line x1=\"16\" y1=\"6\" x2=\"16\" y2=\"126\" />\n",
       "  <line x1=\"18\" y1=\"8\" x2=\"18\" y2=\"128\" />\n",
       "  <line x1=\"19\" y1=\"9\" x2=\"19\" y2=\"129\" />\n",
       "  <line x1=\"20\" y1=\"10\" x2=\"20\" y2=\"130\" />\n",
       "  <line x1=\"22\" y1=\"12\" x2=\"22\" y2=\"132\" />\n",
       "  <line x1=\"23\" y1=\"13\" x2=\"23\" y2=\"133\" />\n",
       "  <line x1=\"25\" y1=\"15\" x2=\"25\" y2=\"135\" />\n",
       "  <line x1=\"26\" y1=\"16\" x2=\"26\" y2=\"136\" />\n",
       "  <line x1=\"27\" y1=\"17\" x2=\"27\" y2=\"137\" />\n",
       "  <line x1=\"29\" y1=\"19\" x2=\"29\" y2=\"139\" />\n",
       "  <line x1=\"30\" y1=\"20\" x2=\"30\" y2=\"140\" />\n",
       "  <line x1=\"32\" y1=\"22\" x2=\"32\" y2=\"142\" />\n",
       "  <line x1=\"33\" y1=\"23\" x2=\"33\" y2=\"143\" />\n",
       "  <line x1=\"34\" y1=\"24\" x2=\"34\" y2=\"144\" />\n",
       "  <line x1=\"36\" y1=\"26\" x2=\"36\" y2=\"146\" style=\"stroke-width:2\" />\n",
       "\n",
       "  <!-- Colored Rectangle -->\n",
       "  <polygon points=\"10.0,0.0 36.20405873001029,26.20405873001029 36.20405873001029,146.20405873001027 10.0,120.0\" style=\"fill:#8B4903A0;stroke-width:0\"/>\n",
       "\n",
       "  <!-- Horizontal lines -->\n",
       "  <line x1=\"10\" y1=\"0\" x2=\"102\" y2=\"0\" style=\"stroke-width:2\" />\n",
       "  <line x1=\"11\" y1=\"1\" x2=\"103\" y2=\"1\" />\n",
       "  <line x1=\"12\" y1=\"2\" x2=\"104\" y2=\"2\" />\n",
       "  <line x1=\"14\" y1=\"4\" x2=\"106\" y2=\"4\" />\n",
       "  <line x1=\"15\" y1=\"5\" x2=\"107\" y2=\"5\" />\n",
       "  <line x1=\"16\" y1=\"6\" x2=\"108\" y2=\"6\" />\n",
       "  <line x1=\"18\" y1=\"8\" x2=\"110\" y2=\"8\" />\n",
       "  <line x1=\"19\" y1=\"9\" x2=\"111\" y2=\"9\" />\n",
       "  <line x1=\"20\" y1=\"10\" x2=\"113\" y2=\"10\" />\n",
       "  <line x1=\"22\" y1=\"12\" x2=\"114\" y2=\"12\" />\n",
       "  <line x1=\"23\" y1=\"13\" x2=\"115\" y2=\"13\" />\n",
       "  <line x1=\"25\" y1=\"15\" x2=\"117\" y2=\"15\" />\n",
       "  <line x1=\"26\" y1=\"16\" x2=\"118\" y2=\"16\" />\n",
       "  <line x1=\"27\" y1=\"17\" x2=\"120\" y2=\"17\" />\n",
       "  <line x1=\"29\" y1=\"19\" x2=\"121\" y2=\"19\" />\n",
       "  <line x1=\"30\" y1=\"20\" x2=\"122\" y2=\"20\" />\n",
       "  <line x1=\"32\" y1=\"22\" x2=\"124\" y2=\"22\" />\n",
       "  <line x1=\"33\" y1=\"23\" x2=\"125\" y2=\"23\" />\n",
       "  <line x1=\"34\" y1=\"24\" x2=\"126\" y2=\"24\" />\n",
       "  <line x1=\"36\" y1=\"26\" x2=\"128\" y2=\"26\" style=\"stroke-width:2\" />\n",
       "\n",
       "  <!-- Vertical lines -->\n",
       "  <line x1=\"10\" y1=\"0\" x2=\"36\" y2=\"26\" style=\"stroke-width:2\" />\n",
       "  <line x1=\"102\" y1=\"0\" x2=\"128\" y2=\"26\" style=\"stroke-width:2\" />\n",
       "\n",
       "  <!-- Colored Rectangle -->\n",
       "  <polygon points=\"10.0,0.0 102.1462639109698,0.0 128.3503226409801,26.20405873001029 36.20405873001029,26.20405873001029\" style=\"fill:#8B4903A0;stroke-width:0\"/>\n",
       "\n",
       "  <!-- Horizontal lines -->\n",
       "  <line x1=\"36\" y1=\"26\" x2=\"128\" y2=\"26\" style=\"stroke-width:2\" />\n",
       "  <line x1=\"36\" y1=\"121\" x2=\"128\" y2=\"121\" />\n",
       "  <line x1=\"36\" y1=\"146\" x2=\"128\" y2=\"146\" style=\"stroke-width:2\" />\n",
       "\n",
       "  <!-- Vertical lines -->\n",
       "  <line x1=\"36\" y1=\"26\" x2=\"36\" y2=\"146\" style=\"stroke-width:2\" />\n",
       "  <line x1=\"128\" y1=\"26\" x2=\"128\" y2=\"146\" style=\"stroke-width:2\" />\n",
       "\n",
       "  <!-- Colored Rectangle -->\n",
       "  <polygon points=\"36.20405873001029,26.20405873001029 128.3503226409801,26.20405873001029 128.3503226409801,146.20405873001027 36.20405873001029,146.20405873001027\" style=\"fill:#ECB172A0;stroke-width:0\"/>\n",
       "\n",
       "  <!-- Text -->\n",
       "  <text x=\"82.277191\" y=\"166.204059\" font-size=\"1.0rem\" font-weight=\"100\" text-anchor=\"middle\" >966</text>\n",
       "  <text x=\"148.350323\" y=\"86.204059\" font-size=\"1.0rem\" font-weight=\"100\" text-anchor=\"middle\" transform=\"rotate(-90,148.350323,86.204059)\">1258</text>\n",
       "  <text x=\"13.102029\" y=\"153.102029\" font-size=\"1.0rem\" font-weight=\"100\" text-anchor=\"middle\" transform=\"rotate(45,13.102029,153.102029)\">467</text>\n",
       "</svg>\n",
       "</td>\n",
       "</tr>\n",
       "</table></div></li><li class='xr-var-item'><div class='xr-var-name'><span>nir</span></div><div class='xr-var-dims'>(time, y, x)</div><div class='xr-var-dtype'>float32</div><div class='xr-var-preview xr-preview'>dask.array&lt;chunksize=(1, 1000, 966), meta=np.ndarray&gt;</div><input id='attrs-e2d50d7b-1239-4c82-a342-2d9bcdfdc8ea' class='xr-var-attrs-in' type='checkbox' ><label for='attrs-e2d50d7b-1239-4c82-a342-2d9bcdfdc8ea' title='Show/Hide attributes'><svg class='icon xr-icon-file-text2'><use xlink:href='#icon-file-text2'></use></svg></label><input id='data-e766ccdc-2533-4779-a149-74e06f94d7a8' class='xr-var-data-in' type='checkbox'><label for='data-e766ccdc-2533-4779-a149-74e06f94d7a8' title='Show/Hide data repr'><svg class='icon xr-icon-database'><use xlink:href='#icon-database'></use></svg></label><div class='xr-var-attrs'><dl class='xr-attrs'><dt><span>crs :</span></dt><dd>epsg:6933</dd><dt><span>grid_mapping :</span></dt><dd>spatial_ref</dd></dl></div><div class='xr-var-data'><table>\n",
       "<tr>\n",
       "<td>\n",
       "<table>\n",
       "  <thead>\n",
       "    <tr><td> </td><th> Array </th><th> Chunk </th></tr>\n",
       "  </thead>\n",
       "  <tbody>\n",
       "    <tr><th> Bytes </th><td> 2.27 GB </td> <td> 3.86 MB </td></tr>\n",
       "    <tr><th> Shape </th><td> (467, 1258, 966) </td> <td> (1, 1000, 966) </td></tr>\n",
       "    <tr><th> Count </th><td> 21015 Tasks </td><td> 934 Chunks </td></tr>\n",
       "    <tr><th> Type </th><td> float32 </td><td> numpy.ndarray </td></tr>\n",
       "  </tbody>\n",
       "</table>\n",
       "</td>\n",
       "<td>\n",
       "<svg width=\"178\" height=\"196\" style=\"stroke:rgb(0,0,0);stroke-width:1\" >\n",
       "\n",
       "  <!-- Horizontal lines -->\n",
       "  <line x1=\"10\" y1=\"0\" x2=\"36\" y2=\"26\" style=\"stroke-width:2\" />\n",
       "  <line x1=\"10\" y1=\"95\" x2=\"36\" y2=\"121\" />\n",
       "  <line x1=\"10\" y1=\"120\" x2=\"36\" y2=\"146\" style=\"stroke-width:2\" />\n",
       "\n",
       "  <!-- Vertical lines -->\n",
       "  <line x1=\"10\" y1=\"0\" x2=\"10\" y2=\"120\" style=\"stroke-width:2\" />\n",
       "  <line x1=\"11\" y1=\"1\" x2=\"11\" y2=\"121\" />\n",
       "  <line x1=\"12\" y1=\"2\" x2=\"12\" y2=\"122\" />\n",
       "  <line x1=\"14\" y1=\"4\" x2=\"14\" y2=\"124\" />\n",
       "  <line x1=\"15\" y1=\"5\" x2=\"15\" y2=\"125\" />\n",
       "  <line x1=\"16\" y1=\"6\" x2=\"16\" y2=\"126\" />\n",
       "  <line x1=\"18\" y1=\"8\" x2=\"18\" y2=\"128\" />\n",
       "  <line x1=\"19\" y1=\"9\" x2=\"19\" y2=\"129\" />\n",
       "  <line x1=\"20\" y1=\"10\" x2=\"20\" y2=\"130\" />\n",
       "  <line x1=\"22\" y1=\"12\" x2=\"22\" y2=\"132\" />\n",
       "  <line x1=\"23\" y1=\"13\" x2=\"23\" y2=\"133\" />\n",
       "  <line x1=\"25\" y1=\"15\" x2=\"25\" y2=\"135\" />\n",
       "  <line x1=\"26\" y1=\"16\" x2=\"26\" y2=\"136\" />\n",
       "  <line x1=\"27\" y1=\"17\" x2=\"27\" y2=\"137\" />\n",
       "  <line x1=\"29\" y1=\"19\" x2=\"29\" y2=\"139\" />\n",
       "  <line x1=\"30\" y1=\"20\" x2=\"30\" y2=\"140\" />\n",
       "  <line x1=\"32\" y1=\"22\" x2=\"32\" y2=\"142\" />\n",
       "  <line x1=\"33\" y1=\"23\" x2=\"33\" y2=\"143\" />\n",
       "  <line x1=\"34\" y1=\"24\" x2=\"34\" y2=\"144\" />\n",
       "  <line x1=\"36\" y1=\"26\" x2=\"36\" y2=\"146\" style=\"stroke-width:2\" />\n",
       "\n",
       "  <!-- Colored Rectangle -->\n",
       "  <polygon points=\"10.0,0.0 36.20405873001029,26.20405873001029 36.20405873001029,146.20405873001027 10.0,120.0\" style=\"fill:#8B4903A0;stroke-width:0\"/>\n",
       "\n",
       "  <!-- Horizontal lines -->\n",
       "  <line x1=\"10\" y1=\"0\" x2=\"102\" y2=\"0\" style=\"stroke-width:2\" />\n",
       "  <line x1=\"11\" y1=\"1\" x2=\"103\" y2=\"1\" />\n",
       "  <line x1=\"12\" y1=\"2\" x2=\"104\" y2=\"2\" />\n",
       "  <line x1=\"14\" y1=\"4\" x2=\"106\" y2=\"4\" />\n",
       "  <line x1=\"15\" y1=\"5\" x2=\"107\" y2=\"5\" />\n",
       "  <line x1=\"16\" y1=\"6\" x2=\"108\" y2=\"6\" />\n",
       "  <line x1=\"18\" y1=\"8\" x2=\"110\" y2=\"8\" />\n",
       "  <line x1=\"19\" y1=\"9\" x2=\"111\" y2=\"9\" />\n",
       "  <line x1=\"20\" y1=\"10\" x2=\"113\" y2=\"10\" />\n",
       "  <line x1=\"22\" y1=\"12\" x2=\"114\" y2=\"12\" />\n",
       "  <line x1=\"23\" y1=\"13\" x2=\"115\" y2=\"13\" />\n",
       "  <line x1=\"25\" y1=\"15\" x2=\"117\" y2=\"15\" />\n",
       "  <line x1=\"26\" y1=\"16\" x2=\"118\" y2=\"16\" />\n",
       "  <line x1=\"27\" y1=\"17\" x2=\"120\" y2=\"17\" />\n",
       "  <line x1=\"29\" y1=\"19\" x2=\"121\" y2=\"19\" />\n",
       "  <line x1=\"30\" y1=\"20\" x2=\"122\" y2=\"20\" />\n",
       "  <line x1=\"32\" y1=\"22\" x2=\"124\" y2=\"22\" />\n",
       "  <line x1=\"33\" y1=\"23\" x2=\"125\" y2=\"23\" />\n",
       "  <line x1=\"34\" y1=\"24\" x2=\"126\" y2=\"24\" />\n",
       "  <line x1=\"36\" y1=\"26\" x2=\"128\" y2=\"26\" style=\"stroke-width:2\" />\n",
       "\n",
       "  <!-- Vertical lines -->\n",
       "  <line x1=\"10\" y1=\"0\" x2=\"36\" y2=\"26\" style=\"stroke-width:2\" />\n",
       "  <line x1=\"102\" y1=\"0\" x2=\"128\" y2=\"26\" style=\"stroke-width:2\" />\n",
       "\n",
       "  <!-- Colored Rectangle -->\n",
       "  <polygon points=\"10.0,0.0 102.1462639109698,0.0 128.3503226409801,26.20405873001029 36.20405873001029,26.20405873001029\" style=\"fill:#8B4903A0;stroke-width:0\"/>\n",
       "\n",
       "  <!-- Horizontal lines -->\n",
       "  <line x1=\"36\" y1=\"26\" x2=\"128\" y2=\"26\" style=\"stroke-width:2\" />\n",
       "  <line x1=\"36\" y1=\"121\" x2=\"128\" y2=\"121\" />\n",
       "  <line x1=\"36\" y1=\"146\" x2=\"128\" y2=\"146\" style=\"stroke-width:2\" />\n",
       "\n",
       "  <!-- Vertical lines -->\n",
       "  <line x1=\"36\" y1=\"26\" x2=\"36\" y2=\"146\" style=\"stroke-width:2\" />\n",
       "  <line x1=\"128\" y1=\"26\" x2=\"128\" y2=\"146\" style=\"stroke-width:2\" />\n",
       "\n",
       "  <!-- Colored Rectangle -->\n",
       "  <polygon points=\"36.20405873001029,26.20405873001029 128.3503226409801,26.20405873001029 128.3503226409801,146.20405873001027 36.20405873001029,146.20405873001027\" style=\"fill:#ECB172A0;stroke-width:0\"/>\n",
       "\n",
       "  <!-- Text -->\n",
       "  <text x=\"82.277191\" y=\"166.204059\" font-size=\"1.0rem\" font-weight=\"100\" text-anchor=\"middle\" >966</text>\n",
       "  <text x=\"148.350323\" y=\"86.204059\" font-size=\"1.0rem\" font-weight=\"100\" text-anchor=\"middle\" transform=\"rotate(-90,148.350323,86.204059)\">1258</text>\n",
       "  <text x=\"13.102029\" y=\"153.102029\" font-size=\"1.0rem\" font-weight=\"100\" text-anchor=\"middle\" transform=\"rotate(45,13.102029,153.102029)\">467</text>\n",
       "</svg>\n",
       "</td>\n",
       "</tr>\n",
       "</table></div></li><li class='xr-var-item'><div class='xr-var-name'><span>pixel_quality</span></div><div class='xr-var-dims'>(time, y, x)</div><div class='xr-var-dtype'>float64</div><div class='xr-var-preview xr-preview'>dask.array&lt;chunksize=(1, 1000, 966), meta=np.ndarray&gt;</div><input id='attrs-90ddf1e1-9ad3-4b7f-9896-bc5261e46569' class='xr-var-attrs-in' type='checkbox' ><label for='attrs-90ddf1e1-9ad3-4b7f-9896-bc5261e46569' title='Show/Hide attributes'><svg class='icon xr-icon-file-text2'><use xlink:href='#icon-file-text2'></use></svg></label><input id='data-702c6107-b8f0-4812-9556-c0faf7552f90' class='xr-var-data-in' type='checkbox'><label for='data-702c6107-b8f0-4812-9556-c0faf7552f90' title='Show/Hide data repr'><svg class='icon xr-icon-database'><use xlink:href='#icon-database'></use></svg></label><div class='xr-var-attrs'><dl class='xr-attrs'><dt><span>units :</span></dt><dd>bit_index</dd><dt><span>nodata :</span></dt><dd>1</dd><dt><span>flags_definition :</span></dt><dd>{&#x27;snow&#x27;: {&#x27;bits&#x27;: 5, &#x27;values&#x27;: {&#x27;0&#x27;: &#x27;not_high_confidence&#x27;, &#x27;1&#x27;: &#x27;high_confidence&#x27;}}, &#x27;clear&#x27;: {&#x27;bits&#x27;: 6, &#x27;values&#x27;: {&#x27;0&#x27;: False, &#x27;1&#x27;: True}}, &#x27;cloud&#x27;: {&#x27;bits&#x27;: 3, &#x27;values&#x27;: {&#x27;0&#x27;: &#x27;not_high_confidence&#x27;, &#x27;1&#x27;: &#x27;high_confidence&#x27;}}, &#x27;water&#x27;: {&#x27;bits&#x27;: 7, &#x27;values&#x27;: {&#x27;0&#x27;: &#x27;land_or_cloud&#x27;, &#x27;1&#x27;: &#x27;water&#x27;}}, &#x27;nodata&#x27;: {&#x27;bits&#x27;: 0, &#x27;values&#x27;: {&#x27;0&#x27;: False, &#x27;1&#x27;: True}}, &#x27;cloud_shadow&#x27;: {&#x27;bits&#x27;: 4, &#x27;values&#x27;: {&#x27;0&#x27;: &#x27;not_high_confidence&#x27;, &#x27;1&#x27;: &#x27;high_confidence&#x27;}}, &#x27;dilated_cloud&#x27;: {&#x27;bits&#x27;: 1, &#x27;values&#x27;: {&#x27;0&#x27;: &#x27;not_dilated&#x27;, &#x27;1&#x27;: &#x27;dilated&#x27;}}, &#x27;cloud_confidence&#x27;: {&#x27;bits&#x27;: [8, 9], &#x27;values&#x27;: {&#x27;0&#x27;: &#x27;none&#x27;, &#x27;1&#x27;: &#x27;low&#x27;, &#x27;2&#x27;: &#x27;medium&#x27;, &#x27;3&#x27;: &#x27;high&#x27;}}, &#x27;snow_ice_confidence&#x27;: {&#x27;bits&#x27;: [12, 13], &#x27;values&#x27;: {&#x27;0&#x27;: &#x27;none&#x27;, &#x27;1&#x27;: &#x27;low&#x27;, &#x27;2&#x27;: &#x27;reserved&#x27;, &#x27;3&#x27;: &#x27;high&#x27;}}, &#x27;cloud_shadow_confidence&#x27;: {&#x27;bits&#x27;: [10, 11], &#x27;values&#x27;: {&#x27;0&#x27;: &#x27;none&#x27;, &#x27;1&#x27;: &#x27;low&#x27;, &#x27;2&#x27;: &#x27;reserved&#x27;, &#x27;3&#x27;: &#x27;high&#x27;}}}</dd><dt><span>crs :</span></dt><dd>epsg:6933</dd><dt><span>grid_mapping :</span></dt><dd>spatial_ref</dd></dl></div><div class='xr-var-data'><table>\n",
       "<tr>\n",
       "<td>\n",
       "<table>\n",
       "  <thead>\n",
       "    <tr><td> </td><th> Array </th><th> Chunk </th></tr>\n",
       "  </thead>\n",
       "  <tbody>\n",
       "    <tr><th> Bytes </th><td> 4.54 GB </td> <td> 7.73 MB </td></tr>\n",
       "    <tr><th> Shape </th><td> (467, 1258, 966) </td> <td> (1, 1000, 966) </td></tr>\n",
       "    <tr><th> Count </th><td> 17279 Tasks </td><td> 934 Chunks </td></tr>\n",
       "    <tr><th> Type </th><td> float64 </td><td> numpy.ndarray </td></tr>\n",
       "  </tbody>\n",
       "</table>\n",
       "</td>\n",
       "<td>\n",
       "<svg width=\"178\" height=\"196\" style=\"stroke:rgb(0,0,0);stroke-width:1\" >\n",
       "\n",
       "  <!-- Horizontal lines -->\n",
       "  <line x1=\"10\" y1=\"0\" x2=\"36\" y2=\"26\" style=\"stroke-width:2\" />\n",
       "  <line x1=\"10\" y1=\"95\" x2=\"36\" y2=\"121\" />\n",
       "  <line x1=\"10\" y1=\"120\" x2=\"36\" y2=\"146\" style=\"stroke-width:2\" />\n",
       "\n",
       "  <!-- Vertical lines -->\n",
       "  <line x1=\"10\" y1=\"0\" x2=\"10\" y2=\"120\" style=\"stroke-width:2\" />\n",
       "  <line x1=\"11\" y1=\"1\" x2=\"11\" y2=\"121\" />\n",
       "  <line x1=\"12\" y1=\"2\" x2=\"12\" y2=\"122\" />\n",
       "  <line x1=\"14\" y1=\"4\" x2=\"14\" y2=\"124\" />\n",
       "  <line x1=\"15\" y1=\"5\" x2=\"15\" y2=\"125\" />\n",
       "  <line x1=\"16\" y1=\"6\" x2=\"16\" y2=\"126\" />\n",
       "  <line x1=\"18\" y1=\"8\" x2=\"18\" y2=\"128\" />\n",
       "  <line x1=\"19\" y1=\"9\" x2=\"19\" y2=\"129\" />\n",
       "  <line x1=\"20\" y1=\"10\" x2=\"20\" y2=\"130\" />\n",
       "  <line x1=\"22\" y1=\"12\" x2=\"22\" y2=\"132\" />\n",
       "  <line x1=\"23\" y1=\"13\" x2=\"23\" y2=\"133\" />\n",
       "  <line x1=\"25\" y1=\"15\" x2=\"25\" y2=\"135\" />\n",
       "  <line x1=\"26\" y1=\"16\" x2=\"26\" y2=\"136\" />\n",
       "  <line x1=\"27\" y1=\"17\" x2=\"27\" y2=\"137\" />\n",
       "  <line x1=\"29\" y1=\"19\" x2=\"29\" y2=\"139\" />\n",
       "  <line x1=\"30\" y1=\"20\" x2=\"30\" y2=\"140\" />\n",
       "  <line x1=\"32\" y1=\"22\" x2=\"32\" y2=\"142\" />\n",
       "  <line x1=\"33\" y1=\"23\" x2=\"33\" y2=\"143\" />\n",
       "  <line x1=\"34\" y1=\"24\" x2=\"34\" y2=\"144\" />\n",
       "  <line x1=\"36\" y1=\"26\" x2=\"36\" y2=\"146\" style=\"stroke-width:2\" />\n",
       "\n",
       "  <!-- Colored Rectangle -->\n",
       "  <polygon points=\"10.0,0.0 36.20405873001029,26.20405873001029 36.20405873001029,146.20405873001027 10.0,120.0\" style=\"fill:#8B4903A0;stroke-width:0\"/>\n",
       "\n",
       "  <!-- Horizontal lines -->\n",
       "  <line x1=\"10\" y1=\"0\" x2=\"102\" y2=\"0\" style=\"stroke-width:2\" />\n",
       "  <line x1=\"11\" y1=\"1\" x2=\"103\" y2=\"1\" />\n",
       "  <line x1=\"12\" y1=\"2\" x2=\"104\" y2=\"2\" />\n",
       "  <line x1=\"14\" y1=\"4\" x2=\"106\" y2=\"4\" />\n",
       "  <line x1=\"15\" y1=\"5\" x2=\"107\" y2=\"5\" />\n",
       "  <line x1=\"16\" y1=\"6\" x2=\"108\" y2=\"6\" />\n",
       "  <line x1=\"18\" y1=\"8\" x2=\"110\" y2=\"8\" />\n",
       "  <line x1=\"19\" y1=\"9\" x2=\"111\" y2=\"9\" />\n",
       "  <line x1=\"20\" y1=\"10\" x2=\"113\" y2=\"10\" />\n",
       "  <line x1=\"22\" y1=\"12\" x2=\"114\" y2=\"12\" />\n",
       "  <line x1=\"23\" y1=\"13\" x2=\"115\" y2=\"13\" />\n",
       "  <line x1=\"25\" y1=\"15\" x2=\"117\" y2=\"15\" />\n",
       "  <line x1=\"26\" y1=\"16\" x2=\"118\" y2=\"16\" />\n",
       "  <line x1=\"27\" y1=\"17\" x2=\"120\" y2=\"17\" />\n",
       "  <line x1=\"29\" y1=\"19\" x2=\"121\" y2=\"19\" />\n",
       "  <line x1=\"30\" y1=\"20\" x2=\"122\" y2=\"20\" />\n",
       "  <line x1=\"32\" y1=\"22\" x2=\"124\" y2=\"22\" />\n",
       "  <line x1=\"33\" y1=\"23\" x2=\"125\" y2=\"23\" />\n",
       "  <line x1=\"34\" y1=\"24\" x2=\"126\" y2=\"24\" />\n",
       "  <line x1=\"36\" y1=\"26\" x2=\"128\" y2=\"26\" style=\"stroke-width:2\" />\n",
       "\n",
       "  <!-- Vertical lines -->\n",
       "  <line x1=\"10\" y1=\"0\" x2=\"36\" y2=\"26\" style=\"stroke-width:2\" />\n",
       "  <line x1=\"102\" y1=\"0\" x2=\"128\" y2=\"26\" style=\"stroke-width:2\" />\n",
       "\n",
       "  <!-- Colored Rectangle -->\n",
       "  <polygon points=\"10.0,0.0 102.1462639109698,0.0 128.3503226409801,26.20405873001029 36.20405873001029,26.20405873001029\" style=\"fill:#8B4903A0;stroke-width:0\"/>\n",
       "\n",
       "  <!-- Horizontal lines -->\n",
       "  <line x1=\"36\" y1=\"26\" x2=\"128\" y2=\"26\" style=\"stroke-width:2\" />\n",
       "  <line x1=\"36\" y1=\"121\" x2=\"128\" y2=\"121\" />\n",
       "  <line x1=\"36\" y1=\"146\" x2=\"128\" y2=\"146\" style=\"stroke-width:2\" />\n",
       "\n",
       "  <!-- Vertical lines -->\n",
       "  <line x1=\"36\" y1=\"26\" x2=\"36\" y2=\"146\" style=\"stroke-width:2\" />\n",
       "  <line x1=\"128\" y1=\"26\" x2=\"128\" y2=\"146\" style=\"stroke-width:2\" />\n",
       "\n",
       "  <!-- Colored Rectangle -->\n",
       "  <polygon points=\"36.20405873001029,26.20405873001029 128.3503226409801,26.20405873001029 128.3503226409801,146.20405873001027 36.20405873001029,146.20405873001027\" style=\"fill:#ECB172A0;stroke-width:0\"/>\n",
       "\n",
       "  <!-- Text -->\n",
       "  <text x=\"82.277191\" y=\"166.204059\" font-size=\"1.0rem\" font-weight=\"100\" text-anchor=\"middle\" >966</text>\n",
       "  <text x=\"148.350323\" y=\"86.204059\" font-size=\"1.0rem\" font-weight=\"100\" text-anchor=\"middle\" transform=\"rotate(-90,148.350323,86.204059)\">1258</text>\n",
       "  <text x=\"13.102029\" y=\"153.102029\" font-size=\"1.0rem\" font-weight=\"100\" text-anchor=\"middle\" transform=\"rotate(45,13.102029,153.102029)\">467</text>\n",
       "</svg>\n",
       "</td>\n",
       "</tr>\n",
       "</table></div></li></ul></div></li><li class='xr-section-item'><input id='section-89f5d4f6-db1b-4953-b35f-716df82f0e83' class='xr-section-summary-in' type='checkbox'  checked><label for='section-89f5d4f6-db1b-4953-b35f-716df82f0e83' class='xr-section-summary' >Attributes: <span>(2)</span></label><div class='xr-section-inline-details'></div><div class='xr-section-details'><dl class='xr-attrs'><dt><span>crs :</span></dt><dd>epsg:6933</dd><dt><span>grid_mapping :</span></dt><dd>spatial_ref</dd></dl></div></li></ul></div></div>"
      ],
      "text/plain": [
       "<xarray.Dataset>\n",
       "Dimensions:        (time: 467, y: 1258, x: 966)\n",
       "Coordinates:\n",
       "  * time           (time) datetime64[ns] 1984-11-05T09:50:37.652006 ... 2020-...\n",
       "  * y              (y) float64 1.274e+06 1.274e+06 ... 1.237e+06 1.237e+06\n",
       "  * x              (x) float64 -1.039e+05 -1.039e+05 ... -7.502e+04 -7.498e+04\n",
       "    spatial_ref    int32 6933\n",
       "Data variables:\n",
       "    red            (time, y, x) float32 dask.array<chunksize=(1, 1000, 966), meta=np.ndarray>\n",
       "    green          (time, y, x) float32 dask.array<chunksize=(1, 1000, 966), meta=np.ndarray>\n",
       "    blue           (time, y, x) float32 dask.array<chunksize=(1, 1000, 966), meta=np.ndarray>\n",
       "    nir            (time, y, x) float32 dask.array<chunksize=(1, 1000, 966), meta=np.ndarray>\n",
       "    pixel_quality  (time, y, x) float64 dask.array<chunksize=(1, 1000, 966), meta=np.ndarray>\n",
       "Attributes:\n",
       "    crs:           epsg:6933\n",
       "    grid_mapping:  spatial_ref"
      ]
     },
     "execution_count": 7,
     "metadata": {},
     "output_type": "execute_result"
    }
   ],
   "source": [
    "xx = ds.where(ds.blue < 0.375)\n",
    "xx"
   ]
  },
  {
   "cell_type": "code",
   "execution_count": 8,
   "metadata": {},
   "outputs": [
    {
     "name": "stderr",
     "output_type": "stream",
     "text": [
      "CPLReleaseMutex: Error = 1 (Operation not permitted)\n"
     ]
    },
    {
     "data": {
      "text/html": [
       "<div><svg style=\"position: absolute; width: 0; height: 0; overflow: hidden\">\n",
       "<defs>\n",
       "<symbol id=\"icon-database\" viewBox=\"0 0 32 32\">\n",
       "<path d=\"M16 0c-8.837 0-16 2.239-16 5v4c0 2.761 7.163 5 16 5s16-2.239 16-5v-4c0-2.761-7.163-5-16-5z\"></path>\n",
       "<path d=\"M16 17c-8.837 0-16-2.239-16-5v6c0 2.761 7.163 5 16 5s16-2.239 16-5v-6c0 2.761-7.163 5-16 5z\"></path>\n",
       "<path d=\"M16 26c-8.837 0-16-2.239-16-5v6c0 2.761 7.163 5 16 5s16-2.239 16-5v-6c0 2.761-7.163 5-16 5z\"></path>\n",
       "</symbol>\n",
       "<symbol id=\"icon-file-text2\" viewBox=\"0 0 32 32\">\n",
       "<path d=\"M28.681 7.159c-0.694-0.947-1.662-2.053-2.724-3.116s-2.169-2.030-3.116-2.724c-1.612-1.182-2.393-1.319-2.841-1.319h-15.5c-1.378 0-2.5 1.121-2.5 2.5v27c0 1.378 1.122 2.5 2.5 2.5h23c1.378 0 2.5-1.122 2.5-2.5v-19.5c0-0.448-0.137-1.23-1.319-2.841zM24.543 5.457c0.959 0.959 1.712 1.825 2.268 2.543h-4.811v-4.811c0.718 0.556 1.584 1.309 2.543 2.268zM28 29.5c0 0.271-0.229 0.5-0.5 0.5h-23c-0.271 0-0.5-0.229-0.5-0.5v-27c0-0.271 0.229-0.5 0.5-0.5 0 0 15.499-0 15.5 0v7c0 0.552 0.448 1 1 1h7v19.5z\"></path>\n",
       "<path d=\"M23 26h-14c-0.552 0-1-0.448-1-1s0.448-1 1-1h14c0.552 0 1 0.448 1 1s-0.448 1-1 1z\"></path>\n",
       "<path d=\"M23 22h-14c-0.552 0-1-0.448-1-1s0.448-1 1-1h14c0.552 0 1 0.448 1 1s-0.448 1-1 1z\"></path>\n",
       "<path d=\"M23 18h-14c-0.552 0-1-0.448-1-1s0.448-1 1-1h14c0.552 0 1 0.448 1 1s-0.448 1-1 1z\"></path>\n",
       "</symbol>\n",
       "</defs>\n",
       "</svg>\n",
       "<style>/* CSS stylesheet for displaying xarray objects in jupyterlab.\n",
       " *\n",
       " */\n",
       "\n",
       ":root {\n",
       "  --xr-font-color0: var(--jp-content-font-color0, rgba(0, 0, 0, 1));\n",
       "  --xr-font-color2: var(--jp-content-font-color2, rgba(0, 0, 0, 0.54));\n",
       "  --xr-font-color3: var(--jp-content-font-color3, rgba(0, 0, 0, 0.38));\n",
       "  --xr-border-color: var(--jp-border-color2, #e0e0e0);\n",
       "  --xr-disabled-color: var(--jp-layout-color3, #bdbdbd);\n",
       "  --xr-background-color: var(--jp-layout-color0, white);\n",
       "  --xr-background-color-row-even: var(--jp-layout-color1, white);\n",
       "  --xr-background-color-row-odd: var(--jp-layout-color2, #eeeeee);\n",
       "}\n",
       "\n",
       "html[theme=dark],\n",
       "body.vscode-dark {\n",
       "  --xr-font-color0: rgba(255, 255, 255, 1);\n",
       "  --xr-font-color2: rgba(255, 255, 255, 0.54);\n",
       "  --xr-font-color3: rgba(255, 255, 255, 0.38);\n",
       "  --xr-border-color: #1F1F1F;\n",
       "  --xr-disabled-color: #515151;\n",
       "  --xr-background-color: #111111;\n",
       "  --xr-background-color-row-even: #111111;\n",
       "  --xr-background-color-row-odd: #313131;\n",
       "}\n",
       "\n",
       ".xr-wrap {\n",
       "  display: block;\n",
       "  min-width: 300px;\n",
       "  max-width: 700px;\n",
       "}\n",
       "\n",
       ".xr-text-repr-fallback {\n",
       "  /* fallback to plain text repr when CSS is not injected (untrusted notebook) */\n",
       "  display: none;\n",
       "}\n",
       "\n",
       ".xr-header {\n",
       "  padding-top: 6px;\n",
       "  padding-bottom: 6px;\n",
       "  margin-bottom: 4px;\n",
       "  border-bottom: solid 1px var(--xr-border-color);\n",
       "}\n",
       "\n",
       ".xr-header > div,\n",
       ".xr-header > ul {\n",
       "  display: inline;\n",
       "  margin-top: 0;\n",
       "  margin-bottom: 0;\n",
       "}\n",
       "\n",
       ".xr-obj-type,\n",
       ".xr-array-name {\n",
       "  margin-left: 2px;\n",
       "  margin-right: 10px;\n",
       "}\n",
       "\n",
       ".xr-obj-type {\n",
       "  color: var(--xr-font-color2);\n",
       "}\n",
       "\n",
       ".xr-sections {\n",
       "  padding-left: 0 !important;\n",
       "  display: grid;\n",
       "  grid-template-columns: 150px auto auto 1fr 20px 20px;\n",
       "}\n",
       "\n",
       ".xr-section-item {\n",
       "  display: contents;\n",
       "}\n",
       "\n",
       ".xr-section-item input {\n",
       "  display: none;\n",
       "}\n",
       "\n",
       ".xr-section-item input + label {\n",
       "  color: var(--xr-disabled-color);\n",
       "}\n",
       "\n",
       ".xr-section-item input:enabled + label {\n",
       "  cursor: pointer;\n",
       "  color: var(--xr-font-color2);\n",
       "}\n",
       "\n",
       ".xr-section-item input:enabled + label:hover {\n",
       "  color: var(--xr-font-color0);\n",
       "}\n",
       "\n",
       ".xr-section-summary {\n",
       "  grid-column: 1;\n",
       "  color: var(--xr-font-color2);\n",
       "  font-weight: 500;\n",
       "}\n",
       "\n",
       ".xr-section-summary > span {\n",
       "  display: inline-block;\n",
       "  padding-left: 0.5em;\n",
       "}\n",
       "\n",
       ".xr-section-summary-in:disabled + label {\n",
       "  color: var(--xr-font-color2);\n",
       "}\n",
       "\n",
       ".xr-section-summary-in + label:before {\n",
       "  display: inline-block;\n",
       "  content: '►';\n",
       "  font-size: 11px;\n",
       "  width: 15px;\n",
       "  text-align: center;\n",
       "}\n",
       "\n",
       ".xr-section-summary-in:disabled + label:before {\n",
       "  color: var(--xr-disabled-color);\n",
       "}\n",
       "\n",
       ".xr-section-summary-in:checked + label:before {\n",
       "  content: '▼';\n",
       "}\n",
       "\n",
       ".xr-section-summary-in:checked + label > span {\n",
       "  display: none;\n",
       "}\n",
       "\n",
       ".xr-section-summary,\n",
       ".xr-section-inline-details {\n",
       "  padding-top: 4px;\n",
       "  padding-bottom: 4px;\n",
       "}\n",
       "\n",
       ".xr-section-inline-details {\n",
       "  grid-column: 2 / -1;\n",
       "}\n",
       "\n",
       ".xr-section-details {\n",
       "  display: none;\n",
       "  grid-column: 1 / -1;\n",
       "  margin-bottom: 5px;\n",
       "}\n",
       "\n",
       ".xr-section-summary-in:checked ~ .xr-section-details {\n",
       "  display: contents;\n",
       "}\n",
       "\n",
       ".xr-array-wrap {\n",
       "  grid-column: 1 / -1;\n",
       "  display: grid;\n",
       "  grid-template-columns: 20px auto;\n",
       "}\n",
       "\n",
       ".xr-array-wrap > label {\n",
       "  grid-column: 1;\n",
       "  vertical-align: top;\n",
       "}\n",
       "\n",
       ".xr-preview {\n",
       "  color: var(--xr-font-color3);\n",
       "}\n",
       "\n",
       ".xr-array-preview,\n",
       ".xr-array-data {\n",
       "  padding: 0 5px !important;\n",
       "  grid-column: 2;\n",
       "}\n",
       "\n",
       ".xr-array-data,\n",
       ".xr-array-in:checked ~ .xr-array-preview {\n",
       "  display: none;\n",
       "}\n",
       "\n",
       ".xr-array-in:checked ~ .xr-array-data,\n",
       ".xr-array-preview {\n",
       "  display: inline-block;\n",
       "}\n",
       "\n",
       ".xr-dim-list {\n",
       "  display: inline-block !important;\n",
       "  list-style: none;\n",
       "  padding: 0 !important;\n",
       "  margin: 0;\n",
       "}\n",
       "\n",
       ".xr-dim-list li {\n",
       "  display: inline-block;\n",
       "  padding: 0;\n",
       "  margin: 0;\n",
       "}\n",
       "\n",
       ".xr-dim-list:before {\n",
       "  content: '(';\n",
       "}\n",
       "\n",
       ".xr-dim-list:after {\n",
       "  content: ')';\n",
       "}\n",
       "\n",
       ".xr-dim-list li:not(:last-child):after {\n",
       "  content: ',';\n",
       "  padding-right: 5px;\n",
       "}\n",
       "\n",
       ".xr-has-index {\n",
       "  font-weight: bold;\n",
       "}\n",
       "\n",
       ".xr-var-list,\n",
       ".xr-var-item {\n",
       "  display: contents;\n",
       "}\n",
       "\n",
       ".xr-var-item > div,\n",
       ".xr-var-item label,\n",
       ".xr-var-item > .xr-var-name span {\n",
       "  background-color: var(--xr-background-color-row-even);\n",
       "  margin-bottom: 0;\n",
       "}\n",
       "\n",
       ".xr-var-item > .xr-var-name:hover span {\n",
       "  padding-right: 5px;\n",
       "}\n",
       "\n",
       ".xr-var-list > li:nth-child(odd) > div,\n",
       ".xr-var-list > li:nth-child(odd) > label,\n",
       ".xr-var-list > li:nth-child(odd) > .xr-var-name span {\n",
       "  background-color: var(--xr-background-color-row-odd);\n",
       "}\n",
       "\n",
       ".xr-var-name {\n",
       "  grid-column: 1;\n",
       "}\n",
       "\n",
       ".xr-var-dims {\n",
       "  grid-column: 2;\n",
       "}\n",
       "\n",
       ".xr-var-dtype {\n",
       "  grid-column: 3;\n",
       "  text-align: right;\n",
       "  color: var(--xr-font-color2);\n",
       "}\n",
       "\n",
       ".xr-var-preview {\n",
       "  grid-column: 4;\n",
       "}\n",
       "\n",
       ".xr-var-name,\n",
       ".xr-var-dims,\n",
       ".xr-var-dtype,\n",
       ".xr-preview,\n",
       ".xr-attrs dt {\n",
       "  white-space: nowrap;\n",
       "  overflow: hidden;\n",
       "  text-overflow: ellipsis;\n",
       "  padding-right: 10px;\n",
       "}\n",
       "\n",
       ".xr-var-name:hover,\n",
       ".xr-var-dims:hover,\n",
       ".xr-var-dtype:hover,\n",
       ".xr-attrs dt:hover {\n",
       "  overflow: visible;\n",
       "  width: auto;\n",
       "  z-index: 1;\n",
       "}\n",
       "\n",
       ".xr-var-attrs,\n",
       ".xr-var-data {\n",
       "  display: none;\n",
       "  background-color: var(--xr-background-color) !important;\n",
       "  padding-bottom: 5px !important;\n",
       "}\n",
       "\n",
       ".xr-var-attrs-in:checked ~ .xr-var-attrs,\n",
       ".xr-var-data-in:checked ~ .xr-var-data {\n",
       "  display: block;\n",
       "}\n",
       "\n",
       ".xr-var-data > table {\n",
       "  float: right;\n",
       "}\n",
       "\n",
       ".xr-var-name span,\n",
       ".xr-var-data,\n",
       ".xr-attrs {\n",
       "  padding-left: 25px !important;\n",
       "}\n",
       "\n",
       ".xr-attrs,\n",
       ".xr-var-attrs,\n",
       ".xr-var-data {\n",
       "  grid-column: 1 / -1;\n",
       "}\n",
       "\n",
       "dl.xr-attrs {\n",
       "  padding: 0;\n",
       "  margin: 0;\n",
       "  display: grid;\n",
       "  grid-template-columns: 125px auto;\n",
       "}\n",
       "\n",
       ".xr-attrs dt,\n",
       ".xr-attrs dd {\n",
       "  padding: 0;\n",
       "  margin: 0;\n",
       "  float: left;\n",
       "  padding-right: 10px;\n",
       "  width: auto;\n",
       "}\n",
       "\n",
       ".xr-attrs dt {\n",
       "  font-weight: normal;\n",
       "  grid-column: 1;\n",
       "}\n",
       "\n",
       ".xr-attrs dt:hover span {\n",
       "  display: inline-block;\n",
       "  background: var(--xr-background-color);\n",
       "  padding-right: 10px;\n",
       "}\n",
       "\n",
       ".xr-attrs dd {\n",
       "  grid-column: 2;\n",
       "  white-space: pre-wrap;\n",
       "  word-break: break-all;\n",
       "}\n",
       "\n",
       ".xr-icon-database,\n",
       ".xr-icon-file-text2 {\n",
       "  display: inline-block;\n",
       "  vertical-align: middle;\n",
       "  width: 1em;\n",
       "  height: 1.5em !important;\n",
       "  stroke-width: 0;\n",
       "  stroke: currentColor;\n",
       "  fill: currentColor;\n",
       "}\n",
       "</style><pre class='xr-text-repr-fallback'>&lt;xarray.Dataset&gt;\n",
       "Dimensions:        (time: 467, y: 1258, x: 966)\n",
       "Coordinates:\n",
       "  * time           (time) datetime64[ns] 1984-11-05T09:50:37.652006 ... 2020-...\n",
       "  * y              (y) float64 1.274e+06 1.274e+06 ... 1.237e+06 1.237e+06\n",
       "  * x              (x) float64 -1.039e+05 -1.039e+05 ... -7.502e+04 -7.498e+04\n",
       "    spatial_ref    int32 6933\n",
       "Data variables:\n",
       "    red            (time, y, x) float32 0.1009 0.1009 0.1009 ... 0.1735 0.201\n",
       "    green          (time, y, x) float32 0.09821 0.09455 0.09455 ... 0.1218 0.145\n",
       "    blue           (time, y, x) float32 0.0665 0.06485 ... 0.08363 0.09675\n",
       "    nir            (time, y, x) float32 0.2379 0.2417 0.2456 ... 0.3089 0.3306\n",
       "    pixel_quality  (time, y, x) float64 5.44e+03 5.44e+03 ... 2.182e+04\n",
       "Attributes:\n",
       "    crs:           epsg:6933\n",
       "    grid_mapping:  spatial_ref</pre><div class='xr-wrap' hidden><div class='xr-header'><div class='xr-obj-type'>xarray.Dataset</div></div><ul class='xr-sections'><li class='xr-section-item'><input id='section-8d7b944f-5aaf-47a2-8fe1-d9a71477911b' class='xr-section-summary-in' type='checkbox' disabled ><label for='section-8d7b944f-5aaf-47a2-8fe1-d9a71477911b' class='xr-section-summary'  title='Expand/collapse section'>Dimensions:</label><div class='xr-section-inline-details'><ul class='xr-dim-list'><li><span class='xr-has-index'>time</span>: 467</li><li><span class='xr-has-index'>y</span>: 1258</li><li><span class='xr-has-index'>x</span>: 966</li></ul></div><div class='xr-section-details'></div></li><li class='xr-section-item'><input id='section-9381e6cb-6c66-4905-98f3-2a15d4633049' class='xr-section-summary-in' type='checkbox'  checked><label for='section-9381e6cb-6c66-4905-98f3-2a15d4633049' class='xr-section-summary' >Coordinates: <span>(4)</span></label><div class='xr-section-inline-details'></div><div class='xr-section-details'><ul class='xr-var-list'><li class='xr-var-item'><div class='xr-var-name'><span class='xr-has-index'>time</span></div><div class='xr-var-dims'>(time)</div><div class='xr-var-dtype'>datetime64[ns]</div><div class='xr-var-preview xr-preview'>1984-11-05T09:50:37.652006 ... 2...</div><input id='attrs-a30f8b1d-9a4f-4963-a156-cfe0beb55621' class='xr-var-attrs-in' type='checkbox' ><label for='attrs-a30f8b1d-9a4f-4963-a156-cfe0beb55621' title='Show/Hide attributes'><svg class='icon xr-icon-file-text2'><use xlink:href='#icon-file-text2'></use></svg></label><input id='data-9f848ba0-934f-4b25-b575-85e1aafb7976' class='xr-var-data-in' type='checkbox'><label for='data-9f848ba0-934f-4b25-b575-85e1aafb7976' title='Show/Hide data repr'><svg class='icon xr-icon-database'><use xlink:href='#icon-database'></use></svg></label><div class='xr-var-attrs'><dl class='xr-attrs'><dt><span>units :</span></dt><dd>seconds since 1970-01-01 00:00:00</dd></dl></div><div class='xr-var-data'><pre>array([&#x27;1984-11-05T09:50:37.652006000&#x27;, &#x27;1984-11-21T09:50:33.798013000&#x27;,\n",
       "       &#x27;1986-01-11T09:48:08.792013000&#x27;, ..., &#x27;2020-12-10T10:21:02.159495000&#x27;,\n",
       "       &#x27;2020-12-18T09:40:08.213353000&#x27;, &#x27;2020-12-26T10:20:59.580856000&#x27;],\n",
       "      dtype=&#x27;datetime64[ns]&#x27;)</pre></div></li><li class='xr-var-item'><div class='xr-var-name'><span class='xr-has-index'>y</span></div><div class='xr-var-dims'>(y)</div><div class='xr-var-dtype'>float64</div><div class='xr-var-preview xr-preview'>1.274e+06 1.274e+06 ... 1.237e+06</div><input id='attrs-ba4374a3-5046-46ec-b1cd-60dbc3850861' class='xr-var-attrs-in' type='checkbox' ><label for='attrs-ba4374a3-5046-46ec-b1cd-60dbc3850861' title='Show/Hide attributes'><svg class='icon xr-icon-file-text2'><use xlink:href='#icon-file-text2'></use></svg></label><input id='data-c07f63d2-2912-4bbf-923d-33d5e28f64de' class='xr-var-data-in' type='checkbox'><label for='data-c07f63d2-2912-4bbf-923d-33d5e28f64de' title='Show/Hide data repr'><svg class='icon xr-icon-database'><use xlink:href='#icon-database'></use></svg></label><div class='xr-var-attrs'><dl class='xr-attrs'><dt><span>units :</span></dt><dd>metre</dd><dt><span>resolution :</span></dt><dd>-30.0</dd><dt><span>crs :</span></dt><dd>epsg:6933</dd></dl></div><div class='xr-var-data'><pre>array([1274355., 1274325., 1274295., ..., 1236705., 1236675., 1236645.])</pre></div></li><li class='xr-var-item'><div class='xr-var-name'><span class='xr-has-index'>x</span></div><div class='xr-var-dims'>(x)</div><div class='xr-var-dtype'>float64</div><div class='xr-var-preview xr-preview'>-1.039e+05 ... -7.498e+04</div><input id='attrs-095a4206-68da-4a3c-9931-3eaaa06b118c' class='xr-var-attrs-in' type='checkbox' ><label for='attrs-095a4206-68da-4a3c-9931-3eaaa06b118c' title='Show/Hide attributes'><svg class='icon xr-icon-file-text2'><use xlink:href='#icon-file-text2'></use></svg></label><input id='data-1a618961-dd62-4953-a305-9d568d8c543b' class='xr-var-data-in' type='checkbox'><label for='data-1a618961-dd62-4953-a305-9d568d8c543b' title='Show/Hide data repr'><svg class='icon xr-icon-database'><use xlink:href='#icon-database'></use></svg></label><div class='xr-var-attrs'><dl class='xr-attrs'><dt><span>units :</span></dt><dd>metre</dd><dt><span>resolution :</span></dt><dd>30.0</dd><dt><span>crs :</span></dt><dd>epsg:6933</dd></dl></div><div class='xr-var-data'><pre>array([-103935., -103905., -103875., ...,  -75045.,  -75015.,  -74985.])</pre></div></li><li class='xr-var-item'><div class='xr-var-name'><span>spatial_ref</span></div><div class='xr-var-dims'>()</div><div class='xr-var-dtype'>int32</div><div class='xr-var-preview xr-preview'>6933</div><input id='attrs-db8ab9d4-c0e3-4690-aba6-3596ae3089df' class='xr-var-attrs-in' type='checkbox' ><label for='attrs-db8ab9d4-c0e3-4690-aba6-3596ae3089df' title='Show/Hide attributes'><svg class='icon xr-icon-file-text2'><use xlink:href='#icon-file-text2'></use></svg></label><input id='data-5dc1add5-8c04-40cd-ad46-0c9b8b2f7b30' class='xr-var-data-in' type='checkbox'><label for='data-5dc1add5-8c04-40cd-ad46-0c9b8b2f7b30' title='Show/Hide data repr'><svg class='icon xr-icon-database'><use xlink:href='#icon-database'></use></svg></label><div class='xr-var-attrs'><dl class='xr-attrs'><dt><span>spatial_ref :</span></dt><dd>PROJCS[&quot;WGS 84 / NSIDC EASE-Grid 2.0 Global&quot;,GEOGCS[&quot;WGS 84&quot;,DATUM[&quot;WGS_1984&quot;,SPHEROID[&quot;WGS 84&quot;,6378137,298.257223563,AUTHORITY[&quot;EPSG&quot;,&quot;7030&quot;]],AUTHORITY[&quot;EPSG&quot;,&quot;6326&quot;]],PRIMEM[&quot;Greenwich&quot;,0,AUTHORITY[&quot;EPSG&quot;,&quot;8901&quot;]],UNIT[&quot;degree&quot;,0.0174532925199433,AUTHORITY[&quot;EPSG&quot;,&quot;9122&quot;]],AUTHORITY[&quot;EPSG&quot;,&quot;4326&quot;]],PROJECTION[&quot;Cylindrical_Equal_Area&quot;],PARAMETER[&quot;standard_parallel_1&quot;,30],PARAMETER[&quot;central_meridian&quot;,0],PARAMETER[&quot;false_easting&quot;,0],PARAMETER[&quot;false_northing&quot;,0],UNIT[&quot;metre&quot;,1,AUTHORITY[&quot;EPSG&quot;,&quot;9001&quot;]],AXIS[&quot;Easting&quot;,EAST],AXIS[&quot;Northing&quot;,NORTH],AUTHORITY[&quot;EPSG&quot;,&quot;6933&quot;]]</dd><dt><span>grid_mapping_name :</span></dt><dd>lambert_cylindrical_equal_area</dd></dl></div><div class='xr-var-data'><pre>array(6933, dtype=int32)</pre></div></li></ul></div></li><li class='xr-section-item'><input id='section-c4e64e3c-8a6c-4bf6-87a4-4e48af8666ad' class='xr-section-summary-in' type='checkbox'  checked><label for='section-c4e64e3c-8a6c-4bf6-87a4-4e48af8666ad' class='xr-section-summary' >Data variables: <span>(5)</span></label><div class='xr-section-inline-details'></div><div class='xr-section-details'><ul class='xr-var-list'><li class='xr-var-item'><div class='xr-var-name'><span>red</span></div><div class='xr-var-dims'>(time, y, x)</div><div class='xr-var-dtype'>float32</div><div class='xr-var-preview xr-preview'>0.1009 0.1009 ... 0.1735 0.201</div><input id='attrs-2d0373f9-7f8b-4f26-b6ba-0f02c4ecb0d7' class='xr-var-attrs-in' type='checkbox' ><label for='attrs-2d0373f9-7f8b-4f26-b6ba-0f02c4ecb0d7' title='Show/Hide attributes'><svg class='icon xr-icon-file-text2'><use xlink:href='#icon-file-text2'></use></svg></label><input id='data-4c7d5fc8-5838-45e7-a0a2-dcee71b5a6e2' class='xr-var-data-in' type='checkbox'><label for='data-4c7d5fc8-5838-45e7-a0a2-dcee71b5a6e2' title='Show/Hide data repr'><svg class='icon xr-icon-database'><use xlink:href='#icon-database'></use></svg></label><div class='xr-var-attrs'><dl class='xr-attrs'><dt><span>crs :</span></dt><dd>epsg:6933</dd><dt><span>grid_mapping :</span></dt><dd>spatial_ref</dd></dl></div><div class='xr-var-data'><pre>array([[[0.10087751, 0.10087751, 0.10087751, ..., 0.097385  ,\n",
       "         0.09416749, 0.09095   ],\n",
       "        [0.09763251, 0.10087751, 0.09765999, ..., 0.097385  ,\n",
       "         0.08775999, 0.08775999],\n",
       "        [0.097605  , 0.09438749, 0.09117   , ..., 0.10057499,\n",
       "         0.09095   , 0.09419499],\n",
       "        ...,\n",
       "        [0.11006249, 0.11330749, 0.11330749, ..., 0.10027249,\n",
       "         0.10027249, 0.1034625 ],\n",
       "        [0.1068175 , 0.11330749, 0.11330749, ..., 0.10667999,\n",
       "         0.10667999, 0.10667999],\n",
       "        [0.0938925 , 0.10360001, 0.10362749, ..., 0.10667999,\n",
       "         0.10667999, 0.10667999]],\n",
       "\n",
       "       [[0.09986   , 0.09658749, 0.09658749, ..., 0.09625749,\n",
       "         0.09298499, 0.09298499],\n",
       "        [0.09983249, 0.09986   , 0.09658749, ..., 0.09625749,\n",
       "         0.09625749, 0.09298499],\n",
       "        [0.09655999, 0.09658749, 0.09331499, ..., 0.10283001,\n",
       "         0.09625749, 0.09298499],\n",
       "...\n",
       "        [0.12527   , 0.1284325 , 0.13478501, ..., 0.1278825 ,\n",
       "         0.131045  , 0.1466925 ],\n",
       "        [0.12210749, 0.12527   , 0.13478501, ..., 0.15609749,\n",
       "         0.15923251, 0.17171751],\n",
       "        [0.1157275 , 0.12527   , 0.12210749, ..., 0.15609749,\n",
       "         0.15923251, 0.17171751]],\n",
       "\n",
       "       [[0.07961999, 0.087155  , 0.08534001, ..., 0.1427875 ,\n",
       "         0.1206225 , 0.11688249],\n",
       "        [0.08126999, 0.08808999, 0.08723749, ..., 0.11558999,\n",
       "         0.11459999, 0.11949499],\n",
       "        [0.08437751, 0.08979501, 0.086495  , ..., 0.132145  ,\n",
       "         0.12092499, 0.12571   ],\n",
       "        ...,\n",
       "        [0.10830249, 0.12043001, 0.11077751, ..., 0.1364625 ,\n",
       "         0.13285999, 0.15936999],\n",
       "        [0.08622001, 0.08547749, 0.07692499, ..., 0.17229499,\n",
       "         0.17345001, 0.2010325 ],\n",
       "        [0.07970251, 0.07241501, 0.07522   , ..., 0.17229499,\n",
       "         0.17345001, 0.2010325 ]]], dtype=float32)</pre></div></li><li class='xr-var-item'><div class='xr-var-name'><span>green</span></div><div class='xr-var-dims'>(time, y, x)</div><div class='xr-var-dtype'>float32</div><div class='xr-var-preview xr-preview'>0.09821 0.09455 ... 0.1218 0.145</div><input id='attrs-47a90fc6-0086-4081-8c77-0de08636fa98' class='xr-var-attrs-in' type='checkbox' ><label for='attrs-47a90fc6-0086-4081-8c77-0de08636fa98' title='Show/Hide attributes'><svg class='icon xr-icon-file-text2'><use xlink:href='#icon-file-text2'></use></svg></label><input id='data-5884fd71-4f9a-4960-bdc7-7cc561ce1f28' class='xr-var-data-in' type='checkbox'><label for='data-5884fd71-4f9a-4960-bdc7-7cc561ce1f28' title='Show/Hide data repr'><svg class='icon xr-icon-database'><use xlink:href='#icon-database'></use></svg></label><div class='xr-var-attrs'><dl class='xr-attrs'><dt><span>crs :</span></dt><dd>epsg:6933</dd><dt><span>grid_mapping :</span></dt><dd>spatial_ref</dd></dl></div><div class='xr-var-data'><pre>array([[[0.09820999, 0.0945525 , 0.0945525 , ..., 0.09070249,\n",
       "         0.09073   , 0.09073   ],\n",
       "        [0.09449749, 0.09452499, 0.09452499, ..., 0.09070249,\n",
       "         0.08707251, 0.09073   ],\n",
       "        [0.09081249, 0.09449749, 0.09452499, ..., 0.09070249,\n",
       "         0.08707251, 0.09073   ],\n",
       "        ...,\n",
       "        [0.10123499, 0.10126249, 0.10126249, ..., 0.09765999,\n",
       "         0.09765999, 0.09763251],\n",
       "        [0.10123499, 0.10123499, 0.10491998, ..., 0.10126249,\n",
       "         0.10126249, 0.10123499],\n",
       "        [0.09754999, 0.0975775 , 0.0975775 , ..., 0.10126249,\n",
       "         0.10126249, 0.10123499]],\n",
       "\n",
       "       [[0.08982249, 0.09359001, 0.0898775 , ..., 0.08583499,\n",
       "         0.0858625 , 0.08960249],\n",
       "        [0.08982249, 0.08613749, 0.0898775 , ..., 0.0895475 ,\n",
       "         0.08957501, 0.0858625 ],\n",
       "        [0.0860825 , 0.08613749, 0.0898775 , ..., 0.0895475 ,\n",
       "         0.08957501, 0.08957501],\n",
       "...\n",
       "        [0.086935  , 0.09386499, 0.09386499, ..., 0.09023501,\n",
       "         0.09026249, 0.1040125 ],\n",
       "        [0.09034501, 0.09383748, 0.09732999, ..., 0.10739501,\n",
       "         0.10739501, 0.12109001],\n",
       "        [0.0903175 , 0.09034501, 0.09034501, ..., 0.10739501,\n",
       "         0.10739501, 0.12109001]],\n",
       "\n",
       "       [[0.06537499, 0.07018749, 0.06798749, ..., 0.09609251,\n",
       "         0.0853125 , 0.07915251],\n",
       "        [0.06496249, 0.069005  , 0.06873001, ..., 0.08322249,\n",
       "         0.07876749, 0.0810775 ],\n",
       "        [0.06655751, 0.069335  , 0.06603499, ..., 0.08927251,\n",
       "         0.0836625 , 0.08556001],\n",
       "        ...,\n",
       "        [0.0806375 , 0.09045501, 0.08102249, ..., 0.0952125 ,\n",
       "         0.09493749, 0.11218001],\n",
       "        [0.06485249, 0.06493501, 0.06050749, ..., 0.121255  ,\n",
       "         0.121805  , 0.14501499],\n",
       "        [0.061415  , 0.05786751, 0.06102999, ..., 0.121255  ,\n",
       "         0.121805  , 0.14501499]]], dtype=float32)</pre></div></li><li class='xr-var-item'><div class='xr-var-name'><span>blue</span></div><div class='xr-var-dims'>(time, y, x)</div><div class='xr-var-dtype'>float32</div><div class='xr-var-preview xr-preview'>0.0665 0.06485 ... 0.08363 0.09675</div><input id='attrs-3a5e4e60-df95-45b3-81a4-afa0c87e4f25' class='xr-var-attrs-in' type='checkbox' ><label for='attrs-3a5e4e60-df95-45b3-81a4-afa0c87e4f25' title='Show/Hide attributes'><svg class='icon xr-icon-file-text2'><use xlink:href='#icon-file-text2'></use></svg></label><input id='data-83104c8d-6ecf-4c34-b75f-f2d479f4afc3' class='xr-var-data-in' type='checkbox'><label for='data-83104c8d-6ecf-4c34-b75f-f2d479f4afc3' title='Show/Hide data repr'><svg class='icon xr-icon-database'><use xlink:href='#icon-database'></use></svg></label><div class='xr-var-attrs'><dl class='xr-attrs'><dt><span>crs :</span></dt><dd>epsg:6933</dd><dt><span>grid_mapping :</span></dt><dd>spatial_ref</dd></dl></div><div class='xr-var-data'><pre>array([[[0.0665025 , 0.06485249, 0.07002251, ..., 0.06306501,\n",
       "         0.06309249, 0.06658499],\n",
       "        [0.06644751, 0.0665025 , 0.0665025 , ..., 0.06138749,\n",
       "         0.06482501, 0.06658499],\n",
       "        [0.06471501, 0.06991251, 0.06647499, ..., 0.068235  ,\n",
       "         0.06655751, 0.0631475 ],\n",
       "        ...,\n",
       "        [0.07599001, 0.07431249, 0.0726075 , ..., 0.06625499,\n",
       "         0.06622751, 0.06790499],\n",
       "        [0.07252501, 0.07599001, 0.0708475 , ..., 0.06969251,\n",
       "         0.07134251, 0.0679325 ],\n",
       "        [0.06554   , 0.06906001, 0.06908749, ..., 0.06969251,\n",
       "         0.07134251, 0.0679325 ]],\n",
       "\n",
       "       [[0.06776749, 0.06785001, 0.06787749, ..., 0.06061749,\n",
       "         0.060645  , 0.06592499],\n",
       "        [0.06776749, 0.06609   , 0.06438501, ..., 0.06408249,\n",
       "         0.06234999, 0.0623775 ],\n",
       "        [0.06776749, 0.06433   , 0.0643575 , ..., 0.06405501,\n",
       "         0.06408249, 0.060645  ],\n",
       "...\n",
       "        [0.07351501, 0.07351501, 0.07354249, ..., 0.06699751,\n",
       "         0.07359751, 0.0801975 ],\n",
       "        [0.07678749, 0.07346   , 0.07015999, ..., 0.08347   ,\n",
       "         0.08022501, 0.0900975 ],\n",
       "        [0.06669499, 0.0667225 , 0.07343249, ..., 0.08347   ,\n",
       "         0.08022501, 0.0900975 ]],\n",
       "\n",
       "       [[0.05253251, 0.05481501, 0.05280749, ..., 0.05819751,\n",
       "         0.05126749, 0.05027749],\n",
       "        [0.0506625 , 0.05168001, 0.05170749, ..., 0.0506625 ,\n",
       "         0.048985  , 0.050635  ],\n",
       "        [0.051955  , 0.051185  , 0.0491775 , ..., 0.05594249,\n",
       "         0.05154251, 0.0531375 ],\n",
       "        ...,\n",
       "        [0.05398999, 0.05839001, 0.05539249, ..., 0.06416501,\n",
       "         0.06067251, 0.07398249],\n",
       "        [0.0443375 , 0.043925  , 0.04307249, ..., 0.07884999,\n",
       "         0.08363499, 0.09675251],\n",
       "        [0.0422475 , 0.04051501, 0.04321   , ..., 0.07884999,\n",
       "         0.08363499, 0.09675251]]], dtype=float32)</pre></div></li><li class='xr-var-item'><div class='xr-var-name'><span>nir</span></div><div class='xr-var-dims'>(time, y, x)</div><div class='xr-var-dtype'>float32</div><div class='xr-var-preview xr-preview'>0.2379 0.2417 ... 0.3089 0.3306</div><input id='attrs-24338a27-261a-49be-9e7c-6add477df174' class='xr-var-attrs-in' type='checkbox' ><label for='attrs-24338a27-261a-49be-9e7c-6add477df174' title='Show/Hide attributes'><svg class='icon xr-icon-file-text2'><use xlink:href='#icon-file-text2'></use></svg></label><input id='data-b45cce22-26ba-4835-b214-24cb3b6abf9f' class='xr-var-data-in' type='checkbox'><label for='data-b45cce22-26ba-4835-b214-24cb3b6abf9f' title='Show/Hide data repr'><svg class='icon xr-icon-database'><use xlink:href='#icon-database'></use></svg></label><div class='xr-var-attrs'><dl class='xr-attrs'><dt><span>crs :</span></dt><dd>epsg:6933</dd><dt><span>grid_mapping :</span></dt><dd>spatial_ref</dd></dl></div><div class='xr-var-data'><pre>array([[[0.23788251, 0.24167751, 0.245555  , ..., 0.244565  ,\n",
       "         0.24453749, 0.24451001],\n",
       "        [0.23020999, 0.2417325 , 0.237855  , ..., 0.24071501,\n",
       "         0.23683749, 0.24066   ],\n",
       "        [0.2379375 , 0.24176   , 0.24561001, ..., 0.244565  ,\n",
       "         0.2406875 , 0.24451001],\n",
       "        ...,\n",
       "        [0.2528425 , 0.2412375 , 0.24121   , ..., 0.27036   ,\n",
       "         0.2741825 , 0.26656502],\n",
       "        [0.24902   , 0.24899249, 0.2412375 , ..., 0.27795   ,\n",
       "         0.28939003, 0.28562248],\n",
       "        [0.2528975 , 0.24902   , 0.22583751, ..., 0.27795   ,\n",
       "         0.28939003, 0.28562248]],\n",
       "\n",
       "       [[0.20185749, 0.2018025 , 0.2057075 , ..., 0.2011425 ,\n",
       "         0.201115  , 0.20108749],\n",
       "        [0.20185749, 0.2018025 , 0.201775  , ..., 0.2011425 ,\n",
       "         0.19718249, 0.201115  ],\n",
       "        [0.19789751, 0.2097225 , 0.2057075 , ..., 0.20510249,\n",
       "         0.2011425 , 0.201115  ],\n",
       "...\n",
       "        [0.23312499, 0.2378275 , 0.23779999, ..., 0.23169501,\n",
       "         0.2223175 , 0.23637001],\n",
       "        [0.22845002, 0.2472875 , 0.24255751, ..., 0.26904   ,\n",
       "         0.26904   , 0.27833498],\n",
       "        [0.23320751, 0.23790999, 0.23318   , ..., 0.26904   ,\n",
       "         0.26904   , 0.27833498]],\n",
       "\n",
       "       [[0.12089749, 0.1332175 , 0.13121001, ..., 0.28389   ,\n",
       "         0.25713253, 0.25628   ],\n",
       "        [0.123785  , 0.1348675 , 0.13687499, ..., 0.24888249,\n",
       "         0.254135  , 0.2631275 ],\n",
       "        [0.129285  , 0.1447125 , 0.139625  , ..., 0.27016753,\n",
       "         0.2642275 , 0.2704975 ],\n",
       "        ...,\n",
       "        [0.1986125 , 0.21426   , 0.195285  , ..., 0.2609825 ,\n",
       "         0.24343751, 0.281085  ],\n",
       "        [0.15381499, 0.14196251, 0.122245  , ..., 0.3118025 ,\n",
       "         0.30888754, 0.33061254],\n",
       "        [0.13547249, 0.11839499, 0.11966   , ..., 0.3118025 ,\n",
       "         0.30888754, 0.33061254]]], dtype=float32)</pre></div></li><li class='xr-var-item'><div class='xr-var-name'><span>pixel_quality</span></div><div class='xr-var-dims'>(time, y, x)</div><div class='xr-var-dtype'>float64</div><div class='xr-var-preview xr-preview'>5.44e+03 5.44e+03 ... 2.182e+04</div><input id='attrs-2fe33013-3f87-4aa5-b263-98d1c1036b2a' class='xr-var-attrs-in' type='checkbox' ><label for='attrs-2fe33013-3f87-4aa5-b263-98d1c1036b2a' title='Show/Hide attributes'><svg class='icon xr-icon-file-text2'><use xlink:href='#icon-file-text2'></use></svg></label><input id='data-be0a73bc-3f4f-4e55-8e03-1a8db7013671' class='xr-var-data-in' type='checkbox'><label for='data-be0a73bc-3f4f-4e55-8e03-1a8db7013671' title='Show/Hide data repr'><svg class='icon xr-icon-database'><use xlink:href='#icon-database'></use></svg></label><div class='xr-var-attrs'><dl class='xr-attrs'><dt><span>units :</span></dt><dd>bit_index</dd><dt><span>nodata :</span></dt><dd>1</dd><dt><span>flags_definition :</span></dt><dd>{&#x27;snow&#x27;: {&#x27;bits&#x27;: 5, &#x27;values&#x27;: {&#x27;0&#x27;: &#x27;not_high_confidence&#x27;, &#x27;1&#x27;: &#x27;high_confidence&#x27;}}, &#x27;clear&#x27;: {&#x27;bits&#x27;: 6, &#x27;values&#x27;: {&#x27;0&#x27;: False, &#x27;1&#x27;: True}}, &#x27;cloud&#x27;: {&#x27;bits&#x27;: 3, &#x27;values&#x27;: {&#x27;0&#x27;: &#x27;not_high_confidence&#x27;, &#x27;1&#x27;: &#x27;high_confidence&#x27;}}, &#x27;water&#x27;: {&#x27;bits&#x27;: 7, &#x27;values&#x27;: {&#x27;0&#x27;: &#x27;land_or_cloud&#x27;, &#x27;1&#x27;: &#x27;water&#x27;}}, &#x27;nodata&#x27;: {&#x27;bits&#x27;: 0, &#x27;values&#x27;: {&#x27;0&#x27;: False, &#x27;1&#x27;: True}}, &#x27;cloud_shadow&#x27;: {&#x27;bits&#x27;: 4, &#x27;values&#x27;: {&#x27;0&#x27;: &#x27;not_high_confidence&#x27;, &#x27;1&#x27;: &#x27;high_confidence&#x27;}}, &#x27;dilated_cloud&#x27;: {&#x27;bits&#x27;: 1, &#x27;values&#x27;: {&#x27;0&#x27;: &#x27;not_dilated&#x27;, &#x27;1&#x27;: &#x27;dilated&#x27;}}, &#x27;cloud_confidence&#x27;: {&#x27;bits&#x27;: [8, 9], &#x27;values&#x27;: {&#x27;0&#x27;: &#x27;none&#x27;, &#x27;1&#x27;: &#x27;low&#x27;, &#x27;2&#x27;: &#x27;medium&#x27;, &#x27;3&#x27;: &#x27;high&#x27;}}, &#x27;snow_ice_confidence&#x27;: {&#x27;bits&#x27;: [12, 13], &#x27;values&#x27;: {&#x27;0&#x27;: &#x27;none&#x27;, &#x27;1&#x27;: &#x27;low&#x27;, &#x27;2&#x27;: &#x27;reserved&#x27;, &#x27;3&#x27;: &#x27;high&#x27;}}, &#x27;cloud_shadow_confidence&#x27;: {&#x27;bits&#x27;: [10, 11], &#x27;values&#x27;: {&#x27;0&#x27;: &#x27;none&#x27;, &#x27;1&#x27;: &#x27;low&#x27;, &#x27;2&#x27;: &#x27;reserved&#x27;, &#x27;3&#x27;: &#x27;high&#x27;}}}</dd><dt><span>crs :</span></dt><dd>epsg:6933</dd><dt><span>grid_mapping :</span></dt><dd>spatial_ref</dd></dl></div><div class='xr-var-data'><pre>array([[[ 5440.,  5440.,  5440., ...,  5440.,  5440.,  5440.],\n",
       "        [ 5440.,  5440.,  5440., ...,  5440.,  5440.,  5440.],\n",
       "        [ 5440.,  5440.,  5440., ...,  5440.,  5440.,  5440.],\n",
       "        ...,\n",
       "        [ 5440.,  5440.,  5440., ...,  5440.,  5440.,  5440.],\n",
       "        [ 5440.,  5440.,  5440., ...,  5440.,  5440.,  5440.],\n",
       "        [ 5440.,  5440.,  5440., ...,  5440.,  5440.,  5440.]],\n",
       "\n",
       "       [[ 5440.,  5440.,  5440., ...,  5440.,  5440.,  5440.],\n",
       "        [ 5440.,  5440.,  5440., ...,  5440.,  5440.,  5440.],\n",
       "        [ 5440.,  5440.,  5440., ...,  5440.,  5440.,  5440.],\n",
       "        ...,\n",
       "        [ 5440.,  5440.,  5440., ...,  5440.,  5440.,  5440.],\n",
       "        [ 5440.,  5440.,  5440., ...,  5440.,  5440.,  5440.],\n",
       "        [ 5440.,  5440.,  5440., ...,  5440.,  5440.,  5440.]],\n",
       "\n",
       "       [[ 5440.,  5440.,  5440., ...,  5440.,  5440.,  5440.],\n",
       "        [ 5440.,  5440.,  5440., ...,  5440.,  5440.,  5440.],\n",
       "        [ 5440.,  5440.,  5440., ...,  5440.,  5440.,  5440.],\n",
       "        ...,\n",
       "...\n",
       "        ...,\n",
       "        [   nan,    nan,    nan, ...,    nan,    nan,    nan],\n",
       "        [   nan,    nan,    nan, ...,    nan,    nan,    nan],\n",
       "        [   nan,    nan,    nan, ...,    nan,    nan,    nan]],\n",
       "\n",
       "       [[ 5440.,  5440.,  5440., ...,    nan,    nan,    nan],\n",
       "        [ 5440.,  5440.,  5440., ...,    nan,    nan,    nan],\n",
       "        [ 5440.,  5440.,  5440., ...,  5440.,  5440.,  5440.],\n",
       "        ...,\n",
       "        [ 5440.,  5440.,  5440., ...,  5440.,  5440.,  5440.],\n",
       "        [ 5440.,  5440.,  5440., ...,  5440.,  5440.,  5440.],\n",
       "        [ 5440.,  5440.,  5440., ...,  5440.,  5440.,  5440.]],\n",
       "\n",
       "       [[21824., 21824., 21824., ..., 21824., 21824., 21824.],\n",
       "        [21824., 21824., 21824., ..., 21824., 21824., 21824.],\n",
       "        [21824., 21824., 21824., ..., 21824., 21824., 21824.],\n",
       "        ...,\n",
       "        [21824., 21824., 21824., ..., 21824., 21824., 21824.],\n",
       "        [21824., 21824., 21824., ..., 21824., 21824., 21824.],\n",
       "        [21824., 21824., 21824., ..., 21824., 21824., 21824.]]])</pre></div></li></ul></div></li><li class='xr-section-item'><input id='section-9b1efafc-ad2a-4c85-bc9b-4bb661fad212' class='xr-section-summary-in' type='checkbox'  checked><label for='section-9b1efafc-ad2a-4c85-bc9b-4bb661fad212' class='xr-section-summary' >Attributes: <span>(2)</span></label><div class='xr-section-inline-details'></div><div class='xr-section-details'><dl class='xr-attrs'><dt><span>crs :</span></dt><dd>epsg:6933</dd><dt><span>grid_mapping :</span></dt><dd>spatial_ref</dd></dl></div></li></ul></div></div>"
      ],
      "text/plain": [
       "<xarray.Dataset>\n",
       "Dimensions:        (time: 467, y: 1258, x: 966)\n",
       "Coordinates:\n",
       "  * time           (time) datetime64[ns] 1984-11-05T09:50:37.652006 ... 2020-...\n",
       "  * y              (y) float64 1.274e+06 1.274e+06 ... 1.237e+06 1.237e+06\n",
       "  * x              (x) float64 -1.039e+05 -1.039e+05 ... -7.502e+04 -7.498e+04\n",
       "    spatial_ref    int32 6933\n",
       "Data variables:\n",
       "    red            (time, y, x) float32 0.1009 0.1009 0.1009 ... 0.1735 0.201\n",
       "    green          (time, y, x) float32 0.09821 0.09455 0.09455 ... 0.1218 0.145\n",
       "    blue           (time, y, x) float32 0.0665 0.06485 ... 0.08363 0.09675\n",
       "    nir            (time, y, x) float32 0.2379 0.2417 0.2456 ... 0.3089 0.3306\n",
       "    pixel_quality  (time, y, x) float64 5.44e+03 5.44e+03 ... 2.182e+04\n",
       "Attributes:\n",
       "    crs:           epsg:6933\n",
       "    grid_mapping:  spatial_ref"
      ]
     },
     "execution_count": 8,
     "metadata": {},
     "output_type": "execute_result"
    }
   ],
   "source": [
    "xx = xx.compute()\n",
    "xx"
   ]
  },
  {
   "cell_type": "code",
   "execution_count": 9,
   "metadata": {},
   "outputs": [
    {
     "name": "stdout",
     "output_type": "stream",
     "text": [
      "Dropping bands ['red', 'green', 'blue', 'nir', 'pixel_quality']\n"
     ]
    }
   ],
   "source": [
    "ndvi = calculate_indices(xx, 'NDVI', collection='c2', drop=True)"
   ]
  },
  {
   "cell_type": "code",
   "execution_count": 11,
   "metadata": {
    "tags": []
   },
   "outputs": [],
   "source": [
    "cc = xr.ufuncs.isnan(ndvi.NDVI)\n",
    "cc = xr.ufuncs.logical_not(cc)"
   ]
  },
  {
   "cell_type": "code",
   "execution_count": 10,
   "metadata": {},
   "outputs": [
    {
     "data": {
      "text/plain": [
       "[<matplotlib.lines.Line2D at 0x7fe878c1f220>]"
      ]
     },
     "execution_count": 10,
     "metadata": {},
     "output_type": "execute_result"
    },
    {
     "data": {
      "image/png": "[encoded data removed]",
      "text/plain": [
       "<Figure size 1512x360 with 1 Axes>"
      ]
     },
     "metadata": {
      "needs_background": "light"
     },
     "output_type": "display_data"
    }
   ],
   "source": [
    "ndvi.NDVI.mean(['x','y']).plot(figsize=(21,5), marker='o')"
   ]
  },
  {
   "cell_type": "code",
   "execution_count": 18,
   "metadata": {},
   "outputs": [
    {
     "data": {
      "text/plain": [
       "[<matplotlib.lines.Line2D at 0x7fe8718b2100>]"
      ]
     },
     "execution_count": 18,
     "metadata": {},
     "output_type": "execute_result"
    },
    {
     "data": {
      "image/png": "[encoded data removed]",
      "text/plain": [
       "<Figure size 1512x360 with 1 Axes>"
      ]
     },
     "metadata": {
      "needs_background": "light"
     },
     "output_type": "display_data"
    }
   ],
   "source": [
    "ndvi.NDVI.rolling(time=3, min_periods=1).mean().where(cc).mean(['x','y']).plot(figsize=(21,5), marker='o')"
   ]
  },
  {
   "cell_type": "code",
   "execution_count": 24,
   "metadata": {},
   "outputs": [
    {
     "data": {
      "image/png": "[encoded data removed]",
      "text/plain": [
       "<Figure size 1512x360 with 1 Axes>"
      ]
     },
     "metadata": {
      "needs_background": "light"
     },
     "output_type": "display_data"
    }
   ],
   "source": [
    "ndvi.NDVI.interpolate_na(dim='time', method='quadratic', limit=3, max_gap='6W').rolling(time=3, min_periods=1).mean().where(cc).mean(['x','y']).plot(figsize=(21,5), marker='o');"
   ]
  },
  {
   "cell_type": "code",
   "execution_count": 23,
   "metadata": {},
   "outputs": [
    {
     "data": {
      "image/png": "[encoded data removed]",
      "text/plain": [
       "<Figure size 1512x360 with 1 Axes>"
      ]
     },
     "metadata": {
      "needs_background": "light"
     },
     "output_type": "display_data"
    }
   ],
   "source": [
    "ndvi.NDVI.fillna(ndvi.NDVI.median(['x','y'])).rolling(time=3, min_periods=1).mean().where(cc).mean(['x','y']).plot(figsize=(21,5), marker='o');"
   ]
  },
  {
   "cell_type": "code",
   "execution_count": null,
   "metadata": {},
   "outputs": [],
   "source": [
    "ds = ds.compute()"
   ]
  },
  {
   "cell_type": "code",
   "execution_count": null,
   "metadata": {},
   "outputs": [],
   "source": [
    "# rgb(ds, index=5, size=12)"
   ]
  },
  {
   "cell_type": "code",
   "execution_count": null,
   "metadata": {},
   "outputs": [],
   "source": [
    "# rgb(xx, index=5, size=12)"
   ]
  },
  {
   "cell_type": "code",
   "execution_count": null,
   "metadata": {},
   "outputs": [],
   "source": [
    "rgb(xx, index=221, size=12)"
   ]
  },
  {
   "cell_type": "code",
   "execution_count": null,
   "metadata": {},
   "outputs": [],
   "source": [
    "xx.blue.isel(time=221).plot(figsize=(8,8), vmin=0)"
   ]
  },
  {
   "cell_type": "code",
   "execution_count": null,
   "metadata": {},
   "outputs": [],
   "source": [
    "ds.blue.isel(time=5).plot()"
   ]
  },
  {
   "cell_type": "code",
   "execution_count": null,
   "metadata": {},
   "outputs": [],
   "source": [
    "rgb(_rgb, index=5)"
   ]
  },
  {
   "cell_type": "code",
   "execution_count": null,
   "metadata": {},
   "outputs": [],
   "source": [
    "x = ndvi.NDVI.time.values.astype('datetime64[M]').astype(int) % 12 + 1 == 10"
   ]
  },
  {
   "cell_type": "code",
   "execution_count": null,
   "metadata": {},
   "outputs": [],
   "source": [
    "y = ndvi.isel(time=x)"
   ]
  },
  {
   "cell_type": "code",
   "execution_count": null,
   "metadata": {},
   "outputs": [],
   "source": [
    "y.time"
   ]
  },
  {
   "cell_type": "code",
   "execution_count": null,
   "metadata": {},
   "outputs": [],
   "source": [
    "# _rgb = ds[['red', 'green', 'blue']].compute()"
   ]
  },
  {
   "cell_type": "code",
   "execution_count": null,
   "metadata": {},
   "outputs": [],
   "source": [
    "y.NDVI.plot.imshow(col='time', col_wrap=10, vmax=1.0, vmin=0)"
   ]
  },
  {
   "cell_type": "code",
   "execution_count": null,
   "metadata": {},
   "outputs": [],
   "source": [
    "rgb(y, index=33)"
   ]
  },
  {
   "cell_type": "code",
   "execution_count": null,
   "metadata": {},
   "outputs": [],
   "source": [
    "rgb(y,  col='time', col_wrap=10)"
   ]
  },
  {
   "cell_type": "code",
   "execution_count": null,
   "metadata": {},
   "outputs": [],
   "source": [
    "j = ds.time.values.astype('datetime64[M]').astype(int) % 12 + 1 == 4"
   ]
  },
  {
   "cell_type": "code",
   "execution_count": null,
   "metadata": {},
   "outputs": [],
   "source": [
    "i = ds.isel(time=j)"
   ]
  },
  {
   "cell_type": "code",
   "execution_count": null,
   "metadata": {},
   "outputs": [],
   "source": [
    "ndvi = calculate_indices(i, 'NDVI', collection='c2', drop=True)"
   ]
  },
  {
   "cell_type": "code",
   "execution_count": null,
   "metadata": {},
   "outputs": [],
   "source": [
    "ndvi = ndvi.compute()"
   ]
  },
  {
   "cell_type": "code",
   "execution_count": null,
   "metadata": {},
   "outputs": [],
   "source": [
    "ndvi.NDVI.isel(time=33).plot.imshow()"
   ]
  },
  {
   "cell_type": "code",
   "execution_count": null,
   "metadata": {},
   "outputs": [],
   "source": [
    "ndvi.NDVI.isel(time=slice(30,40)).plot.imshow(col='time', col_wrap=10, vmax=1, vmin=0)"
   ]
  },
  {
   "cell_type": "code",
   "execution_count": null,
   "metadata": {},
   "outputs": [],
   "source": [
    "ds.blue.isel(time=221).plot.imshow(vmax=1, vmin=0)"
   ]
  },
  {
   "cell_type": "code",
   "execution_count": null,
   "metadata": {},
   "outputs": [],
   "source": [
    "ds.blue.isel(time=slice(0, 100)).plot.imshow(col='time', col_wrap=10, vmax=1, vmin=0)"
   ]
  },
  {
   "cell_type": "markdown",
   "metadata": {},
   "source": [
    "## Calculate NDVI climatologies\n",
    "\n",
    "This will take a few minutes to run because we will bring the climatologies into memory. Check the Dask dashboard to see progress. Access the dashboard by clicking on the Dashboard link generated when you created the cluster."
   ]
  },
  {
   "cell_type": "code",
   "execution_count": null,
   "metadata": {},
   "outputs": [],
   "source": [
    "#calculate NDVI\n",
    "ndvi = calculate_indices(ds, 'NDVI', collection='c2', drop=True)\n",
    "\n",
    "# Remove NDVI's that aren't between 0 and 1\n",
    "ndvi = ndvi.where((ndvi >= 0) & (ndvi <= 1))\n",
    "\n",
    "#bring into distributed memory to save loading twice\n",
    "ndvi = ndvi.persist() \n",
    "\n",
    "# #calculate the climatologies and bring into memory\n",
    "# climatology_mean = ndvi.mean(\"time\").NDVI.compute()\n",
    "# climatology_std = ndvi.std(\"time\").NDVI.compute()"
   ]
  },
  {
   "cell_type": "code",
   "execution_count": null,
   "metadata": {},
   "outputs": [],
   "source": [
    "ndvi.NDVI.isel(time=slice(0,10)).plot.imshow(col='time', col_wrap=10);"
   ]
  },
  {
   "cell_type": "markdown",
   "metadata": {},
   "source": [
    "## Generate a clear pixel count summary\n",
    "\n",
    "This will help us understand how many observations are going into the NDVI climatology calculations. Too few observations might indicate a bias in the climatology. Remember, the role of the climatology is to define 'average' conditions, too few observations will not provide a realistic estimation of the typical conditions."
   ]
  },
  {
   "cell_type": "code",
   "execution_count": null,
   "metadata": {},
   "outputs": [],
   "source": [
    "pq_count = xr.ufuncs.isnan(ndvi['NDVI']) \n",
    "pq_count = xr.ufuncs.logical_not(pq_count) #invert\n",
    "pq_count = pq_count.sum('time')"
   ]
  },
  {
   "cell_type": "code",
   "execution_count": null,
   "metadata": {
    "tags": []
   },
   "outputs": [],
   "source": [
    "pq_count.plot(figsize=(7,7))\n",
    "plt.title('Clear pixel count for NDVI climatologies');"
   ]
  },
  {
   "cell_type": "markdown",
   "metadata": {},
   "source": [
    "## Calculate standardised anomalies"
   ]
  },
  {
   "cell_type": "markdown",
   "metadata": {},
   "source": [
    "Step 1: Load data from the month we're analysing\n",
    "\n",
    "Step 2. Calculate the mean NDVI during the month"
   ]
  },
  {
   "cell_type": "code",
   "execution_count": null,
   "metadata": {},
   "outputs": [],
   "source": [
    "month_query = {\n",
    "    'x': lon_range,\n",
    "    'y': lat_range,\n",
    "    'time': (year+'-'+str(months[month][0])),\n",
    "    'measurements': ['red','nir'],\n",
    "    'resolution': resolution,\n",
    "    'output_crs':'epsg:6933',\n",
    "    'dask_chunks':dask_chunks\n",
    "}\n",
    "\n",
    "# Load available data, Landsat 8 only\n",
    "month_ds = load_ard(dc=dc, \n",
    "              products=['ls8_sr'], \n",
    "              group_by='solar_day',\n",
    "              predicate=filter_month,\n",
    "              **month_query)\n",
    "\n",
    "#calculate mean NDVI\n",
    "month_ndvi = calculate_indices(month_ds, 'NDVI', collection='c2', drop=True)\n",
    "month_mean = month_ndvi.mean('time').NDVI.compute()"
   ]
  },
  {
   "cell_type": "markdown",
   "metadata": {},
   "source": [
    "Step 3: Now we can calculate the standardised anomalies by subtracting the long-term mean and dividing by the long-term standard deviation"
   ]
  },
  {
   "cell_type": "code",
   "execution_count": null,
   "metadata": {},
   "outputs": [],
   "source": [
    "stand_anomalies = xr.apply_ufunc(\n",
    "    lambda x, m, s: (x - m) / s,\n",
    "    month_mean,\n",
    "    climatology_mean,\n",
    "    climatology_std,\n",
    "    output_dtypes=[ds.red.dtype],\n",
    "    dask=\"allowed\"\n",
    ")"
   ]
  },
  {
   "cell_type": "markdown",
   "metadata": {},
   "source": [
    "## Incorporating DE Africa's cropland extent map"
   ]
  },
  {
   "cell_type": "markdown",
   "metadata": {},
   "source": [
    "Load the cropland mask over the region of interest. The default analysed here is in Ethiopia, so we need to load the [crop_mask_eastern](https://docs.digitalearthafrica.org/en/latest/data_specs/Cropland_extent_specs.html) product, which cover the countries of Ethiopia, Kenya, Tanzania, Rwanda, and Burundi."
   ]
  },
  {
   "cell_type": "code",
   "execution_count": null,
   "metadata": {},
   "outputs": [],
   "source": [
    "cm = dc.load(product='crop_mask_eastern',\n",
    "            time=('2019'),\n",
    "            measurements='filtered',\n",
    "            resampling='nearest', \n",
    "            like=ds.geobox).filtered.squeeze()\n",
    "\n",
    "cm.plot.imshow(add_colorbar=False, figsize=(7,7))\n",
    "plt.title('Cropland Extent');"
   ]
  },
  {
   "cell_type": "markdown",
   "metadata": {},
   "source": [
    "### Plot NDVI climatolgies, seasonal mean, and anomalies for cropping regions only\n",
    "\n",
    "Below we mask out the regions that aren't cropping, revealing only the condition of the cropped regions. "
   ]
  },
  {
   "cell_type": "code",
   "execution_count": null,
   "metadata": {},
   "outputs": [],
   "source": [
    "#mask layers with crop-mask\n",
    "climatology_mean=climatology_mean.where(cm, np.nan)\n",
    "climatology_std=climatology_std.where(cm, np.nan)\n",
    "month_mean=month_mean.where(cm, np.nan)\n",
    "stand_anomalies=stand_anomalies.where(cm, np.nan)"
   ]
  },
  {
   "cell_type": "code",
   "execution_count": null,
   "metadata": {},
   "outputs": [],
   "source": [
    "#plot al layers\n",
    "plt.rcParams['axes.facecolor'] = 'gray' # makes transparent pixels obvious\n",
    "fig,ax = plt.subplots(2,2, sharey=True, sharex=True, figsize=(15,15))\n",
    "\n",
    "climatology_mean.plot.imshow(ax=ax[0,0], cmap='YlGn' ,vmin=0, vmax=0.75)\n",
    "ax[0,0].set_title('NDVI: '+month+' mean climatology')\n",
    "climatology_std.plot.imshow(ax=ax[0,1], vmin=0, vmax=0.25)\n",
    "ax[0,1].set_title('NDVI: '+month+' std dev climatology')\n",
    "month_mean.plot.imshow(ax=ax[1,0], cmap='YlGn', vmin=0, vmax=0.75)\n",
    "ax[1,0].set_title('NDVI: '+year+\" \"+month+' mean')\n",
    "stand_anomalies.plot.imshow(ax=ax[1,1], cmap='BrBG',vmin=-2, vmax=2)\n",
    "ax[1,1].set_title('NDVI: '+year+\" \"+month+' standardised anomaly')\n",
    "plt.tight_layout();"
   ]
  },
  {
   "cell_type": "markdown",
   "metadata": {},
   "source": [
    "## Drawing Conclusions"
   ]
  },
  {
   "cell_type": "markdown",
   "metadata": {},
   "source": [
    "Here are some questions to think about:\n",
    "\n",
    "1. How does the seasonal NDVI mean compare with the long term mean of NDVI?\n",
    "2. Do the cropping regions tend to have high or low standard deviations in NDVI?\n",
    "3. Looking at the map of standardised anomalies, are the crops fairing better or worse than average? And how unusual are the anomalies compared with average? \n",
    "4. What are other environmental data might help us confirm the drivers of the changes in NDVI?"
   ]
  },
  {
   "cell_type": "markdown",
   "metadata": {},
   "source": [
    "---\n",
    "\n",
    "## Additional information\n",
    "\n",
    "**License:** The code in this notebook is licensed under the [Apache License, Version 2.0](https://www.apache.org/licenses/LICENSE-2.0). \n",
    "Digital Earth Africa data is licensed under the [Creative Commons by Attribution 4.0](https://creativecommons.org/licenses/by/4.0/) license.\n",
    "\n",
    "**Contact:** If you need assistance, please post a question on the [Open Data Cube Slack channel](http://slack.opendatacube.org/) or on the [GIS Stack Exchange](https://gis.stackexchange.com/questions/ask?tags=open-data-cube) using the `open-data-cube` tag (you can view previously asked questions [here](https://gis.stackexchange.com/questions/tagged/open-data-cube)).\n",
    "If you would like to report an issue with this notebook, you can file one on [Github](https://github.com/digitalearthafrica/deafrica-sandbox-notebooks).\n",
    "\n",
    "**Compatible datacube version:**"
   ]
  },
  {
   "cell_type": "code",
   "execution_count": null,
   "metadata": {},
   "outputs": [],
   "source": [
    "print(datacube.__version__)"
   ]
  },
  {
   "cell_type": "markdown",
   "metadata": {},
   "source": [
    "**Last Tested:**"
   ]
  },
  {
   "cell_type": "code",
   "execution_count": null,
   "metadata": {
    "raw_mimetype": "text/restructuredtext"
   },
   "outputs": [],
   "source": [
    "from datetime import datetime\n",
    "datetime.today().strftime('%Y-%m-%d')"
   ]
  }
 ],
 "metadata": {
  "kernelspec": {
   "display_name": "Python 3 (ipykernel)",
   "language": "python",
   "name": "python3"
  },
  "language_info": {
   "codemirror_mode": {
    "name": "ipython",
    "version": 3
   },
   "file_extension": ".py",
   "mimetype": "text/x-python",
   "name": "python",
   "nbconvert_exporter": "python",
   "pygments_lexer": "ipython3",
   "version": "3.8.10"
  },
  "widgets": {
   "application/vnd.jupyter.widget-state+json": {
    "state": {
     "02b5643cafe44ebaadc59600f015cb52": {
      "model_module": "jupyter-leaflet",
      "model_module_version": "^0.13.0",
      "model_name": "LeafletMapStyleModel",
      "state": {
       "_model_module_version": "^0.13.0",
       "cursor": "move"
      }
     },
     "3fa76be4be454508a4ae506d3113bbe8": {
      "model_module": "jupyter-leaflet",
      "model_module_version": "^0.13.0",
      "model_name": "LeafletGeoJSONModel",
      "state": {
       "_model_module": "jupyter-leaflet",
       "_model_module_version": "^0.13.0",
       "_view_count": null,
       "_view_module": "jupyter-leaflet",
       "_view_module_version": "^0.13.0",
       "base": false,
       "bottom": false,
       "data": {
        "bbox": [
         -16.931856332017638,
         14.273634506386903,
         -16.90592509987848,
         14.298164288193375
        ],
        "features": [
         {
          "bbox": [
           -16.931838120823237,
           14.273634506386903,
           -16.90592509987848,
           14.298163831013342
          ],
          "geometry": {
           "coordinates": [
            [
             [
              -16.931838120823237,
              14.298163831013342
             ],
             [
              -16.931817302994638,
              14.297892883197242
             ],
             [
              -16.931733897491945,
              14.29762244374716
             ],
             [
              -16.931704456322155,
              14.297509511210203
             ],
             [
              -16.93167590302414,
              14.297351797847826
             ],
             [
              -16.93170201893323,
              14.297224147799904
             ],
             [
              -16.93174251182507,
              14.297080139880647
             ],
             [
              -16.931700275256194,
              14.29701999857737
             ],
             [
              -16.931618978890913,
              14.296810026245895
             ],
             [
              -16.93162887050508,
              14.296538828931888
             ],
             [
              -16.93161878583165,
              14.29626779385011
             ],
             [
              -16.93162597995142,
              14.295996618434966
             ],
             [
              -16.93157099568625,
              14.295725947966861
             ],
             [
              -16.93155914699066,
              14.295454927178882
             ],
             [
              -16.93152751560687,
              14.29518406702578
             ],
             [
              -16.931463588209954,
              14.294913469099772
             ],
             [
              -16.93144908131489,
              14.294642469853956
             ],
             [
              -16.93140153291342,
              14.294593559974786
             ],
             [
              -16.9312808052404,
              14.294372719091019
             ],
             [
              -16.93126459461513,
              14.294101733625435
             ],
             [
              -16.93123102663973,
              14.293830889064209
             ],
             [
              -16.931215805114135,
              14.293559895542973
             ],
             [
              -16.931113176197858,
              14.293382676980785
             ],
             [
              -16.931071922416425,
              14.29328994645342
             ],
             [
              -16.93102119706201,
              14.29301924107694
             ],
             [
              -16.931000831744168,
              14.292748289241722
             ],
             [
              -16.93096439505861,
              14.292477467839445
             ],
             [
              -16.930918813245857,
              14.292206720640614
             ],
             [
              -16.93082384729942,
              14.29205741986322
             ],
             [
              -16.930770335090944,
              14.291936808495624
             ],
             [
              -16.930776026365837,
              14.291665645111614
             ],
             [
              -16.930731685554843,
              14.291394887743683
             ],
             [
              -16.9306814468407,
              14.291124178209538
             ],
             [
              -16.930629946787263,
              14.29085347888016
             ],
             [
              -16.93053461854363,
              14.290743386621584
             ],
             [
              -16.930418894820797,
              14.290584074073953
             ],
             [
              -16.93030132515836,
              14.290313910638565
             ],
             [
              -16.930252326670626,
              14.290242057824255
             ],
             [
              -16.930164138902423,
              14.290043906237132
             ],
             [
              -16.93007065519149,
              14.289773547224826
             ],
             [
              -16.92996855205638,
              14.28956672012265
             ],
             [
              -16.929936706246927,
              14.28950351635135
             ],
             [
              -16.929827278171395,
              14.289233286492351
             ],
             [
              -16.929686211855138,
              14.289059373306808
             ],
             [
              -16.929609952826038,
              14.288963931521852
             ],
             [
              -16.929524953910388,
              14.28869350333961
             ],
             [
              -16.929438588819398,
              14.288423086174717
             ],
             [
              -16.9294016986105,
              14.288296980509617
             ],
             [
              -16.92937436711354,
              14.288152489417905
             ],
             [
              -16.92934266442196,
              14.287881628977068
             ],
             [
              -16.929305432231136,
              14.287610813346028
             ],
             [
              -16.9292783394885,
              14.287339915494245
             ],
             [
              -16.92925092519973,
              14.287069020232932
             ],
             [
              -16.929230037779796,
              14.286798072046059
             ],
             [
              -16.929203552479272,
              14.286527169223243
             ],
             [
              -16.929106495157964,
              14.286280104584417
             ],
             [
              -16.929090660983164,
              14.286256966767313
             ],
             [
              -16.92882892199356,
              14.285987970568733
             ],
             [
              -16.928825978351604,
              14.285985925698197
             ],
             [
              -16.928547453067768,
              14.285925401555838
             ],
             [
              -16.928269681664993,
              14.285953358195156
             ],
             [
              -16.927991808974216,
              14.285969436277265
             ],
             [
              -16.927957439409663,
              14.28599503171143
             ],
             [
              -16.92771542840767,
              14.28616072401851
             ],
             [
              -16.92757443189648,
              14.286269251762404
             ],
             [
              -16.927439248333318,
              14.286375612864376
             ],
             [
              -16.927232099829947,
              14.286543141919124
             ],
             [
              -16.927163296640106,
              14.286617387294752
             ],
             [
              -16.926894551467292,
              14.286816992942766
             ],
             [
              -16.926924190135644,
              14.287087870805774
             ],
             [
              -16.927168578420858,
              14.287237694646056
             ],
             [
              -16.927446630773183,
              14.287242510398668
             ],
             [
              -16.9277244753891,
              14.287222939940005
             ],
             [
              -16.92780532316623,
              14.287351852489032
             ],
             [
              -16.927771944266137,
              14.287623240584976
             ],
             [
              -16.92772850793633,
              14.287696377534356
             ],
             [
              -16.92750401055954,
              14.28789652861874
             ],
             [
              -16.927452401762473,
              14.287920139641395
             ],
             [
              -16.92717444049613,
              14.287926118541975
             ],
             [
              -16.92689707650228,
              14.28800225373761
             ],
             [
              -16.92683759111534,
              14.287901925481806
             ],
             [
              -16.926894557942017,
              14.287706445386222
             ],
             [
              -16.927038069969704,
              14.287629184336428
             ],
             [
              -16.926893502312463,
              14.287582458233501
             ],
             [
              -16.926710351838654,
              14.287360719985337
             ],
             [
              -16.926612567234972,
              14.287239059124168
             ],
             [
              -16.926334573691513,
              14.287241164433334
             ],
             [
              -16.92605694526508,
              14.28728617910165
             ],
             [
              -16.925778797353956,
              14.287270159266164
             ],
             [
              -16.925500830306206,
              14.28727539846329
             ],
             [
              -16.925223189615693,
              14.28731900987457
             ],
             [
              -16.924945233969222,
              14.287325607559374
             ],
             [
              -16.92466662683004,
              14.287255601334156
             ],
             [
              -16.924388402580924,
              14.287230610932157
             ],
             [
              -16.92410941726091,
              14.28711609508486
             ],
             [
              -16.924089451173444,
              14.28711080635446
             ],
             [
              -16.923831106123124,
              14.287080864399686
             ],
             [
              -16.92355284143513,
              14.287051093542049
             ],
             [
              -16.923274349228834,
              14.28699454436968
             ],
             [
              -16.922995231316477,
              14.28686433897026
             ],
             [
              -16.922971610840367,
              14.28684872300041
             ],
             [
              -16.922716380310607,
              14.28676551855218
             ],
             [
              -16.922437886700433,
              14.286708751103824
             ],
             [
              -16.922158906610374,
              14.286594687897903
             ],
             [
              -16.922142776811935,
              14.286584300101804
             ],
             [
              -16.921878953993854,
              14.286366060465511
             ],
             [
              -16.921722901549053,
              14.286316572265026
             ],
             [
              -16.921600241776293,
              14.286283473429641
             ],
             [
              -16.92132170633521,
              14.286221692081984
             ],
             [
              -16.921042982124305,
              14.286137655612109
             ],
             [
              -16.920806818587067,
              14.286052848765793
             ],
             [
              -16.92076392096317,
              14.286013891983359
             ],
             [
              -16.920484632896194,
              14.285863352722686
             ],
             [
              -16.92032661533961,
              14.285785605016136
             ],
             [
              -16.920205654533316,
              14.28574928046175
             ],
             [
              -16.919927161617206,
              14.285692411504142
             ],
             [
              -16.91964849302986,
              14.285614816370803
             ],
             [
              -16.919524720841707,
              14.28552095478766
             ],
             [
              -16.919368536794625,
              14.285385346927628
             ],
             [
              -16.91912497861133,
              14.285253059375531
             ],
             [
              -16.91908921666996,
              14.28523084238569
             ],
             [
              -16.918810967196507,
              14.285202600678822
             ],
             [
              -16.91853199161945,
              14.285088684480057
             ],
             [
              -16.918277720257546,
              14.28498877030537
             ],
             [
              -16.9182529557322,
              14.284967621991909
             ],
             [
              -16.917974433204574,
              14.284907116607437
             ],
             [
              -16.91769573093251,
              14.28482538083246
             ],
             [
              -16.917417081098655,
              14.284749816347569
             ],
             [
              -16.917351510212466,
              14.284725113975238
             ],
             [
              -16.91713804600804,
              14.284628744149868
             ],
             [
              -16.91685973540446,
              14.284593198895909
             ],
             [
              -16.916580738348763,
              14.284476569194105
             ],
             [
              -16.916550570668143,
              14.284460445149325
             ],
             [
              -16.916301284760312,
              14.284305978350767
             ],
             [
              -16.91616587928609,
              14.284192422921212
             ],
             [
              -16.91602149850973,
              14.28409603615401
             ],
             [
              -16.915778854256025,
              14.2839244187405
             ],
             [
              -16.915741679766313,
              14.283882194598098
             ],
             [
              -16.91546242155251,
              14.283734540434683
             ],
             [
              -16.915322890541937,
              14.283656968527387
             ],
             [
              -16.915183010582858,
              14.28356878956492
             ],
             [
              -16.914929759416065,
              14.283389011859978
             ],
             [
              -16.914903289520684,
              14.283366332092104
             ],
             [
              -16.91462402551399,
              14.283217861859491
             ],
             [
              -16.9145014201191,
              14.283121337594464
             ],
             [
              -16.914343935911862,
              14.282971713439094
             ],
             [
              -16.91417406969661,
              14.282852850398822
             ],
             [
              -16.9140641279383,
              14.28275880549795
             ],
             [
              -16.913784694794284,
              14.282590180058717
             ],
             [
              -16.913778465706873,
              14.282584911372922
             ],
             [
              -16.913504591448408,
              14.282342208991324
             ],
             [
              -16.913469406703175,
              14.28231627595791
             ],
             [
              -16.913224995549523,
              14.282154217432115
             ],
             [
              -16.91312470586297,
              14.282047926478176
             ],
             [
              -16.91294477398041,
              14.281892118967779
             ],
             [
              -16.912820322725455,
              14.281779252456538
             ],
             [
              -16.91266439140036,
              14.281610883195391
             ],
             [
              -16.912554015634907,
              14.281510272072953
             ],
             [
              -16.91238407592257,
              14.281337509065233
             ],
             [
              -16.912296763398267,
              14.281241218580423
             ],
             [
              -16.91211525434273,
              14.28097155641953
             ],
             [
              -16.91210287332412,
              14.280959001584627
             ],
             [
              -16.911887879448543,
              14.280702262386175
             ],
             [
              -16.911822127005607,
              14.280634419718897
             ],
             [
              -16.911638113536988,
              14.280433147848404
             ],
             [
              -16.911541519679822,
              14.280326205097357
             ],
             [
              -16.911410618542398,
              14.280163854182716
             ],
             [
              -16.91126078795703,
              14.28000315944152
             ],
             [
              -16.91116104413308,
              14.279894737460053
             ],
             [
              -16.910979742489495,
              14.279642837209057
             ],
             [
              -16.910964195046585,
              14.279625197239048
             ],
             [
              -16.910764786045544,
              14.279355677338065
             ],
             [
              -16.910698802093115,
              14.279294857929747
             ],
             [
              -16.91051321727069,
              14.279086575729972
             ],
             [
              -16.910418261218787,
              14.278994132808473
             ],
             [
              -16.91026085856779,
              14.27881748011775
             ],
             [
              -16.910137541300518,
              14.278672089981647
             ],
             [
              -16.910020563599403,
              14.278548287394953
             ],
             [
              -16.909856958680056,
              14.278366231089327
             ],
             [
              -16.90976839328151,
              14.278279189599894
             ],
             [
              -16.909597952327083,
              14.278009436062552
             ],
             [
              -16.909575788760517,
              14.277990625343818
             ],
             [
              -16.909362205949964,
              14.277740205990286
             ],
             [
              -16.909295128006477,
              14.2776753028432
             ],
             [
              -16.909115445852063,
              14.277471063910903
             ],
             [
              -16.909014582293715,
              14.277373534310266
             ],
             [
              -16.90884694966629,
              14.277202095733582
             ],
             [
              -16.90873408741591,
              14.277077707703343
             ],
             [
              -16.908590398600126,
              14.276933031439137
             ],
             [
              -16.908453525979375,
              14.276773893372276
             ],
             [
              -16.90834026212172,
              14.276663915389264
             ],
             [
              -16.908172341111268,
              14.27639598437275
             ],
             [
              -16.90817077235371,
              14.276394152834408
             ],
             [
              -16.90789212569333,
              14.276133056098997
             ],
             [
              -16.90788458302636,
              14.276125325032268
             ],
             [
              -16.90769785801757,
              14.275855700090375
             ],
             [
              -16.907611038441054,
              14.275766525406354
             ],
             [
              -16.907449995038796,
              14.275586564609243
             ],
             [
              -16.907330523773446,
              14.275467885016603
             ],
             [
              -16.90718445928594,
              14.275317570316279
             ],
             [
              -16.90704968118606,
              14.275130203413323
             ],
             [
              -16.906973766201286,
              14.275048136541775
             ],
             [
              -16.90679171517704,
              14.274778473214091
             ],
             [
              -16.906768540839316,
              14.274757043676846
             ],
             [
              -16.906560246564503,
              14.274509205271885
             ],
             [
              -16.906487861435934,
              14.274438541125509
             ],
             [
              -16.906328018357666,
              14.27423994311442
             ],
             [
              -16.90620673560323,
              14.274066885881817
             ],
             [
              -16.906130043514434,
              14.273970406544628
             ],
             [
              -16.905992750172494,
              14.273700384186917
             ],
             [
              -16.90592509987848,
              14.273634506386903
             ]
            ],
            [
             [
              -16.90848573018806,
              14.280595428018891
             ],
             [
              -16.908763370370544,
              14.280552048174807
             ],
             [
              -16.909041713627598,
              14.280592079996708
             ],
             [
              -16.909318969375416,
              14.280503129942002
             ],
             [
              -16.909596731282345,
              14.280474230440104
             ],
             [
              -16.909875146933977,
              14.280522853761115
             ],
             [
              -16.910153707156653,
              14.28058860556233
             ],
             [
              -16.91035720001757,
              14.28071454932003
             ],
             [
              -16.910433712164664,
              14.280825586992137
             ],
             [
              -16.910525795142824,
              14.28098431672823
             ],
             [
              -16.91071520890523,
              14.281239277258303
             ],
             [
              -16.91072299881911,
              14.28125385436231
             ],
             [
              -16.91076831979231,
              14.281524610838003
             ],
             [
              -16.91099742499176,
              14.281738068478255
             ],
             [
              -16.91105518427416,
              14.281793428446484
             ],
             [
              -16.91127721305965,
              14.281949072801677
             ],
             [
              -16.9113591575394,
              14.28206210826149
             ],
             [
              -16.91136648381197,
              14.282333169553446
             ],
             [
              -16.911559509387136,
              14.282457101364788
             ],
             [
              -16.91173281361552,
              14.282601348076536
             ],
             [
              -16.911839774935018,
              14.282724481288824
             ],
             [
              -16.911948262632865,
              14.282870737804549
             ],
             [
              -16.91212038241212,
              14.283032267520507
             ],
             [
              -16.91220498872189,
              14.28313979570052
             ],
             [
              -16.912401341858658,
              14.283381628104106
             ],
             [
              -16.912422634653918,
              14.283409167214426
             ],
             [
              -16.91252251421025,
              14.283679484689166
             ],
             [
              -16.912683052541063,
              14.283819798647801
             ],
             [
              -16.91281089556379,
              14.283948287386291
             ],
             [
              -16.912964063489273,
              14.284175025864437
             ],
             [
              -16.912998646451804,
              14.284217898416722
             ],
             [
              -16.91296575820558,
              14.284375575676489
             ],
             [
              -16.912688163489907,
              14.284424714689921
             ],
             [
              -16.912408736277836,
              14.284256956475106
             ],
             [
              -16.912363988656367,
              14.284222998190964
             ],
             [
              -16.912128786885354,
              14.284027330029827
             ],
             [
              -16.912047907653736,
              14.283954417439663
             ],
             [
              -16.91184835804886,
              14.28374086554948
             ],
             [
              -16.911784833533005,
              14.283685410460103
             ],
             [
              -16.911569211909327,
              14.283416022054086
             ],
             [
              -16.9115675752452,
              14.28341239495312
             ],
             [
              -16.9114484893566,
              14.283145871391705
             ],
             [
              -16.911286121740595,
              14.283004378585634
             ],
             [
              -16.911185368674527,
              14.28287686391357
             ],
             [
              -16.91100584804612,
              14.282736011635448
             ],
             [
              -16.910740545695898,
              14.282609314565518
             ],
             [
              -16.910726519719514,
              14.282579584391396
             ],
             [
              -16.910605300083546,
              14.282339279859787
             ],
             [
              -16.910444678026785,
              14.28212525097718
             ],
             [
              -16.910401586468765,
              14.282069794484595
             ],
             [
              -16.91022248492413,
              14.281800111389614
             ],
             [
              -16.910163599330403,
              14.281761215046526
             ],
             [
              -16.909884715820912,
              14.281657313803485
             ],
             [
              -16.909605756919337,
              14.281544446908791
             ],
             [
              -16.90956024002904,
              14.281534303872293
             ],
             [
              -16.909325851214007,
              14.281319270255247
             ],
             [
              -16.909047435641185,
              14.281270770605472
             ],
             [
              -16.909024048009478,
              14.281267483591812
             ],
             [
              -16.908768116214215,
              14.281115041147682
             ],
             [
              -16.908489652663132,
              14.281060813925015
             ],
             [
              -16.908346788991583,
              14.281001792726762
             ],
             [
              -16.90842257240437,
              14.280730064714767
             ],
             [
              -16.90848573018806,
              14.280595428018891
             ]
            ]
           ],
           "type": "MultiLineString"
          },
          "id": "0",
          "properties": {
           "style": {
            "color": "black",
            "fillColor": "#440154",
            "weight": 0.9
           },
           "time": "2013-12-31"
          },
          "type": "Feature"
         },
         {
          "bbox": [
           -16.93180688040911,
           14.27377290683038,
           -16.905926264204176,
           14.298164084785322
          ],
          "geometry": {
           "coordinates": [
            [
             [
              -16.93180688040911,
              14.298164084785322
             ],
             [
              -16.931765487285414,
              14.29789330409228
             ],
             [
              -16.931724742092904,
              14.297622518112085
             ],
             [
              -16.931705165228376,
              14.297592506997507
             ],
             [
              -16.93160310503372,
              14.297352389113334
             ],
             [
              -16.931612700934384,
              14.29708119420761
             ],
             [
              -16.931607849460764,
              14.296810116634806
             ],
             [
              -16.93161733991055,
              14.296538922577747
             ],
             [
              -16.93155224807006,
              14.296268334217421
             ],
             [
              -16.93156251886163,
              14.29599713380936
             ],
             [
              -16.9315363580764,
              14.29572622925186
             ],
             [
              -16.931532561195137,
              14.295455143072115
             ],
             [
              -16.931482380801935,
              14.295184433534411
             ],
             [
              -16.931476374511853,
              14.294913365274713
             ],
             [
              -16.931452498646642,
              14.294642442105902
             ],
             [
              -16.93140633858828,
              14.294371699859463
             ],
             [
              -16.931399532286257,
              14.294359245369552
             ],
             [
              -16.93126626967976,
              14.294101720026022
             ],
             [
              -16.931222124018728,
              14.293830961339571
             ],
             [
              -16.93117843407679,
              14.293560198927459
             ],
             [
              -16.931112733564156,
              14.293330823502473
             ],
             [
              -16.931098456571902,
              14.293289731060819
             ],
             [
              -16.931020381098485,
              14.293019247700236
             ],
             [
              -16.93100397643348,
              14.292748263716499
             ],
             [
              -16.930945397367122,
              14.292477622035918
             ],
             [
              -16.93086267116741,
              14.292207176299804
             ],
             [
              -16.930830200498274,
              14.291936322648422
             ],
             [
              -16.93082267607675,
              14.291920179624451
             ],
             [
              -16.930724456571763,
              14.291666063616349
             ],
             [
              -16.930673313662012,
              14.291395361429606
             ],
             [
              -16.93065714615715,
              14.291124375401944
             ],
             [
              -16.930636008986948,
              14.29085342968909
             ],
             [
              -16.93053406059028,
              14.290677991484074
             ],
             [
              -16.930456442780777,
              14.290583769431185
             ],
             [
              -16.93029836543649,
              14.290313934649934
             ],
             [
              -16.930252082140168,
              14.290213392334111
             ],
             [
              -16.93017614547349,
              14.290043808839526
             ],
             [
              -16.93008917458282,
              14.289773397004685
             ],
             [
              -16.929968202497363,
              14.289525734414607
             ],
             [
              -16.929953971721037,
              14.28950337631456
             ],
             [
              -16.929798904115852,
              14.289233516608844
             ],
             [
              -16.92968624654551,
              14.289063441483927
             ],
             [
              -16.929609990492768,
              14.288963931216406
             ],
             [
              -16.92952539201804,
              14.288693499787165
             ],
             [
              -16.92946450249594,
              14.288422876062453
             ],
             [
              -16.929401176229735,
              14.288235707756355
             ],
             [
              -16.92937421144016,
              14.288152490680059
             ],
             [
              -16.929322718972617,
              14.287881790682414
             ],
             [
              -16.92926516308452,
              14.287611139809625
             ],
             [
              -16.92922276218287,
              14.287340366045768
             ],
             [
              -16.929187303514635,
              14.287069535980908
             ],
             [
              -16.929217833810505,
              14.286798170975834
             ],
             [
              -16.929178048363482,
              14.28652737596166
             ],
             [
              -16.92914737953153,
              14.28625650702728
             ],
             [
              -16.929105929793934,
              14.28621377016167
             ],
             [
              -16.928909606103407,
              14.285987316668535
             ],
             [
              -16.928825252013635,
              14.285900689830628
             ],
             [
              -16.928547294533374,
              14.285906794798263
             ],
             [
              -16.928269538672584,
              14.285936573174673
             ],
             [
              -16.92807976845328,
              14.285994040739144
             ],
             [
              -16.927992522907,
              14.286053252223223
             ],
             [
              -16.92771557813423,
              14.286178304287896
             ],
             [
              -16.92758626853227,
              14.286269155895425
             ],
             [
              -16.927439329424786,
              14.286385135505519
             ],
             [
              -16.927162424247168,
              14.286514928119102
             ],
             [
              -16.927123992620224,
              14.28654401733079
             ],
             [
              -16.926885858083498,
              14.28668458294365
             ],
             [
              -16.926608539935028,
              14.286765947706435
             ],
             [
              -16.92651402593033,
              14.286820073592121
             ],
             [
              -16.926388972992633,
              14.287092203771621
             ],
             [
              -16.926334395645995,
              14.287220245692346
             ],
             [
              -16.92628363945857,
              14.287093056380247
             ],
             [
              -16.926054595970527,
              14.28701011656289
             ],
             [
              -16.925947369198116,
              14.287095777964327
             ],
             [
              -16.92577881465372,
              14.28727219241297
             ],
             [
              -16.925501602507612,
              14.287366163852724
             ],
             [
              -16.925223162323967,
              14.28731580151102
             ],
             [
              -16.924944834440165,
              14.287278632838689
             ],
             [
              -16.924666729194172,
              14.287267638597974
             ],
             [
              -16.92438853814592,
              14.287246554705273
             ],
             [
              -16.924109844265715,
              14.287166322678301
             ],
             [
              -16.924031645044472,
              14.287111273706019
             ],
             [
              -16.923830922196327,
              14.287059226265306
             ],
             [
              -16.923552760591114,
              14.287041581225873
             ],
             [
              -16.923274599084547,
              14.287023947378367
             ]
            ],
            [
             [
              -16.91658102091956,
              14.284509944468375
             ],
             [
              -16.91649128516282,
              14.284460922500669
             ],
             [
              -16.91630158754977,
              14.284341747373364
             ],
             [
              -16.916153790391775,
              14.284192520237792
             ],
             [
              -16.916021614217897,
              14.284109707171487
             ],
             [
              -16.91574269995241,
              14.284002749444621
             ],
             [
              -16.91563466002175,
              14.283925579221256
             ],
             [
              -16.91546316115558,
              14.283821952741333
             ],
             [
              -16.915251504134574,
              14.283657542912172
             ],
             [
              -16.915183230830134,
              14.283594824357372
             ],
             [
              -16.914910932599877,
              14.283389163311474
             ],
             [
              -16.914903436161776,
              14.283383668906234
             ],
             [
              -16.914624323072463,
              14.283253046550648
             ],
             [
              -16.914445190828125,
              14.283121789815098
             ],
             [
              -16.91434465267333,
              14.283056480403523
             ],
             [
              -16.914076148280742,
              14.282853637768955
             ],
             [
              -16.91406484165671,
              14.282843226242203
             ],
             [
              -16.913785217376596,
              14.282652002502207
             ],
             [
              -16.913715004342308,
              14.282585421545695
             ],
             [
              -16.91350528649565,
              14.28242444782148
             ],
             [
              -16.913380116948307,
              14.282316993634703
             ],
             [
              -16.913225215032266,
              14.282180191106919
             ],
             [
              -16.913087472404502,
              14.282048225691405
             ],
             [
              -16.912945122403222,
              14.281933358271761
             ],
             [
              -16.912779028007037,
              14.28177958424771
             ],
             [
              -16.912664923987013,
              14.281673930610758
             ],
             [
              -16.912499782111873,
              14.281510707753997
             ],
             [
              -16.912384461406585,
              14.281383150159598
             ],
             [
              -16.9122516511792,
              14.281241580931974
             ],
             [
              -16.91210341655895,
              14.281023331487427
             ],
             [
              -16.912053758663024,
              14.280972050309174
             ],
             [
              -16.911842543091765,
              14.280702626447537
             ],
             [
              -16.9118225306022,
              14.280682221840912
             ],
             [
              -16.91158607130212,
              14.280433565696933
             ],
             [
              -16.91154200561459,
              14.280383769111204
             ],
             [
              -16.91136142726191,
              14.280164249087294
             ],
             [
              -16.911260729118222,
              14.279996188167845
             ],
             [
              -16.911159156407912,
              14.279894752612543
             ],
             [
              -16.910979927626347,
              14.2796647761675
             ],
             [
              -16.910944800390073,
              14.279625352897604
             ],
             [
              -16.910725146694062,
              14.279355995437065
             ],
             [
              -16.910698976114446,
              14.279315483244531
             ],
             [
              -16.91043447685542,
              14.27908720750769
             ],
             [
              -16.910418927384224,
              14.279073101069395
             ],
             [
              -16.910173822565547,
              14.278818178349658
             ],
             [
              -16.91013850093565,
              14.27878586583947
             ],
             [
              -16.90992037245526,
              14.278549091043994
             ],
             [
              -16.909857483511654,
              14.278428466617209
             ],
             [
              -16.90975539579024,
              14.278279293841637
             ],
             [
              -16.90962224117314,
              14.278009241281387
             ],
             [
              -16.90957557982887,
              14.277965845418379
             ],
             [
              -16.90938370965491,
              14.277740033568595
             ],
             [
              -16.909294962347992,
              14.277655651906098
             ],
             [
              -16.909095766765777,
              14.277471221677548
             ],
             [
              -16.90901467019795,
              14.277383963542345
             ],
             [
              -16.908837263409353,
              14.277202173375953
             ],
             [
              -16.90873417757184,
              14.27708840588722
             ],
             [
              -16.908586341040163,
              14.276933063958532
             ],
             [
              -16.90845344676187,
              14.276764491576802
             ],
             [
              -16.90835654841431,
              14.27666378488112
             ],
             [
              -16.90819696041501,
              14.276393943001436
             ],
             [
              -16.9081720283027,
              14.276358852677166
             ],
             [
              -16.907938685833596,
              14.27612489160055
             ],
             [
              -16.90789170557749,
              14.276083178264766
             ],
             [
              -16.907683143591157,
              14.27585581795578
             ],
             [
              -16.90761119672511,
              14.27578532074783
             ],
             [
              -16.907401573902305,
              14.275586952411375
             ],
             [
              -16.90733081849437,
              14.275502887361446
             ],
             [
              -16.907161951461443,
              14.27531775055317
             ],
             [
              -16.907049826980533,
              14.275147521593569
             ],
             [
              -16.90697094744901,
              14.27504815911085
             ],
             [
              -16.906787144089208,
              14.274778509809558
             ],
             [
              -16.906768563154454,
              14.274759694842821
             ],
             [
              -16.906488690739607,
              14.2745370835909
             ],
             [
              -16.906464690065903,
              14.274509970158922
             ],
             [
              -16.906281018123856,
              14.274240319282713
             ],
             [
              -16.90620752363777,
              14.274160540902143
             ],
             [
              -16.90606127654318,
              14.273970956854031
             ],
             [
              -16.905926264204176,
              14.27377290683038
             ]
            ],
            [
             [
              -16.907915997442725,
              14.278966889047716
             ],
             [
              -16.90801572957438,
              14.279106601767124
             ],
             [
              -16.908039986759366,
              14.279377528024474
             ],
             [
              -16.908023752365764,
              14.279648778751515
             ],
             [
              -16.90792374095572,
              14.27988599351337
             ],
             [
              -16.907886908756456,
              14.279920995961504
             ],
             [
              -16.907924463384713,
              14.279971737782505
             ],
             [
              -16.90800413166324,
              14.280191177238583
             ],
             [
              -16.908205728045377,
              14.280358539983505
             ],
             [
              -16.908393236020594,
              14.280459179306341
             ],
             [
              -16.9084855266044,
              14.280571273178118
             ],
             [
              -16.908764110579387,
              14.280639859758693
             ],
             [
              -16.909041948030453,
              14.280619883326102
             ],
             [
              -16.909319868332606,
              14.280609743219879
             ],
             [
              -16.909598752316775,
              14.280713882658906
             ],
             [
              -16.90961178237978,
              14.280720529307912
             ],
             [
              -16.90987842713409,
              14.280911756198067
             ],
             [
              -16.91010533246544,
              14.280716570146197
             ],
             [
              -16.910154649851457,
              14.280700356359514
             ],
             [
              -16.91017495349372,
              14.280716011577677
             ],
             [
              -16.91018304080355,
              14.280987066997596
             ],
             [
              -16.91043707201014,
              14.281223806723176
             ],
             [
              -16.910552016336084,
              14.28125522655712
             ],
             [
              -16.910716384092325,
              14.281378540877592
             ],
             [
              -16.91077604253233,
              14.28152454885484
             ],
             [
              -16.910997199519315,
              14.281711353986577
             ],
             [
              -16.91106716022813,
              14.281793332310576
             ],
             [
              -16.91127784112175,
              14.282023474697816
             ],
             [
              -16.911309457429745,
              14.282062507288645
             ],
             [
              -16.911397639679308,
              14.282332919401815
             ],
             [
              -16.911559788053196,
              14.282490106831832
             ],
             [
              -16.911666076092075,
              14.28260188401289
             ],
             [
              -16.911840387391972,
              14.28279700908947
             ],
             [
              -16.911905014550292,
              14.282871085156009
             ],
             [
              -16.911842614777147,
              14.283060774962522
             ],
             [
              -16.91174319203429,
              14.283143504824935
             ],
             [
              -16.911566362213144,
              14.283268731959632
             ],
             [
              -16.911462841176775,
              14.283145756149958
             ],
             [
              -16.911286071395374,
              14.282998415027013
             ],
             [
              -16.91116939045114,
              14.282876992194046
             ],
             [
              -16.911005540436122,
              14.282699568103169
             ],
             [
              -16.910918821009826,
              14.282607883575027
             ],
             [
              -16.910725100157496,
              14.282411376987335
             ],
             [
              -16.910672268607314,
              14.282338742376034
             ],
             [
              -16.910444699077797,
              14.282127745798253
             ],
             [
              -16.91038361105009,
              14.282069938732707
             ],
             [
              -16.910164564323736,
              14.281875598795345
             ],
             [
              -16.910059450713494,
              14.281801419502214
             ],
             [
              -16.909884699721246,
              14.281655405156817
             ],
             [
              -16.909605959571497,
              14.281568475404846
             ],
             [
              -16.909439012948507,
              14.28153527620004
             ],
             [
              -16.90932736776991,
              14.281499116765366
             ],
             [
              -16.909049229729977,
              14.281483560935486
             ],
             [
              -16.908770287913182,
              14.281372658648994
             ],
             [
              -16.908543157593712,
              14.281271339163345
             ],
             [
              -16.908491007945525,
              14.28122160883418
             ],
             [
              -16.908216664558037,
              14.281002835715872
             ],
             [
              -16.90821112254843,
              14.280998676826567
             ],
             [
              -16.907931138862587,
              14.280764015647778
             ],
             [
              -16.907900611758187,
              14.280734248060922
             ],
             [
              -16.907707540222997,
              14.28046467452125
             ],
             [
              -16.90764958070559,
              14.280342394380511
             ],
             [
              -16.907542178495984,
              14.280194878762048
             ],
             [
              -16.90751161509974,
              14.279924002933747
             ],
             [
              -16.90752632594561,
              14.279652764379376
             ],
             [
              -16.907641621037307,
              14.279397528381898
             ],
             [
              -16.907654770228397,
              14.279380614634285
             ],
             [
              -16.907733702276136,
              14.279108861549616
             ],
             [
              -16.907915997442725,
              14.278966889047716
             ]
            ]
           ],
           "type": "MultiLineString"
          },
          "id": "1",
          "properties": {
           "style": {
            "color": "black",
            "fillColor": "#443983",
            "weight": 0.9
           },
           "time": "2014-12-31"
          },
          "type": "Feature"
         },
         {
          "bbox": [
           -16.931856332017638,
           14.273640163346965,
           -16.905925147468718,
           14.298163683078364
          ],
          "geometry": {
           "coordinates": [
            [
             [
              -16.931856332017638,
              14.298163683078364
             ],
             [
              -16.93180405076692,
              14.297892990845147
             ],
             [
              -16.93178919294448,
              14.297621994601162
             ],
             [
              -16.93170426746895,
              14.297351567465688
             ],
             [
              -16.9317074409242,
              14.297080424734274
             ],
             [
              -16.93172328045467,
              14.296809179123791
             ],
             [
              -16.931696611355488,
              14.296591019588702
             ],
             [
              -16.931688829025248,
              14.296538341969068
             ],
             [
              -16.931670305021417,
              14.296267375439035
             ],
             [
              -16.931592254056895,
              14.295996892328724
             ],
             [
              -16.931578496562352,
              14.295725887053106
             ],
             [
              -16.931606075934155,
              14.295454546079364
             ],
             [
              -16.93156912143684,
              14.295183729165938
             ],
             [
              -16.931456769375888,
              14.294913524468576
             ],
             [
              -16.931443128840844,
              14.294642518186746
             ],
             [
              -16.931400023760798,
              14.294416807544959
             ],
             [
              -16.93138788379432,
              14.294371849701955
             ],
             [
              -16.93129782145009,
              14.294101463863191
             ],
             [
              -16.931220950958572,
              14.29383097086296
             ],
             [
              -16.9311730078516,
              14.293560242977998
             ],
             [
              -16.93112696936165,
              14.293289499603231
             ],
             [
              -16.931111356841797,
              14.293169542443438
             ],
             [
              -16.93108720124562,
              14.293018705301902
             ],
             [
              -16.93101802989198,
              14.292748149645043
             ],
             [
              -16.9309720526407,
              14.292477405685565
             ],
             [
              -16.93091785627842,
              14.292206728407644
             ],
             [
              -16.930868423844718,
              14.291936012432913
             ],
             [
              -16.930821122299967,
              14.291738110629481
             ],
             [
              -16.930804425468423,
              14.291665414639393
             ],
             [
              -16.930743308577245,
              14.291394793421539
             ],
             [
              -16.930727890092438,
              14.291123801330244
             ],
             [
              -16.93068303471776,
              14.290853048098626
             ],
             [
              -16.93056697599763,
              14.290582872593198
             ],
             [
              -16.930532990246405,
              14.290552540490355
             ],
             [
              -16.93036867204918,
              14.29031336426277
             ],
             [
              -16.930250753524657,
              14.290057642057542
             ],
             [
              -16.930242197085576,
              14.290043273016371
             ],
             [
              -16.9301716301932,
              14.289772728148092
             ],
             [
              -16.929993413265183,
              14.289503056407433
             ],
             [
              -16.92996780640604,
              14.28947929264769
             ],
             [
              -16.92981049140253,
              14.28923342263517
             ],
             [
              -16.929686013281067,
              14.28903608629032
             ],
             [
              -16.929629200267918,
              14.288963775441488
             ],
             [
              -16.92953182968347,
              14.288693447586546
             ],
             [
              -16.929477903182764,
              14.288422767406416
             ],
             [
              -16.929468014085636,
              14.288151730138294
             ],
             [
              -16.92939898904754,
              14.287979158637778
             ],
             [
              -16.92933854846526,
              14.28788166234683
             ],
             [
              -16.929304668746816,
              14.287610819535686
             ],
             [
              -16.929276973672366,
              14.287339926566736
             ],
             [
              -16.929248935412563,
              14.287069036363363
             ],
             [
              -16.92926219210226,
              14.286797811388537
             ],
             [
              -16.92925849512984,
              14.286526723844416
             ],
             [
              -16.92922084936938,
              14.286255911487268
             ],
             [
              -16.929138363183316,
              14.28598546256993
             ],
             [
              -16.92910362687506,
              14.285943564102809
             ],
             [
              -16.92889607346927,
              14.28571630876391
             ],
             [
              -16.928823305407782,
              14.285672252572839
             ],
             [
              -16.92854502817697,
              14.285640795679862
             ],
             [
              -16.928267377488112,
              14.285682882047553
             ],
             [
              -16.928208391943933,
              14.28572188103071
             ],
             [
              -16.9279909650536,
              14.285870359015204
             ],
             [
              -16.927810369357843,
              14.285996223024313
             ],
             [
              -16.927714629575537,
              14.286066928070134
             ],
             [
              -16.927438104289887,
              14.28624126610251
             ],
             [
              -16.927389560894007,
              14.286270748988553
             ],
             [
              -16.927161663379025,
              14.286425566435343
             ],
             [
              -16.926900101945705,
              14.286545830157435
             ],
             [
              -16.926884777587173,
              14.286557665047171
             ],
             [
              -16.92660713499676,
              14.286600896984329
             ],
             [
              -16.926330207238678,
              14.286728135866582
             ],
             [
              -16.92613692094219,
              14.286823125949368
             ],
             [
              -16.926053579825904,
              14.286890708904563
             ],
             [
              -16.925776727685413,
              14.287026920086133
             ],
             [
              -16.92562055232225,
              14.287098422582785
             ],
             [
              -16.925499925080487,
              14.287168996439753
             ],
             [
              -16.925222687759625,
              14.287260012501253
             ],
             [
              -16.924944718784598,
              14.28726503457641
             ],
             [
              -16.924666612570313,
              14.287253924494706
             ],
             [
              -16.924388215651447,
              14.28720862616047
             ],
             [
              -16.924109904538447,
              14.287173412405258
             ],
             [
              -16.923831462889964,
              14.287122836259497
             ],
             [
              -16.923791045626935,
              14.287113218755753
             ],
             [
              -16.92355293318005,
              14.287061888478982
             ],
             [
              -16.92327426045466,
              14.286984097413486
             ],
             [
              -16.92299533976966,
              14.286877103719211
             ],
             [
              -16.922935707540972,
              14.286849013099774
             ],
             [
              -16.92271650743588,
              14.286780483251725
             ],
             [
              -16.922438166167087,
              14.286741653729019
             ],
             [
              -16.92215959185757,
              14.286675376782824
             ],
             [
              -16.921880896505893,
              14.286594830023974
             ],
             [
              -16.921852970350454,
              14.286586640539422
             ],
             [
              -16.92160184421039,
              14.286472220847644
             ],
             [
              -16.921322585596855,
              14.28632527433816
             ],
             [
              -16.921314600071685,
              14.286319868773262
             ],
             [
              -16.921043733726844,
              14.286226212317503
             ],
             [
              -16.920764852867393,
              14.286123709394369
             ],
             [
              -16.920535910453236,
              14.286055034997538
             ],
             [
              -16.920485984689343,
              14.286022675293628
             ],
             [
              -16.920206260285422,
              14.285820685726964
             ],
             [
              -16.920063262578527,
              14.285787729711993
             ],
             [
              -16.919927832235725,
              14.28577147491744
             ],
             [
              -16.919648950390208,
              14.285668745635597
             ],
             [
              -16.91943247164717,
              14.285521698751673
             ],
             [
              -16.919369178278124,
              14.28546099916621
             ],
             [
              -16.919089581472573,
              14.285273871552862
             ],
             [
              -16.91905317737363,
              14.285253638304946
             ],
             [
              -16.918810470779817,
              14.285144038530849
             ],
             [
              -16.918531302493324,
              14.28500737587169
             ],
             [
              -16.918253309300113,
              14.285009345003147
             ],
             [
              -16.918149377121072,
              14.284989804639029
             ],
             [
              -16.917974736108967,
              14.28494286639817
             ],
             [
              -16.917695414230103,
              14.28478799678813
             ],
             [
              -16.917457317385463,
              14.284724261636182
             ],
             [
              -16.917416809931847,
              14.284717802571075
             ],
             [
              -16.917138316996915,
              14.284660741783297
             ],
             [
              -16.916859725160958,
              14.284591989190018
             ],
             [
              -16.916611844499304,
              14.284459951772984
             ],
             [
              -16.91658029092526,
              14.284423722502025
             ],
             [
              -16.916300475415763,
              14.28421036864783
             ],
             [
              -16.916279726245683,
              14.284191506413812
             ],
             [
              -16.916021374577184,
              14.284081393403929
             ],
             [
              -16.915789243064715,
              14.283924335127592
             ],
             [
              -16.91574174950801,
              14.283890435972792
             ],
             [
              -16.915462618503348,
              14.283757817744783
             ],
             [
              -16.915300662152553,
              14.283657147382339
             ],
             [
              -16.915182677160516,
              14.283529376576173
             ],
             [
              -16.915018057179875,
              14.283388301532627
             ],
             [
              -16.914903001637906,
              14.28333229674604
             ],
             [
              -16.914628725577455,
              14.283120313699028
             ],
             [
              -16.914623164608905,
              14.283116063917243
             ],
             [
              -16.914344154103905,
              14.28299751772681
             ],
             [
              -16.91414287851946,
              14.282853101206358
             ],
             [
              -16.914064228031634,
              14.282770644869595
             ],
             [
              -16.913800607897482,
              14.282584733365475
             ],
             [
              -16.913784550715086,
              14.282573135174044
             ],
             [
              -16.913526760439495,
              14.282315814952922
             ],
             [
              -16.913504231041724,
              14.28229956503002
             ],
             [
              -16.913224503155455,
              14.282095947131998
             ],
             [
              -16.913170516488858,
              14.282047558329658
             ],
             [
              -16.91294474382734,
              14.281888550046073
             ],
             [
              -16.912816277409203,
              14.281779284959804
             ],
             [
              -16.912664431349608,
              14.281615612383764
             ],
             [
              -16.912555520604148,
              14.281510259982714
             ],
             [
              -16.91238345429679,
              14.281263908575944
             ],
             [
              -16.91236324298864,
              14.281240684585732
             ],
             [
              -16.912105975373525,
              14.28097163094264
             ],
             [
              -16.912102956204944,
              14.280968816357895
             ],
             [
              -16.911858343548406,
              14.28070249956722
             ],
             [
              -16.91182240133085,
              14.280666910916056
             ],
             [
              -16.9116081362581,
              14.280433388538182
             ],
             [
              -16.91154167609701,
              14.280344734363613
             ],
             [
              -16.911386643712962,
              14.280164046652445
             ],
             [
              -16.911260519542623,
              14.279971357435786
             ],
             [
              -16.911192109516975,
              14.279894488100714
             ],
             [
              -16.910980218298683,
              14.279625068637671
             ],
             [
              -16.910979587160995,
              14.279624430550411
             ],
             [
              -16.910766938894234,
              14.279355660061634
             ],
             [
              -16.91069880594535,
              14.279295314504278
             ],
             [
              -16.91051055421821,
              14.279086597097534
             ],
             [
              -16.910418150309148,
              14.278980985365067
             ],
             [
              -16.910263295762224,
              14.278817460565303
             ],
             [
              -16.91013741720784,
              14.278657377284109
             ],
             [
              -16.910029264720908,
              14.278548217599887
             ],
             [
              -16.90985635629405,
              14.278294798642825
             ],
             [
              -16.909841003900926,
              14.27827860723927
             ],
             [
              -16.909596856574776,
              14.27800944484973
             ],
             [
              -16.909575710853456,
              14.277981385336359
             ],
             [
              -16.90940587702508,
              14.277739855823453
             ],
             [
              -16.909294591198748,
              14.277611624892096
             ],
             [
              -16.909183167273255,
              14.277470520977882
             ],
             [
              -16.909014082310204,
              14.277314214551598
             ],
             [
              -16.9088985229603,
              14.27720168232964
             ],
             [
              -16.90873355933799,
              14.277015044150419
             ],
             [
              -16.908642027083655,
              14.276932617655593
             ],
             [
              -16.90845260817299,
              14.276664964655287
             ],
             [
              -16.908450589392793,
              14.276663031273884
             ],
             [
              -16.90823938580835,
              14.276393603060026
             ],
             [
              -16.908171667647377,
              14.276316041237722
             ],
             [
              -16.90799568811342,
              14.276124434927105
             ],
             [
              -16.907891297612696,
              14.276034742866978
             ],
             [
              -16.907720778284464,
              14.275855516492788
             ],
             [
              -16.90761077777272,
              14.27573557244835
             ],
             [
              -16.907466203457272,
              14.275586434794743
             ],
             [
              -16.907330025989076,
              14.27540876575377
             ],
             [
              -16.90724051699157,
              14.275317121411295
             ],
             [
              -16.907049088565746,
              14.275059808837693
             ],
             [
              -16.907038147029503,
              14.27504762105076
             ],
             [
              -16.906777854839476,
              14.274778584177668
             ],
             [
              -16.906768636839157,
              14.274768449003059
             ],
             [
              -16.90656906247277,
              14.274509134702555
             ],
             [
              -16.90648742646758,
              14.2743868554707
             ],
             [
              -16.90639338332575,
              14.274239419947824
             ],
             [
              -16.906206094379414,
              14.273990678277256
             ],
             [
              -16.906189416733962,
              14.273969931392987
             ],
             [
              -16.90596346888524,
              14.273700618492626
             ],
             [
              -16.905925147468718,
              14.273640163346965
             ]
            ]
           ],
           "type": "MultiLineString"
          },
          "id": "2",
          "properties": {
           "style": {
            "color": "black",
            "fillColor": "#30688e",
            "weight": 0.9
           },
           "time": "2015-12-31"
          },
          "type": "Feature"
         },
         {
          "bbox": [
           -16.931797247596464,
           14.273703836418205,
           -16.90592568313182,
           14.298164163033714
          ],
          "geometry": {
           "coordinates": [
            [
             [
              -16.931797247596464,
              14.298164163033714
             ],
             [
              -16.931771402139226,
              14.297893256046944
             ],
             [
              -16.9317480577745,
              14.297622328729263
             ],
             [
              -16.931712981315126,
              14.29735149668927
             ],
             [
              -16.931701842288597,
              14.297203466441964
             ],
             [
              -16.93168584474414,
              14.297080600140658
             ],
             [
              -16.931661678170297,
              14.2968096794541
             ],
             [
              -16.931644331999983,
              14.296538703360307
             ],
             [
              -16.931578958046387,
              14.29626811730226
             ],
             [
              -16.931550438410095,
              14.2959972319141
             ],
             [
              -16.93155308031399,
              14.295726093454594
             ],
             [
              -16.931515175080882,
              14.29545528425659
             ],
             [
              -16.931502394409414,
              14.295184271018758
             ],
             [
              -16.93144052031834,
              14.294913656409836
             ],
             [
              -16.93140282008206,
              14.29474431165905
             ],
             [
              -16.93136733801468,
              14.294643133578663
             ],
             [
              -16.931287821240645,
              14.294372662128389
             ],
             [
              -16.931215895619502,
              14.294102128994775
             ],
             [
              -16.93117633024623,
              14.293831333108125
             ],
             [
              -16.931128456057557,
              14.293560604648414
             ],
             [
              -16.931113886574092,
              14.293465895420352
             ],
             [
              -16.931072771835915,
              14.293289939558253
             ],
             [
              -16.931023315965337,
              14.293019223877474
             ],
             [
              -16.930937245242376,
              14.292748805360024
             ],
             [
              -16.930883213616386,
              14.292478126745323
             ],
             [
              -16.93082564670153,
              14.292268265379366
             ],
             [
              -16.930798875530606,
              14.29220769406057
             ],
             [
              -16.93072380533142,
              14.291937186104862
             ],
             [
              -16.930745523581795,
              14.291665892652436
             ],
             [
              -16.930723803422357,
              14.291394951707757
             ],
             [
              -16.93067657460637,
              14.291124217746386
             ],
             [
              -16.930543572641753,
              14.290854179737076
             ],
             [
              -16.93053545854564,
              14.290841838756947
             ],
             [
              -16.93043528422035,
              14.290583941100424
             ],
             [
              -16.93028369813826,
              14.290314053640937
             ],
             [
              -16.930252298917434,
              14.290238804413148
             ],
             [
              -16.930148124819542,
              14.29004403614283
             ],
             [
              -16.93008736106178,
              14.289773411715139
             ],
             [
              -16.929968432336842,
              14.289552683051335
             ],
             [
              -16.929942490284684,
              14.289503469438323
             ],
             [
              -16.92975290417672,
              14.289233889665875
             ],
             [
              -16.929686516484033,
              14.289095097417043
             ],
             [
              -16.92958062433824,
              14.288964169347924
             ],
             [
              -16.92948770207549,
              14.288693805397301
             ],
             [
              -16.929438854553908,
              14.288423084020112
             ],
             [
              -16.9294015827355,
              14.288283388954046
             ],
             [
              -16.929348613057417,
              14.28815269822257
             ],
             [
              -16.929292777191826,
              14.287882033428675
             ],
             [
              -16.929274377912943,
              14.28761106510524
             ],
             [
              -16.929233928179375,
              14.287340275526832
             ],
             [
              -16.929224180609577,
              14.287069237039516
             ],
             [
              -16.92922950793582,
              14.286798076341181
             ],
             [
              -16.92917342334774,
              14.286527413452117
             ],
             [
              -16.929106682585044,
              14.286302095415424
             ],
             [
              -16.9290827566324,
              14.286257030836047
             ],
             [
              -16.92890481159173,
              14.285987355526172
             ],
             [
              -16.928825312719326,
              14.285907813674157
             ],
             [
              -16.928546995406034,
              14.285871686949834
             ],
             [
              -16.92826970235236,
              14.28595578655918
             ],
             [
              -16.928041467887073,
              14.285994351013999
             ],
             [
              -16.92799212320373,
              14.286006326993823
             ],
             [
              -16.927715227147093,
              14.286137092801793
             ],
             [
              -16.92743820021215,
              14.286252530453586
             ],
             [
              -16.92741962157127,
              14.286270505544072
             ],
             [
              -16.927161914147838,
              14.28645501854927
             ],
             [
              -16.926938041640884,
              14.286545522977274
             ],
             [
              -16.92688502564886,
              14.286586803126033
             ],
             [
              -16.926608367667825,
              14.286745710044041
             ],
             [
              -16.92644247929957,
              14.28682065274965
             ],
             [
              -16.926331940431112,
              14.286931776651988
             ],
             [
              -16.92605457394754,
              14.28700752864212
             ],
             [
              -16.92577721987423,
              14.287084765321366
             ],
             [
              -16.925688762253944,
              14.287097870661668
             ],
             [
              -16.92550002121357,
              14.287180296154384
             ],
             [
              -16.925223237947414,
              14.287324691657794
             ],
             [
              -16.924945584447823,
              14.287366815021109
             ],
             [
              -16.924667189477905,
              14.287321764418168
             ],
             [
              -16.9243890204135,
              14.287303273942818
             ],
             [
              -16.924110950838056,
              14.287296485328447
             ],
             [
              -16.923832687764836,
              14.287266935712045
             ],
             [
              -16.9235544219746,
              14.287237062506305
             ],
             [
              -16.923275875053182,
              14.287174102261718
             ],
             [
              -16.923146521509917,
              14.287118428008396
             ],
             [
              -16.922997084332355,
              14.287082433946233
             ],
             [
              -16.922718463784243,
              14.287010774887912
             ],
             [
              -16.9224398080175,
              14.286934953054756
             ],
             [
              -16.922272576826874,
              14.286854370235233
             ],
             [
              -16.922160898356662,
              14.286829217612901
             ],
             [
              -16.92188225063388,
              14.286754303220176
             ],
             [
              -16.92160354735276,
              14.286672827460729
             ],
             [
              -16.92143176935762,
              14.286590041472392
             ],
             [
              -16.921324526790006,
              14.28655395550501
             ],
             [
              -16.921045630585766,
              14.286449704838633
             ],
             [
              -16.920818108940885,
              14.286323876355757
             ],
             [
              -16.920766357630935,
              14.286301031692565
             ],
             [
              -16.920487218161114,
              14.286168050771108
             ],
             [
              -16.9202774092069,
              14.286057120818121
             ],
             [
              -16.920208042999388,
              14.286030827422865
             ],
             [
              -16.91992903876983,
              14.28591371955305
             ],
             [
              -16.919740113226055,
              14.285790336440913
             ],
             [
              -16.919649578339147,
              14.285742789345264
             ],
             [
              -16.919370104834606,
              14.285570270207174
             ],
             [
              -16.91929781775469,
              14.285522784633569
             ],
             [
              -16.919090648908227,
              14.285399776808797
             ],
             [
              -16.918875867404733,
              14.28525506785266
             ],
             [
              -16.918811098880994,
              14.285218135418896
             ],
             [
              -16.918532147585474,
              14.28510708652696
             ],
             [
              -16.91825348652368,
              14.285030258335295
             ],
             [
              -16.91797545871624,
              14.285028150528507
             ],
             [
              -16.917697218014126,
              14.28500091680888
             ],
             [
              -16.917681341151326,
              14.284993576014202
             ],
             [
              -16.91741812969736,
              14.284873612480105
             ],
             [
              -16.91713961226968,
              14.284813682993382
             ],
             [
              -16.91695672579485,
              14.284728293781038
             ],
             [
              -16.916860548045072,
              14.284689167255834
             ],
             [
              -16.91658138798068,
              14.28455329901622
             ],
             [
              -16.91643862304798,
              14.28446134650983
             ],
             [
              -16.91630206865603,
              14.284398581051793
             ],
             [
              -16.916070323869157,
              14.284193192133339
             ],
             [
              -16.916021908997855,
              14.284144535604893
             ],
             [
              -16.915742417314757,
              14.28396935041691
             ],
             [
              -16.915682849905195,
              14.283925191396934
             ],
             [
              -16.915463121800393,
              14.283817301440354
             ],
             [
              -16.915224886672803,
              14.283657757074428
             ],
             [
              -16.915183557377226,
              14.283633424445869
             ],
             [
              -16.914903986410046,
              14.283448722444733
             ],
             [
              -16.91483380453833,
              14.283389783749241
             ],
             [
              -16.914624203148637,
              14.283238866213777
             ],
             [
              -16.91447822807966,
              14.283121524116634
             ],
             [
              -16.914344595923236,
              14.283049768939971
             ],
             [
              -16.914108299359427,
              14.282853379251815
             ],
             [
              -16.914064673424175,
              14.28282332724501
             ],
             [
              -16.913784839489452,
              14.28260729779122
             ],
             [
              -16.91375885371362,
              14.282585069037662
             ],
             [
              -16.913505355517326,
              14.282432614521284
             ],
             [
              -16.913376398536798,
              14.282317023521141
             ],
             [
              -16.913225113888636,
              14.282168221736091
             ],
             [
              -16.913095365283784,
              14.282048162263619
             ],
             [
              -16.91294486838702,
              14.281903292942031
             ],
             [
              -16.912821541579437,
              14.281779242663289
             ],
             [
              -16.912664689067125,
              14.281646120917316
             ],
             [
              -16.912520024873963,
              14.28151054513669
             ],
             [
              -16.91238430125596,
              14.281364188433615
             ],
             [
              -16.912263695466667,
              14.281241484190367
             ],
             [
              -16.912103545937416,
              14.281038652446304
             ],
             [
              -16.912036051134255,
              14.280972192520531
             ],
             [
              -16.911849672618533,
              14.280702569196372
             ],
             [
              -16.911822453114457,
              14.280673044179425
             ],
             [
              -16.91160384905663,
              14.280433422960133
             ],
             [
              -16.91154169824322,
              14.280347357813584
             ],
             [
              -16.91136848343016,
              14.280164192441433
             ],
             [
              -16.911260778791185,
              14.280002073464125
             ],
             [
              -16.91114964834111,
              14.279894828932147
             ],
             [
              -16.910987306962596,
              14.279625011744264
             ],
             [
              -16.91097951901832,
              14.279616355533744
             ],
             [
              -16.91072744584953,
              14.279355976986917
             ],
             [
              -16.91069904263715,
              14.27932336762393
             ],
             [
              -16.910476087821166,
              14.279086873643237
             ],
             [
              -16.910418492967423,
              14.279021604697938
             ],
             [
              -16.910233698646024,
              14.278817698007135
             ],
             [
              -16.910137875483006,
              14.2787117112993
             ],
             [
              -16.90998746278379,
              14.2785485529065
             ],
             [
              -16.909856871505916,
              14.27835589378566
             ],
             [
              -16.909778438852342,
              14.27827910903249
             ],
             [
              -16.90958919762275,
              14.278009506269125
             ],
             [
              -16.909575817837997,
              14.277994074017382
             ],
             [
              -16.909361205120007,
              14.277740214015127
             ],
             [
              -16.909294933250166,
              14.277652200226193
             ],
             [
              -16.9091368314102,
              14.27747089246168
             ],
             [
              -16.909014329933935,
              14.277343593514697
             ],
             [
              -16.908873015219896,
              14.277201886797332
             ],
             [
              -16.908733829908545,
              14.277047151026382
             ],
             [
              -16.9086112418181,
              14.276932864389664
             ],
             [
              -16.908453404148887,
              14.276759434124115
             ],
             [
              -16.90835441629953,
              14.276663801966617
             ],
             [
              -16.90818430132571,
              14.276394044433294
             ],
             [
              -16.90817216393374,
              14.276374952667114
             ],
             [
              -16.90795173921212,
              14.276124787024685
             ],
             [
              -16.907891578239994,
              14.27606806020957
             ],
             [
              -16.907669335285913,
              14.275855928562152
             ],
             [
              -16.90761113770445,
              14.275778312379602
             ],
             [
              -16.907437693623063,
              14.275586663131516
             ],
             [
              -16.90733038928769,
              14.275451912868734
             ],
             [
              -16.907203636488173,
              14.275317416748479
             ],
             [
              -16.907049639982404,
              14.275125309037858
             ],
             [
              -16.906988710257767,
              14.275048016887721
             ],
             [
              -16.9067691224413,
              14.274826141142167
             ],
             [
              -16.90673169598555,
              14.274778953712023
             ],
             [
              -16.906497192653674,
              14.274509709994541
             ],
             [
              -16.906488331521697,
              14.274494399417373
             ],
             [
              -16.906321933419044,
              14.274239991816
             ],
             [
              -16.906206883219173,
              14.274084429548163
             ],
             [
              -16.906113680998587,
              14.27397053748787
             ],
             [
              -16.90592568313182,
              14.273703836418205
             ]
            ],
            [
             [
              -16.907915536011444,
              14.278912118099237
             ],
             [
              -16.908046554923683,
              14.27910635475453
             ],
             [
              -16.908050113482684,
              14.27937744687406
             ],
             [
              -16.908009349056965,
              14.279648894172597
             ],
             [
              -16.90792398247398,
              14.279914659102143
             ],
             [
              -16.90791164285428,
              14.279920797763266
             ],
             [
              -16.90792408227673,
              14.279926504583479
             ],
             [
              -16.90802742780132,
              14.280190990548304
             ],
             [
              -16.908205637229557,
              14.280347763083522
             ],
             [
              -16.90847049025112,
              14.280458560061689
             ],
             [
              -16.90848465887991,
              14.280468318694098
             ],
             [
              -16.908763655262025,
              14.28058584515623
             ],
             [
              -16.909042369788075,
              14.280669909298274
             ],
             [
              -16.909230795167886,
              14.280723584812824
             ],
             [
              -16.909321083021027,
              14.280753799753795
             ],
             [
              -16.90959904830846,
              14.280748980680272
             ],
             [
              -16.909876943390067,
              14.280735844093652
             ],
             [
              -16.91015532342498,
              14.280780203855128
             ],
             [
              -16.91043452324526,
              14.280921720007573
             ],
             [
              -16.910474055674513,
              14.280984731918627
             ],
             [
              -16.91071465001601,
              14.281173046480575
             ],
             [
              -16.9107681753227,
              14.281253491784414
             ],
             [
              -16.910938227382914,
              14.281523247091949
             ],
             [
              -16.91099603155434,
              14.281572969936297
             ],
             [
              -16.91119853579137,
              14.281792277665375
             ],
             [
              -16.911276724670206,
              14.281891216601476
             ],
             [
              -16.91138395321878,
              14.282061909180602
             ],
             [
              -16.91155791365167,
              14.282268099349043
             ],
             [
              -16.911609288585307,
              14.282331219956877
             ],
             [
              -16.911838246475305,
              14.28254347769422
             ],
             [
              -16.911894548369357,
              14.282600049186387
             ],
             [
              -16.912023572283797,
              14.282870132928533
             ],
             [
              -16.91211987811867,
              14.282972558364103
             ],
             [
              -16.91219509995926,
              14.283139875135877
             ],
             [
              -16.91217464374476,
              14.283411159435763
             ],
             [
              -16.912403577459276,
              14.28364627782059
             ],
             [
              -16.91242136861961,
              14.283680297324441
             ],
             [
              -16.912585688267,
              14.283950097017598
             ],
             [
              -16.91240711966841,
              14.284065592343037
             ],
             [
              -16.912210173810912,
              14.283953113953723
             ],
             [
              -16.9121263073387,
              14.28373376768496
             ],
             [
              -16.911848047722856,
              14.283704119153528
             ],
             [
              -16.91182389361583,
              14.283685096748714
             ],
             [
              -16.91156821259766,
              14.283487877858908
             ],
             [
              -16.911509792081567,
              14.283416499210556
             ],
             [
              -16.91128770391035,
              14.283191790451308
             ],
             [
              -16.911250198160683,
              14.283147463534883
             ],
             [
              -16.911042263577926,
              14.282878012788464
             ],
             [
              -16.911006773222223,
              14.282845619565167
             ],
             [
              -16.91073156006525,
              14.282609386688357
             ],
             [
              -16.910726745195916,
              14.282606301444336
             ],
             [
              -16.910454297847853,
              14.282340491721945
             ],
             [
              -16.910446419281293,
              14.282331610834495
             ],
             [
              -16.91016629032259,
              14.282080184436163
             ],
             [
              -16.910157175491747,
              14.282071755703617
             ],
             [
              -16.909916631385492,
              14.28180256532804
             ],
             [
              -16.909885777822996,
              14.281783215605419
             ],
             [
              -16.909606434208957,
              14.28162475306312
             ],
             [
              -16.909349254452497,
              14.281535996087504
             ],
             [
              -16.909327527383034,
              14.281518044944512
             ],
             [
              -16.90904875507466,
              14.281427264140547
             ],
             [
              -16.90877018792705,
              14.281360797920023
             ],
             [
              -16.908614333457983,
              14.281270768567255
             ],
             [
              -16.908490471304678,
              14.281157940338156
             ],
             [
              -16.9082152665135,
              14.281002846921263
             ],
             [
              -16.908211128246208,
              14.28099935293484
             ],
             [
              -16.90793114120944,
              14.280764294174734
             ],
             [
              -16.907896532236602,
              14.280734280752467
             ],
             [
              -16.907715207706968,
              14.280464613084403
             ],
             [
              -16.90764959673126,
              14.28034429666511
             ],
             [
              -16.907592028225434,
              14.280194479370875
             ],
             [
              -16.9075792703598,
              14.279923460901966
             ],
             [
              -16.907605194195618,
              14.279652132517043
             ],
             [
              -16.907643131952675,
              14.279576889487089
             ],
             [
              -16.907732392892626,
              14.27937999272025
             ],
             [
              -16.907676656440373,
              14.27910931859661
             ],
             [
              -16.907915536011444,
              14.278912118099237
             ]
            ]
           ],
           "type": "MultiLineString"
          },
          "id": "3",
          "properties": {
           "style": {
            "color": "black",
            "fillColor": "#20908c",
            "weight": 0.9
           },
           "time": "2016-12-31"
          },
          "type": "Feature"
         },
         {
          "bbox": [
           -16.93180351180733,
           14.273704022186426,
           -16.905925684694637,
           14.298164112148886
          ],
          "geometry": {
           "coordinates": [
            [
             [
              -16.93180351180733,
              14.298164112148886
             ],
             [
              -16.931754717498745,
              14.297893391573014
             ],
             [
              -16.93170567297849,
              14.2976519519377
             ],
             [
              -16.931696033687825,
              14.29762275129444
             ],
             [
              -16.931703740152688,
              14.297425664530833
             ],
             [
              -16.931705155259074,
              14.297351560254809
             ],
             [
              -16.931702971872173,
              14.297335716262799
             ],
             [
              -16.931652805776128,
              14.297080868482746
             ],
             [
              -16.931596720083576,
              14.296810207022762
             ],
             [
              -16.93156824004902,
              14.296539321336581
             ],
             [
              -16.93155052387931,
              14.296268348219693
             ],
             [
              -16.931568002365413,
              14.295997089277897
             ],
             [
              -16.9315504279688,
              14.295726114993727
             ],
             [
              -16.93150953669078,
              14.29545533004304
             ],
             [
              -16.931493042664332,
              14.295184346957546
             ],
             [
              -16.931499234977426,
              14.294913179645505
             ],
             [
              -16.93141222563495,
              14.294642769111627
             ],
             [
              -16.93140177579136,
              14.294622005689787
             ],
             [
              -16.931286718799143,
              14.294372671079081
             ],
             [
              -16.931254528409166,
              14.2941018153501
             ],
             [
              -16.931227417564465,
              14.293830918364298
             ],
             [
              -16.931173067041524,
              14.29356024249749
             ],
             [
              -16.931135219692315,
              14.293289432629084
             ],
             [
              -16.931111726384284,
              14.293212834016028
             ],
             [
              -16.931027845619266,
              14.29301918710951
             ],
             [
              -16.930966665069633,
              14.292748566567568
             ],
             [
              -16.930899224123568,
              14.292477996798885
             ],
             [
              -16.930863012878994,
              14.292207173526451
             ],
             [
              -16.930824144844905,
              14.292092285088543
             ],
             [
              -16.930740580003114,
              14.291937049972152
             ],
             [
              -16.93068994086642,
              14.291666343715667
             ],
             [
              -16.930689612495176,
              14.291395229166572
             ],
             [
              -16.930643197755085,
              14.291124488587721
             ],
             [
              -16.930611983269262,
              14.290853624642283
             ],
             [
              -16.930534171920257,
              14.290691039983558
             ],
             [
              -16.93046768940429,
              14.290583678181328
             ],
             [
              -16.930326548796913,
              14.290313706004985
             ],
             [
              -16.93025171064935,
              14.290169843582648
             ],
             [
              -16.93017042409246,
              14.290043855251591
             ],
             [
              -16.9300710719242,
              14.28977354384451
             ],
             [
              -16.929968198666835,
              14.289525285285508
             ],
             [
              -16.92995645126325,
              14.28950335620339
             ],
             [
              -16.92975927805191,
              14.28923383797462
             ],
             [
              -16.929686137812205,
              14.289050690209459
             ],
             [
              -16.92960698396724,
              14.288963955596632
             ],
             [
              -16.929503436268252,
              14.28869367781681
             ],
             [
              -16.92940826438292,
              14.28842333204655
             ],
             [
              -16.92940247085292,
              14.2883875603017
             ],
             [
              -16.929368937034877,
              14.28815253344327
             ],
             [
              -16.92939317529071,
              14.287881219458773
             ],
             [
              -16.929279079069296,
              14.287611026992943
             ],
             [
              -16.929278876608404,
              14.287339911139878
             ],
             [
              -16.92929373776471,
              14.287068673164123
             ],
             [
              -16.929317526931353,
              14.286797362809148
             ],
             [
              -16.929247047246474,
              14.28652681664486
             ],
             [
              -16.929193549331526,
              14.286256132781613
             ],
             [
              -16.929104126377478,
              14.286002172196481
             ],
             [
              -16.929090541995475,
              14.285985850183529
             ],
             [
              -16.92882423175176,
              14.285780960999872
             ],
             [
              -16.928705225231433,
              14.285717855401723
             ],
             [
              -16.928545268371863,
              14.285668987282184
             ],
             [
              -16.92845479276285,
              14.28571988467919
             ],
             [
              -16.928268590510037,
              14.285825273513558
             ],
             [
              -16.927991059451273,
              14.28588144144976
             ],
             [
              -16.927766461580802,
              14.285996578673265
             ],
             [
              -16.92771441543263,
              14.286041784077003
             ],
             [
              -16.92743770338574,
              14.28619418698735
             ],
             [
              -16.927377932930945,
              14.286270843155851
             ],
             [
              -16.927162082803633,
              14.286474826675153
             ],
             [
              -16.92699014525846,
              14.286545101108539
             ],
             [
              -16.926885371267577,
              14.28662740043951
             ],
             [
              -16.926608603268672,
              14.286773388029259
             ],
             [
              -16.92653585137495,
              14.286819896914663
             ],
             [
              -16.926332279824948,
              14.286971653225336
             ],
             [
              -16.926054675041044,
              14.287019408132176
             ],
             [
              -16.92577700273835,
              14.287059246130154
             ],
             [
              -16.92567214341512,
              14.287098005134915
             ],
             [
              -16.9255002397934,
              14.287205988517941
             ],
             [
              -16.92522273335488,
              14.287265372615549
             ],
             [
              -16.924944926013154,
              14.287289399568753
             ],
             [
              -16.92466692716918,
              14.287290918961755
             ],
             [
              -16.924389250393133,
              14.287330321639459
             ],
             [
              -16.92411115525237,
              14.287320529802763
             ],
             [
              -16.923832930284306,
              14.287295466535861
             ],
             [
              -16.92355444352373,
              14.287239597994773
             ],
             [
              -16.923275761171123,
              14.28716070079088
             ],
             [
              -16.923130030285247,
              14.28711856127292
             ],
             [
              -16.922997243372826,
              14.287101152409203
             ],
             [
              -16.922718951199275,
              14.287068150331766
             ],
             [
              -16.92244034069167,
              14.286997665550276
             ],
             [
              -16.92219070602735,
              14.28685503150457
             ],
             [
              -16.922161014876814,
              14.286842937821868
             ],
             [
              -16.921882287611098,
              14.286758657932628
             ],
             [
              -16.92160348363725,
              14.286665322711483
             ],
             [
              -16.921438940749255,
              14.286589983574153
             ],
             [
              -16.921324397049084,
              14.2865386715752
             ],
             [
              -16.92104554500522,
              14.286439621614136
             ],
             [
              -16.920791424816844,
              14.286324091715636
             ],
             [
              -16.92076647164819,
              14.286314467459123
             ],
             [
              -16.92048730262941,
              14.2861780060416
             ],
             [
              -16.920285482878146,
              14.286057055676727
             ],
             [
              -16.920207884838927,
              14.286012184016608
             ],
             [
              -16.919929093349186,
              14.285920154162675
             ],
             [
              -16.919650050989137,
              14.285798520919286
             ],
             [
              -16.919641094494,
              14.285791135101404
             ],
             [
              -16.91936994332738,
              14.285551223336903
             ],
             [
              -16.919328405398936,
              14.285522537974018
             ],
             [
              -16.919090481341403,
              14.285380012191718
             ],
             [
              -16.91894971766671,
              14.285254472456764
             ],
             [
              -16.918810594120476,
              14.285158589021371
             ],
             [
              -16.918532227210964,
              14.28511648133266
             ],
             [
              -16.918253968006255,
              14.28508707569084
             ],
             [
              -16.91797580614996,
              14.285069155427253
             ],
             [
              -16.917697628139788,
              14.285049327860035
             ],
             [
              -16.917582194217555,
              14.284994374809658
             ],
             [
              -16.91741873217159,
              14.284944739229008
             ],
             [
              -16.91714021332653,
              14.284884653036901
             ],
             [
              -16.91686133384132,
              14.284781964766227
             ],
             [
              -16.91678684927742,
              14.28472966185632
             ],
             [
              -16.916581776464827,
              14.28459918373539
             ],
             [
              -16.91640411070426,
              14.284461624379741
             ],
             [
              -16.91630211636927,
              14.284404217461745
             ],
             [
              -16.916022572610277,
              14.284222941478125
             ],
             [
              -16.915991598514292,
              14.284193825836237
             ],
             [
              -16.91574293103426,
              14.284030056107035
             ],
             [
              -16.915575534731975,
              14.283926055038624
             ],
             [
              -16.915463271493223,
              14.28383499329081
             ],
             [
              -16.915226386722534,
              14.283657745005211
             ],
             [
              -16.915183592118403,
              14.283637531082501
             ],
             [
              -16.914903994800664,
              14.283449714429741
             ],
             [
              -16.914841253601157,
              14.28338972382817
             ],
             [
              -16.91462451153977,
              14.2832753317476
             ],
             [
              -16.91442241967545,
              14.283121972946926
             ],
             [
              -16.9143446280827,
              14.283053572229964
             ],
             [
              -16.91410036249687,
              14.282853443070138
             ],
             [
              -16.914064690317883,
              14.282825325479857
             ],
             [
              -16.913790475738143,
              14.282584814821076
             ],
             [
              -16.91378461137993,
              14.282580311960682
             ],
             [
              -16.913505197327964,
              14.282413897422217
             ],
             [
              -16.91339539053624,
              14.282316870873839
             ],
             [
              -16.91322532215086,
              14.282192867544833
             ],
             [
              -16.913064132817336,
              14.282048413248587
             ],
             [
              -16.91294505602227,
              14.281925501436417
             ],
             [
              -16.912778750712082,
              14.281779586475674
             ],
             [
              -16.91266472331179,
              14.281650174786284
             ],
             [
              -16.912536382365204,
              14.28151041372989
             ],
             [
              -16.912384259035367,
              14.28135918953905
             ],
             [
              -16.91227368303404,
              14.281241403968197
             ],
             [
              -16.912103627145832,
              14.281048269113077
             ],
             [
              -16.912033634865757,
              14.280972211925782
             ],
             [
              -16.91182295527895,
              14.280732520513054
             ],
             [
              -16.911793561203,
              14.280703019773657
             ],
             [
              -16.91158826119728,
              14.280433548114432
             ],
             [
              -16.911541918041127,
              14.280373395144988
             ],
             [
              -16.911367428768983,
              14.280164200908109
             ],
             [
              -16.911260549736323,
              14.279974934819288
             ],
             [
              -16.911195151689274,
              14.279894463681222
             ],
             [
              -16.91097960132123,
              14.279626108560327
             ],
             [
              -16.91097864967017,
              14.279625081227408
             ],
             [
              -16.910719722034262,
              14.279356038968519
             ],
             [
              -16.910699139506423,
              14.27933484871931
             ],
             [
              -16.910445255702932,
              14.279087121024595
             ],
             [
              -16.91041863669742,
              14.279038642674058
             ],
             [
              -16.910253909078282,
              14.278817535870049
             ],
             [
              -16.9101373946724,
              14.27865470543235
             ],
             [
              -16.91004107931013,
              14.278548122829989
             ],
             [
              -16.9098867088301,
              14.278278240659619
             ],
             [
              -16.90985595674879,
              14.278247419343652
             ],
             [
              -16.90961977931326,
              14.278009261024055
             ],
             [
              -16.909575501355704,
              14.277956538250878
             ],
             [
              -16.909368457778072,
              14.27774015586188
             ],
             [
              -16.9092947432524,
              14.277629662043475
             ],
             [
              -16.909145204499115,
              14.277470825333635
             ],
             [
              -16.909013624984812,
              14.277259955660126
             ],
             [
              -16.908964058645058,
              14.277201156989111
             ],
             [
              -16.9087328933288,
              14.276936012762206
             ],
             [
              -16.908729186295588,
              14.276931919080774
             ],
             [
              -16.908463295930833,
              14.276662929445859
             ],
             [
              -16.908452501286053,
              14.276652278851142
             ],
             [
              -16.90819595326915,
              14.276393951071292
             ],
             [
              -16.90817206113347,
              14.276362749833028
             ],
             [
              -16.90793361831345,
              14.2761249321983
             ],
             [
              -16.9078917827473,
              14.276092340187992
             ],
             [
              -16.90764592757956,
              14.275856116059183
             ],
             [
              -16.907611390398507,
              14.275808318337331
             ],
             [
              -16.907418837690702,
              14.275586814147806
             ],
             [
              -16.907330574415564,
              14.275473899502547
             ],
             [
              -16.907188618040216,
              14.275317537013809
             ],
             [
              -16.907049581900377,
              14.275118409762007
             ],
             [
              -16.9069827742028,
              14.27504806441663
             ],
             [
              -16.906768761836734,
              14.274783299410274
             ],
             [
              -16.906764979449694,
              14.274778687255191
             ],
             [
              -16.906499664144985,
              14.274509690211506
             ],
             [
              -16.90648834354727,
              14.274495828362006
             ],
             [
              -16.906282707189337,
              14.274240305764366
             ],
             [
              -16.90620727530444,
              14.274131027468176
             ],
             [
              -16.90606657047602,
              14.273970914489908
             ],
             [
              -16.905925684694637,
              14.273704022186426
             ]
            ],
            [
             [
              -16.908271583782593,
              14.28817111721633
             ],
             [
              -16.908549779906117,
              14.288192570460124
             ],
             [
              -16.908828366877675,
              14.28826036130976
             ],
             [
              -16.90895843898041,
              14.288317139991028
             ],
             [
              -16.90910747571156,
              14.28838999947511
             ],
             [
              -16.909386472350636,
              14.288506305545292
             ],
             [
              -16.90945559511353,
              14.288584271577225
             ],
             [
              -16.90957955092757,
              14.288854397135658
             ],
             [
              -16.90939096501437,
              14.289038781222132
             ],
             [
              -16.909317606218746,
              14.2891276193102
             ],
             [
              -16.909238186739994,
              14.289399376814385
             ],
             [
              -16.909218737952994,
              14.289670653128654
             ],
             [
              -16.909233952407334,
              14.28994165130885
             ],
             [
              -16.909261780301353,
              14.290212548266277
             ],
             [
              -16.90940259019755,
              14.290416509397279
             ],
             [
              -16.90945394355603,
              14.290482126453119
             ],
             [
              -16.909511249157852,
              14.29075278676398
             ],
             [
              -16.909685026567267,
              14.290940049209876
             ],
             [
              -16.909804116067452,
              14.291021556336394
             ],
             [
              -16.909686779925032,
              14.291147792366504
             ],
             [
              -16.909408276296688,
              14.291090329031336
             ],
             [
              -16.909130071116945,
              14.291068224788601
             ],
             [
              -16.908853341925926,
              14.291221073660905
             ],
             [
              -16.908747814784757,
              14.29130115308167
             ],
             [
              -16.908576688336115,
              14.291382932450498
             ],
             [
              -16.908376553208086,
              14.291575251607563
             ],
             [
              -16.908301347975314,
              14.291700542934004
             ],
             [
              -16.9081062429756,
              14.291577419652652
             ],
             [
              -16.908252342007902,
              14.291305127530778
             ],
             [
              -16.908297648299804,
              14.2912618894356
             ],
             [
              -16.90855138304553,
              14.291031608563177
             ],
             [
              -16.90857345428566,
              14.29099953326048
             ],
             [
              -16.908693573174492,
              14.29075934761721
             ],
             [
              -16.908672182727503,
              14.29048839889288
             ],
             [
              -16.90867312990304,
              14.290217270970558
             ],
             [
              -16.908565568409163,
              14.290064608761481
             ],
             [
              -16.908458081948183,
              14.289947875563701
             ],
             [
              -16.908285493136336,
              14.289820602733661
             ],
             [
              -16.90811615333463,
              14.289950617809922
             ],
             [
              -16.908009291611947,
              14.290035944730892
             ],
             [
              -16.9077320425002,
              14.290127094386289
             ],
             [
              -16.90767507755946,
              14.289954154484645
             ],
             [
              -16.90772926231037,
              14.28979732513433
             ],
             [
              -16.907775477476083,
              14.289682229060428
             ],
             [
              -16.90772681804828,
              14.28950739463543
             ],
             [
              -16.907699070004963,
              14.289411721180173
             ],
             [
              -16.907644918780914,
              14.289141034825318
             ],
             [
              -16.907722782313986,
              14.289028674578823
             ],
             [
              -16.907827894014538,
              14.288868447405813
             ],
             [
              -16.907915073166542,
              14.288596627972575
             ],
             [
              -16.90799621333121,
              14.28848482030408
             ],
             [
              -16.908104221463834,
              14.288323990925356
             ],
             [
              -16.908271583782593,
              14.28817111721633
             ]
            ],
            [
             [
              -16.908488122724556,
              14.28087929485692
             ],
             [
              -16.90876703887526,
              14.280987240049193
             ],
             [
              -16.908782636090685,
              14.280998298754405
             ],
             [
              -16.909045745302812,
              14.281070282524036
             ],
             [
              -16.909323753552098,
              14.28107050696468
             ],
             [
              -16.909601907635114,
              14.281088028218939
             ],
             [
              -16.90988064530995,
              14.281174737779278
             ],
             [
              -16.910086470051922,
              14.281258962108238
             ],
             [
              -16.910159484655356,
              14.281273478064772
             ],
             [
              -16.91043790159054,
              14.281322129378346
             ],
             [
              -16.910716575048017,
              14.281401169626793
             ],
             [
              -16.91084004233709,
              14.281524035179052
             ],
             [
              -16.910996031736122,
              14.281572991474658
             ],
             [
              -16.911216176415905,
              14.281792136045999
             ],
             [
              -16.91127656626502,
              14.281872451352548
             ],
             [
              -16.911404251819786,
              14.282061746204176
             ],
             [
              -16.911558028539382,
              14.28228170696539
             ],
             [
              -16.911595770011274,
              14.28233132851053
             ],
             [
              -16.911838722164546,
              14.28259981014302
             ],
             [
              -16.911839559905363,
              14.282600490810502
             ],
             [
              -16.91208898618359,
              14.2828696075144
             ],
             [
              -16.912119455646426,
              14.282922536757276
             ],
             [
              -16.912210205150874,
              14.283139753797348
             ],
             [
              -16.912245697371205,
              14.28341058865676
             ],
             [
              -16.912402632902914,
              14.283534462189444
             ],
             [
              -16.912466789583227,
              14.283679932403546
             ],
             [
              -16.912631407274382,
              14.283949729664203
             ],
             [
              -16.912685957848176,
              14.284163665257749
             ],
             [
              -16.912704545285504,
              14.284220261868427
             ],
             [
              -16.91268680087617,
              14.284263442728774
             ],
             [
              -16.91240855901556,
              14.284235973411532
             ],
             [
              -16.912391802564045,
              14.284222774728564
             ],
             [
              -16.91212851550185,
              14.283995200296769
             ],
             [
              -16.91208032632307,
              14.283954157028955
             ],
             [
              -16.91184835263906,
              14.283740224963315
             ],
             [
              -16.911787072840564,
              14.28368539247526
             ],
             [
              -16.911572688947206,
              14.283415994132119
             ],
             [
              -16.911567584195012,
              14.28341345489998
             ],
             [
              -16.911346544010357,
              14.28314668996399
             ],
             [
              -16.911286880916215,
              14.283094305128616
             ],
             [
              -16.911114786208884,
              14.28287743057376
             ],
             [
              -16.911006108835924,
              14.282766908151066
             ],
             [
              -16.910838084699545,
              14.282608531650395
             ],
             [
              -16.9107255457194,
              14.282464172952466
             ],
             [
              -16.910605196080652,
              14.28233928069449
             ],
             [
              -16.91044542251363,
              14.282213482135376
             ],
             [
              -16.91030722068461,
              14.282070551730607
             ],
             [
              -16.91016546613656,
              14.281982492639669
             ],
             [
              -16.90995158820064,
              14.281802284880769
             ],
             [
              -16.90988544109644,
              14.28174329634365
             ],
             [
              -16.90960644375738,
              14.281625885214941
             ],
             [
              -16.909370599350368,
              14.281535824898704
             ],
             [
              -16.909327421743402,
              14.281505517369203
             ],
             [
              -16.909048581402327,
              14.281406665561976
             ],
             [
              -16.908769950461135,
              14.281332628781863
             ],
             [
              -16.908678019117772,
              14.281270257999914
             ],
             [
              -16.908489657240484,
              14.28106135699975
             ],
             [
              -16.908405292633677,
              14.28100132377812
             ],
             [
              -16.908488122724556,
              14.28087929485692
             ]
            ]
           ],
           "type": "MultiLineString"
          },
          "id": "4",
          "properties": {
           "style": {
            "color": "black",
            "fillColor": "#35b778",
            "weight": 0.9
           },
           "time": "2017-12-31"
          },
          "type": "Feature"
         },
         {
          "bbox": [
           -16.931781839644902,
           14.273785670602809,
           -16.905926371582986,
           14.298164288193375
          ],
          "geometry": {
           "coordinates": [
            [
             [
              -16.931781839644902,
              14.298164288193375
             ],
             [
              -16.93173929243007,
              14.297893516866788
             ],
             [
              -16.9317059064831,
              14.297679289442366
             ],
             [
              -16.93169109092182,
              14.29762279144142
             ],
             [
              -16.93166719033861,
              14.29735186861346
             ],
             [
              -16.93162391659085,
              14.297081103116591
             ],
             [
              -16.93160207939069,
              14.296810163496867
             ],
             [
              -16.931562118956013,
              14.296539371047617
             ],
             [
              -16.931585570372164,
              14.296268063602248
             ],
             [
              -16.931552245551103,
              14.295997217238439
             ],
             [
              -16.931542047733114,
              14.29572618304766
             ],
             [
              -16.931514758294757,
              14.2954552876411
             ],
             [
              -16.931490629401065,
              14.295184366553862
             ],
             [
              -16.93145086797299,
              14.294913572387703
             ],
             [
              -16.93140198401352,
              14.294646392490273
             ],
             [
              -16.931400974810284,
              14.294642860463995
             ],
             [
              -16.931282221486924,
              14.294372707592585
             ],
             [
              -16.931225477817556,
              14.2941020512012
             ],
             [
              -16.931193026979667,
              14.2938311975597
             ],
             [
              -16.931149265552623,
              14.29356043571846
             ],
             [
              -16.931114965516542,
              14.293289597046973
             ],
             [
              -16.931112315048786,
              14.293281795237453
             ],
             [
              -16.93101067690847,
              14.293019326470375
             ],
             [
              -16.9309643068613,
              14.292748585708615
             ],
             [
              -16.930912614241745,
              14.292477888119542
             ],
             [
              -16.930873169977367,
              14.292207091090583
             ],
             [
              -16.93082365518263,
              14.292034908313978
             ],
             [
              -16.93078060703737,
              14.291936725133084
             ],
             [
              -16.930679640782493,
              14.29166642730118
             ],
             [
              -16.93064093389056,
              14.291395624184176
             ],
             [
              -16.93060726725553,
              14.291124780145779
             ],
             [
              -16.930576770235376,
              14.290853910368938
             ],
             [
              -16.9305346126699,
              14.290742698190627
             ],
             [
              -16.93045292919421,
              14.290583797938675
             ],
             [
              -16.930338074856184,
              14.290313612495831
             ],
             [
              -16.930252742008875,
              14.290043187472262
             ],
             [
              -16.930250594049813,
              14.290038947093501
             ],
             [
              -16.93011110902836,
              14.289773219081459
             ],
             [
              -16.92996852637549,
              14.28956370904901
             ],
             [
              -16.92992360912574,
              14.289503622578628
             ],
             [
              -16.929777475709468,
              14.289233690393171
             ],
             [
              -16.929685711254933,
              14.289000667247413
             ],
             [
              -16.92965847079698,
              14.288963538079432
             ],
             [
              -16.929523742238533,
              14.288693513164578
             ],
             [
              -16.92948422198656,
              14.288422716171755
             ],
             [
              -16.929402735353158,
              14.288152259415149
             ],
             [
              -16.92940024935233,
              14.28812698877506
             ],
             [
              -16.929372253873932,
              14.287881389081052
             ],
             [
              -16.9293511176294,
              14.287610442964409
             ],
             [
              -16.92930576449219,
              14.287339693161712
             ],
             [
              -16.929292023923104,
              14.28706868705788
             ],
             [
              -16.92925109704791,
              14.286797901330571
             ],
             [
              -16.929232958957254,
              14.286526930848577
             ],
             [
              -16.929171074080323,
              14.286256314963842
             ],
             [
              -16.929175994612113,
              14.285985157542449
             ],
             [
              -16.929102965317433,
              14.285865941182733
             ],
             [
              -16.928947915638403,
              14.285715888607541
             ],
             [
              -16.928823187380484,
              14.285658401753482
             ],
             [
              -16.928544789653277,
              14.285612800164861
             ],
             [
              -16.928266949353194,
              14.285632624741988
             ],
             [
              -16.927989662256675,
              14.285717407647565
             ],
             [
              -16.927980444907178,
              14.285723727641683
             ],
             [
              -16.927713109003083,
              14.285888386128642
             ],
             [
              -16.927529801063525,
              14.285998495462223
             ],
             [
              -16.927436736928648,
              14.28608069295622
             ],
             [
              -16.9271599223772,
              14.286221088660108
             ],
             [
              -16.9270562068484,
              14.286273448380598
             ],
             [
              -16.92688343069206,
              14.286399453512741
             ],
             [
              -16.92673822362401,
              14.286547140743368
             ],
             [
              -16.926607641796977,
              14.286660435602808
             ],
             [
              -16.926330967346,
              14.286817444782459
             ],
             [
              -16.926326274379488,
              14.286821593362436
             ],
             [
              -16.926054393041134,
              14.286986270317373
             ],
             [
              -16.925776851213154,
              14.287041437894617
             ],
             [
              -16.925498945805025,
              14.287053889475379
             ],
             [
              -16.925393408958204,
              14.287100260373911
             ],
             [
              -16.925222236486867,
              14.287206961388524
             ],
             [
              -16.92494461193106,
              14.287252471205175
             ],
             [
              -16.924667486277183,
              14.287356665606396
             ],
             [
              -16.924569465798022,
              14.287378043147116
             ],
             [
              -16.92439014065468,
              14.287435023959437
             ],
             [
              -16.924112321860367,
              14.287457752583599
             ],
             [
              -16.923833809114292,
              14.287398854586813
             ],
             [
              -16.923810616799887,
              14.287384178816303
             ],
             [
              -16.923555006312412,
              14.287305816009566
             ],
             [
              -16.923276686581886,
              14.28726960134827
             ],
             [
              -16.92299792587037,
              14.287181479485957
             ],
             [
              -16.92289984742009,
              14.287120421246513
             ],
             [
              -16.922718789305357,
              14.28704909322201
             ],
             [
              -16.922440152965542,
              14.286975564317908
             ],
             [
              -16.922161442586138,
              14.286893300326918
             ],
             [
              -16.922064520134747,
              14.286856050651162
             ],
             [
              -16.921882608039787,
              14.28679639393672
             ],
             [
              -16.921603879080727,
              14.286711900064498
             ],
             [
              -16.921360832540614,
              14.28659061416923
             ],
             [
              -16.921324720133242,
              14.286576731974497
             ],
             [
              -16.921046062556446,
              14.28650060013142
             ],
             [
              -16.92076730415371,
              14.286412569293732
             ],
             [
              -16.92057483999492,
              14.286325839598687
             ],
             [
              -16.920488082078005,
              14.286269869986866
             ],
             [
              -16.920208759497275,
              14.286115285370961
             ],
             [
              -16.920137913657108,
              14.286058246277088
             ],
             [
              -16.919929538603128,
              14.285972647064034
             ],
             [
              -16.91965042181586,
              14.285842246038673
             ],
             [
              -16.91959094478266,
              14.285791539580803
             ],
             [
              -16.91937039817256,
              14.285604864067047
             ],
             [
              -16.919252277536835,
              14.28552315186378
             ],
             [
              -16.919090468690023,
              14.28537851995135
             ],
             [
              -16.918940183250392,
              14.285254549326464
             ],
             [
              -16.918810901800715,
              14.28519488596952
             ],
             [
              -16.918532483757293,
              14.285146750523046
             ],
             [
              -16.918254066621934,
              14.285098712803938
             ],
             [
              -16.917975763683394,
              14.285064143435678
             ],
             [
              -16.917697358081448,
              14.285017450313626
             ],
             [
              -16.91741947058096,
              14.285031913638942
             ],
             [
              -16.917258443259726,
              14.284996982881093
             ],
             [
              -16.917140995627257,
              14.28497702294475
             ],
             [
              -16.91686230402215,
              14.284896535995985
             ],
             [
              -16.91658299469953,
              14.284743071063865
             ],
             [
              -16.91657162391488,
              14.284731394967721
             ],
             [
              -16.916303759989425,
              14.284598378374083
             ],
             [
              -16.916160772087654,
              14.28446358343473
             ],
             [
              -16.91602376249357,
              14.284363525113461
             ],
             [
              -16.91574649899864,
              14.284195798607922
             ],
             [
              -16.91574432120572,
              14.28419432976575
             ],
             [
              -16.915464736278956,
              14.28400811166071
             ],
             [
              -16.91536348122095,
              14.283927761442152
             ],
             [
              -16.9151849944349,
              14.283803293071333
             ],
             [
              -16.91500378125749,
              14.28365953595828
             ],
             [
              -16.91490505233449,
              14.2835747412751
             ],
             [
              -16.914707601232177,
              14.283390798906883
             ],
             [
              -16.91462496527882,
              14.28332898367582
             ],
             [
              -16.91434528674125,
              14.283131467247395
             ],
             [
              -16.914334755406678,
              14.283122677946576
             ],
             [
              -16.91406496876092,
              14.282858260449265
             ],
             [
              -16.914059302052536,
              14.282853773222667
             ],
             [
              -16.913785639133707,
              14.282701896923676
             ],
             [
              -16.913644149982353,
              14.282585991131572
             ],
             [
              -16.913505886080532,
              14.282495391009215
             ],
             [
              -16.91331492917266,
              14.282317517567886
             ],
             [
              -16.913225680369443,
              14.282235259120872
             ],
             [
              -16.913019399644263,
              14.282048772718477
             ],
             [
              -16.912945420073296,
              14.281968590380423
             ],
             [
              -16.912759051284386,
              14.281779744752354
             ],
             [
              -16.912664969272072,
              14.281679291425693
             ],
             [
              -16.91249358668623,
              14.281510757523712
             ],
             [
              -16.912384819793512,
              14.281425582829206
             ],
             [
              -16.91220584295614,
              14.281241948865244
             ],
             [
              -16.912104250921907,
              14.281122136176915
             ],
             [
              -16.911972627600736,
              14.28097270187198
             ],
             [
              -16.911823383862153,
              14.280783281666029
             ],
             [
              -16.91175025378955,
              14.28070336752517
             ],
             [
              -16.911576869572972,
              14.280433639576685
             ],
             [
              -16.911542060764248,
              14.28039030214407
             ],
             [
              -16.91134430648496,
              14.280164386529458
             ],
             [
              -16.911261173287606,
              14.280048813653828
             ],
             [
              -16.91113096706455,
              14.279894978882407
             ],
             [
              -16.910980245810116,
              14.27970248127186
             ],
             [
              -16.9109077919881,
              14.279625649917023
             ],
             [
              -16.91069954040085,
              14.27935620091967
             ],
             [
              -16.91069931788069,
              14.279355989885863
             ],
             [
              -16.910442862856563,
              14.279087140223425
             ],
             [
              -16.91041882774661,
              14.279061289906254
             ],
             [
              -16.910208683480864,
              14.278817898687558
             ],
             [
              -16.91013808818945,
              14.278736930120578
             ],
             [
              -16.90996152388125,
              14.278548760966986
             ],
             [
              -16.90985745408412,
              14.278424977052088
             ],
             [
              -16.909717406515956,
              14.278279598516995
             ],
             [
              -16.909576756194753,
              14.278105365353262
             ],
             [
              -16.909492272337094,
              14.278010283520308
             ],
             [
              -16.909295855650342,
              14.277761617922064
             ],
             [
              -16.909276648875966,
              14.277740891987502
             ],
             [
              -16.909059047472663,
              14.27747151605067
             ],
             [
              -16.909014887324055,
              14.277409724022224
             ],
             [
              -16.908840319473956,
              14.277202148879422
             ],
             [
              -16.908734033752705,
              14.27707133985526
             ],
             [
              -16.908606902853823,
              14.276932899164755
             ],
             [
              -16.908453114123525,
              14.276725012883153
             ],
             [
              -16.908389565220492,
              14.276663520301714
             ],
             [
              -16.90818357911953,
              14.276394050220006
             ],
             [
              -16.908172208261313,
              14.276380214536397
             ],
             [
              -16.907915122166088,
              14.276125080376753
             ],
             [
              -16.907891937606124,
              14.276110725656718
             ],
             [
              -16.9076521217902,
              14.275856066443437
             ],
             [
              -16.907611406958086,
              14.275810284688854
             ],
             [
              -16.907394311821406,
              14.27558701057212
             ],
             [
              -16.907330822392968,
              14.27550335037529
             ],
             [
              -16.907168778568277,
              14.275317695883672
             ],
             [
              -16.907049901202537,
              14.275156338037018
             ],
             [
              -16.906950377404655,
              14.275048323809282
             ],
             [
              -16.90676905060357,
              14.274817606450837
             ],
             [
              -16.906733234258617,
              14.274778941397198
             ],
             [
              -16.906508884107357,
              14.27450961641015
             ],
             [
              -16.906488280839067,
              14.27448837702761
             ],
             [
              -16.9062760303578,
              14.274240359201956
             ],
             [
              -16.906207407718483,
              14.274146764361578
             ],
             [
              -16.906056074073675,
              14.273970998486119
             ],
             [
              -16.905926371582986,
              14.273785670602809
             ]
            ]
           ],
           "type": "MultiLineString"
          },
          "id": "5",
          "properties": {
           "style": {
            "color": "black",
            "fillColor": "#8fd744",
            "weight": 0.9
           },
           "time": "2018-12-31"
          },
          "type": "Feature"
         },
         {
          "bbox": [
           -16.931809153248864,
           14.273687674343682,
           -16.90592554716472,
           14.298164066322741
          ],
          "geometry": {
           "coordinates": [
            [
             [
              -16.931809153248864,
              14.298164066322741
             ],
             [
              -16.931777177220123,
              14.297893209136822
             ],
             [
              -16.931757999358766,
              14.297622247977541
             ],
             [
              -16.93171746594503,
              14.297351460263664
             ],
             [
              -16.931702091710903,
              14.297232668519433
             ],
             [
              -16.931681193729208,
              14.297080637916421
             ],
             [
              -16.93164285348141,
              14.296809832343984
             ],
             [
              -16.931630711579544,
              14.296538813979533
             ],
             [
              -16.931607980199697,
              14.29626788160621
             ],
             [
              -16.93158735527448,
              14.295996932112173
             ],
             [
              -16.931558445679354,
              14.295726049883505
             ],
             [
              -16.931537993148524,
              14.29545509896151
             ],
             [
              -16.93151983226937,
              14.29518412941747
             ],
             [
              -16.93148823501271,
              14.294913268966564
             ],
             [
              -16.93142392205177,
              14.294642674140656
             ],
             [
              -16.931401126603706,
              14.294545973091036
             ],
             [
              -16.931355116559047,
              14.294372115749852
             ],
             [
              -16.931291546741804,
              14.294101514806687
             ],
             [
              -16.931240952372075,
              14.293830808482396
             ],
             [
              -16.93121692946176,
              14.293559886415235
             ],
             [
              -16.93115794960548,
              14.293289248111783
             ],
             [
              -16.93111037366715,
              14.293054363704194
             ],
             [
              -16.93110140355927,
              14.293018590015226
             ],
             [
              -16.931017295604313,
              14.292748155605253
             ],
             [
              -16.93096671328015,
              14.292477449023291
             ],
             [
              -16.930910419546247,
              14.29220678876623
             ],
             [
              -16.93083530130676,
              14.291936281251303
             ],
             [
              -16.930822499098056,
              14.29189944168302
             ],
             [
              -16.930736145492595,
              14.291665968758142
             ],
             [
              -16.930691552609858,
              14.291395213422701
             ],
             [
              -16.93067295674595,
              14.29112424710427
             ],
             [
              -16.930616441500653,
              14.290853588466796
             ],
             [
              -16.930533670645566,
              14.290632287667243
             ],
             [
              -16.930510167301275,
              14.290583333530707
             ],
             [
              -16.93037282815633,
              14.290313330544238
             ],
             [
              -16.930266387291006,
              14.290043076776264
             ],
             [
              -16.930250380988333,
              14.290013970217638
             ],
             [
              -16.930136807469093,
              14.28977301062367
             ],
             [
              -16.93000520401008,
              14.289502960772397
             ],
             [
              -16.929967572080102,
              14.289451817818092
             ],
             [
              -16.929845757785326,
              14.289233136618972
             ],
             [
              -16.929740921696858,
              14.28896286944508
             ],
             [
              -16.929683972508244,
              14.288796760009102
             ],
             [
              -16.929640218735262,
              14.288692568674158
             ],
             [
              -16.929565583420718,
              14.288422056455065
             ],
             [
              -16.929520871889245,
              14.288151301556619
             ],
             [
              -16.929473495812772,
              14.287880568235797
             ],
             [
              -16.929445892838935,
              14.28760967457288
             ],
             [
              -16.929432872573138,
              14.287338662664387
             ],
             [
              -16.929400515271002,
              14.28706780751689
             ],
             [
              -16.9293896417381,
              14.286882693211687
             ],
             [
              -16.929383642395873,
              14.286796826818186
             ],
             [
              -16.92938820850628,
              14.286714562893467
             ],
             [
              -16.92939889416633,
              14.2865255856772
             ],
             [
              -16.929386425412755,
              14.28650538775674
             ],
             [
              -16.929259922961325,
              14.286255594750951
             ],
             [
              -16.929156468362688,
              14.285985315816287
             ],
             [
              -16.9291033190694,
              14.28590744822296
             ],
             [
              -16.928824053234614,
              14.285760011705555
             ],
             [
              -16.92877239806529,
              14.285717311049224
             ],
             [
              -16.928544574857522,
              14.285587589545369
             ],
             [
              -16.92826606583376,
              14.285528910774525
             ],
             [
              -16.92798921056157,
              14.285664377176321
             ],
             [
              -16.92790005562362,
              14.28572437882745
             ],
             [
              -16.927712852780218,
              14.285858300816457
             ],
             [
              -16.927435615425324,
              14.28594899011852
             ],
             [
              -16.92736776844432,
              14.285999807680362
             ],
             [
              -16.92715928136867,
              14.286145802456305
             ],
             [
              -16.92688205965983,
              14.286238404747438
             ],
             [
              -16.926842538946214,
              14.286275178347903
             ],
             [
              -16.926605899124684,
              14.2864557062424
             ],
             [
              -16.926477290472103,
              14.286549253057125
             ],
             [
              -16.92632978502873,
              14.286678527982719
             ],
             [
              -16.92610396547623,
              14.286823392668598
             ],
             [
              -16.926053361222547,
              14.28686502057152
             ],
             [
              -16.925776410222745,
              14.286989609667943
             ],
             [
              -16.92549862455445,
              14.28701612849895
             ],
             [
              -16.92522066822896,
              14.287022597074783
             ],
             [
              -16.92494270172772,
              14.287027875789283
             ],
             [
              -16.924725720499197,
              14.287105661310331
             ],
             [
              -16.92466558208948,
              14.287132746937985
             ],
             [
              -16.92438850410726,
              14.287242551426743
             ],
             [
              -16.92411100536372,
              14.287302898978009
             ],
             [
              -16.923833219723065,
              14.28732951702325
             ],
             [
              -16.9235548587228,
              14.287288450570324
             ],
             [
              -16.923276221822864,
              14.287214909515669
             ],
             [
              -16.92299751424399,
              14.287133032860297
             ],
             [
              -16.922956610927564,
              14.28711996259437
             ],
             [
              -16.922718980298807,
              14.287071575738123
             ],
             [
              -16.922440372799908,
              14.287001445689524
             ],
             [
              -16.92216163826056,
              14.28691634080223
             ],
             [
              -16.922043922130733,
              14.286856217005612
             ],
             [
              -16.921882532365185,
              14.286787481957337
             ],
             [
              -16.921603912010372,
              14.286715778678596
             ],
             [
              -16.921325378229387,
              14.286654257564336
             ],
             [
              -16.92119531350697,
              14.286591950377963
             ],
             [
              -16.921046076661014,
              14.286502261944657
             ],
             [
              -16.920767235687688,
              14.286404501336309
             ],
             [
              -16.920631762802486,
              14.286325380239274
             ],
             [
              -16.92048796010462,
              14.286255494538521
             ],
             [
              -16.92020889932457,
              14.286131767597114
             ],
             [
              -16.920095249534445,
              14.28605859047762
             ],
             [
              -16.919929528223395,
              14.285971423354622
             ],
             [
              -16.919650233931435,
              14.285820092127963
             ],
             [
              -16.919614478271892,
              14.285791349774215
             ],
             [
              -16.919370196350457,
              14.285581062841736
             ],
             [
              -16.919288932356398,
              14.285522856284913
             ],
             [
              -16.919090472644566,
              14.285378986393097
             ],
             [
              -16.91890462136671,
              14.285254836035065
             ],
             [
              -16.918810974096488,
              14.285203414665803
             ],
             [
              -16.918532205439323,
              14.2851139125536
             ],
             [
              -16.91825391114339,
              14.285080365600393
             ],
             [
              -16.91797561681124,
              14.285046809267527
             ],
             [
              -16.917697552859117,
              14.285040441776507
             ],
             [
              -16.917419346001786,
              14.285017206234118
             ],
             [
              -16.917263720122214,
              14.2849969403753
             ],
             [
              -16.917140994724438,
              14.284976916345126
             ],
             [
              -16.91686211135417,
              14.284873783404006
             ],
             [
              -16.9165830071033,
              14.284744536081075
             ],
             [
              -16.916557724462038,
              14.284731506886969
             ],
             [
              -16.916304288397008,
              14.284660798561593
             ],
             [
              -16.91603531388836,
              14.284464593368414
             ],
             [
              -16.916024533502455,
              14.284454618299243
             ],
             [
              -16.915745043710405,
              14.284279705810082
             ],
             [
              -16.915644113816004,
              14.284196622617204
             ],
             [
              -16.915464957165653,
              14.28403421735568
             ],
             [
              -16.91533659674083,
              14.283927977769206
             ],
             [
              -16.915185072765404,
              14.283812552131332
             ],
             [
              -16.91499008679478,
              14.283659646129102
             ],
             [
              -16.914905212652467,
              14.28359369474838
             ],
             [
              -16.91462554311885,
              14.283397309479442
             ],
             [
              -16.914618219961827,
              14.283391517833952
             ],
             [
              -16.914345943168176,
              14.283209097878668
             ],
             [
              -16.914236228097735,
              14.283123470268718
             ],
             [
              -16.91406599376056,
              14.28297949935883
             ],
             [
              -16.91393480308636,
              14.282854774231586
             ],
             [
              -16.91378601582354,
              14.282746459664322
             ],
             [
              -16.91360258932754,
              14.282586325220635
             ],
             [
              -16.913505969767115,
              14.282505292817238
             ],
             [
              -16.913280117717044,
              14.282317797350409
             ],
             [
              -16.91322592722726,
              14.282264472185497
             ],
             [
              -16.912995071503033,
              14.282048968212687
             ],
             [
              -16.912945652988085,
              14.28199615801268
             ],
             [
              -16.912751318428025,
              14.281779806882183
             ],
             [
              -16.91266508978491,
              14.281693557643178
             ],
             [
              -16.91249229026456,
              14.281510767938236
             ],
             [
              -16.912384711926226,
              14.28141281146029
             ],
             [
              -16.91222099274847,
              14.28124182718255
             ],
             [
              -16.91210409355745,
              14.281103501243539
             ],
             [
              -16.911981506599354,
              14.28097263056617
             ],
             [
              -16.911823204580646,
              14.280762047689583
             ],
             [
              -16.911771606509607,
              14.280703196067272
             ],
             [
              -16.911583146975943,
              14.280433589176091
             ],
             [
              -16.911542029051606,
              14.280386545462713
             ],
             [
              -16.911381154944063,
              14.280164090715896
             ],
             [
              -16.911260838053213,
              14.28000909487825
             ],
             [
              -16.911164475417564,
              14.279894709917611
             ],
             [
              -16.910979807512955,
              14.279650542578274
             ],
             [
              -16.910955590128662,
              14.279625266301
             ],
             [
              -16.910733972597185,
              14.279355924611277
             ],
             [
              -16.91069901015365,
              14.279319517626613
             ],
             [
              -16.91047753599379,
              14.279086862023732
             ],
             [
              -16.910418457650277,
              14.279017418145052
             ],
             [
              -16.910247993500704,
              14.278817583327623
             ],
             [
              -16.91013764349096,
              14.278684205889542
             ],
             [
              -16.91001379158421,
              14.278548341715688
             ],
             [
              -16.909856751474493,
              14.278341660177858
             ],
             [
              -16.909800258639482,
              14.278278934032155
             ],
             [
              -16.909593665709114,
              14.278009470438255
             ],
             [
              -16.909575806851755,
              14.277992771017624
             ],
             [
              -16.909365918593842,
              14.277740176221588
             ],
             [
              -16.909295103129537,
              14.277672351863066
             ],
             [
              -16.909098357543225,
              14.277471200907456
             ],
             [
              -16.909014607054534,
              14.277376472011683
             ],
             [
              -16.908853802932263,
              14.277202040799452
             ],
             [
              -16.908733886658883,
              14.277053885215858
             ],
             [
              -16.908630614491564,
              14.276932709124338
             ],
             [
              -16.90845282198825,
              14.276690341136863
             ],
             [
              -16.90842792085194,
              14.27666321293401
             ],
             [
              -16.908208091530227,
              14.276393853812023
             ],
             [
              -16.908171991860463,
              14.276354526823283
             ],
             [
              -16.9079035856154,
              14.276125172798965
             ],
             [
              -16.907891976586114,
              14.276115353515372
             ],
             [
              -16.907670918298084,
              14.275855915882055
             ],
             [
              -16.90761123947357,
              14.275790396882478
             ],
             [
              -16.907447621975347,
              14.275586583615203
             ],
             [
              -16.90733026931294,
              14.275437664098465
             ],
             [
              -16.907227829341597,
              14.275317223013992
             ],
             [
              -16.90704929523127,
              14.275084357705785
             ],
             [
              -16.90701614369431,
              14.275047797231274
             ],
             [
              -16.90679383120689,
              14.274778456273438
             ],
             [
              -16.90676847544255,
              14.274749274163383
             ],
             [
              -16.90655505593283,
              14.274509246821557
             ],
             [
              -16.90648790362805,
              14.274443554645268
             ],
             [
              -16.906319151722023,
              14.274240014079613
             ],
             [
              -16.90620681717536,
              14.274076580462339
             ],
             [
              -16.906120419519006,
              14.273970483562083
             ],
             [
              -16.905938020812254,
              14.27370082212245
             ],
             [
              -16.90592554716472,
              14.273687674343682
             ]
            ],
            [
             [
              -16.907636475909992,
              14.278786730454126
             ],
             [
              -16.907701817265256,
              14.278837996322105
             ],
             [
              -16.907915913503842,
              14.278956925691396
             ],
             [
              -16.90801008186793,
              14.279106647023426
             ],
             [
              -16.908017027224727,
              14.279377712008923
             ],
             [
              -16.90801458940115,
              14.27964885217914
             ],
             [
              -16.907954372248575,
              14.279920455359814
             ],
             [
              -16.90798712787803,
              14.280191313501852
             ],
             [
              -16.90820561506712,
              14.280345133118113
             ],
             [
              -16.908453027122636,
              14.280458700042612
             ],
             [
              -16.908484898150903,
              14.280496707996548
             ],
             [
              -16.90876438899177,
              14.280672887893815
             ],
             [
              -16.909042760504303,
              14.280716253181723
             ],
             [
              -16.90932079387324,
              14.280719508284273
             ],
             [
              -16.909382954341837,
              14.280722364574359
             ],
             [
              -16.90959911584,
              14.280756988402896
             ],
             [
              -16.90987699603164,
              14.280742085299087
             ],
             [
              -16.91015481698754,
              14.280720169235712
             ],
             [
              -16.910434714023427,
              14.28094433181256
             ],
             [
              -16.910460556376776,
              14.280984840243732
             ],
             [
              -16.910715247448035,
              14.281243844733961
             ],
             [
              -16.910722446383122,
              14.281253858796006
             ],
             [
              -16.91085071691763,
              14.28152394950097
             ],
             [
              -16.91099644227206,
              14.28162163319276
             ],
             [
              -16.911152356497933,
              14.28179264838771
             ],
             [
              -16.911277398531347,
              14.281971044313732
             ],
             [
              -16.91133868519564,
              14.282062272629007
             ],
             [
              -16.911500911100465,
              14.282332090202537
             ],
             [
              -16.91155928434311,
              14.282430446879767
             ],
             [
              -16.91165701070578,
              14.282601956811122
             ],
             [
              -16.911840795317463,
              14.282845315831448
             ],
             [
              -16.911863885074293,
              14.28287141548437
             ],
             [
              -16.911842170005173,
              14.283008105711223
             ],
             [
              -16.911563094838925,
              14.282881759161375
             ],
             [
              -16.911285553486184,
              14.282937066800866
             ],
             [
              -16.911205634149194,
              14.282876701211537
             ],
             [
              -16.911005960794,
              14.282749369209476
             ],
             [
              -16.91086021421394,
              14.282608354018137
             ],
             [
              -16.910725881158413,
              14.28250391998316
             ],
             [
              -16.91056208132063,
              14.282339626719947
             ],
             [
              -16.910445705729373,
              14.282247046644516
             ],
             [
              -16.910210863138836,
              14.282071324921082
             ],
             [
              -16.9101658651456,
              14.282029787770202
             ],
             [
              -16.90988615934459,
              14.281828445212934
             ],
             [
              -16.90985186386402,
              14.281803084923446
             ],
             [
              -16.909606302461558,
              14.28160913182748
             ],
             [
              -16.909327817128716,
              14.28155240519484
             ],
             [
              -16.909242103389936,
              14.28153685542376
             ],
             [
              -16.909049225361414,
              14.281483042800714
             ],
             [
              -16.908770518528804,
              14.281400015094226
             ],
             [
              -16.90854142182497,
              14.281271353078234
             ],
             [
              -16.908491044040424,
              14.281225891218057
             ],
             [
              -16.908211232481865,
              14.281011721710088
             ],
             [
              -16.908202348563883,
              14.28100295045882
             ],
             [
              -16.907931209095093,
              14.2807723509211
             ],
             [
              -16.90789274386045,
              14.28073431111083
             ],
             [
              -16.907672810020877,
              14.280464952799028
             ],
             [
              -16.907650255491404,
              14.280422492800392
             ],
             [
              -16.90749739485564,
              14.280195237555315
             ],
             [
              -16.907453331586478,
              14.279924469866751
             ],
             [
              -16.90744000455387,
              14.279653455923503
             ],
             [
              -16.90747138053046,
              14.279382083855005
             ],
             [
              -16.907592027156774,
              14.279109996614961
             ],
             [
              -16.90744385280388,
              14.278840062934927
             ],
             [
              -16.907636475909992,
              14.278786730454126
             ]
            ]
           ],
           "type": "MultiLineString"
          },
          "id": "6",
          "properties": {
           "style": {
            "color": "black",
            "fillColor": "#fee724",
            "weight": 0.9
           },
           "time": "2019-12-31"
          },
          "type": "Feature"
         }
        ],
        "type": "FeatureCollection"
       },
       "name": "",
       "options": [],
       "popup": null,
       "popup_max_height": null,
       "popup_max_width": 300,
       "popup_min_width": 50,
       "style": {
        "fillOpacity": 0.8
       }
      }
     },
     "5a80153eb3d1424d833132f491cab723": {
      "model_module": "jupyter-leaflet",
      "model_module_version": "^0.13.0",
      "model_name": "LeafletMapStyleModel",
      "state": {
       "_model_module_version": "^0.13.0"
      }
     },
     "85bebc69eb994c56ab5cb86cfdbea24b": {
      "model_module": "@jupyter-widgets/base",
      "model_module_version": "1.2.0",
      "model_name": "LayoutModel",
      "state": {}
     },
     "9e2c0a58a15642bcb68385b012560f1d": {
      "model_module": "@jupyter-widgets/controls",
      "model_module_version": "1.5.0",
      "model_name": "LabelModel",
      "state": {
       "layout": "IPY_MODEL_85bebc69eb994c56ab5cb86cfdbea24b",
       "style": "IPY_MODEL_fefb36c87db7403da9d5ae0b18bc933d"
      }
     },
     "9e85f055e1484a149f82d3e34793652e": {
      "model_module": "@jupyter-widgets/base",
      "model_module_version": "1.2.0",
      "model_name": "LayoutModel",
      "state": {
       "height": "600px",
       "width": "800px"
      }
     },
     "a441ff0de98c494d8b40e70efcce5535": {
      "model_module": "jupyter-leaflet",
      "model_module_version": "^0.13.0",
      "model_name": "LeafletMapStyleModel",
      "state": {
       "_model_module_version": "^0.13.0"
      }
     },
     "b232ab344d964619a534a4494a2ad27e": {
      "model_module": "jupyter-leaflet",
      "model_module_version": "^0.13.0",
      "model_name": "LeafletMapModel",
      "state": {
       "_model_module_version": "^0.13.0",
       "_view_module_version": "^0.13.0",
       "center": [
        14.28589939729014,
        -16.91889071594806
       ],
       "controls": [
        "IPY_MODEL_ef6937d85e9a4fa4a16266e99e783eea",
        "IPY_MODEL_d6c1b8177d124a29beaf2649a7979194"
       ],
       "default_style": "IPY_MODEL_a441ff0de98c494d8b40e70efcce5535",
       "dragging_style": "IPY_MODEL_02b5643cafe44ebaadc59600f015cb52",
       "east": -16.884527206420902,
       "fullscreen": false,
       "interpolation": "bilinear",
       "layers": [
        "IPY_MODEL_e6642e684f9b44f4b0b7624d99f9ccb0",
        "IPY_MODEL_d8ba922ea7bb40f3b4ae11f24e941509"
       ],
       "layout": "IPY_MODEL_9e85f055e1484a149f82d3e34793652e",
       "modisdate": "yesterday",
       "north": 14.31087839309175,
       "options": [
        "bounce_at_zoom_limits",
        "box_zoom",
        "center",
        "close_popup_on_click",
        "double_click_zoom",
        "dragging",
        "fullscreen",
        "inertia",
        "inertia_deceleration",
        "inertia_max_speed",
        "interpolation",
        "keyboard",
        "keyboard_pan_offset",
        "keyboard_zoom_offset",
        "max_zoom",
        "min_zoom",
        "scroll_wheel_zoom",
        "tap",
        "tap_tolerance",
        "touch_zoom",
        "world_copy_jump",
        "zoom",
        "zoom_animation_threshold",
        "zoom_start"
       ],
       "south": 14.260972499309089,
       "style": "IPY_MODEL_5a80153eb3d1424d833132f491cab723",
       "west": -16.953191757202152,
       "window_url": "https://sandbox.digitalearth.africa/user/caitlinadams/lab?redirects=1",
       "zoom": 14
      }
     },
     "d6c1b8177d124a29beaf2649a7979194": {
      "model_module": "jupyter-leaflet",
      "model_module_version": "^0.13.0",
      "model_name": "LeafletAttributionControlModel",
      "state": {
       "_model_module_version": "^0.13.0",
       "_view_module_version": "^0.13.0",
       "options": [
        "position",
        "prefix"
       ],
       "position": "bottomright",
       "prefix": "Leaflet"
      }
     },
     "d8ba922ea7bb40f3b4ae11f24e941509": {
      "model_module": "jupyter-leaflet",
      "model_module_version": "^0.13.0",
      "model_name": "LeafletGeoJSONModel",
      "state": {
       "_model_module": "jupyter-leaflet",
       "_model_module_version": "^0.13.0",
       "_view_count": null,
       "_view_module": "jupyter-leaflet",
       "_view_module_version": "^0.13.0",
       "base": false,
       "bottom": false,
       "data": {
        "bbox": [
         -16.931856332017638,
         14.273634506386903,
         -16.90592509987848,
         14.298164288193375
        ],
        "features": [
         {
          "bbox": [
           -16.931838120823237,
           14.273634506386903,
           -16.90592509987848,
           14.298163831013342
          ],
          "geometry": {
           "coordinates": [
            [
             [
              -16.931838120823237,
              14.298163831013342
             ],
             [
              -16.931817302994638,
              14.297892883197242
             ],
             [
              -16.931733897491945,
              14.29762244374716
             ],
             [
              -16.931704456322155,
              14.297509511210203
             ],
             [
              -16.93167590302414,
              14.297351797847826
             ],
             [
              -16.93170201893323,
              14.297224147799904
             ],
             [
              -16.93174251182507,
              14.297080139880647
             ],
             [
              -16.931700275256194,
              14.29701999857737
             ],
             [
              -16.931618978890913,
              14.296810026245895
             ],
             [
              -16.93162887050508,
              14.296538828931888
             ],
             [
              -16.93161878583165,
              14.29626779385011
             ],
             [
              -16.93162597995142,
              14.295996618434966
             ],
             [
              -16.93157099568625,
              14.295725947966861
             ],
             [
              -16.93155914699066,
              14.295454927178882
             ],
             [
              -16.93152751560687,
              14.29518406702578
             ],
             [
              -16.931463588209954,
              14.294913469099772
             ],
             [
              -16.93144908131489,
              14.294642469853956
             ],
             [
              -16.93140153291342,
              14.294593559974786
             ],
             [
              -16.9312808052404,
              14.294372719091019
             ],
             [
              -16.93126459461513,
              14.294101733625435
             ],
             [
              -16.93123102663973,
              14.293830889064209
             ],
             [
              -16.931215805114135,
              14.293559895542973
             ],
             [
              -16.931113176197858,
              14.293382676980785
             ],
             [
              -16.931071922416425,
              14.29328994645342
             ],
             [
              -16.93102119706201,
              14.29301924107694
             ],
             [
              -16.931000831744168,
              14.292748289241722
             ],
             [
              -16.93096439505861,
              14.292477467839445
             ],
             [
              -16.930918813245857,
              14.292206720640614
             ],
             [
              -16.93082384729942,
              14.29205741986322
             ],
             [
              -16.930770335090944,
              14.291936808495624
             ],
             [
              -16.930776026365837,
              14.291665645111614
             ],
             [
              -16.930731685554843,
              14.291394887743683
             ],
             [
              -16.9306814468407,
              14.291124178209538
             ],
             [
              -16.930629946787263,
              14.29085347888016
             ],
             [
              -16.93053461854363,
              14.290743386621584
             ],
             [
              -16.930418894820797,
              14.290584074073953
             ],
             [
              -16.93030132515836,
              14.290313910638565
             ],
             [
              -16.930252326670626,
              14.290242057824255
             ],
             [
              -16.930164138902423,
              14.290043906237132
             ],
             [
              -16.93007065519149,
              14.289773547224826
             ],
             [
              -16.92996855205638,
              14.28956672012265
             ],
             [
              -16.929936706246927,
              14.28950351635135
             ],
             [
              -16.929827278171395,
              14.289233286492351
             ],
             [
              -16.929686211855138,
              14.289059373306808
             ],
             [
              -16.929609952826038,
              14.288963931521852
             ],
             [
              -16.929524953910388,
              14.28869350333961
             ],
             [
              -16.929438588819398,
              14.288423086174717
             ],
             [
              -16.9294016986105,
              14.288296980509617
             ],
             [
              -16.92937436711354,
              14.288152489417905
             ],
             [
              -16.92934266442196,
              14.287881628977068
             ],
             [
              -16.929305432231136,
              14.287610813346028
             ],
             [
              -16.9292783394885,
              14.287339915494245
             ],
             [
              -16.92925092519973,
              14.287069020232932
             ],
             [
              -16.929230037779796,
              14.286798072046059
             ],
             [
              -16.929203552479272,
              14.286527169223243
             ],
             [
              -16.929106495157964,
              14.286280104584417
             ],
             [
              -16.929090660983164,
              14.286256966767313
             ],
             [
              -16.92882892199356,
              14.285987970568733
             ],
             [
              -16.928825978351604,
              14.285985925698197
             ],
             [
              -16.928547453067768,
              14.285925401555838
             ],
             [
              -16.928269681664993,
              14.285953358195156
             ],
             [
              -16.927991808974216,
              14.285969436277265
             ],
             [
              -16.927957439409663,
              14.28599503171143
             ],
             [
              -16.92771542840767,
              14.28616072401851
             ],
             [
              -16.92757443189648,
              14.286269251762404
             ],
             [
              -16.927439248333318,
              14.286375612864376
             ],
             [
              -16.927232099829947,
              14.286543141919124
             ],
             [
              -16.927163296640106,
              14.286617387294752
             ],
             [
              -16.926894551467292,
              14.286816992942766
             ],
             [
              -16.926924190135644,
              14.287087870805774
             ],
             [
              -16.927168578420858,
              14.287237694646056
             ],
             [
              -16.927446630773183,
              14.287242510398668
             ],
             [
              -16.9277244753891,
              14.287222939940005
             ],
             [
              -16.92780532316623,
              14.287351852489032
             ],
             [
              -16.927771944266137,
              14.287623240584976
             ],
             [
              -16.92772850793633,
              14.287696377534356
             ],
             [
              -16.92750401055954,
              14.28789652861874
             ],
             [
              -16.927452401762473,
              14.287920139641395
             ],
             [
              -16.92717444049613,
              14.287926118541975
             ],
             [
              -16.92689707650228,
              14.28800225373761
             ],
             [
              -16.92683759111534,
              14.287901925481806
             ],
             [
              -16.926894557942017,
              14.287706445386222
             ],
             [
              -16.927038069969704,
              14.287629184336428
             ],
             [
              -16.926893502312463,
              14.287582458233501
             ],
             [
              -16.926710351838654,
              14.287360719985337
             ],
             [
              -16.926612567234972,
              14.287239059124168
             ],
             [
              -16.926334573691513,
              14.287241164433334
             ],
             [
              -16.92605694526508,
              14.28728617910165
             ],
             [
              -16.925778797353956,
              14.287270159266164
             ],
             [
              -16.925500830306206,
              14.28727539846329
             ],
             [
              -16.925223189615693,
              14.28731900987457
             ],
             [
              -16.924945233969222,
              14.287325607559374
             ],
             [
              -16.92466662683004,
              14.287255601334156
             ],
             [
              -16.924388402580924,
              14.287230610932157
             ],
             [
              -16.92410941726091,
              14.28711609508486
             ],
             [
              -16.924089451173444,
              14.28711080635446
             ],
             [
              -16.923831106123124,
              14.287080864399686
             ],
             [
              -16.92355284143513,
              14.287051093542049
             ],
             [
              -16.923274349228834,
              14.28699454436968
             ],
             [
              -16.922995231316477,
              14.28686433897026
             ],
             [
              -16.922971610840367,
              14.28684872300041
             ],
             [
              -16.922716380310607,
              14.28676551855218
             ],
             [
              -16.922437886700433,
              14.286708751103824
             ],
             [
              -16.922158906610374,
              14.286594687897903
             ],
             [
              -16.922142776811935,
              14.286584300101804
             ],
             [
              -16.921878953993854,
              14.286366060465511
             ],
             [
              -16.921722901549053,
              14.286316572265026
             ],
             [
              -16.921600241776293,
              14.286283473429641
             ],
             [
              -16.92132170633521,
              14.286221692081984
             ],
             [
              -16.921042982124305,
              14.286137655612109
             ],
             [
              -16.920806818587067,
              14.286052848765793
             ],
             [
              -16.92076392096317,
              14.286013891983359
             ],
             [
              -16.920484632896194,
              14.285863352722686
             ],
             [
              -16.92032661533961,
              14.285785605016136
             ],
             [
              -16.920205654533316,
              14.28574928046175
             ],
             [
              -16.919927161617206,
              14.285692411504142
             ],
             [
              -16.91964849302986,
              14.285614816370803
             ],
             [
              -16.919524720841707,
              14.28552095478766
             ],
             [
              -16.919368536794625,
              14.285385346927628
             ],
             [
              -16.91912497861133,
              14.285253059375531
             ],
             [
              -16.91908921666996,
              14.28523084238569
             ],
             [
              -16.918810967196507,
              14.285202600678822
             ],
             [
              -16.91853199161945,
              14.285088684480057
             ],
             [
              -16.918277720257546,
              14.28498877030537
             ],
             [
              -16.9182529557322,
              14.284967621991909
             ],
             [
              -16.917974433204574,
              14.284907116607437
             ],
             [
              -16.91769573093251,
              14.28482538083246
             ],
             [
              -16.917417081098655,
              14.284749816347569
             ],
             [
              -16.917351510212466,
              14.284725113975238
             ],
             [
              -16.91713804600804,
              14.284628744149868
             ],
             [
              -16.91685973540446,
              14.284593198895909
             ],
             [
              -16.916580738348763,
              14.284476569194105
             ],
             [
              -16.916550570668143,
              14.284460445149325
             ],
             [
              -16.916301284760312,
              14.284305978350767
             ],
             [
              -16.91616587928609,
              14.284192422921212
             ],
             [
              -16.91602149850973,
              14.28409603615401
             ],
             [
              -16.915778854256025,
              14.2839244187405
             ],
             [
              -16.915741679766313,
              14.283882194598098
             ],
             [
              -16.91546242155251,
              14.283734540434683
             ],
             [
              -16.915322890541937,
              14.283656968527387
             ],
             [
              -16.915183010582858,
              14.28356878956492
             ],
             [
              -16.914929759416065,
              14.283389011859978
             ],
             [
              -16.914903289520684,
              14.283366332092104
             ],
             [
              -16.91462402551399,
              14.283217861859491
             ],
             [
              -16.9145014201191,
              14.283121337594464
             ],
             [
              -16.914343935911862,
              14.282971713439094
             ],
             [
              -16.91417406969661,
              14.282852850398822
             ],
             [
              -16.9140641279383,
              14.28275880549795
             ],
             [
              -16.913784694794284,
              14.282590180058717
             ],
             [
              -16.913778465706873,
              14.282584911372922
             ],
             [
              -16.913504591448408,
              14.282342208991324
             ],
             [
              -16.913469406703175,
              14.28231627595791
             ],
             [
              -16.913224995549523,
              14.282154217432115
             ],
             [
              -16.91312470586297,
              14.282047926478176
             ],
             [
              -16.91294477398041,
              14.281892118967779
             ],
             [
              -16.912820322725455,
              14.281779252456538
             ],
             [
              -16.91266439140036,
              14.281610883195391
             ],
             [
              -16.912554015634907,
              14.281510272072953
             ],
             [
              -16.91238407592257,
              14.281337509065233
             ],
             [
              -16.912296763398267,
              14.281241218580423
             ],
             [
              -16.91211525434273,
              14.28097155641953
             ],
             [
              -16.91210287332412,
              14.280959001584627
             ],
             [
              -16.911887879448543,
              14.280702262386175
             ],
             [
              -16.911822127005607,
              14.280634419718897
             ],
             [
              -16.911638113536988,
              14.280433147848404
             ],
             [
              -16.911541519679822,
              14.280326205097357
             ],
             [
              -16.911410618542398,
              14.280163854182716
             ],
             [
              -16.91126078795703,
              14.28000315944152
             ],
             [
              -16.91116104413308,
              14.279894737460053
             ],
             [
              -16.910979742489495,
              14.279642837209057
             ],
             [
              -16.910964195046585,
              14.279625197239048
             ],
             [
              -16.910764786045544,
              14.279355677338065
             ],
             [
              -16.910698802093115,
              14.279294857929747
             ],
             [
              -16.91051321727069,
              14.279086575729972
             ],
             [
              -16.910418261218787,
              14.278994132808473
             ],
             [
              -16.91026085856779,
              14.27881748011775
             ],
             [
              -16.910137541300518,
              14.278672089981647
             ],
             [
              -16.910020563599403,
              14.278548287394953
             ],
             [
              -16.909856958680056,
              14.278366231089327
             ],
             [
              -16.90976839328151,
              14.278279189599894
             ],
             [
              -16.909597952327083,
              14.278009436062552
             ],
             [
              -16.909575788760517,
              14.277990625343818
             ],
             [
              -16.909362205949964,
              14.277740205990286
             ],
             [
              -16.909295128006477,
              14.2776753028432
             ],
             [
              -16.909115445852063,
              14.277471063910903
             ],
             [
              -16.909014582293715,
              14.277373534310266
             ],
             [
              -16.90884694966629,
              14.277202095733582
             ],
             [
              -16.90873408741591,
              14.277077707703343
             ],
             [
              -16.908590398600126,
              14.276933031439137
             ],
             [
              -16.908453525979375,
              14.276773893372276
             ],
             [
              -16.90834026212172,
              14.276663915389264
             ],
             [
              -16.908172341111268,
              14.27639598437275
             ],
             [
              -16.90817077235371,
              14.276394152834408
             ],
             [
              -16.90789212569333,
              14.276133056098997
             ],
             [
              -16.90788458302636,
              14.276125325032268
             ],
             [
              -16.90769785801757,
              14.275855700090375
             ],
             [
              -16.907611038441054,
              14.275766525406354
             ],
             [
              -16.907449995038796,
              14.275586564609243
             ],
             [
              -16.907330523773446,
              14.275467885016603
             ],
             [
              -16.90718445928594,
              14.275317570316279
             ],
             [
              -16.90704968118606,
              14.275130203413323
             ],
             [
              -16.906973766201286,
              14.275048136541775
             ],
             [
              -16.90679171517704,
              14.274778473214091
             ],
             [
              -16.906768540839316,
              14.274757043676846
             ],
             [
              -16.906560246564503,
              14.274509205271885
             ],
             [
              -16.906487861435934,
              14.274438541125509
             ],
             [
              -16.906328018357666,
              14.27423994311442
             ],
             [
              -16.90620673560323,
              14.274066885881817
             ],
             [
              -16.906130043514434,
              14.273970406544628
             ],
             [
              -16.905992750172494,
              14.273700384186917
             ],
             [
              -16.90592509987848,
              14.273634506386903
             ]
            ],
            [
             [
              -16.90848573018806,
              14.280595428018891
             ],
             [
              -16.908763370370544,
              14.280552048174807
             ],
             [
              -16.909041713627598,
              14.280592079996708
             ],
             [
              -16.909318969375416,
              14.280503129942002
             ],
             [
              -16.909596731282345,
              14.280474230440104
             ],
             [
              -16.909875146933977,
              14.280522853761115
             ],
             [
              -16.910153707156653,
              14.28058860556233
             ],
             [
              -16.91035720001757,
              14.28071454932003
             ],
             [
              -16.910433712164664,
              14.280825586992137
             ],
             [
              -16.910525795142824,
              14.28098431672823
             ],
             [
              -16.91071520890523,
              14.281239277258303
             ],
             [
              -16.91072299881911,
              14.28125385436231
             ],
             [
              -16.91076831979231,
              14.281524610838003
             ],
             [
              -16.91099742499176,
              14.281738068478255
             ],
             [
              -16.91105518427416,
              14.281793428446484
             ],
             [
              -16.91127721305965,
              14.281949072801677
             ],
             [
              -16.9113591575394,
              14.28206210826149
             ],
             [
              -16.91136648381197,
              14.282333169553446
             ],
             [
              -16.911559509387136,
              14.282457101364788
             ],
             [
              -16.91173281361552,
              14.282601348076536
             ],
             [
              -16.911839774935018,
              14.282724481288824
             ],
             [
              -16.911948262632865,
              14.282870737804549
             ],
             [
              -16.91212038241212,
              14.283032267520507
             ],
             [
              -16.91220498872189,
              14.28313979570052
             ],
             [
              -16.912401341858658,
              14.283381628104106
             ],
             [
              -16.912422634653918,
              14.283409167214426
             ],
             [
              -16.91252251421025,
              14.283679484689166
             ],
             [
              -16.912683052541063,
              14.283819798647801
             ],
             [
              -16.91281089556379,
              14.283948287386291
             ],
             [
              -16.912964063489273,
              14.284175025864437
             ],
             [
              -16.912998646451804,
              14.284217898416722
             ],
             [
              -16.91296575820558,
              14.284375575676489
             ],
             [
              -16.912688163489907,
              14.284424714689921
             ],
             [
              -16.912408736277836,
              14.284256956475106
             ],
             [
              -16.912363988656367,
              14.284222998190964
             ],
             [
              -16.912128786885354,
              14.284027330029827
             ],
             [
              -16.912047907653736,
              14.283954417439663
             ],
             [
              -16.91184835804886,
              14.28374086554948
             ],
             [
              -16.911784833533005,
              14.283685410460103
             ],
             [
              -16.911569211909327,
              14.283416022054086
             ],
             [
              -16.9115675752452,
              14.28341239495312
             ],
             [
              -16.9114484893566,
              14.283145871391705
             ],
             [
              -16.911286121740595,
              14.283004378585634
             ],
             [
              -16.911185368674527,
              14.28287686391357
             ],
             [
              -16.91100584804612,
              14.282736011635448
             ],
             [
              -16.910740545695898,
              14.282609314565518
             ],
             [
              -16.910726519719514,
              14.282579584391396
             ],
             [
              -16.910605300083546,
              14.282339279859787
             ],
             [
              -16.910444678026785,
              14.28212525097718
             ],
             [
              -16.910401586468765,
              14.282069794484595
             ],
             [
              -16.91022248492413,
              14.281800111389614
             ],
             [
              -16.910163599330403,
              14.281761215046526
             ],
             [
              -16.909884715820912,
              14.281657313803485
             ],
             [
              -16.909605756919337,
              14.281544446908791
             ],
             [
              -16.90956024002904,
              14.281534303872293
             ],
             [
              -16.909325851214007,
              14.281319270255247
             ],
             [
              -16.909047435641185,
              14.281270770605472
             ],
             [
              -16.909024048009478,
              14.281267483591812
             ],
             [
              -16.908768116214215,
              14.281115041147682
             ],
             [
              -16.908489652663132,
              14.281060813925015
             ],
             [
              -16.908346788991583,
              14.281001792726762
             ],
             [
              -16.90842257240437,
              14.280730064714767
             ],
             [
              -16.90848573018806,
              14.280595428018891
             ]
            ]
           ],
           "type": "MultiLineString"
          },
          "id": "0",
          "properties": {
           "style": {
            "color": "#440154",
            "fillColor": "#440154",
            "fillOpacity": 0.8,
            "weight": 0.9
           },
           "time": "2013-12-31"
          },
          "type": "Feature"
         },
         {
          "bbox": [
           -16.93180688040911,
           14.27377290683038,
           -16.905926264204176,
           14.298164084785322
          ],
          "geometry": {
           "coordinates": [
            [
             [
              -16.93180688040911,
              14.298164084785322
             ],
             [
              -16.931765487285414,
              14.29789330409228
             ],
             [
              -16.931724742092904,
              14.297622518112085
             ],
             [
              -16.931705165228376,
              14.297592506997507
             ],
             [
              -16.93160310503372,
              14.297352389113334
             ],
             [
              -16.931612700934384,
              14.29708119420761
             ],
             [
              -16.931607849460764,
              14.296810116634806
             ],
             [
              -16.93161733991055,
              14.296538922577747
             ],
             [
              -16.93155224807006,
              14.296268334217421
             ],
             [
              -16.93156251886163,
              14.29599713380936
             ],
             [
              -16.9315363580764,
              14.29572622925186
             ],
             [
              -16.931532561195137,
              14.295455143072115
             ],
             [
              -16.931482380801935,
              14.295184433534411
             ],
             [
              -16.931476374511853,
              14.294913365274713
             ],
             [
              -16.931452498646642,
              14.294642442105902
             ],
             [
              -16.93140633858828,
              14.294371699859463
             ],
             [
              -16.931399532286257,
              14.294359245369552
             ],
             [
              -16.93126626967976,
              14.294101720026022
             ],
             [
              -16.931222124018728,
              14.293830961339571
             ],
             [
              -16.93117843407679,
              14.293560198927459
             ],
             [
              -16.931112733564156,
              14.293330823502473
             ],
             [
              -16.931098456571902,
              14.293289731060819
             ],
             [
              -16.931020381098485,
              14.293019247700236
             ],
             [
              -16.93100397643348,
              14.292748263716499
             ],
             [
              -16.930945397367122,
              14.292477622035918
             ],
             [
              -16.93086267116741,
              14.292207176299804
             ],
             [
              -16.930830200498274,
              14.291936322648422
             ],
             [
              -16.93082267607675,
              14.291920179624451
             ],
             [
              -16.930724456571763,
              14.291666063616349
             ],
             [
              -16.930673313662012,
              14.291395361429606
             ],
             [
              -16.93065714615715,
              14.291124375401944
             ],
             [
              -16.930636008986948,
              14.29085342968909
             ],
             [
              -16.93053406059028,
              14.290677991484074
             ],
             [
              -16.930456442780777,
              14.290583769431185
             ],
             [
              -16.93029836543649,
              14.290313934649934
             ],
             [
              -16.930252082140168,
              14.290213392334111
             ],
             [
              -16.93017614547349,
              14.290043808839526
             ],
             [
              -16.93008917458282,
              14.289773397004685
             ],
             [
              -16.929968202497363,
              14.289525734414607
             ],
             [
              -16.929953971721037,
              14.28950337631456
             ],
             [
              -16.929798904115852,
              14.289233516608844
             ],
             [
              -16.92968624654551,
              14.289063441483927
             ],
             [
              -16.929609990492768,
              14.288963931216406
             ],
             [
              -16.92952539201804,
              14.288693499787165
             ],
             [
              -16.92946450249594,
              14.288422876062453
             ],
             [
              -16.929401176229735,
              14.288235707756355
             ],
             [
              -16.92937421144016,
              14.288152490680059
             ],
             [
              -16.929322718972617,
              14.287881790682414
             ],
             [
              -16.92926516308452,
              14.287611139809625
             ],
             [
              -16.92922276218287,
              14.287340366045768
             ],
             [
              -16.929187303514635,
              14.287069535980908
             ],
             [
              -16.929217833810505,
              14.286798170975834
             ],
             [
              -16.929178048363482,
              14.28652737596166
             ],
             [
              -16.92914737953153,
              14.28625650702728
             ],
             [
              -16.929105929793934,
              14.28621377016167
             ],
             [
              -16.928909606103407,
              14.285987316668535
             ],
             [
              -16.928825252013635,
              14.285900689830628
             ],
             [
              -16.928547294533374,
              14.285906794798263
             ],
             [
              -16.928269538672584,
              14.285936573174673
             ],
             [
              -16.92807976845328,
              14.285994040739144
             ],
             [
              -16.927992522907,
              14.286053252223223
             ],
             [
              -16.92771557813423,
              14.286178304287896
             ],
             [
              -16.92758626853227,
              14.286269155895425
             ],
             [
              -16.927439329424786,
              14.286385135505519
             ],
             [
              -16.927162424247168,
              14.286514928119102
             ],
             [
              -16.927123992620224,
              14.28654401733079
             ],
             [
              -16.926885858083498,
              14.28668458294365
             ],
             [
              -16.926608539935028,
              14.286765947706435
             ],
             [
              -16.92651402593033,
              14.286820073592121
             ],
             [
              -16.926388972992633,
              14.287092203771621
             ],
             [
              -16.926334395645995,
              14.287220245692346
             ],
             [
              -16.92628363945857,
              14.287093056380247
             ],
             [
              -16.926054595970527,
              14.28701011656289
             ],
             [
              -16.925947369198116,
              14.287095777964327
             ],
             [
              -16.92577881465372,
              14.28727219241297
             ],
             [
              -16.925501602507612,
              14.287366163852724
             ],
             [
              -16.925223162323967,
              14.28731580151102
             ],
             [
              -16.924944834440165,
              14.287278632838689
             ],
             [
              -16.924666729194172,
              14.287267638597974
             ],
             [
              -16.92438853814592,
              14.287246554705273
             ],
             [
              -16.924109844265715,
              14.287166322678301
             ],
             [
              -16.924031645044472,
              14.287111273706019
             ],
             [
              -16.923830922196327,
              14.287059226265306
             ],
             [
              -16.923552760591114,
              14.287041581225873
             ],
             [
              -16.923274599084547,
              14.287023947378367
             ]
            ],
            [
             [
              -16.91658102091956,
              14.284509944468375
             ],
             [
              -16.91649128516282,
              14.284460922500669
             ],
             [
              -16.91630158754977,
              14.284341747373364
             ],
             [
              -16.916153790391775,
              14.284192520237792
             ],
             [
              -16.916021614217897,
              14.284109707171487
             ],
             [
              -16.91574269995241,
              14.284002749444621
             ],
             [
              -16.91563466002175,
              14.283925579221256
             ],
             [
              -16.91546316115558,
              14.283821952741333
             ],
             [
              -16.915251504134574,
              14.283657542912172
             ],
             [
              -16.915183230830134,
              14.283594824357372
             ],
             [
              -16.914910932599877,
              14.283389163311474
             ],
             [
              -16.914903436161776,
              14.283383668906234
             ],
             [
              -16.914624323072463,
              14.283253046550648
             ],
             [
              -16.914445190828125,
              14.283121789815098
             ],
             [
              -16.91434465267333,
              14.283056480403523
             ],
             [
              -16.914076148280742,
              14.282853637768955
             ],
             [
              -16.91406484165671,
              14.282843226242203
             ],
             [
              -16.913785217376596,
              14.282652002502207
             ],
             [
              -16.913715004342308,
              14.282585421545695
             ],
             [
              -16.91350528649565,
              14.28242444782148
             ],
             [
              -16.913380116948307,
              14.282316993634703
             ],
             [
              -16.913225215032266,
              14.282180191106919
             ],
             [
              -16.913087472404502,
              14.282048225691405
             ],
             [
              -16.912945122403222,
              14.281933358271761
             ],
             [
              -16.912779028007037,
              14.28177958424771
             ],
             [
              -16.912664923987013,
              14.281673930610758
             ],
             [
              -16.912499782111873,
              14.281510707753997
             ],
             [
              -16.912384461406585,
              14.281383150159598
             ],
             [
              -16.9122516511792,
              14.281241580931974
             ],
             [
              -16.91210341655895,
              14.281023331487427
             ],
             [
              -16.912053758663024,
              14.280972050309174
             ],
             [
              -16.911842543091765,
              14.280702626447537
             ],
             [
              -16.9118225306022,
              14.280682221840912
             ],
             [
              -16.91158607130212,
              14.280433565696933
             ],
             [
              -16.91154200561459,
              14.280383769111204
             ],
             [
              -16.91136142726191,
              14.280164249087294
             ],
             [
              -16.911260729118222,
              14.279996188167845
             ],
             [
              -16.911159156407912,
              14.279894752612543
             ],
             [
              -16.910979927626347,
              14.2796647761675
             ],
             [
              -16.910944800390073,
              14.279625352897604
             ],
             [
              -16.910725146694062,
              14.279355995437065
             ],
             [
              -16.910698976114446,
              14.279315483244531
             ],
             [
              -16.91043447685542,
              14.27908720750769
             ],
             [
              -16.910418927384224,
              14.279073101069395
             ],
             [
              -16.910173822565547,
              14.278818178349658
             ],
             [
              -16.91013850093565,
              14.27878586583947
             ],
             [
              -16.90992037245526,
              14.278549091043994
             ],
             [
              -16.909857483511654,
              14.278428466617209
             ],
             [
              -16.90975539579024,
              14.278279293841637
             ],
             [
              -16.90962224117314,
              14.278009241281387
             ],
             [
              -16.90957557982887,
              14.277965845418379
             ],
             [
              -16.90938370965491,
              14.277740033568595
             ],
             [
              -16.909294962347992,
              14.277655651906098
             ],
             [
              -16.909095766765777,
              14.277471221677548
             ],
             [
              -16.90901467019795,
              14.277383963542345
             ],
             [
              -16.908837263409353,
              14.277202173375953
             ],
             [
              -16.90873417757184,
              14.27708840588722
             ],
             [
              -16.908586341040163,
              14.276933063958532
             ],
             [
              -16.90845344676187,
              14.276764491576802
             ],
             [
              -16.90835654841431,
              14.27666378488112
             ],
             [
              -16.90819696041501,
              14.276393943001436
             ],
             [
              -16.9081720283027,
              14.276358852677166
             ],
             [
              -16.907938685833596,
              14.27612489160055
             ],
             [
              -16.90789170557749,
              14.276083178264766
             ],
             [
              -16.907683143591157,
              14.27585581795578
             ],
             [
              -16.90761119672511,
              14.27578532074783
             ],
             [
              -16.907401573902305,
              14.275586952411375
             ],
             [
              -16.90733081849437,
              14.275502887361446
             ],
             [
              -16.907161951461443,
              14.27531775055317
             ],
             [
              -16.907049826980533,
              14.275147521593569
             ],
             [
              -16.90697094744901,
              14.27504815911085
             ],
             [
              -16.906787144089208,
              14.274778509809558
             ],
             [
              -16.906768563154454,
              14.274759694842821
             ],
             [
              -16.906488690739607,
              14.2745370835909
             ],
             [
              -16.906464690065903,
              14.274509970158922
             ],
             [
              -16.906281018123856,
              14.274240319282713
             ],
             [
              -16.90620752363777,
              14.274160540902143
             ],
             [
              -16.90606127654318,
              14.273970956854031
             ],
             [
              -16.905926264204176,
              14.27377290683038
             ]
            ],
            [
             [
              -16.907915997442725,
              14.278966889047716
             ],
             [
              -16.90801572957438,
              14.279106601767124
             ],
             [
              -16.908039986759366,
              14.279377528024474
             ],
             [
              -16.908023752365764,
              14.279648778751515
             ],
             [
              -16.90792374095572,
              14.27988599351337
             ],
             [
              -16.907886908756456,
              14.279920995961504
             ],
             [
              -16.907924463384713,
              14.279971737782505
             ],
             [
              -16.90800413166324,
              14.280191177238583
             ],
             [
              -16.908205728045377,
              14.280358539983505
             ],
             [
              -16.908393236020594,
              14.280459179306341
             ],
             [
              -16.9084855266044,
              14.280571273178118
             ],
             [
              -16.908764110579387,
              14.280639859758693
             ],
             [
              -16.909041948030453,
              14.280619883326102
             ],
             [
              -16.909319868332606,
              14.280609743219879
             ],
             [
              -16.909598752316775,
              14.280713882658906
             ],
             [
              -16.90961178237978,
              14.280720529307912
             ],
             [
              -16.90987842713409,
              14.280911756198067
             ],
             [
              -16.91010533246544,
              14.280716570146197
             ],
             [
              -16.910154649851457,
              14.280700356359514
             ],
             [
              -16.91017495349372,
              14.280716011577677
             ],
             [
              -16.91018304080355,
              14.280987066997596
             ],
             [
              -16.91043707201014,
              14.281223806723176
             ],
             [
              -16.910552016336084,
              14.28125522655712
             ],
             [
              -16.910716384092325,
              14.281378540877592
             ],
             [
              -16.91077604253233,
              14.28152454885484
             ],
             [
              -16.910997199519315,
              14.281711353986577
             ],
             [
              -16.91106716022813,
              14.281793332310576
             ],
             [
              -16.91127784112175,
              14.282023474697816
             ],
             [
              -16.911309457429745,
              14.282062507288645
             ],
             [
              -16.911397639679308,
              14.282332919401815
             ],
             [
              -16.911559788053196,
              14.282490106831832
             ],
             [
              -16.911666076092075,
              14.28260188401289
             ],
             [
              -16.911840387391972,
              14.28279700908947
             ],
             [
              -16.911905014550292,
              14.282871085156009
             ],
             [
              -16.911842614777147,
              14.283060774962522
             ],
             [
              -16.91174319203429,
              14.283143504824935
             ],
             [
              -16.911566362213144,
              14.283268731959632
             ],
             [
              -16.911462841176775,
              14.283145756149958
             ],
             [
              -16.911286071395374,
              14.282998415027013
             ],
             [
              -16.91116939045114,
              14.282876992194046
             ],
             [
              -16.911005540436122,
              14.282699568103169
             ],
             [
              -16.910918821009826,
              14.282607883575027
             ],
             [
              -16.910725100157496,
              14.282411376987335
             ],
             [
              -16.910672268607314,
              14.282338742376034
             ],
             [
              -16.910444699077797,
              14.282127745798253
             ],
             [
              -16.91038361105009,
              14.282069938732707
             ],
             [
              -16.910164564323736,
              14.281875598795345
             ],
             [
              -16.910059450713494,
              14.281801419502214
             ],
             [
              -16.909884699721246,
              14.281655405156817
             ],
             [
              -16.909605959571497,
              14.281568475404846
             ],
             [
              -16.909439012948507,
              14.28153527620004
             ],
             [
              -16.90932736776991,
              14.281499116765366
             ],
             [
              -16.909049229729977,
              14.281483560935486
             ],
             [
              -16.908770287913182,
              14.281372658648994
             ],
             [
              -16.908543157593712,
              14.281271339163345
             ],
             [
              -16.908491007945525,
              14.28122160883418
             ],
             [
              -16.908216664558037,
              14.281002835715872
             ],
             [
              -16.90821112254843,
              14.280998676826567
             ],
             [
              -16.907931138862587,
              14.280764015647778
             ],
             [
              -16.907900611758187,
              14.280734248060922
             ],
             [
              -16.907707540222997,
              14.28046467452125
             ],
             [
              -16.90764958070559,
              14.280342394380511
             ],
             [
              -16.907542178495984,
              14.280194878762048
             ],
             [
              -16.90751161509974,
              14.279924002933747
             ],
             [
              -16.90752632594561,
              14.279652764379376
             ],
             [
              -16.907641621037307,
              14.279397528381898
             ],
             [
              -16.907654770228397,
              14.279380614634285
             ],
             [
              -16.907733702276136,
              14.279108861549616
             ],
             [
              -16.907915997442725,
              14.278966889047716
             ]
            ]
           ],
           "type": "MultiLineString"
          },
          "id": "1",
          "properties": {
           "style": {
            "color": "#443983",
            "fillColor": "#443983",
            "fillOpacity": 0.8,
            "weight": 0.9
           },
           "time": "2014-12-31"
          },
          "type": "Feature"
         },
         {
          "bbox": [
           -16.931856332017638,
           14.273640163346965,
           -16.905925147468718,
           14.298163683078364
          ],
          "geometry": {
           "coordinates": [
            [
             [
              -16.931856332017638,
              14.298163683078364
             ],
             [
              -16.93180405076692,
              14.297892990845147
             ],
             [
              -16.93178919294448,
              14.297621994601162
             ],
             [
              -16.93170426746895,
              14.297351567465688
             ],
             [
              -16.9317074409242,
              14.297080424734274
             ],
             [
              -16.93172328045467,
              14.296809179123791
             ],
             [
              -16.931696611355488,
              14.296591019588702
             ],
             [
              -16.931688829025248,
              14.296538341969068
             ],
             [
              -16.931670305021417,
              14.296267375439035
             ],
             [
              -16.931592254056895,
              14.295996892328724
             ],
             [
              -16.931578496562352,
              14.295725887053106
             ],
             [
              -16.931606075934155,
              14.295454546079364
             ],
             [
              -16.93156912143684,
              14.295183729165938
             ],
             [
              -16.931456769375888,
              14.294913524468576
             ],
             [
              -16.931443128840844,
              14.294642518186746
             ],
             [
              -16.931400023760798,
              14.294416807544959
             ],
             [
              -16.93138788379432,
              14.294371849701955
             ],
             [
              -16.93129782145009,
              14.294101463863191
             ],
             [
              -16.931220950958572,
              14.29383097086296
             ],
             [
              -16.9311730078516,
              14.293560242977998
             ],
             [
              -16.93112696936165,
              14.293289499603231
             ],
             [
              -16.931111356841797,
              14.293169542443438
             ],
             [
              -16.93108720124562,
              14.293018705301902
             ],
             [
              -16.93101802989198,
              14.292748149645043
             ],
             [
              -16.9309720526407,
              14.292477405685565
             ],
             [
              -16.93091785627842,
              14.292206728407644
             ],
             [
              -16.930868423844718,
              14.291936012432913
             ],
             [
              -16.930821122299967,
              14.291738110629481
             ],
             [
              -16.930804425468423,
              14.291665414639393
             ],
             [
              -16.930743308577245,
              14.291394793421539
             ],
             [
              -16.930727890092438,
              14.291123801330244
             ],
             [
              -16.93068303471776,
              14.290853048098626
             ],
             [
              -16.93056697599763,
              14.290582872593198
             ],
             [
              -16.930532990246405,
              14.290552540490355
             ],
             [
              -16.93036867204918,
              14.29031336426277
             ],
             [
              -16.930250753524657,
              14.290057642057542
             ],
             [
              -16.930242197085576,
              14.290043273016371
             ],
             [
              -16.9301716301932,
              14.289772728148092
             ],
             [
              -16.929993413265183,
              14.289503056407433
             ],
             [
              -16.92996780640604,
              14.28947929264769
             ],
             [
              -16.92981049140253,
              14.28923342263517
             ],
             [
              -16.929686013281067,
              14.28903608629032
             ],
             [
              -16.929629200267918,
              14.288963775441488
             ],
             [
              -16.92953182968347,
              14.288693447586546
             ],
             [
              -16.929477903182764,
              14.288422767406416
             ],
             [
              -16.929468014085636,
              14.288151730138294
             ],
             [
              -16.92939898904754,
              14.287979158637778
             ],
             [
              -16.92933854846526,
              14.28788166234683
             ],
             [
              -16.929304668746816,
              14.287610819535686
             ],
             [
              -16.929276973672366,
              14.287339926566736
             ],
             [
              -16.929248935412563,
              14.287069036363363
             ],
             [
              -16.92926219210226,
              14.286797811388537
             ],
             [
              -16.92925849512984,
              14.286526723844416
             ],
             [
              -16.92922084936938,
              14.286255911487268
             ],
             [
              -16.929138363183316,
              14.28598546256993
             ],
             [
              -16.92910362687506,
              14.285943564102809
             ],
             [
              -16.92889607346927,
              14.28571630876391
             ],
             [
              -16.928823305407782,
              14.285672252572839
             ],
             [
              -16.92854502817697,
              14.285640795679862
             ],
             [
              -16.928267377488112,
              14.285682882047553
             ],
             [
              -16.928208391943933,
              14.28572188103071
             ],
             [
              -16.9279909650536,
              14.285870359015204
             ],
             [
              -16.927810369357843,
              14.285996223024313
             ],
             [
              -16.927714629575537,
              14.286066928070134
             ],
             [
              -16.927438104289887,
              14.28624126610251
             ],
             [
              -16.927389560894007,
              14.286270748988553
             ],
             [
              -16.927161663379025,
              14.286425566435343
             ],
             [
              -16.926900101945705,
              14.286545830157435
             ],
             [
              -16.926884777587173,
              14.286557665047171
             ],
             [
              -16.92660713499676,
              14.286600896984329
             ],
             [
              -16.926330207238678,
              14.286728135866582
             ],
             [
              -16.92613692094219,
              14.286823125949368
             ],
             [
              -16.926053579825904,
              14.286890708904563
             ],
             [
              -16.925776727685413,
              14.287026920086133
             ],
             [
              -16.92562055232225,
              14.287098422582785
             ],
             [
              -16.925499925080487,
              14.287168996439753
             ],
             [
              -16.925222687759625,
              14.287260012501253
             ],
             [
              -16.924944718784598,
              14.28726503457641
             ],
             [
              -16.924666612570313,
              14.287253924494706
             ],
             [
              -16.924388215651447,
              14.28720862616047
             ],
             [
              -16.924109904538447,
              14.287173412405258
             ],
             [
              -16.923831462889964,
              14.287122836259497
             ],
             [
              -16.923791045626935,
              14.287113218755753
             ],
             [
              -16.92355293318005,
              14.287061888478982
             ],
             [
              -16.92327426045466,
              14.286984097413486
             ],
             [
              -16.92299533976966,
              14.286877103719211
             ],
             [
              -16.922935707540972,
              14.286849013099774
             ],
             [
              -16.92271650743588,
              14.286780483251725
             ],
             [
              -16.922438166167087,
              14.286741653729019
             ],
             [
              -16.92215959185757,
              14.286675376782824
             ],
             [
              -16.921880896505893,
              14.286594830023974
             ],
             [
              -16.921852970350454,
              14.286586640539422
             ],
             [
              -16.92160184421039,
              14.286472220847644
             ],
             [
              -16.921322585596855,
              14.28632527433816
             ],
             [
              -16.921314600071685,
              14.286319868773262
             ],
             [
              -16.921043733726844,
              14.286226212317503
             ],
             [
              -16.920764852867393,
              14.286123709394369
             ],
             [
              -16.920535910453236,
              14.286055034997538
             ],
             [
              -16.920485984689343,
              14.286022675293628
             ],
             [
              -16.920206260285422,
              14.285820685726964
             ],
             [
              -16.920063262578527,
              14.285787729711993
             ],
             [
              -16.919927832235725,
              14.28577147491744
             ],
             [
              -16.919648950390208,
              14.285668745635597
             ],
             [
              -16.91943247164717,
              14.285521698751673
             ],
             [
              -16.919369178278124,
              14.28546099916621
             ],
             [
              -16.919089581472573,
              14.285273871552862
             ],
             [
              -16.91905317737363,
              14.285253638304946
             ],
             [
              -16.918810470779817,
              14.285144038530849
             ],
             [
              -16.918531302493324,
              14.28500737587169
             ],
             [
              -16.918253309300113,
              14.285009345003147
             ],
             [
              -16.918149377121072,
              14.284989804639029
             ],
             [
              -16.917974736108967,
              14.28494286639817
             ],
             [
              -16.917695414230103,
              14.28478799678813
             ],
             [
              -16.917457317385463,
              14.284724261636182
             ],
             [
              -16.917416809931847,
              14.284717802571075
             ],
             [
              -16.917138316996915,
              14.284660741783297
             ],
             [
              -16.916859725160958,
              14.284591989190018
             ],
             [
              -16.916611844499304,
              14.284459951772984
             ],
             [
              -16.91658029092526,
              14.284423722502025
             ],
             [
              -16.916300475415763,
              14.28421036864783
             ],
             [
              -16.916279726245683,
              14.284191506413812
             ],
             [
              -16.916021374577184,
              14.284081393403929
             ],
             [
              -16.915789243064715,
              14.283924335127592
             ],
             [
              -16.91574174950801,
              14.283890435972792
             ],
             [
              -16.915462618503348,
              14.283757817744783
             ],
             [
              -16.915300662152553,
              14.283657147382339
             ],
             [
              -16.915182677160516,
              14.283529376576173
             ],
             [
              -16.915018057179875,
              14.283388301532627
             ],
             [
              -16.914903001637906,
              14.28333229674604
             ],
             [
              -16.914628725577455,
              14.283120313699028
             ],
             [
              -16.914623164608905,
              14.283116063917243
             ],
             [
              -16.914344154103905,
              14.28299751772681
             ],
             [
              -16.91414287851946,
              14.282853101206358
             ],
             [
              -16.914064228031634,
              14.282770644869595
             ],
             [
              -16.913800607897482,
              14.282584733365475
             ],
             [
              -16.913784550715086,
              14.282573135174044
             ],
             [
              -16.913526760439495,
              14.282315814952922
             ],
             [
              -16.913504231041724,
              14.28229956503002
             ],
             [
              -16.913224503155455,
              14.282095947131998
             ],
             [
              -16.913170516488858,
              14.282047558329658
             ],
             [
              -16.91294474382734,
              14.281888550046073
             ],
             [
              -16.912816277409203,
              14.281779284959804
             ],
             [
              -16.912664431349608,
              14.281615612383764
             ],
             [
              -16.912555520604148,
              14.281510259982714
             ],
             [
              -16.91238345429679,
              14.281263908575944
             ],
             [
              -16.91236324298864,
              14.281240684585732
             ],
             [
              -16.912105975373525,
              14.28097163094264
             ],
             [
              -16.912102956204944,
              14.280968816357895
             ],
             [
              -16.911858343548406,
              14.28070249956722
             ],
             [
              -16.91182240133085,
              14.280666910916056
             ],
             [
              -16.9116081362581,
              14.280433388538182
             ],
             [
              -16.91154167609701,
              14.280344734363613
             ],
             [
              -16.911386643712962,
              14.280164046652445
             ],
             [
              -16.911260519542623,
              14.279971357435786
             ],
             [
              -16.911192109516975,
              14.279894488100714
             ],
             [
              -16.910980218298683,
              14.279625068637671
             ],
             [
              -16.910979587160995,
              14.279624430550411
             ],
             [
              -16.910766938894234,
              14.279355660061634
             ],
             [
              -16.91069880594535,
              14.279295314504278
             ],
             [
              -16.91051055421821,
              14.279086597097534
             ],
             [
              -16.910418150309148,
              14.278980985365067
             ],
             [
              -16.910263295762224,
              14.278817460565303
             ],
             [
              -16.91013741720784,
              14.278657377284109
             ],
             [
              -16.910029264720908,
              14.278548217599887
             ],
             [
              -16.90985635629405,
              14.278294798642825
             ],
             [
              -16.909841003900926,
              14.27827860723927
             ],
             [
              -16.909596856574776,
              14.27800944484973
             ],
             [
              -16.909575710853456,
              14.277981385336359
             ],
             [
              -16.90940587702508,
              14.277739855823453
             ],
             [
              -16.909294591198748,
              14.277611624892096
             ],
             [
              -16.909183167273255,
              14.277470520977882
             ],
             [
              -16.909014082310204,
              14.277314214551598
             ],
             [
              -16.9088985229603,
              14.27720168232964
             ],
             [
              -16.90873355933799,
              14.277015044150419
             ],
             [
              -16.908642027083655,
              14.276932617655593
             ],
             [
              -16.90845260817299,
              14.276664964655287
             ],
             [
              -16.908450589392793,
              14.276663031273884
             ],
             [
              -16.90823938580835,
              14.276393603060026
             ],
             [
              -16.908171667647377,
              14.276316041237722
             ],
             [
              -16.90799568811342,
              14.276124434927105
             ],
             [
              -16.907891297612696,
              14.276034742866978
             ],
             [
              -16.907720778284464,
              14.275855516492788
             ],
             [
              -16.90761077777272,
              14.27573557244835
             ],
             [
              -16.907466203457272,
              14.275586434794743
             ],
             [
              -16.907330025989076,
              14.27540876575377
             ],
             [
              -16.90724051699157,
              14.275317121411295
             ],
             [
              -16.907049088565746,
              14.275059808837693
             ],
             [
              -16.907038147029503,
              14.27504762105076
             ],
             [
              -16.906777854839476,
              14.274778584177668
             ],
             [
              -16.906768636839157,
              14.274768449003059
             ],
             [
              -16.90656906247277,
              14.274509134702555
             ],
             [
              -16.90648742646758,
              14.2743868554707
             ],
             [
              -16.90639338332575,
              14.274239419947824
             ],
             [
              -16.906206094379414,
              14.273990678277256
             ],
             [
              -16.906189416733962,
              14.273969931392987
             ],
             [
              -16.90596346888524,
              14.273700618492626
             ],
             [
              -16.905925147468718,
              14.273640163346965
             ]
            ]
           ],
           "type": "MultiLineString"
          },
          "id": "2",
          "properties": {
           "style": {
            "color": "#30688e",
            "fillColor": "#30688e",
            "fillOpacity": 0.8,
            "weight": 0.9
           },
           "time": "2015-12-31"
          },
          "type": "Feature"
         },
         {
          "bbox": [
           -16.931797247596464,
           14.273703836418205,
           -16.90592568313182,
           14.298164163033714
          ],
          "geometry": {
           "coordinates": [
            [
             [
              -16.931797247596464,
              14.298164163033714
             ],
             [
              -16.931771402139226,
              14.297893256046944
             ],
             [
              -16.9317480577745,
              14.297622328729263
             ],
             [
              -16.931712981315126,
              14.29735149668927
             ],
             [
              -16.931701842288597,
              14.297203466441964
             ],
             [
              -16.93168584474414,
              14.297080600140658
             ],
             [
              -16.931661678170297,
              14.2968096794541
             ],
             [
              -16.931644331999983,
              14.296538703360307
             ],
             [
              -16.931578958046387,
              14.29626811730226
             ],
             [
              -16.931550438410095,
              14.2959972319141
             ],
             [
              -16.93155308031399,
              14.295726093454594
             ],
             [
              -16.931515175080882,
              14.29545528425659
             ],
             [
              -16.931502394409414,
              14.295184271018758
             ],
             [
              -16.93144052031834,
              14.294913656409836
             ],
             [
              -16.93140282008206,
              14.29474431165905
             ],
             [
              -16.93136733801468,
              14.294643133578663
             ],
             [
              -16.931287821240645,
              14.294372662128389
             ],
             [
              -16.931215895619502,
              14.294102128994775
             ],
             [
              -16.93117633024623,
              14.293831333108125
             ],
             [
              -16.931128456057557,
              14.293560604648414
             ],
             [
              -16.931113886574092,
              14.293465895420352
             ],
             [
              -16.931072771835915,
              14.293289939558253
             ],
             [
              -16.931023315965337,
              14.293019223877474
             ],
             [
              -16.930937245242376,
              14.292748805360024
             ],
             [
              -16.930883213616386,
              14.292478126745323
             ],
             [
              -16.93082564670153,
              14.292268265379366
             ],
             [
              -16.930798875530606,
              14.29220769406057
             ],
             [
              -16.93072380533142,
              14.291937186104862
             ],
             [
              -16.930745523581795,
              14.291665892652436
             ],
             [
              -16.930723803422357,
              14.291394951707757
             ],
             [
              -16.93067657460637,
              14.291124217746386
             ],
             [
              -16.930543572641753,
              14.290854179737076
             ],
             [
              -16.93053545854564,
              14.290841838756947
             ],
             [
              -16.93043528422035,
              14.290583941100424
             ],
             [
              -16.93028369813826,
              14.290314053640937
             ],
             [
              -16.930252298917434,
              14.290238804413148
             ],
             [
              -16.930148124819542,
              14.29004403614283
             ],
             [
              -16.93008736106178,
              14.289773411715139
             ],
             [
              -16.929968432336842,
              14.289552683051335
             ],
             [
              -16.929942490284684,
              14.289503469438323
             ],
             [
              -16.92975290417672,
              14.289233889665875
             ],
             [
              -16.929686516484033,
              14.289095097417043
             ],
             [
              -16.92958062433824,
              14.288964169347924
             ],
             [
              -16.92948770207549,
              14.288693805397301
             ],
             [
              -16.929438854553908,
              14.288423084020112
             ],
             [
              -16.9294015827355,
              14.288283388954046
             ],
             [
              -16.929348613057417,
              14.28815269822257
             ],
             [
              -16.929292777191826,
              14.287882033428675
             ],
             [
              -16.929274377912943,
              14.28761106510524
             ],
             [
              -16.929233928179375,
              14.287340275526832
             ],
             [
              -16.929224180609577,
              14.287069237039516
             ],
             [
              -16.92922950793582,
              14.286798076341181
             ],
             [
              -16.92917342334774,
              14.286527413452117
             ],
             [
              -16.929106682585044,
              14.286302095415424
             ],
             [
              -16.9290827566324,
              14.286257030836047
             ],
             [
              -16.92890481159173,
              14.285987355526172
             ],
             [
              -16.928825312719326,
              14.285907813674157
             ],
             [
              -16.928546995406034,
              14.285871686949834
             ],
             [
              -16.92826970235236,
              14.28595578655918
             ],
             [
              -16.928041467887073,
              14.285994351013999
             ],
             [
              -16.92799212320373,
              14.286006326993823
             ],
             [
              -16.927715227147093,
              14.286137092801793
             ],
             [
              -16.92743820021215,
              14.286252530453586
             ],
             [
              -16.92741962157127,
              14.286270505544072
             ],
             [
              -16.927161914147838,
              14.28645501854927
             ],
             [
              -16.926938041640884,
              14.286545522977274
             ],
             [
              -16.92688502564886,
              14.286586803126033
             ],
             [
              -16.926608367667825,
              14.286745710044041
             ],
             [
              -16.92644247929957,
              14.28682065274965
             ],
             [
              -16.926331940431112,
              14.286931776651988
             ],
             [
              -16.92605457394754,
              14.28700752864212
             ],
             [
              -16.92577721987423,
              14.287084765321366
             ],
             [
              -16.925688762253944,
              14.287097870661668
             ],
             [
              -16.92550002121357,
              14.287180296154384
             ],
             [
              -16.925223237947414,
              14.287324691657794
             ],
             [
              -16.924945584447823,
              14.287366815021109
             ],
             [
              -16.924667189477905,
              14.287321764418168
             ],
             [
              -16.9243890204135,
              14.287303273942818
             ],
             [
              -16.924110950838056,
              14.287296485328447
             ],
             [
              -16.923832687764836,
              14.287266935712045
             ],
             [
              -16.9235544219746,
              14.287237062506305
             ],
             [
              -16.923275875053182,
              14.287174102261718
             ],
             [
              -16.923146521509917,
              14.287118428008396
             ],
             [
              -16.922997084332355,
              14.287082433946233
             ],
             [
              -16.922718463784243,
              14.287010774887912
             ],
             [
              -16.9224398080175,
              14.286934953054756
             ],
             [
              -16.922272576826874,
              14.286854370235233
             ],
             [
              -16.922160898356662,
              14.286829217612901
             ],
             [
              -16.92188225063388,
              14.286754303220176
             ],
             [
              -16.92160354735276,
              14.286672827460729
             ],
             [
              -16.92143176935762,
              14.286590041472392
             ],
             [
              -16.921324526790006,
              14.28655395550501
             ],
             [
              -16.921045630585766,
              14.286449704838633
             ],
             [
              -16.920818108940885,
              14.286323876355757
             ],
             [
              -16.920766357630935,
              14.286301031692565
             ],
             [
              -16.920487218161114,
              14.286168050771108
             ],
             [
              -16.9202774092069,
              14.286057120818121
             ],
             [
              -16.920208042999388,
              14.286030827422865
             ],
             [
              -16.91992903876983,
              14.28591371955305
             ],
             [
              -16.919740113226055,
              14.285790336440913
             ],
             [
              -16.919649578339147,
              14.285742789345264
             ],
             [
              -16.919370104834606,
              14.285570270207174
             ],
             [
              -16.91929781775469,
              14.285522784633569
             ],
             [
              -16.919090648908227,
              14.285399776808797
             ],
             [
              -16.918875867404733,
              14.28525506785266
             ],
             [
              -16.918811098880994,
              14.285218135418896
             ],
             [
              -16.918532147585474,
              14.28510708652696
             ],
             [
              -16.91825348652368,
              14.285030258335295
             ],
             [
              -16.91797545871624,
              14.285028150528507
             ],
             [
              -16.917697218014126,
              14.28500091680888
             ],
             [
              -16.917681341151326,
              14.284993576014202
             ],
             [
              -16.91741812969736,
              14.284873612480105
             ],
             [
              -16.91713961226968,
              14.284813682993382
             ],
             [
              -16.91695672579485,
              14.284728293781038
             ],
             [
              -16.916860548045072,
              14.284689167255834
             ],
             [
              -16.91658138798068,
              14.28455329901622
             ],
             [
              -16.91643862304798,
              14.28446134650983
             ],
             [
              -16.91630206865603,
              14.284398581051793
             ],
             [
              -16.916070323869157,
              14.284193192133339
             ],
             [
              -16.916021908997855,
              14.284144535604893
             ],
             [
              -16.915742417314757,
              14.28396935041691
             ],
             [
              -16.915682849905195,
              14.283925191396934
             ],
             [
              -16.915463121800393,
              14.283817301440354
             ],
             [
              -16.915224886672803,
              14.283657757074428
             ],
             [
              -16.915183557377226,
              14.283633424445869
             ],
             [
              -16.914903986410046,
              14.283448722444733
             ],
             [
              -16.91483380453833,
              14.283389783749241
             ],
             [
              -16.914624203148637,
              14.283238866213777
             ],
             [
              -16.91447822807966,
              14.283121524116634
             ],
             [
              -16.914344595923236,
              14.283049768939971
             ],
             [
              -16.914108299359427,
              14.282853379251815
             ],
             [
              -16.914064673424175,
              14.28282332724501
             ],
             [
              -16.913784839489452,
              14.28260729779122
             ],
             [
              -16.91375885371362,
              14.282585069037662
             ],
             [
              -16.913505355517326,
              14.282432614521284
             ],
             [
              -16.913376398536798,
              14.282317023521141
             ],
             [
              -16.913225113888636,
              14.282168221736091
             ],
             [
              -16.913095365283784,
              14.282048162263619
             ],
             [
              -16.91294486838702,
              14.281903292942031
             ],
             [
              -16.912821541579437,
              14.281779242663289
             ],
             [
              -16.912664689067125,
              14.281646120917316
             ],
             [
              -16.912520024873963,
              14.28151054513669
             ],
             [
              -16.91238430125596,
              14.281364188433615
             ],
             [
              -16.912263695466667,
              14.281241484190367
             ],
             [
              -16.912103545937416,
              14.281038652446304
             ],
             [
              -16.912036051134255,
              14.280972192520531
             ],
             [
              -16.911849672618533,
              14.280702569196372
             ],
             [
              -16.911822453114457,
              14.280673044179425
             ],
             [
              -16.91160384905663,
              14.280433422960133
             ],
             [
              -16.91154169824322,
              14.280347357813584
             ],
             [
              -16.91136848343016,
              14.280164192441433
             ],
             [
              -16.911260778791185,
              14.280002073464125
             ],
             [
              -16.91114964834111,
              14.279894828932147
             ],
             [
              -16.910987306962596,
              14.279625011744264
             ],
             [
              -16.91097951901832,
              14.279616355533744
             ],
             [
              -16.91072744584953,
              14.279355976986917
             ],
             [
              -16.91069904263715,
              14.27932336762393
             ],
             [
              -16.910476087821166,
              14.279086873643237
             ],
             [
              -16.910418492967423,
              14.279021604697938
             ],
             [
              -16.910233698646024,
              14.278817698007135
             ],
             [
              -16.910137875483006,
              14.2787117112993
             ],
             [
              -16.90998746278379,
              14.2785485529065
             ],
             [
              -16.909856871505916,
              14.27835589378566
             ],
             [
              -16.909778438852342,
              14.27827910903249
             ],
             [
              -16.90958919762275,
              14.278009506269125
             ],
             [
              -16.909575817837997,
              14.277994074017382
             ],
             [
              -16.909361205120007,
              14.277740214015127
             ],
             [
              -16.909294933250166,
              14.277652200226193
             ],
             [
              -16.9091368314102,
              14.27747089246168
             ],
             [
              -16.909014329933935,
              14.277343593514697
             ],
             [
              -16.908873015219896,
              14.277201886797332
             ],
             [
              -16.908733829908545,
              14.277047151026382
             ],
             [
              -16.9086112418181,
              14.276932864389664
             ],
             [
              -16.908453404148887,
              14.276759434124115
             ],
             [
              -16.90835441629953,
              14.276663801966617
             ],
             [
              -16.90818430132571,
              14.276394044433294
             ],
             [
              -16.90817216393374,
              14.276374952667114
             ],
             [
              -16.90795173921212,
              14.276124787024685
             ],
             [
              -16.907891578239994,
              14.27606806020957
             ],
             [
              -16.907669335285913,
              14.275855928562152
             ],
             [
              -16.90761113770445,
              14.275778312379602
             ],
             [
              -16.907437693623063,
              14.275586663131516
             ],
             [
              -16.90733038928769,
              14.275451912868734
             ],
             [
              -16.907203636488173,
              14.275317416748479
             ],
             [
              -16.907049639982404,
              14.275125309037858
             ],
             [
              -16.906988710257767,
              14.275048016887721
             ],
             [
              -16.9067691224413,
              14.274826141142167
             ],
             [
              -16.90673169598555,
              14.274778953712023
             ],
             [
              -16.906497192653674,
              14.274509709994541
             ],
             [
              -16.906488331521697,
              14.274494399417373
             ],
             [
              -16.906321933419044,
              14.274239991816
             ],
             [
              -16.906206883219173,
              14.274084429548163
             ],
             [
              -16.906113680998587,
              14.27397053748787
             ],
             [
              -16.90592568313182,
              14.273703836418205
             ]
            ],
            [
             [
              -16.907915536011444,
              14.278912118099237
             ],
             [
              -16.908046554923683,
              14.27910635475453
             ],
             [
              -16.908050113482684,
              14.27937744687406
             ],
             [
              -16.908009349056965,
              14.279648894172597
             ],
             [
              -16.90792398247398,
              14.279914659102143
             ],
             [
              -16.90791164285428,
              14.279920797763266
             ],
             [
              -16.90792408227673,
              14.279926504583479
             ],
             [
              -16.90802742780132,
              14.280190990548304
             ],
             [
              -16.908205637229557,
              14.280347763083522
             ],
             [
              -16.90847049025112,
              14.280458560061689
             ],
             [
              -16.90848465887991,
              14.280468318694098
             ],
             [
              -16.908763655262025,
              14.28058584515623
             ],
             [
              -16.909042369788075,
              14.280669909298274
             ],
             [
              -16.909230795167886,
              14.280723584812824
             ],
             [
              -16.909321083021027,
              14.280753799753795
             ],
             [
              -16.90959904830846,
              14.280748980680272
             ],
             [
              -16.909876943390067,
              14.280735844093652
             ],
             [
              -16.91015532342498,
              14.280780203855128
             ],
             [
              -16.91043452324526,
              14.280921720007573
             ],
             [
              -16.910474055674513,
              14.280984731918627
             ],
             [
              -16.91071465001601,
              14.281173046480575
             ],
             [
              -16.9107681753227,
              14.281253491784414
             ],
             [
              -16.910938227382914,
              14.281523247091949
             ],
             [
              -16.91099603155434,
              14.281572969936297
             ],
             [
              -16.91119853579137,
              14.281792277665375
             ],
             [
              -16.911276724670206,
              14.281891216601476
             ],
             [
              -16.91138395321878,
              14.282061909180602
             ],
             [
              -16.91155791365167,
              14.282268099349043
             ],
             [
              -16.911609288585307,
              14.282331219956877
             ],
             [
              -16.911838246475305,
              14.28254347769422
             ],
             [
              -16.911894548369357,
              14.282600049186387
             ],
             [
              -16.912023572283797,
              14.282870132928533
             ],
             [
              -16.91211987811867,
              14.282972558364103
             ],
             [
              -16.91219509995926,
              14.283139875135877
             ],
             [
              -16.91217464374476,
              14.283411159435763
             ],
             [
              -16.912403577459276,
              14.28364627782059
             ],
             [
              -16.91242136861961,
              14.283680297324441
             ],
             [
              -16.912585688267,
              14.283950097017598
             ],
             [
              -16.91240711966841,
              14.284065592343037
             ],
             [
              -16.912210173810912,
              14.283953113953723
             ],
             [
              -16.9121263073387,
              14.28373376768496
             ],
             [
              -16.911848047722856,
              14.283704119153528
             ],
             [
              -16.91182389361583,
              14.283685096748714
             ],
             [
              -16.91156821259766,
              14.283487877858908
             ],
             [
              -16.911509792081567,
              14.283416499210556
             ],
             [
              -16.91128770391035,
              14.283191790451308
             ],
             [
              -16.911250198160683,
              14.283147463534883
             ],
             [
              -16.911042263577926,
              14.282878012788464
             ],
             [
              -16.911006773222223,
              14.282845619565167
             ],
             [
              -16.91073156006525,
              14.282609386688357
             ],
             [
              -16.910726745195916,
              14.282606301444336
             ],
             [
              -16.910454297847853,
              14.282340491721945
             ],
             [
              -16.910446419281293,
              14.282331610834495
             ],
             [
              -16.91016629032259,
              14.282080184436163
             ],
             [
              -16.910157175491747,
              14.282071755703617
             ],
             [
              -16.909916631385492,
              14.28180256532804
             ],
             [
              -16.909885777822996,
              14.281783215605419
             ],
             [
              -16.909606434208957,
              14.28162475306312
             ],
             [
              -16.909349254452497,
              14.281535996087504
             ],
             [
              -16.909327527383034,
              14.281518044944512
             ],
             [
              -16.90904875507466,
              14.281427264140547
             ],
             [
              -16.90877018792705,
              14.281360797920023
             ],
             [
              -16.908614333457983,
              14.281270768567255
             ],
             [
              -16.908490471304678,
              14.281157940338156
             ],
             [
              -16.9082152665135,
              14.281002846921263
             ],
             [
              -16.908211128246208,
              14.28099935293484
             ],
             [
              -16.90793114120944,
              14.280764294174734
             ],
             [
              -16.907896532236602,
              14.280734280752467
             ],
             [
              -16.907715207706968,
              14.280464613084403
             ],
             [
              -16.90764959673126,
              14.28034429666511
             ],
             [
              -16.907592028225434,
              14.280194479370875
             ],
             [
              -16.9075792703598,
              14.279923460901966
             ],
             [
              -16.907605194195618,
              14.279652132517043
             ],
             [
              -16.907643131952675,
              14.279576889487089
             ],
             [
              -16.907732392892626,
              14.27937999272025
             ],
             [
              -16.907676656440373,
              14.27910931859661
             ],
             [
              -16.907915536011444,
              14.278912118099237
             ]
            ]
           ],
           "type": "MultiLineString"
          },
          "id": "3",
          "properties": {
           "style": {
            "color": "#20908c",
            "fillColor": "#20908c",
            "fillOpacity": 0.8,
            "weight": 0.9
           },
           "time": "2016-12-31"
          },
          "type": "Feature"
         },
         {
          "bbox": [
           -16.93180351180733,
           14.273704022186426,
           -16.905925684694637,
           14.298164112148886
          ],
          "geometry": {
           "coordinates": [
            [
             [
              -16.93180351180733,
              14.298164112148886
             ],
             [
              -16.931754717498745,
              14.297893391573014
             ],
             [
              -16.93170567297849,
              14.2976519519377
             ],
             [
              -16.931696033687825,
              14.29762275129444
             ],
             [
              -16.931703740152688,
              14.297425664530833
             ],
             [
              -16.931705155259074,
              14.297351560254809
             ],
             [
              -16.931702971872173,
              14.297335716262799
             ],
             [
              -16.931652805776128,
              14.297080868482746
             ],
             [
              -16.931596720083576,
              14.296810207022762
             ],
             [
              -16.93156824004902,
              14.296539321336581
             ],
             [
              -16.93155052387931,
              14.296268348219693
             ],
             [
              -16.931568002365413,
              14.295997089277897
             ],
             [
              -16.9315504279688,
              14.295726114993727
             ],
             [
              -16.93150953669078,
              14.29545533004304
             ],
             [
              -16.931493042664332,
              14.295184346957546
             ],
             [
              -16.931499234977426,
              14.294913179645505
             ],
             [
              -16.93141222563495,
              14.294642769111627
             ],
             [
              -16.93140177579136,
              14.294622005689787
             ],
             [
              -16.931286718799143,
              14.294372671079081
             ],
             [
              -16.931254528409166,
              14.2941018153501
             ],
             [
              -16.931227417564465,
              14.293830918364298
             ],
             [
              -16.931173067041524,
              14.29356024249749
             ],
             [
              -16.931135219692315,
              14.293289432629084
             ],
             [
              -16.931111726384284,
              14.293212834016028
             ],
             [
              -16.931027845619266,
              14.29301918710951
             ],
             [
              -16.930966665069633,
              14.292748566567568
             ],
             [
              -16.930899224123568,
              14.292477996798885
             ],
             [
              -16.930863012878994,
              14.292207173526451
             ],
             [
              -16.930824144844905,
              14.292092285088543
             ],
             [
              -16.930740580003114,
              14.291937049972152
             ],
             [
              -16.93068994086642,
              14.291666343715667
             ],
             [
              -16.930689612495176,
              14.291395229166572
             ],
             [
              -16.930643197755085,
              14.291124488587721
             ],
             [
              -16.930611983269262,
              14.290853624642283
             ],
             [
              -16.930534171920257,
              14.290691039983558
             ],
             [
              -16.93046768940429,
              14.290583678181328
             ],
             [
              -16.930326548796913,
              14.290313706004985
             ],
             [
              -16.93025171064935,
              14.290169843582648
             ],
             [
              -16.93017042409246,
              14.290043855251591
             ],
             [
              -16.9300710719242,
              14.28977354384451
             ],
             [
              -16.929968198666835,
              14.289525285285508
             ],
             [
              -16.92995645126325,
              14.28950335620339
             ],
             [
              -16.92975927805191,
              14.28923383797462
             ],
             [
              -16.929686137812205,
              14.289050690209459
             ],
             [
              -16.92960698396724,
              14.288963955596632
             ],
             [
              -16.929503436268252,
              14.28869367781681
             ],
             [
              -16.92940826438292,
              14.28842333204655
             ],
             [
              -16.92940247085292,
              14.2883875603017
             ],
             [
              -16.929368937034877,
              14.28815253344327
             ],
             [
              -16.92939317529071,
              14.287881219458773
             ],
             [
              -16.929279079069296,
              14.287611026992943
             ],
             [
              -16.929278876608404,
              14.287339911139878
             ],
             [
              -16.92929373776471,
              14.287068673164123
             ],
             [
              -16.929317526931353,
              14.286797362809148
             ],
             [
              -16.929247047246474,
              14.28652681664486
             ],
             [
              -16.929193549331526,
              14.286256132781613
             ],
             [
              -16.929104126377478,
              14.286002172196481
             ],
             [
              -16.929090541995475,
              14.285985850183529
             ],
             [
              -16.92882423175176,
              14.285780960999872
             ],
             [
              -16.928705225231433,
              14.285717855401723
             ],
             [
              -16.928545268371863,
              14.285668987282184
             ],
             [
              -16.92845479276285,
              14.28571988467919
             ],
             [
              -16.928268590510037,
              14.285825273513558
             ],
             [
              -16.927991059451273,
              14.28588144144976
             ],
             [
              -16.927766461580802,
              14.285996578673265
             ],
             [
              -16.92771441543263,
              14.286041784077003
             ],
             [
              -16.92743770338574,
              14.28619418698735
             ],
             [
              -16.927377932930945,
              14.286270843155851
             ],
             [
              -16.927162082803633,
              14.286474826675153
             ],
             [
              -16.92699014525846,
              14.286545101108539
             ],
             [
              -16.926885371267577,
              14.28662740043951
             ],
             [
              -16.926608603268672,
              14.286773388029259
             ],
             [
              -16.92653585137495,
              14.286819896914663
             ],
             [
              -16.926332279824948,
              14.286971653225336
             ],
             [
              -16.926054675041044,
              14.287019408132176
             ],
             [
              -16.92577700273835,
              14.287059246130154
             ],
             [
              -16.92567214341512,
              14.287098005134915
             ],
             [
              -16.9255002397934,
              14.287205988517941
             ],
             [
              -16.92522273335488,
              14.287265372615549
             ],
             [
              -16.924944926013154,
              14.287289399568753
             ],
             [
              -16.92466692716918,
              14.287290918961755
             ],
             [
              -16.924389250393133,
              14.287330321639459
             ],
             [
              -16.92411115525237,
              14.287320529802763
             ],
             [
              -16.923832930284306,
              14.287295466535861
             ],
             [
              -16.92355444352373,
              14.287239597994773
             ],
             [
              -16.923275761171123,
              14.28716070079088
             ],
             [
              -16.923130030285247,
              14.28711856127292
             ],
             [
              -16.922997243372826,
              14.287101152409203
             ],
             [
              -16.922718951199275,
              14.287068150331766
             ],
             [
              -16.92244034069167,
              14.286997665550276
             ],
             [
              -16.92219070602735,
              14.28685503150457
             ],
             [
              -16.922161014876814,
              14.286842937821868
             ],
             [
              -16.921882287611098,
              14.286758657932628
             ],
             [
              -16.92160348363725,
              14.286665322711483
             ],
             [
              -16.921438940749255,
              14.286589983574153
             ],
             [
              -16.921324397049084,
              14.2865386715752
             ],
             [
              -16.92104554500522,
              14.286439621614136
             ],
             [
              -16.920791424816844,
              14.286324091715636
             ],
             [
              -16.92076647164819,
              14.286314467459123
             ],
             [
              -16.92048730262941,
              14.2861780060416
             ],
             [
              -16.920285482878146,
              14.286057055676727
             ],
             [
              -16.920207884838927,
              14.286012184016608
             ],
             [
              -16.919929093349186,
              14.285920154162675
             ],
             [
              -16.919650050989137,
              14.285798520919286
             ],
             [
              -16.919641094494,
              14.285791135101404
             ],
             [
              -16.91936994332738,
              14.285551223336903
             ],
             [
              -16.919328405398936,
              14.285522537974018
             ],
             [
              -16.919090481341403,
              14.285380012191718
             ],
             [
              -16.91894971766671,
              14.285254472456764
             ],
             [
              -16.918810594120476,
              14.285158589021371
             ],
             [
              -16.918532227210964,
              14.28511648133266
             ],
             [
              -16.918253968006255,
              14.28508707569084
             ],
             [
              -16.91797580614996,
              14.285069155427253
             ],
             [
              -16.917697628139788,
              14.285049327860035
             ],
             [
              -16.917582194217555,
              14.284994374809658
             ],
             [
              -16.91741873217159,
              14.284944739229008
             ],
             [
              -16.91714021332653,
              14.284884653036901
             ],
             [
              -16.91686133384132,
              14.284781964766227
             ],
             [
              -16.91678684927742,
              14.28472966185632
             ],
             [
              -16.916581776464827,
              14.28459918373539
             ],
             [
              -16.91640411070426,
              14.284461624379741
             ],
             [
              -16.91630211636927,
              14.284404217461745
             ],
             [
              -16.916022572610277,
              14.284222941478125
             ],
             [
              -16.915991598514292,
              14.284193825836237
             ],
             [
              -16.91574293103426,
              14.284030056107035
             ],
             [
              -16.915575534731975,
              14.283926055038624
             ],
             [
              -16.915463271493223,
              14.28383499329081
             ],
             [
              -16.915226386722534,
              14.283657745005211
             ],
             [
              -16.915183592118403,
              14.283637531082501
             ],
             [
              -16.914903994800664,
              14.283449714429741
             ],
             [
              -16.914841253601157,
              14.28338972382817
             ],
             [
              -16.91462451153977,
              14.2832753317476
             ],
             [
              -16.91442241967545,
              14.283121972946926
             ],
             [
              -16.9143446280827,
              14.283053572229964
             ],
             [
              -16.91410036249687,
              14.282853443070138
             ],
             [
              -16.914064690317883,
              14.282825325479857
             ],
             [
              -16.913790475738143,
              14.282584814821076
             ],
             [
              -16.91378461137993,
              14.282580311960682
             ],
             [
              -16.913505197327964,
              14.282413897422217
             ],
             [
              -16.91339539053624,
              14.282316870873839
             ],
             [
              -16.91322532215086,
              14.282192867544833
             ],
             [
              -16.913064132817336,
              14.282048413248587
             ],
             [
              -16.91294505602227,
              14.281925501436417
             ],
             [
              -16.912778750712082,
              14.281779586475674
             ],
             [
              -16.91266472331179,
              14.281650174786284
             ],
             [
              -16.912536382365204,
              14.28151041372989
             ],
             [
              -16.912384259035367,
              14.28135918953905
             ],
             [
              -16.91227368303404,
              14.281241403968197
             ],
             [
              -16.912103627145832,
              14.281048269113077
             ],
             [
              -16.912033634865757,
              14.280972211925782
             ],
             [
              -16.91182295527895,
              14.280732520513054
             ],
             [
              -16.911793561203,
              14.280703019773657
             ],
             [
              -16.91158826119728,
              14.280433548114432
             ],
             [
              -16.911541918041127,
              14.280373395144988
             ],
             [
              -16.911367428768983,
              14.280164200908109
             ],
             [
              -16.911260549736323,
              14.279974934819288
             ],
             [
              -16.911195151689274,
              14.279894463681222
             ],
             [
              -16.91097960132123,
              14.279626108560327
             ],
             [
              -16.91097864967017,
              14.279625081227408
             ],
             [
              -16.910719722034262,
              14.279356038968519
             ],
             [
              -16.910699139506423,
              14.27933484871931
             ],
             [
              -16.910445255702932,
              14.279087121024595
             ],
             [
              -16.91041863669742,
              14.279038642674058
             ],
             [
              -16.910253909078282,
              14.278817535870049
             ],
             [
              -16.9101373946724,
              14.27865470543235
             ],
             [
              -16.91004107931013,
              14.278548122829989
             ],
             [
              -16.9098867088301,
              14.278278240659619
             ],
             [
              -16.90985595674879,
              14.278247419343652
             ],
             [
              -16.90961977931326,
              14.278009261024055
             ],
             [
              -16.909575501355704,
              14.277956538250878
             ],
             [
              -16.909368457778072,
              14.27774015586188
             ],
             [
              -16.9092947432524,
              14.277629662043475
             ],
             [
              -16.909145204499115,
              14.277470825333635
             ],
             [
              -16.909013624984812,
              14.277259955660126
             ],
             [
              -16.908964058645058,
              14.277201156989111
             ],
             [
              -16.9087328933288,
              14.276936012762206
             ],
             [
              -16.908729186295588,
              14.276931919080774
             ],
             [
              -16.908463295930833,
              14.276662929445859
             ],
             [
              -16.908452501286053,
              14.276652278851142
             ],
             [
              -16.90819595326915,
              14.276393951071292
             ],
             [
              -16.90817206113347,
              14.276362749833028
             ],
             [
              -16.90793361831345,
              14.2761249321983
             ],
             [
              -16.9078917827473,
              14.276092340187992
             ],
             [
              -16.90764592757956,
              14.275856116059183
             ],
             [
              -16.907611390398507,
              14.275808318337331
             ],
             [
              -16.907418837690702,
              14.275586814147806
             ],
             [
              -16.907330574415564,
              14.275473899502547
             ],
             [
              -16.907188618040216,
              14.275317537013809
             ],
             [
              -16.907049581900377,
              14.275118409762007
             ],
             [
              -16.9069827742028,
              14.27504806441663
             ],
             [
              -16.906768761836734,
              14.274783299410274
             ],
             [
              -16.906764979449694,
              14.274778687255191
             ],
             [
              -16.906499664144985,
              14.274509690211506
             ],
             [
              -16.90648834354727,
              14.274495828362006
             ],
             [
              -16.906282707189337,
              14.274240305764366
             ],
             [
              -16.90620727530444,
              14.274131027468176
             ],
             [
              -16.90606657047602,
              14.273970914489908
             ],
             [
              -16.905925684694637,
              14.273704022186426
             ]
            ],
            [
             [
              -16.908271583782593,
              14.28817111721633
             ],
             [
              -16.908549779906117,
              14.288192570460124
             ],
             [
              -16.908828366877675,
              14.28826036130976
             ],
             [
              -16.90895843898041,
              14.288317139991028
             ],
             [
              -16.90910747571156,
              14.28838999947511
             ],
             [
              -16.909386472350636,
              14.288506305545292
             ],
             [
              -16.90945559511353,
              14.288584271577225
             ],
             [
              -16.90957955092757,
              14.288854397135658
             ],
             [
              -16.90939096501437,
              14.289038781222132
             ],
             [
              -16.909317606218746,
              14.2891276193102
             ],
             [
              -16.909238186739994,
              14.289399376814385
             ],
             [
              -16.909218737952994,
              14.289670653128654
             ],
             [
              -16.909233952407334,
              14.28994165130885
             ],
             [
              -16.909261780301353,
              14.290212548266277
             ],
             [
              -16.90940259019755,
              14.290416509397279
             ],
             [
              -16.90945394355603,
              14.290482126453119
             ],
             [
              -16.909511249157852,
              14.29075278676398
             ],
             [
              -16.909685026567267,
              14.290940049209876
             ],
             [
              -16.909804116067452,
              14.291021556336394
             ],
             [
              -16.909686779925032,
              14.291147792366504
             ],
             [
              -16.909408276296688,
              14.291090329031336
             ],
             [
              -16.909130071116945,
              14.291068224788601
             ],
             [
              -16.908853341925926,
              14.291221073660905
             ],
             [
              -16.908747814784757,
              14.29130115308167
             ],
             [
              -16.908576688336115,
              14.291382932450498
             ],
             [
              -16.908376553208086,
              14.291575251607563
             ],
             [
              -16.908301347975314,
              14.291700542934004
             ],
             [
              -16.9081062429756,
              14.291577419652652
             ],
             [
              -16.908252342007902,
              14.291305127530778
             ],
             [
              -16.908297648299804,
              14.2912618894356
             ],
             [
              -16.90855138304553,
              14.291031608563177
             ],
             [
              -16.90857345428566,
              14.29099953326048
             ],
             [
              -16.908693573174492,
              14.29075934761721
             ],
             [
              -16.908672182727503,
              14.29048839889288
             ],
             [
              -16.90867312990304,
              14.290217270970558
             ],
             [
              -16.908565568409163,
              14.290064608761481
             ],
             [
              -16.908458081948183,
              14.289947875563701
             ],
             [
              -16.908285493136336,
              14.289820602733661
             ],
             [
              -16.90811615333463,
              14.289950617809922
             ],
             [
              -16.908009291611947,
              14.290035944730892
             ],
             [
              -16.9077320425002,
              14.290127094386289
             ],
             [
              -16.90767507755946,
              14.289954154484645
             ],
             [
              -16.90772926231037,
              14.28979732513433
             ],
             [
              -16.907775477476083,
              14.289682229060428
             ],
             [
              -16.90772681804828,
              14.28950739463543
             ],
             [
              -16.907699070004963,
              14.289411721180173
             ],
             [
              -16.907644918780914,
              14.289141034825318
             ],
             [
              -16.907722782313986,
              14.289028674578823
             ],
             [
              -16.907827894014538,
              14.288868447405813
             ],
             [
              -16.907915073166542,
              14.288596627972575
             ],
             [
              -16.90799621333121,
              14.28848482030408
             ],
             [
              -16.908104221463834,
              14.288323990925356
             ],
             [
              -16.908271583782593,
              14.28817111721633
             ]
            ],
            [
             [
              -16.908488122724556,
              14.28087929485692
             ],
             [
              -16.90876703887526,
              14.280987240049193
             ],
             [
              -16.908782636090685,
              14.280998298754405
             ],
             [
              -16.909045745302812,
              14.281070282524036
             ],
             [
              -16.909323753552098,
              14.28107050696468
             ],
             [
              -16.909601907635114,
              14.281088028218939
             ],
             [
              -16.90988064530995,
              14.281174737779278
             ],
             [
              -16.910086470051922,
              14.281258962108238
             ],
             [
              -16.910159484655356,
              14.281273478064772
             ],
             [
              -16.91043790159054,
              14.281322129378346
             ],
             [
              -16.910716575048017,
              14.281401169626793
             ],
             [
              -16.91084004233709,
              14.281524035179052
             ],
             [
              -16.910996031736122,
              14.281572991474658
             ],
             [
              -16.911216176415905,
              14.281792136045999
             ],
             [
              -16.91127656626502,
              14.281872451352548
             ],
             [
              -16.911404251819786,
              14.282061746204176
             ],
             [
              -16.911558028539382,
              14.28228170696539
             ],
             [
              -16.911595770011274,
              14.28233132851053
             ],
             [
              -16.911838722164546,
              14.28259981014302
             ],
             [
              -16.911839559905363,
              14.282600490810502
             ],
             [
              -16.91208898618359,
              14.2828696075144
             ],
             [
              -16.912119455646426,
              14.282922536757276
             ],
             [
              -16.912210205150874,
              14.283139753797348
             ],
             [
              -16.912245697371205,
              14.28341058865676
             ],
             [
              -16.912402632902914,
              14.283534462189444
             ],
             [
              -16.912466789583227,
              14.283679932403546
             ],
             [
              -16.912631407274382,
              14.283949729664203
             ],
             [
              -16.912685957848176,
              14.284163665257749
             ],
             [
              -16.912704545285504,
              14.284220261868427
             ],
             [
              -16.91268680087617,
              14.284263442728774
             ],
             [
              -16.91240855901556,
              14.284235973411532
             ],
             [
              -16.912391802564045,
              14.284222774728564
             ],
             [
              -16.91212851550185,
              14.283995200296769
             ],
             [
              -16.91208032632307,
              14.283954157028955
             ],
             [
              -16.91184835263906,
              14.283740224963315
             ],
             [
              -16.911787072840564,
              14.28368539247526
             ],
             [
              -16.911572688947206,
              14.283415994132119
             ],
             [
              -16.911567584195012,
              14.28341345489998
             ],
             [
              -16.911346544010357,
              14.28314668996399
             ],
             [
              -16.911286880916215,
              14.283094305128616
             ],
             [
              -16.911114786208884,
              14.28287743057376
             ],
             [
              -16.911006108835924,
              14.282766908151066
             ],
             [
              -16.910838084699545,
              14.282608531650395
             ],
             [
              -16.9107255457194,
              14.282464172952466
             ],
             [
              -16.910605196080652,
              14.28233928069449
             ],
             [
              -16.91044542251363,
              14.282213482135376
             ],
             [
              -16.91030722068461,
              14.282070551730607
             ],
             [
              -16.91016546613656,
              14.281982492639669
             ],
             [
              -16.90995158820064,
              14.281802284880769
             ],
             [
              -16.90988544109644,
              14.28174329634365
             ],
             [
              -16.90960644375738,
              14.281625885214941
             ],
             [
              -16.909370599350368,
              14.281535824898704
             ],
             [
              -16.909327421743402,
              14.281505517369203
             ],
             [
              -16.909048581402327,
              14.281406665561976
             ],
             [
              -16.908769950461135,
              14.281332628781863
             ],
             [
              -16.908678019117772,
              14.281270257999914
             ],
             [
              -16.908489657240484,
              14.28106135699975
             ],
             [
              -16.908405292633677,
              14.28100132377812
             ],
             [
              -16.908488122724556,
              14.28087929485692
             ]
            ]
           ],
           "type": "MultiLineString"
          },
          "id": "4",
          "properties": {
           "style": {
            "color": "#35b778",
            "fillColor": "#35b778",
            "fillOpacity": 0.8,
            "weight": 0.9
           },
           "time": "2017-12-31"
          },
          "type": "Feature"
         },
         {
          "bbox": [
           -16.931781839644902,
           14.273785670602809,
           -16.905926371582986,
           14.298164288193375
          ],
          "geometry": {
           "coordinates": [
            [
             [
              -16.931781839644902,
              14.298164288193375
             ],
             [
              -16.93173929243007,
              14.297893516866788
             ],
             [
              -16.9317059064831,
              14.297679289442366
             ],
             [
              -16.93169109092182,
              14.29762279144142
             ],
             [
              -16.93166719033861,
              14.29735186861346
             ],
             [
              -16.93162391659085,
              14.297081103116591
             ],
             [
              -16.93160207939069,
              14.296810163496867
             ],
             [
              -16.931562118956013,
              14.296539371047617
             ],
             [
              -16.931585570372164,
              14.296268063602248
             ],
             [
              -16.931552245551103,
              14.295997217238439
             ],
             [
              -16.931542047733114,
              14.29572618304766
             ],
             [
              -16.931514758294757,
              14.2954552876411
             ],
             [
              -16.931490629401065,
              14.295184366553862
             ],
             [
              -16.93145086797299,
              14.294913572387703
             ],
             [
              -16.93140198401352,
              14.294646392490273
             ],
             [
              -16.931400974810284,
              14.294642860463995
             ],
             [
              -16.931282221486924,
              14.294372707592585
             ],
             [
              -16.931225477817556,
              14.2941020512012
             ],
             [
              -16.931193026979667,
              14.2938311975597
             ],
             [
              -16.931149265552623,
              14.29356043571846
             ],
             [
              -16.931114965516542,
              14.293289597046973
             ],
             [
              -16.931112315048786,
              14.293281795237453
             ],
             [
              -16.93101067690847,
              14.293019326470375
             ],
             [
              -16.9309643068613,
              14.292748585708615
             ],
             [
              -16.930912614241745,
              14.292477888119542
             ],
             [
              -16.930873169977367,
              14.292207091090583
             ],
             [
              -16.93082365518263,
              14.292034908313978
             ],
             [
              -16.93078060703737,
              14.291936725133084
             ],
             [
              -16.930679640782493,
              14.29166642730118
             ],
             [
              -16.93064093389056,
              14.291395624184176
             ],
             [
              -16.93060726725553,
              14.291124780145779
             ],
             [
              -16.930576770235376,
              14.290853910368938
             ],
             [
              -16.9305346126699,
              14.290742698190627
             ],
             [
              -16.93045292919421,
              14.290583797938675
             ],
             [
              -16.930338074856184,
              14.290313612495831
             ],
             [
              -16.930252742008875,
              14.290043187472262
             ],
             [
              -16.930250594049813,
              14.290038947093501
             ],
             [
              -16.93011110902836,
              14.289773219081459
             ],
             [
              -16.92996852637549,
              14.28956370904901
             ],
             [
              -16.92992360912574,
              14.289503622578628
             ],
             [
              -16.929777475709468,
              14.289233690393171
             ],
             [
              -16.929685711254933,
              14.289000667247413
             ],
             [
              -16.92965847079698,
              14.288963538079432
             ],
             [
              -16.929523742238533,
              14.288693513164578
             ],
             [
              -16.92948422198656,
              14.288422716171755
             ],
             [
              -16.929402735353158,
              14.288152259415149
             ],
             [
              -16.92940024935233,
              14.28812698877506
             ],
             [
              -16.929372253873932,
              14.287881389081052
             ],
             [
              -16.9293511176294,
              14.287610442964409
             ],
             [
              -16.92930576449219,
              14.287339693161712
             ],
             [
              -16.929292023923104,
              14.28706868705788
             ],
             [
              -16.92925109704791,
              14.286797901330571
             ],
             [
              -16.929232958957254,
              14.286526930848577
             ],
             [
              -16.929171074080323,
              14.286256314963842
             ],
             [
              -16.929175994612113,
              14.285985157542449
             ],
             [
              -16.929102965317433,
              14.285865941182733
             ],
             [
              -16.928947915638403,
              14.285715888607541
             ],
             [
              -16.928823187380484,
              14.285658401753482
             ],
             [
              -16.928544789653277,
              14.285612800164861
             ],
             [
              -16.928266949353194,
              14.285632624741988
             ],
             [
              -16.927989662256675,
              14.285717407647565
             ],
             [
              -16.927980444907178,
              14.285723727641683
             ],
             [
              -16.927713109003083,
              14.285888386128642
             ],
             [
              -16.927529801063525,
              14.285998495462223
             ],
             [
              -16.927436736928648,
              14.28608069295622
             ],
             [
              -16.9271599223772,
              14.286221088660108
             ],
             [
              -16.9270562068484,
              14.286273448380598
             ],
             [
              -16.92688343069206,
              14.286399453512741
             ],
             [
              -16.92673822362401,
              14.286547140743368
             ],
             [
              -16.926607641796977,
              14.286660435602808
             ],
             [
              -16.926330967346,
              14.286817444782459
             ],
             [
              -16.926326274379488,
              14.286821593362436
             ],
             [
              -16.926054393041134,
              14.286986270317373
             ],
             [
              -16.925776851213154,
              14.287041437894617
             ],
             [
              -16.925498945805025,
              14.287053889475379
             ],
             [
              -16.925393408958204,
              14.287100260373911
             ],
             [
              -16.925222236486867,
              14.287206961388524
             ],
             [
              -16.92494461193106,
              14.287252471205175
             ],
             [
              -16.924667486277183,
              14.287356665606396
             ],
             [
              -16.924569465798022,
              14.287378043147116
             ],
             [
              -16.92439014065468,
              14.287435023959437
             ],
             [
              -16.924112321860367,
              14.287457752583599
             ],
             [
              -16.923833809114292,
              14.287398854586813
             ],
             [
              -16.923810616799887,
              14.287384178816303
             ],
             [
              -16.923555006312412,
              14.287305816009566
             ],
             [
              -16.923276686581886,
              14.28726960134827
             ],
             [
              -16.92299792587037,
              14.287181479485957
             ],
             [
              -16.92289984742009,
              14.287120421246513
             ],
             [
              -16.922718789305357,
              14.28704909322201
             ],
             [
              -16.922440152965542,
              14.286975564317908
             ],
             [
              -16.922161442586138,
              14.286893300326918
             ],
             [
              -16.922064520134747,
              14.286856050651162
             ],
             [
              -16.921882608039787,
              14.28679639393672
             ],
             [
              -16.921603879080727,
              14.286711900064498
             ],
             [
              -16.921360832540614,
              14.28659061416923
             ],
             [
              -16.921324720133242,
              14.286576731974497
             ],
             [
              -16.921046062556446,
              14.28650060013142
             ],
             [
              -16.92076730415371,
              14.286412569293732
             ],
             [
              -16.92057483999492,
              14.286325839598687
             ],
             [
              -16.920488082078005,
              14.286269869986866
             ],
             [
              -16.920208759497275,
              14.286115285370961
             ],
             [
              -16.920137913657108,
              14.286058246277088
             ],
             [
              -16.919929538603128,
              14.285972647064034
             ],
             [
              -16.91965042181586,
              14.285842246038673
             ],
             [
              -16.91959094478266,
              14.285791539580803
             ],
             [
              -16.91937039817256,
              14.285604864067047
             ],
             [
              -16.919252277536835,
              14.28552315186378
             ],
             [
              -16.919090468690023,
              14.28537851995135
             ],
             [
              -16.918940183250392,
              14.285254549326464
             ],
             [
              -16.918810901800715,
              14.28519488596952
             ],
             [
              -16.918532483757293,
              14.285146750523046
             ],
             [
              -16.918254066621934,
              14.285098712803938
             ],
             [
              -16.917975763683394,
              14.285064143435678
             ],
             [
              -16.917697358081448,
              14.285017450313626
             ],
             [
              -16.91741947058096,
              14.285031913638942
             ],
             [
              -16.917258443259726,
              14.284996982881093
             ],
             [
              -16.917140995627257,
              14.28497702294475
             ],
             [
              -16.91686230402215,
              14.284896535995985
             ],
             [
              -16.91658299469953,
              14.284743071063865
             ],
             [
              -16.91657162391488,
              14.284731394967721
             ],
             [
              -16.916303759989425,
              14.284598378374083
             ],
             [
              -16.916160772087654,
              14.28446358343473
             ],
             [
              -16.91602376249357,
              14.284363525113461
             ],
             [
              -16.91574649899864,
              14.284195798607922
             ],
             [
              -16.91574432120572,
              14.28419432976575
             ],
             [
              -16.915464736278956,
              14.28400811166071
             ],
             [
              -16.91536348122095,
              14.283927761442152
             ],
             [
              -16.9151849944349,
              14.283803293071333
             ],
             [
              -16.91500378125749,
              14.28365953595828
             ],
             [
              -16.91490505233449,
              14.2835747412751
             ],
             [
              -16.914707601232177,
              14.283390798906883
             ],
             [
              -16.91462496527882,
              14.28332898367582
             ],
             [
              -16.91434528674125,
              14.283131467247395
             ],
             [
              -16.914334755406678,
              14.283122677946576
             ],
             [
              -16.91406496876092,
              14.282858260449265
             ],
             [
              -16.914059302052536,
              14.282853773222667
             ],
             [
              -16.913785639133707,
              14.282701896923676
             ],
             [
              -16.913644149982353,
              14.282585991131572
             ],
             [
              -16.913505886080532,
              14.282495391009215
             ],
             [
              -16.91331492917266,
              14.282317517567886
             ],
             [
              -16.913225680369443,
              14.282235259120872
             ],
             [
              -16.913019399644263,
              14.282048772718477
             ],
             [
              -16.912945420073296,
              14.281968590380423
             ],
             [
              -16.912759051284386,
              14.281779744752354
             ],
             [
              -16.912664969272072,
              14.281679291425693
             ],
             [
              -16.91249358668623,
              14.281510757523712
             ],
             [
              -16.912384819793512,
              14.281425582829206
             ],
             [
              -16.91220584295614,
              14.281241948865244
             ],
             [
              -16.912104250921907,
              14.281122136176915
             ],
             [
              -16.911972627600736,
              14.28097270187198
             ],
             [
              -16.911823383862153,
              14.280783281666029
             ],
             [
              -16.91175025378955,
              14.28070336752517
             ],
             [
              -16.911576869572972,
              14.280433639576685
             ],
             [
              -16.911542060764248,
              14.28039030214407
             ],
             [
              -16.91134430648496,
              14.280164386529458
             ],
             [
              -16.911261173287606,
              14.280048813653828
             ],
             [
              -16.91113096706455,
              14.279894978882407
             ],
             [
              -16.910980245810116,
              14.27970248127186
             ],
             [
              -16.9109077919881,
              14.279625649917023
             ],
             [
              -16.91069954040085,
              14.27935620091967
             ],
             [
              -16.91069931788069,
              14.279355989885863
             ],
             [
              -16.910442862856563,
              14.279087140223425
             ],
             [
              -16.91041882774661,
              14.279061289906254
             ],
             [
              -16.910208683480864,
              14.278817898687558
             ],
             [
              -16.91013808818945,
              14.278736930120578
             ],
             [
              -16.90996152388125,
              14.278548760966986
             ],
             [
              -16.90985745408412,
              14.278424977052088
             ],
             [
              -16.909717406515956,
              14.278279598516995
             ],
             [
              -16.909576756194753,
              14.278105365353262
             ],
             [
              -16.909492272337094,
              14.278010283520308
             ],
             [
              -16.909295855650342,
              14.277761617922064
             ],
             [
              -16.909276648875966,
              14.277740891987502
             ],
             [
              -16.909059047472663,
              14.27747151605067
             ],
             [
              -16.909014887324055,
              14.277409724022224
             ],
             [
              -16.908840319473956,
              14.277202148879422
             ],
             [
              -16.908734033752705,
              14.27707133985526
             ],
             [
              -16.908606902853823,
              14.276932899164755
             ],
             [
              -16.908453114123525,
              14.276725012883153
             ],
             [
              -16.908389565220492,
              14.276663520301714
             ],
             [
              -16.90818357911953,
              14.276394050220006
             ],
             [
              -16.908172208261313,
              14.276380214536397
             ],
             [
              -16.907915122166088,
              14.276125080376753
             ],
             [
              -16.907891937606124,
              14.276110725656718
             ],
             [
              -16.9076521217902,
              14.275856066443437
             ],
             [
              -16.907611406958086,
              14.275810284688854
             ],
             [
              -16.907394311821406,
              14.27558701057212
             ],
             [
              -16.907330822392968,
              14.27550335037529
             ],
             [
              -16.907168778568277,
              14.275317695883672
             ],
             [
              -16.907049901202537,
              14.275156338037018
             ],
             [
              -16.906950377404655,
              14.275048323809282
             ],
             [
              -16.90676905060357,
              14.274817606450837
             ],
             [
              -16.906733234258617,
              14.274778941397198
             ],
             [
              -16.906508884107357,
              14.27450961641015
             ],
             [
              -16.906488280839067,
              14.27448837702761
             ],
             [
              -16.9062760303578,
              14.274240359201956
             ],
             [
              -16.906207407718483,
              14.274146764361578
             ],
             [
              -16.906056074073675,
              14.273970998486119
             ],
             [
              -16.905926371582986,
              14.273785670602809
             ]
            ]
           ],
           "type": "MultiLineString"
          },
          "id": "5",
          "properties": {
           "style": {
            "color": "#8fd744",
            "fillColor": "#8fd744",
            "fillOpacity": 0.8,
            "weight": 0.9
           },
           "time": "2018-12-31"
          },
          "type": "Feature"
         },
         {
          "bbox": [
           -16.931809153248864,
           14.273687674343682,
           -16.90592554716472,
           14.298164066322741
          ],
          "geometry": {
           "coordinates": [
            [
             [
              -16.931809153248864,
              14.298164066322741
             ],
             [
              -16.931777177220123,
              14.297893209136822
             ],
             [
              -16.931757999358766,
              14.297622247977541
             ],
             [
              -16.93171746594503,
              14.297351460263664
             ],
             [
              -16.931702091710903,
              14.297232668519433
             ],
             [
              -16.931681193729208,
              14.297080637916421
             ],
             [
              -16.93164285348141,
              14.296809832343984
             ],
             [
              -16.931630711579544,
              14.296538813979533
             ],
             [
              -16.931607980199697,
              14.29626788160621
             ],
             [
              -16.93158735527448,
              14.295996932112173
             ],
             [
              -16.931558445679354,
              14.295726049883505
             ],
             [
              -16.931537993148524,
              14.29545509896151
             ],
             [
              -16.93151983226937,
              14.29518412941747
             ],
             [
              -16.93148823501271,
              14.294913268966564
             ],
             [
              -16.93142392205177,
              14.294642674140656
             ],
             [
              -16.931401126603706,
              14.294545973091036
             ],
             [
              -16.931355116559047,
              14.294372115749852
             ],
             [
              -16.931291546741804,
              14.294101514806687
             ],
             [
              -16.931240952372075,
              14.293830808482396
             ],
             [
              -16.93121692946176,
              14.293559886415235
             ],
             [
              -16.93115794960548,
              14.293289248111783
             ],
             [
              -16.93111037366715,
              14.293054363704194
             ],
             [
              -16.93110140355927,
              14.293018590015226
             ],
             [
              -16.931017295604313,
              14.292748155605253
             ],
             [
              -16.93096671328015,
              14.292477449023291
             ],
             [
              -16.930910419546247,
              14.29220678876623
             ],
             [
              -16.93083530130676,
              14.291936281251303
             ],
             [
              -16.930822499098056,
              14.29189944168302
             ],
             [
              -16.930736145492595,
              14.291665968758142
             ],
             [
              -16.930691552609858,
              14.291395213422701
             ],
             [
              -16.93067295674595,
              14.29112424710427
             ],
             [
              -16.930616441500653,
              14.290853588466796
             ],
             [
              -16.930533670645566,
              14.290632287667243
             ],
             [
              -16.930510167301275,
              14.290583333530707
             ],
             [
              -16.93037282815633,
              14.290313330544238
             ],
             [
              -16.930266387291006,
              14.290043076776264
             ],
             [
              -16.930250380988333,
              14.290013970217638
             ],
             [
              -16.930136807469093,
              14.28977301062367
             ],
             [
              -16.93000520401008,
              14.289502960772397
             ],
             [
              -16.929967572080102,
              14.289451817818092
             ],
             [
              -16.929845757785326,
              14.289233136618972
             ],
             [
              -16.929740921696858,
              14.28896286944508
             ],
             [
              -16.929683972508244,
              14.288796760009102
             ],
             [
              -16.929640218735262,
              14.288692568674158
             ],
             [
              -16.929565583420718,
              14.288422056455065
             ],
             [
              -16.929520871889245,
              14.288151301556619
             ],
             [
              -16.929473495812772,
              14.287880568235797
             ],
             [
              -16.929445892838935,
              14.28760967457288
             ],
             [
              -16.929432872573138,
              14.287338662664387
             ],
             [
              -16.929400515271002,
              14.28706780751689
             ],
             [
              -16.9293896417381,
              14.286882693211687
             ],
             [
              -16.929383642395873,
              14.286796826818186
             ],
             [
              -16.92938820850628,
              14.286714562893467
             ],
             [
              -16.92939889416633,
              14.2865255856772
             ],
             [
              -16.929386425412755,
              14.28650538775674
             ],
             [
              -16.929259922961325,
              14.286255594750951
             ],
             [
              -16.929156468362688,
              14.285985315816287
             ],
             [
              -16.9291033190694,
              14.28590744822296
             ],
             [
              -16.928824053234614,
              14.285760011705555
             ],
             [
              -16.92877239806529,
              14.285717311049224
             ],
             [
              -16.928544574857522,
              14.285587589545369
             ],
             [
              -16.92826606583376,
              14.285528910774525
             ],
             [
              -16.92798921056157,
              14.285664377176321
             ],
             [
              -16.92790005562362,
              14.28572437882745
             ],
             [
              -16.927712852780218,
              14.285858300816457
             ],
             [
              -16.927435615425324,
              14.28594899011852
             ],
             [
              -16.92736776844432,
              14.285999807680362
             ],
             [
              -16.92715928136867,
              14.286145802456305
             ],
             [
              -16.92688205965983,
              14.286238404747438
             ],
             [
              -16.926842538946214,
              14.286275178347903
             ],
             [
              -16.926605899124684,
              14.2864557062424
             ],
             [
              -16.926477290472103,
              14.286549253057125
             ],
             [
              -16.92632978502873,
              14.286678527982719
             ],
             [
              -16.92610396547623,
              14.286823392668598
             ],
             [
              -16.926053361222547,
              14.28686502057152
             ],
             [
              -16.925776410222745,
              14.286989609667943
             ],
             [
              -16.92549862455445,
              14.28701612849895
             ],
             [
              -16.92522066822896,
              14.287022597074783
             ],
             [
              -16.92494270172772,
              14.287027875789283
             ],
             [
              -16.924725720499197,
              14.287105661310331
             ],
             [
              -16.92466558208948,
              14.287132746937985
             ],
             [
              -16.92438850410726,
              14.287242551426743
             ],
             [
              -16.92411100536372,
              14.287302898978009
             ],
             [
              -16.923833219723065,
              14.28732951702325
             ],
             [
              -16.9235548587228,
              14.287288450570324
             ],
             [
              -16.923276221822864,
              14.287214909515669
             ],
             [
              -16.92299751424399,
              14.287133032860297
             ],
             [
              -16.922956610927564,
              14.28711996259437
             ],
             [
              -16.922718980298807,
              14.287071575738123
             ],
             [
              -16.922440372799908,
              14.287001445689524
             ],
             [
              -16.92216163826056,
              14.28691634080223
             ],
             [
              -16.922043922130733,
              14.286856217005612
             ],
             [
              -16.921882532365185,
              14.286787481957337
             ],
             [
              -16.921603912010372,
              14.286715778678596
             ],
             [
              -16.921325378229387,
              14.286654257564336
             ],
             [
              -16.92119531350697,
              14.286591950377963
             ],
             [
              -16.921046076661014,
              14.286502261944657
             ],
             [
              -16.920767235687688,
              14.286404501336309
             ],
             [
              -16.920631762802486,
              14.286325380239274
             ],
             [
              -16.92048796010462,
              14.286255494538521
             ],
             [
              -16.92020889932457,
              14.286131767597114
             ],
             [
              -16.920095249534445,
              14.28605859047762
             ],
             [
              -16.919929528223395,
              14.285971423354622
             ],
             [
              -16.919650233931435,
              14.285820092127963
             ],
             [
              -16.919614478271892,
              14.285791349774215
             ],
             [
              -16.919370196350457,
              14.285581062841736
             ],
             [
              -16.919288932356398,
              14.285522856284913
             ],
             [
              -16.919090472644566,
              14.285378986393097
             ],
             [
              -16.91890462136671,
              14.285254836035065
             ],
             [
              -16.918810974096488,
              14.285203414665803
             ],
             [
              -16.918532205439323,
              14.2851139125536
             ],
             [
              -16.91825391114339,
              14.285080365600393
             ],
             [
              -16.91797561681124,
              14.285046809267527
             ],
             [
              -16.917697552859117,
              14.285040441776507
             ],
             [
              -16.917419346001786,
              14.285017206234118
             ],
             [
              -16.917263720122214,
              14.2849969403753
             ],
             [
              -16.917140994724438,
              14.284976916345126
             ],
             [
              -16.91686211135417,
              14.284873783404006
             ],
             [
              -16.9165830071033,
              14.284744536081075
             ],
             [
              -16.916557724462038,
              14.284731506886969
             ],
             [
              -16.916304288397008,
              14.284660798561593
             ],
             [
              -16.91603531388836,
              14.284464593368414
             ],
             [
              -16.916024533502455,
              14.284454618299243
             ],
             [
              -16.915745043710405,
              14.284279705810082
             ],
             [
              -16.915644113816004,
              14.284196622617204
             ],
             [
              -16.915464957165653,
              14.28403421735568
             ],
             [
              -16.91533659674083,
              14.283927977769206
             ],
             [
              -16.915185072765404,
              14.283812552131332
             ],
             [
              -16.91499008679478,
              14.283659646129102
             ],
             [
              -16.914905212652467,
              14.28359369474838
             ],
             [
              -16.91462554311885,
              14.283397309479442
             ],
             [
              -16.914618219961827,
              14.283391517833952
             ],
             [
              -16.914345943168176,
              14.283209097878668
             ],
             [
              -16.914236228097735,
              14.283123470268718
             ],
             [
              -16.91406599376056,
              14.28297949935883
             ],
             [
              -16.91393480308636,
              14.282854774231586
             ],
             [
              -16.91378601582354,
              14.282746459664322
             ],
             [
              -16.91360258932754,
              14.282586325220635
             ],
             [
              -16.913505969767115,
              14.282505292817238
             ],
             [
              -16.913280117717044,
              14.282317797350409
             ],
             [
              -16.91322592722726,
              14.282264472185497
             ],
             [
              -16.912995071503033,
              14.282048968212687
             ],
             [
              -16.912945652988085,
              14.28199615801268
             ],
             [
              -16.912751318428025,
              14.281779806882183
             ],
             [
              -16.91266508978491,
              14.281693557643178
             ],
             [
              -16.91249229026456,
              14.281510767938236
             ],
             [
              -16.912384711926226,
              14.28141281146029
             ],
             [
              -16.91222099274847,
              14.28124182718255
             ],
             [
              -16.91210409355745,
              14.281103501243539
             ],
             [
              -16.911981506599354,
              14.28097263056617
             ],
             [
              -16.911823204580646,
              14.280762047689583
             ],
             [
              -16.911771606509607,
              14.280703196067272
             ],
             [
              -16.911583146975943,
              14.280433589176091
             ],
             [
              -16.911542029051606,
              14.280386545462713
             ],
             [
              -16.911381154944063,
              14.280164090715896
             ],
             [
              -16.911260838053213,
              14.28000909487825
             ],
             [
              -16.911164475417564,
              14.279894709917611
             ],
             [
              -16.910979807512955,
              14.279650542578274
             ],
             [
              -16.910955590128662,
              14.279625266301
             ],
             [
              -16.910733972597185,
              14.279355924611277
             ],
             [
              -16.91069901015365,
              14.279319517626613
             ],
             [
              -16.91047753599379,
              14.279086862023732
             ],
             [
              -16.910418457650277,
              14.279017418145052
             ],
             [
              -16.910247993500704,
              14.278817583327623
             ],
             [
              -16.91013764349096,
              14.278684205889542
             ],
             [
              -16.91001379158421,
              14.278548341715688
             ],
             [
              -16.909856751474493,
              14.278341660177858
             ],
             [
              -16.909800258639482,
              14.278278934032155
             ],
             [
              -16.909593665709114,
              14.278009470438255
             ],
             [
              -16.909575806851755,
              14.277992771017624
             ],
             [
              -16.909365918593842,
              14.277740176221588
             ],
             [
              -16.909295103129537,
              14.277672351863066
             ],
             [
              -16.909098357543225,
              14.277471200907456
             ],
             [
              -16.909014607054534,
              14.277376472011683
             ],
             [
              -16.908853802932263,
              14.277202040799452
             ],
             [
              -16.908733886658883,
              14.277053885215858
             ],
             [
              -16.908630614491564,
              14.276932709124338
             ],
             [
              -16.90845282198825,
              14.276690341136863
             ],
             [
              -16.90842792085194,
              14.27666321293401
             ],
             [
              -16.908208091530227,
              14.276393853812023
             ],
             [
              -16.908171991860463,
              14.276354526823283
             ],
             [
              -16.9079035856154,
              14.276125172798965
             ],
             [
              -16.907891976586114,
              14.276115353515372
             ],
             [
              -16.907670918298084,
              14.275855915882055
             ],
             [
              -16.90761123947357,
              14.275790396882478
             ],
             [
              -16.907447621975347,
              14.275586583615203
             ],
             [
              -16.90733026931294,
              14.275437664098465
             ],
             [
              -16.907227829341597,
              14.275317223013992
             ],
             [
              -16.90704929523127,
              14.275084357705785
             ],
             [
              -16.90701614369431,
              14.275047797231274
             ],
             [
              -16.90679383120689,
              14.274778456273438
             ],
             [
              -16.90676847544255,
              14.274749274163383
             ],
             [
              -16.90655505593283,
              14.274509246821557
             ],
             [
              -16.90648790362805,
              14.274443554645268
             ],
             [
              -16.906319151722023,
              14.274240014079613
             ],
             [
              -16.90620681717536,
              14.274076580462339
             ],
             [
              -16.906120419519006,
              14.273970483562083
             ],
             [
              -16.905938020812254,
              14.27370082212245
             ],
             [
              -16.90592554716472,
              14.273687674343682
             ]
            ],
            [
             [
              -16.907636475909992,
              14.278786730454126
             ],
             [
              -16.907701817265256,
              14.278837996322105
             ],
             [
              -16.907915913503842,
              14.278956925691396
             ],
             [
              -16.90801008186793,
              14.279106647023426
             ],
             [
              -16.908017027224727,
              14.279377712008923
             ],
             [
              -16.90801458940115,
              14.27964885217914
             ],
             [
              -16.907954372248575,
              14.279920455359814
             ],
             [
              -16.90798712787803,
              14.280191313501852
             ],
             [
              -16.90820561506712,
              14.280345133118113
             ],
             [
              -16.908453027122636,
              14.280458700042612
             ],
             [
              -16.908484898150903,
              14.280496707996548
             ],
             [
              -16.90876438899177,
              14.280672887893815
             ],
             [
              -16.909042760504303,
              14.280716253181723
             ],
             [
              -16.90932079387324,
              14.280719508284273
             ],
             [
              -16.909382954341837,
              14.280722364574359
             ],
             [
              -16.90959911584,
              14.280756988402896
             ],
             [
              -16.90987699603164,
              14.280742085299087
             ],
             [
              -16.91015481698754,
              14.280720169235712
             ],
             [
              -16.910434714023427,
              14.28094433181256
             ],
             [
              -16.910460556376776,
              14.280984840243732
             ],
             [
              -16.910715247448035,
              14.281243844733961
             ],
             [
              -16.910722446383122,
              14.281253858796006
             ],
             [
              -16.91085071691763,
              14.28152394950097
             ],
             [
              -16.91099644227206,
              14.28162163319276
             ],
             [
              -16.911152356497933,
              14.28179264838771
             ],
             [
              -16.911277398531347,
              14.281971044313732
             ],
             [
              -16.91133868519564,
              14.282062272629007
             ],
             [
              -16.911500911100465,
              14.282332090202537
             ],
             [
              -16.91155928434311,
              14.282430446879767
             ],
             [
              -16.91165701070578,
              14.282601956811122
             ],
             [
              -16.911840795317463,
              14.282845315831448
             ],
             [
              -16.911863885074293,
              14.28287141548437
             ],
             [
              -16.911842170005173,
              14.283008105711223
             ],
             [
              -16.911563094838925,
              14.282881759161375
             ],
             [
              -16.911285553486184,
              14.282937066800866
             ],
             [
              -16.911205634149194,
              14.282876701211537
             ],
             [
              -16.911005960794,
              14.282749369209476
             ],
             [
              -16.91086021421394,
              14.282608354018137
             ],
             [
              -16.910725881158413,
              14.28250391998316
             ],
             [
              -16.91056208132063,
              14.282339626719947
             ],
             [
              -16.910445705729373,
              14.282247046644516
             ],
             [
              -16.910210863138836,
              14.282071324921082
             ],
             [
              -16.9101658651456,
              14.282029787770202
             ],
             [
              -16.90988615934459,
              14.281828445212934
             ],
             [
              -16.90985186386402,
              14.281803084923446
             ],
             [
              -16.909606302461558,
              14.28160913182748
             ],
             [
              -16.909327817128716,
              14.28155240519484
             ],
             [
              -16.909242103389936,
              14.28153685542376
             ],
             [
              -16.909049225361414,
              14.281483042800714
             ],
             [
              -16.908770518528804,
              14.281400015094226
             ],
             [
              -16.90854142182497,
              14.281271353078234
             ],
             [
              -16.908491044040424,
              14.281225891218057
             ],
             [
              -16.908211232481865,
              14.281011721710088
             ],
             [
              -16.908202348563883,
              14.28100295045882
             ],
             [
              -16.907931209095093,
              14.2807723509211
             ],
             [
              -16.90789274386045,
              14.28073431111083
             ],
             [
              -16.907672810020877,
              14.280464952799028
             ],
             [
              -16.907650255491404,
              14.280422492800392
             ],
             [
              -16.90749739485564,
              14.280195237555315
             ],
             [
              -16.907453331586478,
              14.279924469866751
             ],
             [
              -16.90744000455387,
              14.279653455923503
             ],
             [
              -16.90747138053046,
              14.279382083855005
             ],
             [
              -16.907592027156774,
              14.279109996614961
             ],
             [
              -16.90744385280388,
              14.278840062934927
             ],
             [
              -16.907636475909992,
              14.278786730454126
             ]
            ]
           ],
           "type": "MultiLineString"
          },
          "id": "6",
          "properties": {
           "style": {
            "color": "#fee724",
            "fillColor": "#fee724",
            "fillOpacity": 0.8,
            "weight": 0.9
           },
           "time": "2019-12-31"
          },
          "type": "Feature"
         }
        ],
        "type": "FeatureCollection"
       },
       "name": "",
       "options": [],
       "popup": null,
       "popup_max_height": null,
       "popup_max_width": 300,
       "popup_min_width": 50,
       "style": {
        "fillOpacity": 0.8
       }
      }
     },
     "e6642e684f9b44f4b0b7624d99f9ccb0": {
      "model_module": "jupyter-leaflet",
      "model_module_version": "^0.13.0",
      "model_name": "LeafletTileLayerModel",
      "state": {
       "_model_module_version": "^0.13.0",
       "_view_module_version": "^0.13.0",
       "attribution": "Tiles &copy; Esri &mdash; Source: Esri, i-cubed, USDA, USGS, AEX, GeoEye, Getmapping, Aerogrid, IGN, IGP, UPR-EGP, and the GIS User Community",
       "base": true,
       "max_native_zoom": 18,
       "max_zoom": 20,
       "min_native_zoom": 0,
       "min_zoom": 1,
       "name": "Esri.WorldImagery",
       "options": [
        "attribution",
        "detect_retina",
        "max_native_zoom",
        "max_zoom",
        "min_native_zoom",
        "min_zoom",
        "no_wrap",
        "tile_size",
        "tms"
       ],
       "url": "http://server.arcgisonline.com/ArcGIS/rest/services/World_Imagery/MapServer/tile/{z}/{y}/{x}"
      }
     },
     "ef6937d85e9a4fa4a16266e99e783eea": {
      "model_module": "jupyter-leaflet",
      "model_module_version": "^0.13.0",
      "model_name": "LeafletZoomControlModel",
      "state": {
       "_model_module_version": "^0.13.0",
       "_view_module_version": "^0.13.0",
       "options": [
        "position",
        "zoom_in_text",
        "zoom_in_title",
        "zoom_out_text",
        "zoom_out_title"
       ]
      }
     },
     "fb65091e28b44caf9b318abfc4632235": {
      "model_module": "@jupyter-widgets/base",
      "model_module_version": "1.2.0",
      "model_name": "LayoutModel",
      "state": {}
     },
     "fe80db42e42b42df9cf00db9c275d699": {
      "model_module": "@jupyter-widgets/output",
      "model_module_version": "1.0.0",
      "model_name": "OutputModel",
      "state": {
       "layout": "IPY_MODEL_fb65091e28b44caf9b318abfc4632235"
      }
     },
     "fefb36c87db7403da9d5ae0b18bc933d": {
      "model_module": "@jupyter-widgets/controls",
      "model_module_version": "1.5.0",
      "model_name": "DescriptionStyleModel",
      "state": {
       "description_width": ""
      }
     }
    },
    "version_major": 2,
    "version_minor": 0
   }
  }
 },
 "nbformat": 4,
 "nbformat_minor": 4
}

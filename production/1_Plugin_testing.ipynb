{
 "cells": [
  {
   "cell_type": "code",
   "execution_count": null,
   "id": "c4d7b7ef-ea3b-480e-9654-1667609b503a",
   "metadata": {},
   "outputs": [],
   "source": [
    "!pip install odc-stats==1.0.7 --upgrade"
   ]
  },
  {
   "cell_type": "code",
   "execution_count": null,
   "id": "4b1806ff-36dd-4aae-b2e5-b56138e53e02",
   "metadata": {},
   "outputs": [],
   "source": [
    "!pip uninstall ndvi_tools -y"
   ]
  },
  {
   "cell_type": "code",
   "execution_count": null,
   "id": "2d38455e-8a87-422d-95bf-4701b5155153",
   "metadata": {
    "tags": []
   },
   "outputs": [],
   "source": [
    "!pip install ndvi_tools/"
   ]
  },
  {
   "cell_type": "code",
   "execution_count": null,
   "id": "d55a46c0-cdbf-4b29-a820-795a74f53e56",
   "metadata": {},
   "outputs": [],
   "source": [
    "import os\n",
    "import json\n",
    "import xarray as xr\n",
    "import geopandas as gpd\n",
    "\n",
    "import datacube\n",
    "import matplotlib.pyplot as plt\n",
    "from deafrica_tools.plotting import display_map\n",
    "from deafrica_tools.dask import create_local_dask_cluster\n",
    "\n",
    "from ndvi_tools.ndvi_climatology_plugin import NDVIClimatology"
   ]
  },
  {
   "cell_type": "markdown",
   "id": "ffc418d6-d6b7-4f29-b93d-176a8e2cc0fb",
   "metadata": {},
   "source": [
    "## Test plugin without odc-stats"
   ]
  },
  {
   "cell_type": "code",
   "execution_count": null,
   "id": "8f9205fb-676f-4b1c-aac7-61c9e44309be",
   "metadata": {},
   "outputs": [],
   "source": [
    "create_local_dask_cluster()"
   ]
  },
  {
   "cell_type": "code",
   "execution_count": null,
   "id": "ae62e5e7-3ca5-48e0-b531-a2474d19d163",
   "metadata": {},
   "outputs": [],
   "source": [
    "dc = datacube.Datacube(app=\"Vegetation_anomalies\")"
   ]
  },
  {
   "cell_type": "code",
   "execution_count": null,
   "id": "8d627297-c6b1-4a4b-bf8a-bd20a333aa92",
   "metadata": {},
   "outputs": [],
   "source": [
    "lat, lon = 33.9801, -5.0561 #5.7989, -2.489\n",
    "buffer = 0.45\n",
    "# Set the range of dates for the climatology\n",
    "time_range = ('1984', '2020')\n",
    "resolution = (-30, 30)\n",
    "\n",
    "lat_range = (lat-buffer, lat+buffer)\n",
    "lon_range = (lon-buffer, lon+buffer)"
   ]
  },
  {
   "cell_type": "code",
   "execution_count": null,
   "id": "70488c1e-1fff-438e-b72a-31d5c447f39b",
   "metadata": {},
   "outputs": [],
   "source": [
    "# display_map(x=lon_range, y=lat_range)"
   ]
  },
  {
   "cell_type": "code",
   "execution_count": null,
   "id": "f2e2280a-03cb-4ef9-abd3-4bcf05bbb78f",
   "metadata": {},
   "outputs": [],
   "source": [
    "query = {\n",
    "    'x': lon_range,\n",
    "    'y': lat_range,\n",
    "    'time': time_range,\n",
    "    'resolution': resolution,\n",
    "    'output_crs':'epsg:6933',\n",
    "    'measurements':['red','nir','pixel_quality'],\n",
    "    'group_by':'solar_day',\n",
    "    'collection_category':'T1'\n",
    "#     'dask_chunks':dask_chunks\n",
    "}"
   ]
  },
  {
   "cell_type": "markdown",
   "id": "83dce4ae-088b-4593-b016-da5ae68fbd10",
   "metadata": {},
   "source": [
    "### grab data so we can use the geobox parameter to mimic a 'task'"
   ]
  },
  {
   "cell_type": "code",
   "execution_count": null,
   "id": "eeaba758-9f67-43e5-8c05-4eb20876fd9a",
   "metadata": {},
   "outputs": [],
   "source": [
    "task = dc.load(product=['ls5_sr','ls7_sr','ls8_sr'], dask_chunks={}, **query)"
   ]
  },
  {
   "cell_type": "markdown",
   "id": "2dbd9547-57e4-46cb-bb53-17007b950803",
   "metadata": {},
   "source": [
    "### grab lists of datatsets to mimic .db files"
   ]
  },
  {
   "cell_type": "code",
   "execution_count": null,
   "id": "82c2ed95-ba72-4c7a-b0a6-f3b7a00223f4",
   "metadata": {},
   "outputs": [],
   "source": [
    "dss = dc.find_datasets(product=['ls5_sr', 'ls7_sr', 'ls8_sr'], **query)"
   ]
  },
  {
   "cell_type": "markdown",
   "id": "46e5d2ef-13ec-49fb-b991-9f84c111dc2c",
   "metadata": {},
   "source": [
    "### set up an example config"
   ]
  },
  {
   "cell_type": "code",
   "execution_count": null,
   "id": "72e404dc-3349-4cc1-a58e-f6bd55d85423",
   "metadata": {},
   "outputs": [],
   "source": [
    "config = dict(\n",
    "    resampling=\"bilinear\",\n",
    "    bands=[\"red\", \"nir\"],\n",
    "    mask_band=\"QA_PIXEL\",\n",
    "    harmonization_slope=0.988,\n",
    "    harmonization_intercept= -0.015,\n",
    "    mask_filters=[[\"opening\", 5], [\"dilation\", 5]],\n",
    "    work_chunks= dict(x=2000, y=2000),\n",
    "    flags_ls57=dict(cloud=\"high_confidence\", cloud_shadow=\"high_confidence\"),\n",
    "    flags_ls8=dict(\n",
    "        cloud=\"high_confidence\",\n",
    "        cloud_shadow=\"high_confidence\",\n",
    "        cirrus=\"high_confidence\",\n",
    "    ),\n",
    ")"
   ]
  },
  {
   "cell_type": "markdown",
   "id": "796f73e9-6af9-4760-9202-7606ae9c90c5",
   "metadata": {},
   "source": [
    "### Run the plugin code"
   ]
  },
  {
   "cell_type": "code",
   "execution_count": null,
   "id": "789a8629-533d-4ea6-aa00-0915708171da",
   "metadata": {},
   "outputs": [],
   "source": [
    "x=NDVIClimatology(**config)\n",
    "ndvi = x.input_data(dss, task.geobox)\n",
    "result = x.reduce(ndvi).compute()\n",
    "print(result)"
   ]
  },
  {
   "cell_type": "markdown",
   "id": "98493843-8384-4ad6-9e8f-386b138eb1f2",
   "metadata": {
    "tags": []
   },
   "source": [
    "### Plot"
   ]
  },
  {
   "cell_type": "code",
   "execution_count": null,
   "id": "db7808d0-ae09-4c6f-bfaf-367bc13706ba",
   "metadata": {},
   "outputs": [],
   "source": [
    "fig,ax=plt.subplots(1,12, sharex=True, sharey=True, figsize=(30,4))\n",
    "for i,j in zip(range(0,12), [\"jan\",\"feb\",\"mar\", \"apr\", \"may\", \"jun\", \"jul\", \"aug\", \"sep\", \"oct\", \"nov\", \"dec\"]):\n",
    "    result['mean_'+j].plot.imshow(ax=ax[i], add_colorbar=False, vmin=0, vmax=0.9)\n",
    "    ax[i].set_title(j)"
   ]
  },
  {
   "cell_type": "code",
   "execution_count": null,
   "id": "6b69c141-15a6-4a30-a8a0-8ccf0f394b2c",
   "metadata": {},
   "outputs": [],
   "source": [
    "fig,ax=plt.subplots(1,12, sharex=True, sharey=True, figsize=(30,4))\n",
    "for i,j in zip(range(0,12), [\"jan\",\"feb\",\"mar\", \"apr\", \"may\", \"jun\", \"jul\", \"aug\", \"sep\", \"oct\", \"nov\", \"dec\"]):\n",
    "    result['stddev_'+j].plot.imshow(ax=ax[i], vmin=0,vmax=0.4, add_colorbar=False)\n",
    "    ax[i].set_title(j)"
   ]
  },
  {
   "cell_type": "code",
   "execution_count": null,
   "id": "63ef0e06-c0b6-434c-bfb3-31034ea7f3c2",
   "metadata": {},
   "outputs": [],
   "source": [
    "fig,ax=plt.subplots(1,12, sharex=True, sharey=True, figsize=(30,4))\n",
    "for i,j in zip(range(0,12), [\"jan\",\"feb\",\"mar\", \"apr\", \"may\", \"jun\", \"jul\", \"aug\", \"sep\", \"oct\", \"nov\", \"dec\"]):\n",
    "    result['count_'+j].where(result['count_'+j]>0).plot.imshow(ax=ax[i], vmin=0, vmax=50)\n",
    "    ax[i].set_title(j)"
   ]
  },
  {
   "cell_type": "code",
   "execution_count": null,
   "id": "c4a3ee78-f621-4f47-9b56-65d4ed9a58b8",
   "metadata": {},
   "outputs": [],
   "source": [
    "for i,j in zip(range(0,12), [\"jan\",\"feb\",\"mar\", \"apr\", \"may\", \"jun\", \"jul\", \"aug\", \"sep\", \"oct\", \"nov\", \"dec\"]):\n",
    "    print(j, result['mean_'+j].mean().values)"
   ]
  },
  {
   "cell_type": "code",
   "execution_count": null,
   "id": "20602463-52d0-42a2-9a9a-a92c1964a615",
   "metadata": {},
   "outputs": [],
   "source": [
    "for i,j in zip(range(0,12), [\"jan\",\"feb\",\"mar\", \"apr\", \"may\", \"jun\", \"jul\", \"aug\", \"sep\", \"oct\", \"nov\", \"dec\"]):\n",
    "    print(j, result['stddev_'+j].mean().values)"
   ]
  },
  {
   "cell_type": "code",
   "execution_count": null,
   "id": "9bcf0333-2f79-4899-b2b2-1dd06b7432fc",
   "metadata": {},
   "outputs": [],
   "source": [
    "for i,j in zip(range(0,12), [\"jan\",\"feb\",\"mar\", \"apr\", \"may\", \"jun\", \"jul\", \"aug\", \"sep\", \"oct\", \"nov\", \"dec\"]):\n",
    "    print(j, result['count_'+j].mean().values)"
   ]
  },
  {
   "cell_type": "markdown",
   "id": "f114407c-6bb2-408a-8e16-461402c30b43",
   "metadata": {},
   "source": [
    "# Test plugin with odc-stats"
   ]
  },
  {
   "cell_type": "code",
   "execution_count": null,
   "id": "d2295e09-ec16-4e2e-a6fa-e70e37f8453b",
   "metadata": {},
   "outputs": [],
   "source": [
    "!pip uninstall ndvi_tools -y"
   ]
  },
  {
   "cell_type": "code",
   "execution_count": null,
   "id": "ba4f6711-35a3-413f-af5d-58158b6a58aa",
   "metadata": {
    "tags": []
   },
   "outputs": [],
   "source": [
    "!pip install ndvi_tools/"
   ]
  },
  {
   "cell_type": "code",
   "execution_count": 1,
   "id": "6a222f75-2cde-4b93-9eaa-1af52f4c36bf",
   "metadata": {},
   "outputs": [],
   "source": [
    "import os\n",
    "import json\n",
    "import xarray as xr\n",
    "import geopandas as gpd\n",
    "from odc.stats.tasks import TaskReader\n",
    "from odc.stats.model import OutputProduct"
   ]
  },
  {
   "cell_type": "markdown",
   "id": "730270f3-f130-4490-adc2-245832995833",
   "metadata": {},
   "source": [
    "### Generate tasks etc"
   ]
  },
  {
   "cell_type": "code",
   "execution_count": null,
   "id": "e73d77b1-d525-4aae-b88a-34b40d484741",
   "metadata": {},
   "outputs": [],
   "source": [
    "%%time\n",
    "!odc-stats save-tasks --frequency annual --grid africa_30 --temporal-range 1984--P36Y ls5_sr-ls7_sr-ls8_sr --frequency all --dataset-filter '{\"collection_category\": \"T1\"}'"
   ]
  },
  {
   "cell_type": "code",
   "execution_count": null,
   "id": "b6df43f6-aac6-454e-accb-27b105f2840c",
   "metadata": {},
   "outputs": [],
   "source": [
    "# os.system(\"cm-task --task-csv=ls5_sr-ls7_sr-ls8_sr_2011--P5Y.csv \"\\\n",
    "#           \"--geojson=../testing/data/testing_extent.geojson \"\\\n",
    "#           \"--outfile=aez.csv \"\\\n",
    "#           \"--grid=africa_30 \" \\\n",
    "#           \"--sqs=deafrica-dev-eks-stats-ndvi-clim \"\\\n",
    "#           \"--db=ls5_sr-ls7_sr-ls8_sr_2011--P5Y.db \"\\\n",
    "#          )"
   ]
  },
  {
   "cell_type": "markdown",
   "id": "d16621f8-db66-4251-b39d-811f480071f1",
   "metadata": {},
   "source": [
    "### Enter the X and Y Tile ID of the tile you want to run\n",
    "\n",
    "Use the geojson to select a tile id"
   ]
  },
  {
   "cell_type": "code",
   "execution_count": 2,
   "id": "7f720a22-bc1f-4a16-ae8f-b2056491b43f",
   "metadata": {},
   "outputs": [],
   "source": [
    "tile_x = '178' #x173y118\n",
    "tile_y = '084'  \t\n",
    "\n",
    "t=[int(tile_x), int(tile_y)]"
   ]
  },
  {
   "cell_type": "markdown",
   "id": "c955b454-f073-4ebe-ae2c-32caba9d6545",
   "metadata": {},
   "source": [
    "### Extract the tasks object for that tile"
   ]
  },
  {
   "cell_type": "code",
   "execution_count": 3,
   "id": "74bf1b6c-72d9-4101-8295-8300ecba2deb",
   "metadata": {},
   "outputs": [],
   "source": [
    "name, version = 'ndvi_climatology_ls', '1-0-0'\n",
    "op = OutputProduct(\n",
    "            name='ndvi_climatology_ls',\n",
    "            version='1-0-0',\n",
    "            short_name='ndvi_climatology_ls',\n",
    "            location=f\"s3://dummy-bucket/{name}/{version}\",\n",
    "            properties={\"odc:file_format\": \"GeoTIFF\"},\n",
    "            measurements=['red']\n",
    "        )\n",
    "\n",
    "taskdb = TaskReader('ndvi_climatology_ls_1984--P36Y.db', product=op)\n",
    "task = taskdb.load_task(('1984--P37Y', t[0], t[1]))"
   ]
  },
  {
   "cell_type": "markdown",
   "id": "3dee4f42-d829-412a-8d24-a6b3745cecb7",
   "metadata": {},
   "source": [
    "### Optionally export tile geojson to view"
   ]
  },
  {
   "cell_type": "code",
   "execution_count": 4,
   "id": "ac7937fd-872f-4060-aaae-e9d97317fc3a",
   "metadata": {},
   "outputs": [],
   "source": [
    "with open('task_tile_check.geojson', 'w') as fh:\n",
    "    json.dump(task.geobox.extent.to_crs('epsg:4326').json, fh, indent=2)"
   ]
  },
  {
   "cell_type": "markdown",
   "id": "e004b0ed-6016-48c1-b978-4d7cc225672b",
   "metadata": {},
   "source": [
    "### Find the index of the tile we want to run"
   ]
  },
  {
   "cell_type": "code",
   "execution_count": 5,
   "id": "0bd20c6b-b131-45af-a0c8-7fe3fe8e1314",
   "metadata": {},
   "outputs": [
    {
     "name": "stdout",
     "output_type": "stream",
     "text": [
      "614\n"
     ]
    }
   ],
   "source": [
    "tile_index_to_run = []\n",
    "all_tiles = list(taskdb.all_tiles)\n",
    "for i, index in zip(all_tiles, range(0, len(all_tiles))):\n",
    "    if (i[1]==t[0]) & (i[2]==t[1]):\n",
    "        tile_index_to_run.append(index)\n",
    "        print(index)"
   ]
  },
  {
   "cell_type": "markdown",
   "id": "bfd8b83a-c408-46cf-bb1d-e788e6091e24",
   "metadata": {},
   "source": [
    "### Try running odc-stats using the config yaml and external plugin"
   ]
  },
  {
   "cell_type": "code",
   "execution_count": null,
   "id": "709b9d38-3dac-49ad-a965-9f9afdd038ca",
   "metadata": {},
   "outputs": [
    {
     "name": "stdout",
     "output_type": "stream",
     "text": [
      "[2021-12-23 04:17:34,446] {_cli_run.py:139} INFO - Config overrides: {'filedb': 'ndvi_climatology_ls_1984--P36Y.db', 'threads': 60, 'memory_limit': '450Gi', 'output_location': 'file:///home/jovyan/git/ndvi-anomalies/production/{product}/{version}/'}\n",
      "[2021-12-23 04:17:34,446] {_cli_run.py:158} INFO - Using this config: TaskRunnerConfig(filedb='ndvi_climatology_ls_1984--P36Y.db', aws_unsigned=True, plugin='ndvi_tools.ndvi_climatology_plugin.NDVIClimatology', plugin_config={'resampling': 'bilinear', 'bands': ['red', 'nir'], 'mask_band': 'QA_PIXEL', 'harmonization_slope': 0.988, 'harmonization_intercept': -0.015, 'mask_filters': [['opening', 5], ['dilation', 5]], 'flags_ls57': {'cloud': 'high_confidence', 'cloud_shadow': 'high_confidence'}, 'flags_ls8': {'cloud': 'high_confidence', 'cloud_shadow': 'high_confidence', 'cirrus': 'high_confidence'}}, product={'name': 'ndvi_climatology_ls', 'short_name': 'ndvi_climatology_ls', 'version': '1.0.0', 'collections_site': 'explorer.digitalearth.africa', 'producer': 'digitalearthafrica.org', 'region_code_format': 'x{x:03d}y{y:03d}'}, threads=60, memory_limit='450Gi', output_location='file:///home/jovyan/git/ndvi-anomalies/production/{product}/{version}/', s3_acl='bucket-owner-full-control', s3_public=False, cog_opts={'compress': 'deflate', 'zlevel': 9, 'blocksize': 800, 'ovr_blocksize': 256, 'overview_resampling': 'average'}, overwrite=False, heartbeat_filepath=None, max_processing_time=0, job_queue_max_lease=300, renew_safety_margin=30, future_poll_interval=5)\n",
      "[2021-12-23 04:17:34,446] {proc.py:44} INFO - Resolving plugin: ndvi_tools.ndvi_climatology_plugin.NDVIClimatology\n",
      "[2021-12-23 04:17:34,447] {proc.py:48} INFO - Output product: OutputProduct(name='ndvi_climatology_ls', version='1.0.0', short_name='ndvi_climatology_ls', location='file:///home/jovyan/git/ndvi-anomalies/production/ndvi_climatology_ls/1-0-0', properties={'odc:file_format': 'GeoTIFF', 'odc:product_family': 'statistics', 'odc:producer': 'digitalearthafrica.org'}, measurements=('mean_jan', 'mean_feb', 'mean_mar', 'mean_apr', 'mean_may', 'mean_jun', 'mean_jul', 'mean_aug', 'mean_sep', 'mean_oct', 'mean_nov', 'mean_dec', 'stddev_jan', 'stddev_feb', 'stddev_mar', 'stddev_apr', 'stddev_may', 'stddev_jun', 'stddev_jul', 'stddev_aug', 'stddev_sep', 'stddev_oct', 'stddev_nov', 'stddev_dec', 'count_jan', 'count_feb', 'count_mar', 'count_apr', 'count_may', 'count_jun', 'count_jul', 'count_aug', 'count_sep', 'count_oct', 'count_nov', 'count_dec'), href='https://explorer.digitalearth.africa/product/ndvi_climatology_ls', region_code_format='x{x:03d}y{y:03d}', cfg=None, naming_conventions_values='dea_c3', explorer_path='https://explorer.dea.ga.gov.au', inherit_skip_properties=None, preview_image_ows_style=None, classifier='level3', maturity=None, collection_number=3, nodata=None)\n",
      "[2021-12-23 04:17:34,447] {proc.py:51} INFO - Constructing task reader: ndvi_climatology_ls_1984--P36Y.db\n",
      "[2021-12-23 04:17:34,516] {proc.py:53} INFO - Will read from <ndvi_climatology_ls_1984--P36Y.db> grid:africa_30 n:4,398\n",
      "[2021-12-23 04:17:34,516] {proc.py:55} INFO - Changing resolution to (-30.0, 30.0)\n",
      "[2021-12-23 04:17:34,516] {proc.py:266} INFO - Starting processing from task list\n",
      "[2021-12-23 04:17:34,767] {proc.py:95} INFO - Started local Dask <Client: 'inproc://10.95.106.214/913/1' processes=1 threads=60, memory=483.18 GB>\n",
      "[2021-12-23 04:17:34,900] {proc.py:187} INFO - Starting processing of x178/y084/1984--P37Y\n"
     ]
    },
    {
     "name": "stderr",
     "output_type": "stream",
     "text": [
      "/env/lib/python3.8/site-packages/xarray/core/indexing.py:1226: PerformanceWarning: Slicing is producing a large chunk. To accept the large\n",
      "chunk and silence this warning, set the option\n",
      "    >>> with dask.config.set(**{'array.slicing.split_large_chunks': False}):\n",
      "    ...     array[indexer]\n",
      "\n",
      "To avoid creating the large chunks, set the option\n",
      "    >>> with dask.config.set(**{'array.slicing.split_large_chunks': True}):\n",
      "    ...     array[indexer]\n",
      "  return self.array[key]\n",
      "/env/lib/python3.8/site-packages/xarray/core/indexing.py:1226: PerformanceWarning: Slicing is producing a large chunk. To accept the large\n",
      "chunk and silence this warning, set the option\n",
      "    >>> with dask.config.set(**{'array.slicing.split_large_chunks': False}):\n",
      "    ...     array[indexer]\n",
      "\n",
      "To avoid creating the large chunks, set the option\n",
      "    >>> with dask.config.set(**{'array.slicing.split_large_chunks': True}):\n",
      "    ...     array[indexer]\n",
      "  return self.array[key]\n",
      "/env/lib/python3.8/site-packages/xarray/core/indexing.py:1226: PerformanceWarning: Slicing is producing a large chunk. To accept the large\n",
      "chunk and silence this warning, set the option\n",
      "    >>> with dask.config.set(**{'array.slicing.split_large_chunks': False}):\n",
      "    ...     array[indexer]\n",
      "\n",
      "To avoid creating the large chunks, set the option\n",
      "    >>> with dask.config.set(**{'array.slicing.split_large_chunks': True}):\n",
      "    ...     array[indexer]\n",
      "  return self.array[key]\n",
      "/env/lib/python3.8/site-packages/xarray/core/indexing.py:1226: PerformanceWarning: Slicing is producing a large chunk. To accept the large\n",
      "chunk and silence this warning, set the option\n",
      "    >>> with dask.config.set(**{'array.slicing.split_large_chunks': False}):\n",
      "    ...     array[indexer]\n",
      "\n",
      "To avoid creating the large chunks, set the option\n",
      "    >>> with dask.config.set(**{'array.slicing.split_large_chunks': True}):\n",
      "    ...     array[indexer]\n",
      "  return self.array[key]\n",
      "/env/lib/python3.8/site-packages/dask/array/numpy_compat.py:41: RuntimeWarning: invalid value encountered in true_divide\n",
      "  x = np.divide(x1, x2, out)\n",
      "distributed.utils_perf - WARNING - full garbage collections took 13% CPU time recently (threshold: 10%)\n"
     ]
    }
   ],
   "source": [
    "%%time\n",
    "os.system(\"odc-stats run \"\\\n",
    "          \"ndvi_climatology_ls_1984--P36Y.db \"\\\n",
    "          \"--config=///home/jovyan/git/ndvi-anomalies/production/ndvi_tools/config/ndvi_climatology.yaml \"\\\n",
    "          \"--resolution=30 \"\\\n",
    "          \"--threads=60 \"\\\n",
    "          \"--memory-limit=450Gi \"\\\n",
    "          \"--location=file:///home/jovyan/git/ndvi-anomalies/production/{product}/{version}/ \"+str(tile_index_to_run[0])\n",
    "         )"
   ]
  },
  {
   "cell_type": "code",
   "execution_count": null,
   "id": "75517bf6-850f-41c2-bcc2-5b870c6ce558",
   "metadata": {},
   "outputs": [],
   "source": [
    "# !odc-stats run ls7_sr-ls8_sr_2014--P2Y.db --config=ndvi_climatology.yaml --resolution=80 --threads=4 --memory-limit=29Gi --location=file:///home/jovyan/git/deafrica-sandbox-notebooks/frica-sandbox-notebooks/HLS/{product}/{version} 1202"
   ]
  },
  {
   "cell_type": "markdown",
   "id": "693c44f0-f609-4d0d-88df-29a710c8bf91",
   "metadata": {},
   "source": [
    "### Plot results"
   ]
  },
  {
   "cell_type": "code",
   "execution_count": null,
   "id": "70a81537-70ca-41eb-8388-16d96904bf43",
   "metadata": {},
   "outputs": [],
   "source": [
    "mon= 'aug'"
   ]
  },
  {
   "cell_type": "code",
   "execution_count": null,
   "id": "a277d84a-6432-4959-bd45-16cf927b372c",
   "metadata": {},
   "outputs": [],
   "source": [
    "a= 'x'+str(t[0])\n",
    "b='y'+str(t[1])\n",
    "\n",
    "mean=xr.open_rasterio('ndvi_climatology_ls/1-0-0/'+a+'/'+b+'/1984--P37Y/ndvi_climatology_ls_'+a+b+'_1984--P37Y_mean_'+mon+'.tif').squeeze()\n",
    "print(mean)\n",
    "mean.squeeze().plot.imshow(size=6);"
   ]
  },
  {
   "cell_type": "code",
   "execution_count": null,
   "id": "8fa81081-d73c-4d49-858f-7d50f51f01fc",
   "metadata": {},
   "outputs": [],
   "source": [
    "std=xr.open_rasterio('ndvi_climatology_ls/1-0-0/'+a+'/'+b+'/1984--P37Y/ndvi_climatology_ls_'+a+b+'_1984--P37Y_stddev_'+mon+'.tif').squeeze()\n",
    "print(std)\n",
    "std.squeeze().plot.imshow(size=6);"
   ]
  },
  {
   "cell_type": "code",
   "execution_count": null,
   "id": "0cf0b68c-cbb8-475e-8920-d1bd8f764818",
   "metadata": {},
   "outputs": [],
   "source": [
    "count=xr.open_rasterio('ndvi_climatology_ls/1-0-0/'+a+'/'+b+'/1984--P37Y/ndvi_climatology_ls_'+a+b+'_1984--P37Y_count_'+mon+'.tif').squeeze()\n",
    "print(count)\n",
    "count.squeeze().plot.imshow(size=6);"
   ]
  },
  {
   "cell_type": "markdown",
   "id": "49ea55aa-4167-4df0-a056-a4d525662002",
   "metadata": {},
   "source": [
    "### remove results folder"
   ]
  },
  {
   "cell_type": "code",
   "execution_count": null,
   "id": "c670f4dc-88bc-4e71-8d1b-8de735d79c5d",
   "metadata": {},
   "outputs": [],
   "source": [
    "!rm -r -f ndvi_climatology_ls/"
   ]
  },
  {
   "cell_type": "markdown",
   "id": "b7e1caa8-f9c5-48ca-8219-b5dd6027ecb6",
   "metadata": {},
   "source": [
    "## Sync folder from s3"
   ]
  },
  {
   "cell_type": "code",
   "execution_count": null,
   "id": "f350176d-967d-42e8-b60b-98855412ca89",
   "metadata": {},
   "outputs": [],
   "source": [
    "!aws s3 sync s3://deafrica-data-dev-af/ndvi_climatology_ls/dbs dbs  --no-sign-request"
   ]
  },
  {
   "cell_type": "code",
   "execution_count": null,
   "id": "ad7f9c07-889b-4dac-89ee-f32255af4c2a",
   "metadata": {},
   "outputs": [],
   "source": [
    "# !aws s3 sync s3://deafrica-data-staging-af/crop_mask_southern/ crop_mask_southern --no-sign-request\n",
    "# !aws s3 sync s3://deafrica-services/crop_mask_northern/ crop_mask_northern --no-sign-request --dryrun"
   ]
  },
  {
   "cell_type": "markdown",
   "id": "5ddf1c6f-26fd-4768-b091-9e37eec42952",
   "metadata": {},
   "source": [
    "## Remove files from AWS"
   ]
  },
  {
   "cell_type": "code",
   "execution_count": null,
   "id": "0a64e7f0-f848-421a-8fd8-a28644d34f82",
   "metadata": {},
   "outputs": [],
   "source": [
    "!aws s3 rm --recursive s3://deafrica-data-dev-af/crop_mask_southern --dryrun"
   ]
  },
  {
   "cell_type": "markdown",
   "id": "cab99579-478d-4029-a6c0-bb31ffabec55",
   "metadata": {},
   "source": [
    "## plotting"
   ]
  },
  {
   "cell_type": "code",
   "execution_count": null,
   "id": "ebe6a533-8b58-47bd-9ece-0286c1d32672",
   "metadata": {},
   "outputs": [],
   "source": [
    "mon= 'aug'\n",
    "a= 'x178'\n",
    "b='y084'\n"
   ]
  },
  {
   "cell_type": "code",
   "execution_count": null,
   "id": "18b627ee-1b23-4973-8b5f-436c52cca593",
   "metadata": {},
   "outputs": [],
   "source": [
    "mean=xr.open_rasterio('ndvi_climatology_ls/1-0-0/'+a+'/'+b+'/1984--P37Y/ndvi_climatology_ls_'+a+b+'_1984--P37Y_mean_'+mon+'.tif').squeeze()\n",
    "print(mean.mean())\n",
    "mean.squeeze().plot.imshow(size=6, vmax=1.0, vmin=0.0);"
   ]
  },
  {
   "cell_type": "code",
   "execution_count": null,
   "id": "2c2dbf69-44dd-4909-9f8e-5c5910bdad88",
   "metadata": {},
   "outputs": [],
   "source": [
    "std=xr.open_rasterio('ndvi_climatology_ls/1-0-0/'+a+'/'+b+'/1984--P37Y/ndvi_climatology_ls_'+a+b+'_1984--P37Y_stddev_'+mon+'.tif').squeeze()\n",
    "std.squeeze().plot.imshow(size=6);"
   ]
  },
  {
   "cell_type": "code",
   "execution_count": null,
   "id": "eb5cb24d-4d43-45a3-8716-399879df0d4e",
   "metadata": {},
   "outputs": [],
   "source": [
    "# result.count_aug.mean()\n",
    "count.mean()"
   ]
  },
  {
   "cell_type": "code",
   "execution_count": null,
   "id": "4a2d5e93-a672-44ea-8c96-71d9022c5320",
   "metadata": {},
   "outputs": [],
   "source": [
    "count=xr.open_rasterio('ndvi_climatology_ls/1-0-0/'+a+'/'+b+'/1984--P37Y/ndvi_climatology_ls_'+a+b+'_1984--P37Y_count_'+mon+'.tif').squeeze()\n",
    "count.squeeze().plot.imshow(size=6);"
   ]
  },
  {
   "cell_type": "code",
   "execution_count": null,
   "id": "4383e031-df00-4543-9361-3dc7e5df19bc",
   "metadata": {},
   "outputs": [],
   "source": [
    "result.mean_jan.plot(size=6, vmax=1.0, vmin=0.0);"
   ]
  },
  {
   "cell_type": "code",
   "execution_count": null,
   "id": "74179a70-aec9-49a3-b813-f99aaa55c0e0",
   "metadata": {},
   "outputs": [],
   "source": [
    "result.count_aug.where(result.count_aug>0).plot(size=6);"
   ]
  },
  {
   "cell_type": "code",
   "execution_count": null,
   "id": "7b2ecaf0-5d85-411d-acf6-2ff7b4588bd9",
   "metadata": {},
   "outputs": [],
   "source": []
  }
 ],
 "metadata": {
  "kernelspec": {
   "display_name": "Python 3 (ipykernel)",
   "language": "python",
   "name": "python3"
  },
  "language_info": {
   "codemirror_mode": {
    "name": "ipython",
    "version": 3
   },
   "file_extension": ".py",
   "mimetype": "text/x-python",
   "name": "python",
   "nbconvert_exporter": "python",
   "pygments_lexer": "ipython3",
   "version": "3.8.10"
  }
 },
 "nbformat": 4,
 "nbformat_minor": 5
}

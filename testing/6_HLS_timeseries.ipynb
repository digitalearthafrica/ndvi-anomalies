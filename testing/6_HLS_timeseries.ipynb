{
 "cells": [
  {
   "cell_type": "markdown",
   "metadata": {},
   "source": [
    "# Harmonising Landsat and sentinel using DE Africa Coeefficients\n",
    "\n",
    "* **Products used:** \n"
   ]
  },
  {
   "cell_type": "raw",
   "metadata": {
    "raw_mimetype": "text/restructuredtext"
   },
   "source": [
    "**Keywords**: :index:`data used; landsat 8`, :index:`analysis; change detection`, :index:`band index; NDVI`, :index:`band index; EVI`, :index:`forestry`"
   ]
  },
  {
   "cell_type": "markdown",
   "metadata": {},
   "source": [
    "### Background \n",
    "\n",
    "### Description\n",
    "\n",
    "\n",
    "***"
   ]
  },
  {
   "cell_type": "markdown",
   "metadata": {},
   "source": [
    "## Getting started\n"
   ]
  },
  {
   "cell_type": "markdown",
   "metadata": {},
   "source": [
    "### Load packages\n",
    "Load key Python packages and any supporting functions for the analysis."
   ]
  },
  {
   "cell_type": "code",
   "execution_count": 1,
   "metadata": {},
   "outputs": [
    {
     "name": "stderr",
     "output_type": "stream",
     "text": [
      "/env/lib/python3.8/site-packages/datacube/storage/masking.py:7: DeprecationWarning: datacube.storage.masking has moved to datacube.utils.masking\n",
      "  warnings.warn(\"datacube.storage.masking has moved to datacube.utils.masking\",\n"
     ]
    }
   ],
   "source": [
    "import datacube\n",
    "import datacube.utils.rio\n",
    "import matplotlib.pyplot as plt\n",
    "import numpy as np\n",
    "import seaborn as sns\n",
    "from scipy import stats\n",
    "import xarray as xr\n",
    "import geopandas as gpd\n",
    "\n",
    "from deafrica_tools.datahandling import load_ard\n",
    "from deafrica_tools.plotting import display_map, rgb\n",
    "from deafrica_tools.bandindices import calculate_indices\n",
    "from deafrica_tools.dask import create_local_dask_cluster\n",
    "from deafrica_tools.classification import collect_training_data\n",
    "\n",
    "#This will speed up loading data\n",
    "datacube.utils.rio.set_default_rio_config(aws='auto', cloud_defaults=True)"
   ]
  },
  {
   "cell_type": "code",
   "execution_count": 2,
   "metadata": {},
   "outputs": [
    {
     "name": "stderr",
     "output_type": "stream",
     "text": [
      "/env/lib/python3.8/site-packages/distributed/node.py:151: UserWarning: Port 8787 is already in use.\n",
      "Perhaps you already have a cluster running?\n",
      "Hosting the HTTP server on port 33273 instead\n",
      "  warnings.warn(\n"
     ]
    },
    {
     "data": {
      "text/html": [
       "<table style=\"border: 2px solid white;\">\n",
       "<tr>\n",
       "<td style=\"vertical-align: top; border: 0px solid white\">\n",
       "<h3 style=\"text-align: left;\">Client</h3>\n",
       "<ul style=\"text-align: left; list-style: none; margin: 0; padding: 0;\">\n",
       "  <li><b>Scheduler: </b>tcp://127.0.0.1:44365</li>\n",
       "  <li><b>Dashboard: </b><a href='/user/nanaboamah/proxy/33273/status' target='_blank'>/user/nanaboamah/proxy/33273/status</a></li>\n",
       "</ul>\n",
       "</td>\n",
       "<td style=\"vertical-align: top; border: 0px solid white\">\n",
       "<h3 style=\"text-align: left;\">Cluster</h3>\n",
       "<ul style=\"text-align: left; list-style:none; margin: 0; padding: 0;\">\n",
       "  <li><b>Workers: </b>1</li>\n",
       "  <li><b>Cores: </b>4</li>\n",
       "  <li><b>Memory: </b>28.14 GB</li>\n",
       "</ul>\n",
       "</td>\n",
       "</tr>\n",
       "</table>"
      ],
      "text/plain": [
       "<Client: 'tcp://127.0.0.1:44365' processes=1 threads=4, memory=28.14 GB>"
      ]
     },
     "metadata": {},
     "output_type": "display_data"
    }
   ],
   "source": [
    "create_local_dask_cluster()"
   ]
  },
  {
   "cell_type": "markdown",
   "metadata": {},
   "source": [
    "### Connect to the datacube\n",
    "Activate the datacube database, which provides functionality for loading and displaying stored Earth observation data."
   ]
  },
  {
   "cell_type": "code",
   "execution_count": 3,
   "metadata": {},
   "outputs": [],
   "source": [
    "dc = datacube.Datacube(app=\"HLS\")"
   ]
  },
  {
   "cell_type": "markdown",
   "metadata": {
    "tags": []
   },
   "source": [
    "### Analysis parameters\n"
   ]
  },
  {
   "cell_type": "code",
   "execution_count": 4,
   "metadata": {},
   "outputs": [],
   "source": [
    "# Define the area of interest\n",
    "# Northern Nigeria\n",
    "\n",
    "img_name = 'nigeria'\n",
    "latitude = 12.24142\n",
    "longitude = 9.33816\n",
    "crop_mask = 'crop_mask_western'\n",
    "\n",
    "#Southern Nigeia\n",
    "# latitude = 8.05477\n",
    "# longitude = 11.01148\n",
    "\n",
    "# #Northern Ghana\n",
    "# img_name = 'northern_ghana'\n",
    "# latitude = 10.15034\n",
    "# longitude = 0.34555\n",
    "# crop_mask = 'crop_mask_western'\n",
    "\n",
    "#Southen Ghana\n",
    "# latitude = 6.05653\n",
    "# longitude = 0.50653\n",
    "\n",
    "#western ivory coast\n",
    "# latitude = 9.52254\n",
    "# longitude = -5.57921\n",
    "\n",
    "# Guinea Part\n",
    "# latitude = 10.75481\n",
    "# longitude = -11.05431\n",
    "\n",
    "#Guinea Southern \n",
    "# latitude = 9.45168\n",
    "# longitude = -13.46149\n",
    "\n",
    "# Ethiopia\n",
    "# latitude = 9.70906\n",
    "# longitude = 38.62793\n",
    "\n",
    "#Egypt\n",
    "# img_name = 'egypt'\n",
    "# latitude= 29.2401\n",
    "# longitude=30.7371\n",
    "# crop_mask = 'crop_mask_northern'\n",
    "\n",
    "# #kenya\n",
    "# img_name = 'kenya'\n",
    "latitude = -4.39023\n",
    "longitude = 33.09082\n",
    "crop_mask = 'crop_mask_eastern'\n",
    "\n",
    "buffer = 0.01\n",
    "\n",
    "# crop_mask = 'crop_mask_western'\n",
    "\n",
    "# Combine central lat,lon with buffer to get area of interest\n",
    "lat_range = (latitude-buffer, latitude+buffer)\n",
    "lon_range = (longitude-buffer, longitude+buffer)\n",
    "\n",
    "# Set the range of dates for the complete sample\n",
    "time = ('2019')\n",
    "\n",
    "dask_chunks = dict(x=1000, y=1000)\n"
   ]
  },
  {
   "cell_type": "markdown",
   "metadata": {
    "tags": []
   },
   "source": [
    "## View the selected location\n",
    "The next cell will display the selected area on an interactive map.\n",
    "The red border represents the area of interest of the study.\n",
    "Zoom in and out to get a better understanding of the area of interest.\n",
    "Clicking anywhere on the map will reveal the latitude and longitude coordinates of the clicked point."
   ]
  },
  {
   "cell_type": "code",
   "execution_count": 5,
   "metadata": {},
   "outputs": [],
   "source": [
    "# display_map(x=lon_range, y=lat_range)"
   ]
  },
  {
   "cell_type": "markdown",
   "metadata": {},
   "source": [
    "## Load and view Landsat data"
   ]
  },
  {
   "cell_type": "code",
   "execution_count": 6,
   "metadata": {},
   "outputs": [],
   "source": [
    "#Create a query object\n",
    "query = {\n",
    "    'x': lon_range,\n",
    "    'y': lat_range,\n",
    "    'time': time,\n",
    "    'measurements': ['red','nir'],\n",
    "    'resolution': (-30, 30),\n",
    "    'group_by': 'solar_day',\n",
    "    'output_crs': 'EPSG:6933'\n",
    "}\n"
   ]
  },
  {
   "cell_type": "code",
   "execution_count": 7,
   "metadata": {},
   "outputs": [
    {
     "name": "stderr",
     "output_type": "stream",
     "text": [
      "/home/jovyan/Tools/deafrica_tools/datahandling.py:260: UserWarning: Setting 'min_gooddata' percentage to > 0.0 will cause dask arrays to compute when loading pixel-quality data to calculate 'good pixel' percentage. This can slow the return of your dataset.\n",
      "  warnings.warn(\n"
     ]
    },
    {
     "name": "stdout",
     "output_type": "stream",
     "text": [
      "Using pixel quality parameters for USGS Collection 2\n",
      "Finding datasets\n",
      "    ls8_sr\n",
      "Counting good quality pixels for each time step\n",
      "Filtering to 13 out of 22 time steps with at least 95.0% good quality pixels\n",
      "Applying morphological filters to pq mask (['opening', 5], ['dilation', 5])\n",
      "Applying pixel quality/cloud mask\n",
      "Re-scaling Landsat C2 data\n",
      "Returning 13 time steps as a dask array\n"
     ]
    }
   ],
   "source": [
    "# load cloud-masked ls8 using load_ard\n",
    "ds = load_ard(dc=dc,\n",
    "              products=['ls8_sr'],\n",
    "              min_gooddata=0.95,\n",
    "              mask_filters=(['opening',5], ['dilation',5]),\n",
    "              dask_chunks=dask_chunks,\n",
    "              **query,\n",
    "             )"
   ]
  },
  {
   "cell_type": "code",
   "execution_count": 8,
   "metadata": {},
   "outputs": [
    {
     "name": "stdout",
     "output_type": "stream",
     "text": [
      "Using pixel quality parameters for Sentinel 2\n",
      "Finding datasets\n",
      "    s2_l2a\n"
     ]
    },
    {
     "name": "stderr",
     "output_type": "stream",
     "text": [
      "/home/jovyan/Tools/deafrica_tools/datahandling.py:260: UserWarning: Setting 'min_gooddata' percentage to > 0.0 will cause dask arrays to compute when loading pixel-quality data to calculate 'good pixel' percentage. This can slow the return of your dataset.\n",
      "  warnings.warn(\n"
     ]
    },
    {
     "name": "stdout",
     "output_type": "stream",
     "text": [
      "Counting good quality pixels for each time step\n",
      "Filtering to 86 out of 146 time steps with at least 95.0% good quality pixels\n",
      "Applying morphological filters to pq mask (['opening', 5], ['dilation', 5])\n",
      "Applying pixel quality/cloud mask\n",
      "Returning 86 time steps as a dask array\n"
     ]
    }
   ],
   "source": [
    "# load cloud-masked fractional cover using load_ard\n",
    "ds_sentinel = load_ard(dc=dc,\n",
    "              products=['s2_l2a'],\n",
    "              like=ds.geobox,\n",
    "              time=time,\n",
    "              measurements=['red','nir_2'], #use nir narrow to match with LS8\n",
    "              min_gooddata=0.95,\n",
    "              mask_filters=(['opening',5], ['dilation',5]),\n",
    "              dask_chunks=dask_chunks,\n",
    "             )\n",
    "\n",
    "#rename nir2 to trick calculate_indices\n",
    "ds_sentinel = ds_sentinel.rename({'nir_2':'nir'})"
   ]
  },
  {
   "cell_type": "code",
   "execution_count": 9,
   "metadata": {},
   "outputs": [
    {
     "data": {
      "image/png": "[encoded data removed]",
      "text/plain": [
       "<Figure size 360x360 with 1 Axes>"
      ]
     },
     "metadata": {
      "needs_background": "light"
     },
     "output_type": "display_data"
    }
   ],
   "source": [
    "cm = dc.load(product=crop_mask,\n",
    "            time=('2019'),\n",
    "            measurements='mask',\n",
    "            resampling='nearest', \n",
    "            like=ds.geobox).mask.squeeze()\n",
    "\n",
    "cm.plot.imshow(add_colorbar=False, figsize=(5,5))\n",
    "plt.title('Cropland Extent');"
   ]
  },
  {
   "cell_type": "markdown",
   "metadata": {},
   "source": [
    "### Mask non-croplands"
   ]
  },
  {
   "cell_type": "code",
   "execution_count": 10,
   "metadata": {},
   "outputs": [],
   "source": [
    "ds = ds.where(cm, np.nan)\n",
    "ds_sentinel = ds_sentinel.where(cm, np.nan)"
   ]
  },
  {
   "cell_type": "code",
   "execution_count": 11,
   "metadata": {},
   "outputs": [],
   "source": [
    "ds = calculate_indices(ds, 'NDVI', collection='c2', drop=False)\n",
    "ds_sentinel = calculate_indices(ds_sentinel, 'NDVI', collection='s2', drop=False)"
   ]
  },
  {
   "cell_type": "markdown",
   "metadata": {},
   "source": [
    "## Match Sentinel-2 and Landsat acquistion times\n",
    "\n",
    "Tolerance of 3 days\n"
   ]
  },
  {
   "cell_type": "code",
   "execution_count": 12,
   "metadata": {},
   "outputs": [],
   "source": [
    "ds_sentinel = ds_sentinel.reindex(time=ds.time, method='nearest', tolerance='3D')"
   ]
  },
  {
   "cell_type": "markdown",
   "metadata": {
    "tags": []
   },
   "source": [
    "### Harmonize Landsat 8 with Sentinel-2 using DE Africa Coefficents"
   ]
  },
  {
   "cell_type": "code",
   "execution_count": 13,
   "metadata": {
    "tags": []
   },
   "outputs": [],
   "source": [
    "# multiplying the red band with slope and adding to intercept\n",
    "slope = 0.979\n",
    "intercept = 0.012\n",
    "\n",
    "y_dea = (ds_sentinel['NDVI'] - intercept) / slope"
   ]
  },
  {
   "cell_type": "markdown",
   "metadata": {},
   "source": [
    "### Reduce to 1D for time-series plotting"
   ]
  },
  {
   "cell_type": "code",
   "execution_count": 14,
   "metadata": {},
   "outputs": [],
   "source": [
    "ndvi_ls = ds.NDVI.mean(dim=['x','y']).compute()\n",
    "ndvi_s2 = ds_sentinel.NDVI.mean(dim=['x','y']).compute()\n",
    "ndvi_s2_adj = y_dea.mean(dim=['x','y']).compute()"
   ]
  },
  {
   "cell_type": "markdown",
   "metadata": {},
   "source": [
    "### time-series plot"
   ]
  },
  {
   "cell_type": "code",
   "execution_count": 15,
   "metadata": {},
   "outputs": [
    {
     "data": {
      "image/png": "[encoded data removed]",
      "text/plain": [
       "<Figure size 1008x432 with 2 Axes>"
      ]
     },
     "metadata": {
      "needs_background": "light"
     },
     "output_type": "display_data"
    }
   ],
   "source": [
    "fig, ax = plt.subplots(2,1, sharex=True, figsize=(14, 6))\n",
    "\n",
    "\n",
    "ndvi_ls.plot(marker='.', lw=0, color='red', ms=10, label='Landsat 8', ax=ax[0])\n",
    "ndvi_s2.plot(marker='*', lw=0, ms=10, color='green', label='Sentinel 2', ax=ax[0])\n",
    "ax[0].title.set_text('Before Band Adjustment')\n",
    "ax[0].set_xlabel('x-label', fontsize=0)\n",
    "ax[0].grid()\n",
    "ax[0].legend()\n",
    "\n",
    "\n",
    "ndvi_ls.plot(marker='.', lw=0, color='red', ms=10, label='Landsat 8', ax=ax[1])\n",
    "ndvi_s2_adj.plot(marker='*', lw=0, ms=10, color='green', label='Adj Sentinel 2', ax=ax[1])\n",
    "ax[1].legend()\n",
    "ax[1].title.set_text('After Band Adjustment')\n",
    "ax[1].set_xlabel('Time')\n",
    "ax[1].grid()\n",
    "\n",
    "\n",
    "plt.show()\n",
    "\n"
   ]
  },
  {
   "cell_type": "code",
   "execution_count": null,
   "metadata": {},
   "outputs": [],
   "source": []
  }
 ],
 "metadata": {
  "kernelspec": {
   "display_name": "Python 3 (ipykernel)",
   "language": "python",
   "name": "python3"
  },
  "language_info": {
   "codemirror_mode": {
    "name": "ipython",
    "version": 3
   },
   "file_extension": ".py",
   "mimetype": "text/x-python",
   "name": "python",
   "nbconvert_exporter": "python",
   "pygments_lexer": "ipython3",
   "version": "3.8.10"
  },
  "widgets": {
   "application/vnd.jupyter.widget-state+json": {
    "state": {},
    "version_major": 2,
    "version_minor": 0
   }
  }
 },
 "nbformat": 4,
 "nbformat_minor": 4
}
